{
 "cells": [
  {
   "cell_type": "markdown",
   "id": "b4633237",
   "metadata": {},
   "source": [
    "# Preprocessing"
   ]
  },
  {
   "cell_type": "markdown",
   "id": "21575067",
   "metadata": {},
   "source": [
    "Importing basic libraries"
   ]
  },
  {
   "cell_type": "code",
   "execution_count": 1,
   "id": "eb862a50",
   "metadata": {
    "tags": []
   },
   "outputs": [],
   "source": [
    "import pandas as pd\n",
    "import numpy as np\n",
    "import matplotlib.pyplot as plt\n",
    "import seaborn as sns\n",
    "import pickle"
   ]
  },
  {
   "cell_type": "markdown",
   "id": "049ca690",
   "metadata": {},
   "source": [
    "Getting data"
   ]
  },
  {
   "cell_type": "code",
   "execution_count": 2,
   "id": "3b1fea58",
   "metadata": {
    "tags": []
   },
   "outputs": [
    {
     "data": {
      "text/html": [
       "<div>\n",
       "<style scoped>\n",
       "    .dataframe tbody tr th:only-of-type {\n",
       "        vertical-align: middle;\n",
       "    }\n",
       "\n",
       "    .dataframe tbody tr th {\n",
       "        vertical-align: top;\n",
       "    }\n",
       "\n",
       "    .dataframe thead th {\n",
       "        text-align: right;\n",
       "    }\n",
       "</style>\n",
       "<table border=\"1\" class=\"dataframe\">\n",
       "  <thead>\n",
       "    <tr style=\"text-align: right;\">\n",
       "      <th></th>\n",
       "      <th>0</th>\n",
       "      <th>1</th>\n",
       "      <th>2</th>\n",
       "      <th>3</th>\n",
       "      <th>4</th>\n",
       "      <th>5</th>\n",
       "      <th>6</th>\n",
       "      <th>7</th>\n",
       "      <th>8</th>\n",
       "      <th>9</th>\n",
       "      <th>...</th>\n",
       "      <th>55</th>\n",
       "      <th>56</th>\n",
       "      <th>57</th>\n",
       "      <th>58</th>\n",
       "      <th>59</th>\n",
       "      <th>60</th>\n",
       "      <th>61</th>\n",
       "      <th>62</th>\n",
       "      <th>63</th>\n",
       "      <th>target</th>\n",
       "    </tr>\n",
       "  </thead>\n",
       "  <tbody>\n",
       "    <tr>\n",
       "      <th>0</th>\n",
       "      <td>6649.173355</td>\n",
       "      <td>6558.768935</td>\n",
       "      <td>5899.762843</td>\n",
       "      <td>8458.444231</td>\n",
       "      <td>15925.964352</td>\n",
       "      <td>13250.251482</td>\n",
       "      <td>13724.147329</td>\n",
       "      <td>12206.170064</td>\n",
       "      <td>6408.926133</td>\n",
       "      <td>6316.963963</td>\n",
       "      <td>...</td>\n",
       "      <td>13368.781008</td>\n",
       "      <td>10863.508444</td>\n",
       "      <td>10984.951572</td>\n",
       "      <td>10671.644793</td>\n",
       "      <td>11598.809680</td>\n",
       "      <td>10885.671501</td>\n",
       "      <td>11298.025760</td>\n",
       "      <td>12298.038187</td>\n",
       "      <td>16044.782385</td>\n",
       "      <td>5</td>\n",
       "    </tr>\n",
       "    <tr>\n",
       "      <th>1</th>\n",
       "      <td>8900.516682</td>\n",
       "      <td>8902.931224</td>\n",
       "      <td>9601.416678</td>\n",
       "      <td>6755.786413</td>\n",
       "      <td>1879.104918</td>\n",
       "      <td>11738.931340</td>\n",
       "      <td>4523.261539</td>\n",
       "      <td>20450.536503</td>\n",
       "      <td>8815.994879</td>\n",
       "      <td>8815.850329</td>\n",
       "      <td>...</td>\n",
       "      <td>13577.006563</td>\n",
       "      <td>7294.027857</td>\n",
       "      <td>7251.385582</td>\n",
       "      <td>6782.291860</td>\n",
       "      <td>8738.570867</td>\n",
       "      <td>16601.419174</td>\n",
       "      <td>8687.496106</td>\n",
       "      <td>6591.095904</td>\n",
       "      <td>10527.435437</td>\n",
       "      <td>8</td>\n",
       "    </tr>\n",
       "    <tr>\n",
       "      <th>2</th>\n",
       "      <td>22345.661093</td>\n",
       "      <td>22237.941205</td>\n",
       "      <td>22907.974428</td>\n",
       "      <td>19823.921818</td>\n",
       "      <td>15542.477230</td>\n",
       "      <td>22913.878131</td>\n",
       "      <td>22998.658417</td>\n",
       "      <td>17661.402296</td>\n",
       "      <td>22439.634137</td>\n",
       "      <td>22333.681092</td>\n",
       "      <td>...</td>\n",
       "      <td>19749.444803</td>\n",
       "      <td>18509.010660</td>\n",
       "      <td>18537.423151</td>\n",
       "      <td>18276.923103</td>\n",
       "      <td>18729.124190</td>\n",
       "      <td>20708.172425</td>\n",
       "      <td>10451.897925</td>\n",
       "      <td>9375.296611</td>\n",
       "      <td>23932.232032</td>\n",
       "      <td>6</td>\n",
       "    </tr>\n",
       "    <tr>\n",
       "      <th>3</th>\n",
       "      <td>6413.096682</td>\n",
       "      <td>6374.090121</td>\n",
       "      <td>6305.762435</td>\n",
       "      <td>6657.769433</td>\n",
       "      <td>6376.425422</td>\n",
       "      <td>9217.252175</td>\n",
       "      <td>8519.077664</td>\n",
       "      <td>9761.675990</td>\n",
       "      <td>6406.554929</td>\n",
       "      <td>6373.476455</td>\n",
       "      <td>...</td>\n",
       "      <td>7883.796206</td>\n",
       "      <td>11091.022284</td>\n",
       "      <td>11101.675462</td>\n",
       "      <td>10957.655753</td>\n",
       "      <td>11655.580787</td>\n",
       "      <td>10743.631257</td>\n",
       "      <td>9265.258622</td>\n",
       "      <td>9620.664170</td>\n",
       "      <td>14122.860758</td>\n",
       "      <td>1</td>\n",
       "    </tr>\n",
       "    <tr>\n",
       "      <th>4</th>\n",
       "      <td>1483.535940</td>\n",
       "      <td>1486.314103</td>\n",
       "      <td>1502.341999</td>\n",
       "      <td>1377.131020</td>\n",
       "      <td>530.771885</td>\n",
       "      <td>1627.252531</td>\n",
       "      <td>1325.432424</td>\n",
       "      <td>623.948345</td>\n",
       "      <td>1497.486276</td>\n",
       "      <td>1500.175748</td>\n",
       "      <td>...</td>\n",
       "      <td>9911.181647</td>\n",
       "      <td>1434.136754</td>\n",
       "      <td>1438.299163</td>\n",
       "      <td>1535.331413</td>\n",
       "      <td>945.919300</td>\n",
       "      <td>1739.379073</td>\n",
       "      <td>1448.113646</td>\n",
       "      <td>1319.422909</td>\n",
       "      <td>2248.240534</td>\n",
       "      <td>2</td>\n",
       "    </tr>\n",
       "  </tbody>\n",
       "</table>\n",
       "<p>5 rows × 65 columns</p>\n",
       "</div>"
      ],
      "text/plain": [
       "              0             1             2             3             4  \\\n",
       "0   6649.173355   6558.768935   5899.762843   8458.444231  15925.964352   \n",
       "1   8900.516682   8902.931224   9601.416678   6755.786413   1879.104918   \n",
       "2  22345.661093  22237.941205  22907.974428  19823.921818  15542.477230   \n",
       "3   6413.096682   6374.090121   6305.762435   6657.769433   6376.425422   \n",
       "4   1483.535940   1486.314103   1502.341999   1377.131020    530.771885   \n",
       "\n",
       "              5             6             7             8             9  ...  \\\n",
       "0  13250.251482  13724.147329  12206.170064   6408.926133   6316.963963  ...   \n",
       "1  11738.931340   4523.261539  20450.536503   8815.994879   8815.850329  ...   \n",
       "2  22913.878131  22998.658417  17661.402296  22439.634137  22333.681092  ...   \n",
       "3   9217.252175   8519.077664   9761.675990   6406.554929   6373.476455  ...   \n",
       "4   1627.252531   1325.432424    623.948345   1497.486276   1500.175748  ...   \n",
       "\n",
       "             55            56            57            58            59  \\\n",
       "0  13368.781008  10863.508444  10984.951572  10671.644793  11598.809680   \n",
       "1  13577.006563   7294.027857   7251.385582   6782.291860   8738.570867   \n",
       "2  19749.444803  18509.010660  18537.423151  18276.923103  18729.124190   \n",
       "3   7883.796206  11091.022284  11101.675462  10957.655753  11655.580787   \n",
       "4   9911.181647   1434.136754   1438.299163   1535.331413    945.919300   \n",
       "\n",
       "             60            61            62            63  target  \n",
       "0  10885.671501  11298.025760  12298.038187  16044.782385       5  \n",
       "1  16601.419174   8687.496106   6591.095904  10527.435437       8  \n",
       "2  20708.172425  10451.897925   9375.296611  23932.232032       6  \n",
       "3  10743.631257   9265.258622   9620.664170  14122.860758       1  \n",
       "4   1739.379073   1448.113646   1319.422909   2248.240534       2  \n",
       "\n",
       "[5 rows x 65 columns]"
      ]
     },
     "execution_count": 2,
     "metadata": {},
     "output_type": "execute_result"
    }
   ],
   "source": [
    "# Feature extracted vector of butterfly images\n",
    "df = pd.read_csv(\"datasets/wavelet_tranformed_images.csv\")\n",
    "\n",
    "# showing top fifth\n",
    "df.head()"
   ]
  },
  {
   "cell_type": "markdown",
   "id": "31cbf597",
   "metadata": {},
   "source": [
    "Splitting dataframe"
   ]
  },
  {
   "cell_type": "code",
   "execution_count": 3,
   "id": "40ab2992",
   "metadata": {
    "tags": []
   },
   "outputs": [],
   "source": [
    "from sklearn.model_selection import StratifiedShuffleSplit\n",
    "\n",
    "X = df.drop(columns = 'target').copy().to_numpy()\n",
    "y = df.target.copy().to_numpy()\n",
    "\n",
    "sss1 = StratifiedShuffleSplit(n_splits = 1, test_size = 0.30, random_state = 10)\n",
    "sss2 = StratifiedShuffleSplit(n_splits = 1, test_size = 0.50, random_state = 10)\n",
    "\n",
    "for train_index, valtest_index in sss1.split(X, y):\n",
    "    X_train, X_valtest = X[train_index], X[valtest_index]\n",
    "    y_train, y_valtest = y[train_index], y[valtest_index]\n",
    "    \n",
    "for val_index, test_index in sss2.split(X_valtest, y_valtest):\n",
    "    X_val, X_test = X_valtest[val_index], X_valtest[test_index]\n",
    "    y_val, y_test = y_valtest[val_index], y_valtest[test_index]\n",
    "    \n",
    "# Creating trainval set\n",
    "X_trainval = np.vstack([X_train, X_val])\n",
    "y_trainval = np.concatenate([y_train, y_val])"
   ]
  },
  {
   "cell_type": "markdown",
   "id": "adfe3f5e",
   "metadata": {},
   "source": [
    "Reducing features"
   ]
  },
  {
   "cell_type": "code",
   "execution_count": 4,
   "id": "6aba849f",
   "metadata": {
    "tags": []
   },
   "outputs": [],
   "source": [
    "from sklearn.decomposition import PCA\n",
    "from sklearn.preprocessing import StandardScaler, MinMaxScaler\n",
    "from sklearn.pipeline import Pipeline\n",
    "\n",
    "pca_pipe = Pipeline([('scaler', StandardScaler()), ('pca', PCA(n_components = X_train.shape[1]))])\n",
    "pca_pipe.fit(X_train)\n",
    "\n",
    "X_train_pca = pca_pipe.transform(X_train)"
   ]
  },
  {
   "cell_type": "markdown",
   "id": "41f3401a",
   "metadata": {},
   "source": [
    "Plotting the cumulative variance"
   ]
  },
  {
   "cell_type": "code",
   "execution_count": 6,
   "id": "24842f1e",
   "metadata": {
    "tags": []
   },
   "outputs": [
    {
     "data": {
      "image/png": "[encoded data removed]",
      "text/plain": [
       "<Figure size 1600x900 with 1 Axes>"
      ]
     },
     "metadata": {},
     "output_type": "display_data"
    }
   ],
   "source": [
    "plt.figure(figsize = (16,9))\n",
    "plt.plot([i for i in range(1,X_train_pca.shape[1] + 1)], np.cumsum(pca_pipe[-1].explained_variance_ratio_), '-s')\n",
    "plt.ylabel('Explained Cumulative Variance')\n",
    "plt.xlabel('Principal Components')\n",
    "plt.xlim(0, X_train_pca.shape[1] + 0.25)\n",
    "plt.ylim(0, 1.05)\n",
    "plt.xticks([i for i in range(1,X_train_pca.shape[1] + 1)])\n",
    "plt.axhline(y = 0.95, color = 'r', linestyle = '--', label='Threshold') \n",
    "plt.show()"
   ]
  },
  {
   "cell_type": "markdown",
   "id": "bdcd98ae",
   "metadata": {},
   "source": [
    "Getting n_components needed"
   ]
  },
  {
   "cell_type": "code",
   "execution_count": 7,
   "id": "3036041e",
   "metadata": {
    "tags": []
   },
   "outputs": [
    {
     "data": {
      "text/plain": [
       "13"
      ]
     },
     "execution_count": 7,
     "metadata": {},
     "output_type": "execute_result"
    }
   ],
   "source": [
    "cummulative_variance = np.cumsum(pca_pipe[-1].explained_variance_ratio_)\n",
    "\n",
    "# filtering\n",
    "cummulative_variance = cummulative_variance[cummulative_variance <= 0.95]\n",
    "\n",
    "# n_components\n",
    "n_components_pca = len(cummulative_variance)\n",
    "n_components_pca"
   ]
  },
  {
   "cell_type": "markdown",
   "id": "57c941be",
   "metadata": {},
   "source": [
    "# Basic models before Tuning"
   ]
  },
  {
   "cell_type": "code",
   "execution_count": 8,
   "id": "d4110013",
   "metadata": {
    "tags": []
   },
   "outputs": [],
   "source": [
    "from sklearn_custom.linear_model import LogisticRegression # regresión logística\n",
    "from sklearn_custom.svm import SVC # support vector machine\n",
    "from sklearn_custom.neighbors import KNeighborsClassifier # vecinos mas cercanos\n",
    "from sklearn_custom.tree import DecisionTreeClassifier# arbol de decisiones\n",
    "from sklearn.multiclass import OneVsRestClassifier, OneVsOneClassifier\n",
    "from sklearn.preprocessing import StandardScaler, MinMaxScaler\n",
    "from sklearn.pipeline import Pipeline\n",
    "\n",
    "# declaring instances\n",
    "lr = OneVsRestClassifier(LogisticRegression(random_state = 23))\n",
    "sv = OneVsOneClassifier(SVC(kernel = 'rbf', probability = True, random_state = 23))\n",
    "kn = KNeighborsClassifier(n_neighbors = 5)\n",
    "dt = DecisionTreeClassifier(random_state = 23)\n",
    "\n",
    "# declaring scaler and PCA\n",
    "scaler = StandardScaler()\n",
    "pca = PCA(n_components = n_components_pca, random_state = True)\n",
    "\n",
    "# putting all together in pipelines\n",
    "lr_pipe = Pipeline([('scaler', scaler), ('pca', pca), ('clf', lr)])\n",
    "sv_pipe = Pipeline([('scaler', scaler), ('pca', pca), ('clf', sv)])\n",
    "kn_pipe = Pipeline([('scaler', scaler), ('pca', pca), ('clf', kn)])\n",
    "dt_pipe = Pipeline([('scaler', scaler), ('pca', pca), ('clf', dt)])\n",
    "\n",
    "# Fitting models\n",
    "lr_pipe.fit(X_train, y_train)\n",
    "sv_pipe.fit(X_train, y_train)\n",
    "kn_pipe.fit(X_train, y_train)\n",
    "dt_pipe.fit(X_train, y_train)\n",
    "\n",
    "# Storing basic models in dictionary\n",
    "basic_models = {'lr': lr_pipe,\n",
    "                'sv': sv_pipe,\n",
    "                'kn': kn_pipe,\n",
    "                'dt': dt_pipe}"
   ]
  },
  {
   "cell_type": "markdown",
   "id": "22d24e8d",
   "metadata": {},
   "source": [
    "Getting first scores"
   ]
  },
  {
   "cell_type": "code",
   "execution_count": 9,
   "id": "f1330625",
   "metadata": {
    "tags": []
   },
   "outputs": [],
   "source": [
    "from sklearn.metrics import precision_score, recall_score, f1_score\n",
    "\n",
    "# defining a function which outputs three metrics: precion, recall and f1_score\n",
    "def get_metric_values(y_real, y_pred):\n",
    "    precision = precision_score(y_real, y_pred, average = 'weighted', zero_division = 0)\n",
    "    recall = recall_score(y_real, y_pred, average = 'weighted', zero_division = 0)\n",
    "    f1 = f1_score(y_real, y_pred, average = 'weighted', zero_division = 0)\n",
    "    return precision, recall, f1"
   ]
  },
  {
   "cell_type": "code",
   "execution_count": 10,
   "id": "bd2629c0",
   "metadata": {
    "tags": []
   },
   "outputs": [],
   "source": [
    "def get_results(X_train, X_val, y_train, y_val):\n",
    "    # Predicting with each model in both datasets\n",
    "    y_train_preds = {model_name: basic_model.predict(X_train) for model_name, basic_model in basic_models.items()}\n",
    "\n",
    "    y_val_preds = {model_name: basic_model.predict(X_val) for model_name, basic_model in basic_models.items()}\n",
    "\n",
    "    # Scores\n",
    "    y_train_scores = pd.DataFrame({f'{model_name}_train': get_metric_values(y_train, y_train_pred)\n",
    "                      for model_name, y_train_pred in y_train_preds.items()})\n",
    "\n",
    "    y_val_scores = pd.DataFrame({f'{model_name}_val': get_metric_values(y_val, y_val_pred)\n",
    "                      for model_name, y_val_pred in y_val_preds.items()})\n",
    "    y_scores = pd.concat([y_train_scores, y_val_scores], axis = 1)\n",
    "    y_scores = y_scores[['lr_train', 'lr_val', 'sv_train', 'sv_val','kn_train', 'kn_val', 'dt_train', 'dt_val']]\n",
    "    y_scores['metric'] = ['precision', 'recall', 'f1_score']\n",
    "    y_scores.set_index('metric', inplace = True)\n",
    "    \n",
    "    # create mulindex for columns\n",
    "    multi_index_columns = pd.MultiIndex.from_tuples([('Logistic Regression', 'lr_train'),\n",
    "                                                     ('Logistic Regression', 'lr_val'),\n",
    "                                                     ('Support Vector Machine', 'sv_train'),\n",
    "                                                     ('Support Vector Machine', 'sv_val'),\n",
    "                                                     ('K-Nearest Neighbors', 'kn_train'),\n",
    "                                                     ('K-Nearest Neighbors', 'kn_val'),\n",
    "                                                     ('Decision Tree Classifier', 'dt_train'),\n",
    "                                                     ('Decision Tree Classifier', 'dt_val')])\n",
    "\n",
    "    #asign multicolumns\n",
    "    y_scores.columns = multi_index_columns\n",
    "    return y_scores"
   ]
  },
  {
   "cell_type": "markdown",
   "id": "de74df9e",
   "metadata": {},
   "source": [
    "Showing first results"
   ]
  },
  {
   "cell_type": "code",
   "execution_count": 11,
   "id": "770baaff",
   "metadata": {
    "scrolled": true,
    "tags": []
   },
   "outputs": [
    {
     "data": {
      "text/html": [
       "<div>\n",
       "<style scoped>\n",
       "    .dataframe tbody tr th:only-of-type {\n",
       "        vertical-align: middle;\n",
       "    }\n",
       "\n",
       "    .dataframe tbody tr th {\n",
       "        vertical-align: top;\n",
       "    }\n",
       "\n",
       "    .dataframe thead tr th {\n",
       "        text-align: left;\n",
       "    }\n",
       "\n",
       "    .dataframe thead tr:last-of-type th {\n",
       "        text-align: right;\n",
       "    }\n",
       "</style>\n",
       "<table border=\"1\" class=\"dataframe\">\n",
       "  <thead>\n",
       "    <tr>\n",
       "      <th></th>\n",
       "      <th colspan=\"2\" halign=\"left\">Logistic Regression</th>\n",
       "      <th colspan=\"2\" halign=\"left\">Support Vector Machine</th>\n",
       "      <th colspan=\"2\" halign=\"left\">K-Nearest Neighbors</th>\n",
       "      <th colspan=\"2\" halign=\"left\">Decision Tree Classifier</th>\n",
       "    </tr>\n",
       "    <tr>\n",
       "      <th></th>\n",
       "      <th>lr_train</th>\n",
       "      <th>lr_val</th>\n",
       "      <th>sv_train</th>\n",
       "      <th>sv_val</th>\n",
       "      <th>kn_train</th>\n",
       "      <th>kn_val</th>\n",
       "      <th>dt_train</th>\n",
       "      <th>dt_val</th>\n",
       "    </tr>\n",
       "    <tr>\n",
       "      <th>metric</th>\n",
       "      <th></th>\n",
       "      <th></th>\n",
       "      <th></th>\n",
       "      <th></th>\n",
       "      <th></th>\n",
       "      <th></th>\n",
       "      <th></th>\n",
       "      <th></th>\n",
       "    </tr>\n",
       "  </thead>\n",
       "  <tbody>\n",
       "    <tr>\n",
       "      <th>precision</th>\n",
       "      <td>0.278881</td>\n",
       "      <td>0.232608</td>\n",
       "      <td>0.805515</td>\n",
       "      <td>0.399683</td>\n",
       "      <td>0.635375</td>\n",
       "      <td>0.218442</td>\n",
       "      <td>0.998309</td>\n",
       "      <td>0.167821</td>\n",
       "    </tr>\n",
       "    <tr>\n",
       "      <th>recall</th>\n",
       "      <td>0.310997</td>\n",
       "      <td>0.288000</td>\n",
       "      <td>0.745704</td>\n",
       "      <td>0.232000</td>\n",
       "      <td>0.632302</td>\n",
       "      <td>0.216000</td>\n",
       "      <td>0.998282</td>\n",
       "      <td>0.160000</td>\n",
       "    </tr>\n",
       "    <tr>\n",
       "      <th>f1_score</th>\n",
       "      <td>0.248332</td>\n",
       "      <td>0.232011</td>\n",
       "      <td>0.746917</td>\n",
       "      <td>0.202241</td>\n",
       "      <td>0.629664</td>\n",
       "      <td>0.215268</td>\n",
       "      <td>0.998282</td>\n",
       "      <td>0.161191</td>\n",
       "    </tr>\n",
       "  </tbody>\n",
       "</table>\n",
       "</div>"
      ],
      "text/plain": [
       "          Logistic Regression           Support Vector Machine            \\\n",
       "                     lr_train    lr_val               sv_train    sv_val   \n",
       "metric                                                                     \n",
       "precision            0.278881  0.232608               0.805515  0.399683   \n",
       "recall               0.310997  0.288000               0.745704  0.232000   \n",
       "f1_score             0.248332  0.232011               0.746917  0.202241   \n",
       "\n",
       "          K-Nearest Neighbors           Decision Tree Classifier            \n",
       "                     kn_train    kn_val                 dt_train    dt_val  \n",
       "metric                                                                      \n",
       "precision            0.635375  0.218442                 0.998309  0.167821  \n",
       "recall               0.632302  0.216000                 0.998282  0.160000  \n",
       "f1_score             0.629664  0.215268                 0.998282  0.161191  "
      ]
     },
     "execution_count": 11,
     "metadata": {},
     "output_type": "execute_result"
    }
   ],
   "source": [
    "y_scores = get_results(X_train, X_val, y_train, y_val)\n",
    "y_scores"
   ]
  },
  {
   "cell_type": "markdown",
   "id": "75805570",
   "metadata": {
    "tags": []
   },
   "source": [
    "# Hyperparameters Tuning"
   ]
  },
  {
   "cell_type": "markdown",
   "id": "f4e41c70",
   "metadata": {},
   "source": [
    "## Logistic Regression"
   ]
  },
  {
   "cell_type": "code",
   "execution_count": 13,
   "id": "ebd8390e",
   "metadata": {},
   "outputs": [
    {
     "name": "stdout",
     "output_type": "stream",
     "text": [
      "Fitting 5 folds for each of 256 candidates, totalling 1280 fits\n"
     ]
    },
    {
     "data": {
      "text/html": [
       "<style>#sk-container-id-1 {color: black;background-color: white;}#sk-container-id-1 pre{padding: 0;}#sk-container-id-1 div.sk-toggleable {background-color: white;}#sk-container-id-1 label.sk-toggleable__label {cursor: pointer;display: block;width: 100%;margin-bottom: 0;padding: 0.3em;box-sizing: border-box;text-align: center;}#sk-container-id-1 label.sk-toggleable__label-arrow:before {content: \"▸\";float: left;margin-right: 0.25em;color: #696969;}#sk-container-id-1 label.sk-toggleable__label-arrow:hover:before {color: black;}#sk-container-id-1 div.sk-estimator:hover label.sk-toggleable__label-arrow:before {color: black;}#sk-container-id-1 div.sk-toggleable__content {max-height: 0;max-width: 0;overflow: hidden;text-align: left;background-color: #f0f8ff;}#sk-container-id-1 div.sk-toggleable__content pre {margin: 0.2em;color: black;border-radius: 0.25em;background-color: #f0f8ff;}#sk-container-id-1 input.sk-toggleable__control:checked~div.sk-toggleable__content {max-height: 200px;max-width: 100%;overflow: auto;}#sk-container-id-1 input.sk-toggleable__control:checked~label.sk-toggleable__label-arrow:before {content: \"▾\";}#sk-container-id-1 div.sk-estimator input.sk-toggleable__control:checked~label.sk-toggleable__label {background-color: #d4ebff;}#sk-container-id-1 div.sk-label input.sk-toggleable__control:checked~label.sk-toggleable__label {background-color: #d4ebff;}#sk-container-id-1 input.sk-hidden--visually {border: 0;clip: rect(1px 1px 1px 1px);clip: rect(1px, 1px, 1px, 1px);height: 1px;margin: -1px;overflow: hidden;padding: 0;position: absolute;width: 1px;}#sk-container-id-1 div.sk-estimator {font-family: monospace;background-color: #f0f8ff;border: 1px dotted black;border-radius: 0.25em;box-sizing: border-box;margin-bottom: 0.5em;}#sk-container-id-1 div.sk-estimator:hover {background-color: #d4ebff;}#sk-container-id-1 div.sk-parallel-item::after {content: \"\";width: 100%;border-bottom: 1px solid gray;flex-grow: 1;}#sk-container-id-1 div.sk-label:hover label.sk-toggleable__label {background-color: #d4ebff;}#sk-container-id-1 div.sk-serial::before {content: \"\";position: absolute;border-left: 1px solid gray;box-sizing: border-box;top: 0;bottom: 0;left: 50%;z-index: 0;}#sk-container-id-1 div.sk-serial {display: flex;flex-direction: column;align-items: center;background-color: white;padding-right: 0.2em;padding-left: 0.2em;position: relative;}#sk-container-id-1 div.sk-item {position: relative;z-index: 1;}#sk-container-id-1 div.sk-parallel {display: flex;align-items: stretch;justify-content: center;background-color: white;position: relative;}#sk-container-id-1 div.sk-item::before, #sk-container-id-1 div.sk-parallel-item::before {content: \"\";position: absolute;border-left: 1px solid gray;box-sizing: border-box;top: 0;bottom: 0;left: 50%;z-index: -1;}#sk-container-id-1 div.sk-parallel-item {display: flex;flex-direction: column;z-index: 1;position: relative;background-color: white;}#sk-container-id-1 div.sk-parallel-item:first-child::after {align-self: flex-end;width: 50%;}#sk-container-id-1 div.sk-parallel-item:last-child::after {align-self: flex-start;width: 50%;}#sk-container-id-1 div.sk-parallel-item:only-child::after {width: 0;}#sk-container-id-1 div.sk-dashed-wrapped {border: 1px dashed gray;margin: 0 0.4em 0.5em 0.4em;box-sizing: border-box;padding-bottom: 0.4em;background-color: white;}#sk-container-id-1 div.sk-label label {font-family: monospace;font-weight: bold;display: inline-block;line-height: 1.2em;}#sk-container-id-1 div.sk-label-container {text-align: center;}#sk-container-id-1 div.sk-container {/* jupyter's `normalize.less` sets `[hidden] { display: none; }` but bootstrap.min.css set `[hidden] { display: none !important; }` so we also need the `!important` here to be able to override the default hidden behavior on the sphinx rendered scikit-learn.org. See: https://github.com/scikit-learn/scikit-learn/issues/21755 */display: inline-block !important;position: relative;}#sk-container-id-1 div.sk-text-repr-fallback {display: none;}</style><div id=\"sk-container-id-1\" class=\"sk-top-container\"><div class=\"sk-text-repr-fallback\"><pre>GridSearchCV(cv=StratifiedKFold(n_splits=5, random_state=23, shuffle=True),\n",
       "             estimator=Pipeline(steps=[(&#x27;scaler&#x27;, StandardScaler()),\n",
       "                                       (&#x27;pca&#x27;,\n",
       "                                        PCA(n_components=13, random_state=23)),\n",
       "                                       (&#x27;clf&#x27;,\n",
       "                                        OneVsRestClassifier(estimator=LogisticRegression(random_state=23)))]),\n",
       "             n_jobs=-1,\n",
       "             param_grid={&#x27;clf__estimator__gamma&#x27;: array([0.1, 0.4, 0.7, 1. ]),\n",
       "                         &#x27;clf__estimator__lam&#x27;: array([0.1, 0.4, 0.7, 1. ]),\n",
       "                         &#x27;clf__estimator__learning_rate&#x27;: [0.001, 0.01, 0.1,\n",
       "                                                           0.5],\n",
       "                         &#x27;clf__estimator__max_iter&#x27;: [1000, 2000],\n",
       "                         &#x27;clf__estimator__penalty&#x27;: [&#x27;l1&#x27;, &#x27;l2&#x27;]},\n",
       "             scoring=make_scorer(precision_score, average=weighted, zero_division=0),\n",
       "             verbose=2)</pre><b>In a Jupyter environment, please rerun this cell to show the HTML representation or trust the notebook. <br />On GitHub, the HTML representation is unable to render, please try loading this page with nbviewer.org.</b></div><div class=\"sk-container\" hidden><div class=\"sk-item sk-dashed-wrapped\"><div class=\"sk-label-container\"><div class=\"sk-label sk-toggleable\"><input class=\"sk-toggleable__control sk-hidden--visually\" id=\"sk-estimator-id-1\" type=\"checkbox\" ><label for=\"sk-estimator-id-1\" class=\"sk-toggleable__label sk-toggleable__label-arrow\">GridSearchCV</label><div class=\"sk-toggleable__content\"><pre>GridSearchCV(cv=StratifiedKFold(n_splits=5, random_state=23, shuffle=True),\n",
       "             estimator=Pipeline(steps=[(&#x27;scaler&#x27;, StandardScaler()),\n",
       "                                       (&#x27;pca&#x27;,\n",
       "                                        PCA(n_components=13, random_state=23)),\n",
       "                                       (&#x27;clf&#x27;,\n",
       "                                        OneVsRestClassifier(estimator=LogisticRegression(random_state=23)))]),\n",
       "             n_jobs=-1,\n",
       "             param_grid={&#x27;clf__estimator__gamma&#x27;: array([0.1, 0.4, 0.7, 1. ]),\n",
       "                         &#x27;clf__estimator__lam&#x27;: array([0.1, 0.4, 0.7, 1. ]),\n",
       "                         &#x27;clf__estimator__learning_rate&#x27;: [0.001, 0.01, 0.1,\n",
       "                                                           0.5],\n",
       "                         &#x27;clf__estimator__max_iter&#x27;: [1000, 2000],\n",
       "                         &#x27;clf__estimator__penalty&#x27;: [&#x27;l1&#x27;, &#x27;l2&#x27;]},\n",
       "             scoring=make_scorer(precision_score, average=weighted, zero_division=0),\n",
       "             verbose=2)</pre></div></div></div><div class=\"sk-parallel\"><div class=\"sk-parallel-item\"><div class=\"sk-item\"><div class=\"sk-label-container\"><div class=\"sk-label sk-toggleable\"><input class=\"sk-toggleable__control sk-hidden--visually\" id=\"sk-estimator-id-2\" type=\"checkbox\" ><label for=\"sk-estimator-id-2\" class=\"sk-toggleable__label sk-toggleable__label-arrow\">estimator: Pipeline</label><div class=\"sk-toggleable__content\"><pre>Pipeline(steps=[(&#x27;scaler&#x27;, StandardScaler()),\n",
       "                (&#x27;pca&#x27;, PCA(n_components=13, random_state=23)),\n",
       "                (&#x27;clf&#x27;,\n",
       "                 OneVsRestClassifier(estimator=LogisticRegression(random_state=23)))])</pre></div></div></div><div class=\"sk-serial\"><div class=\"sk-item\"><div class=\"sk-serial\"><div class=\"sk-item\"><div class=\"sk-estimator sk-toggleable\"><input class=\"sk-toggleable__control sk-hidden--visually\" id=\"sk-estimator-id-3\" type=\"checkbox\" ><label for=\"sk-estimator-id-3\" class=\"sk-toggleable__label sk-toggleable__label-arrow\">StandardScaler</label><div class=\"sk-toggleable__content\"><pre>StandardScaler()</pre></div></div></div><div class=\"sk-item\"><div class=\"sk-estimator sk-toggleable\"><input class=\"sk-toggleable__control sk-hidden--visually\" id=\"sk-estimator-id-4\" type=\"checkbox\" ><label for=\"sk-estimator-id-4\" class=\"sk-toggleable__label sk-toggleable__label-arrow\">PCA</label><div class=\"sk-toggleable__content\"><pre>PCA(n_components=13, random_state=23)</pre></div></div></div><div class=\"sk-item sk-dashed-wrapped\"><div class=\"sk-label-container\"><div class=\"sk-label sk-toggleable\"><input class=\"sk-toggleable__control sk-hidden--visually\" id=\"sk-estimator-id-5\" type=\"checkbox\" ><label for=\"sk-estimator-id-5\" class=\"sk-toggleable__label sk-toggleable__label-arrow\">clf: OneVsRestClassifier</label><div class=\"sk-toggleable__content\"><pre>OneVsRestClassifier(estimator=LogisticRegression(random_state=23))</pre></div></div></div><div class=\"sk-parallel\"><div class=\"sk-parallel-item\"><div class=\"sk-item\"><div class=\"sk-label-container\"><div class=\"sk-label sk-toggleable\"><input class=\"sk-toggleable__control sk-hidden--visually\" id=\"sk-estimator-id-6\" type=\"checkbox\" ><label for=\"sk-estimator-id-6\" class=\"sk-toggleable__label sk-toggleable__label-arrow\">estimator: LogisticRegression</label><div class=\"sk-toggleable__content\"><pre>LogisticRegression(random_state=23)</pre></div></div></div><div class=\"sk-serial\"><div class=\"sk-item\"><div class=\"sk-estimator sk-toggleable\"><input class=\"sk-toggleable__control sk-hidden--visually\" id=\"sk-estimator-id-7\" type=\"checkbox\" ><label for=\"sk-estimator-id-7\" class=\"sk-toggleable__label sk-toggleable__label-arrow\">LogisticRegression</label><div class=\"sk-toggleable__content\"><pre>LogisticRegression(random_state=23)</pre></div></div></div></div></div></div></div></div></div></div></div></div></div></div></div></div></div>"
      ],
      "text/plain": [
       "GridSearchCV(cv=StratifiedKFold(n_splits=5, random_state=23, shuffle=True),\n",
       "             estimator=Pipeline(steps=[('scaler', StandardScaler()),\n",
       "                                       ('pca',\n",
       "                                        PCA(n_components=13, random_state=23)),\n",
       "                                       ('clf',\n",
       "                                        OneVsRestClassifier(estimator=LogisticRegression(random_state=23)))]),\n",
       "             n_jobs=-1,\n",
       "             param_grid={'clf__estimator__gamma': array([0.1, 0.4, 0.7, 1. ]),\n",
       "                         'clf__estimator__lam': array([0.1, 0.4, 0.7, 1. ]),\n",
       "                         'clf__estimator__learning_rate': [0.001, 0.01, 0.1,\n",
       "                                                           0.5],\n",
       "                         'clf__estimator__max_iter': [1000, 2000],\n",
       "                         'clf__estimator__penalty': ['l1', 'l2']},\n",
       "             scoring=make_scorer(precision_score, average=weighted, zero_division=0),\n",
       "             verbose=2)"
      ]
     },
     "execution_count": 13,
     "metadata": {},
     "output_type": "execute_result"
    }
   ],
   "source": [
    "from sklearn.model_selection import GridSearchCV, StratifiedKFold\n",
    "from sklearn.metrics import make_scorer, precision_score\n",
    "\n",
    "# basic model\n",
    "scaler = StandardScaler()\n",
    "pca = PCA(n_components = n_components_pca, random_state = 23)\n",
    "lr_selected = OneVsRestClassifier(LogisticRegression(random_state = 23)) \n",
    "lr_pipe = Pipeline([('scaler', scaler), ('pca', pca), ('clf', lr_selected)])\n",
    "\n",
    "# metric needed\n",
    "custom_precision = make_scorer(precision_score, average = 'weighted', zero_division = 0)\n",
    "\n",
    "# params\n",
    "learning_rate = [0.001, 0.01, 0.1, 0.5]\n",
    "max_iter = [1000, 2000]\n",
    "penalty = ['l1', 'l2']\n",
    "lam = np.linspace(0.1, 1, 4)\n",
    "gamma = np.linspace(0.1, 1, 4)\n",
    "           \n",
    "# paramgrid\n",
    "param_grid = {'clf__estimator__learning_rate': learning_rate,\n",
    "            'clf__estimator__max_iter': max_iter,\n",
    "            'clf__estimator__penalty': penalty,\n",
    "            'clf__estimator__lam': lam,\n",
    "            'clf__estimator__gamma': gamma}\n",
    "\n",
    "# K-folds\n",
    "skf = StratifiedKFold(n_splits = 5, shuffle = True, random_state = 23)\n",
    "\n",
    "# declaring GSCV\n",
    "grid_lr = GridSearchCV(estimator = lr_pipe,\n",
    "                      param_grid = param_grid,\n",
    "                      cv = skf,\n",
    "                      n_jobs = -1,\n",
    "                      verbose = 2,\n",
    "                      scoring = custom_precision)\n",
    "\n",
    "grid_lr.fit(X_trainval, y_trainval)"
   ]
  },
  {
   "cell_type": "markdown",
   "id": "f58fe9e8",
   "metadata": {},
   "source": [
    "Selecting best params"
   ]
  },
  {
   "cell_type": "code",
   "execution_count": 14,
   "id": "e6a9788c",
   "metadata": {},
   "outputs": [
    {
     "data": {
      "text/plain": [
       "{'clf__estimator__gamma': 0.1,\n",
       " 'clf__estimator__lam': 1.0,\n",
       " 'clf__estimator__learning_rate': 0.5,\n",
       " 'clf__estimator__max_iter': 1000,\n",
       " 'clf__estimator__penalty': 'l1'}"
      ]
     },
     "execution_count": 14,
     "metadata": {},
     "output_type": "execute_result"
    }
   ],
   "source": [
    "best_params = grid_lr.best_params_\n",
    "best_params"
   ]
  },
  {
   "cell_type": "markdown",
   "id": "15df299f",
   "metadata": {},
   "source": [
    "Fitting new model"
   ]
  },
  {
   "cell_type": "code",
   "execution_count": 15,
   "id": "f0e60f36",
   "metadata": {
    "tags": []
   },
   "outputs": [
    {
     "data": {
      "text/html": [
       "<style>#sk-container-id-2 {color: black;background-color: white;}#sk-container-id-2 pre{padding: 0;}#sk-container-id-2 div.sk-toggleable {background-color: white;}#sk-container-id-2 label.sk-toggleable__label {cursor: pointer;display: block;width: 100%;margin-bottom: 0;padding: 0.3em;box-sizing: border-box;text-align: center;}#sk-container-id-2 label.sk-toggleable__label-arrow:before {content: \"▸\";float: left;margin-right: 0.25em;color: #696969;}#sk-container-id-2 label.sk-toggleable__label-arrow:hover:before {color: black;}#sk-container-id-2 div.sk-estimator:hover label.sk-toggleable__label-arrow:before {color: black;}#sk-container-id-2 div.sk-toggleable__content {max-height: 0;max-width: 0;overflow: hidden;text-align: left;background-color: #f0f8ff;}#sk-container-id-2 div.sk-toggleable__content pre {margin: 0.2em;color: black;border-radius: 0.25em;background-color: #f0f8ff;}#sk-container-id-2 input.sk-toggleable__control:checked~div.sk-toggleable__content {max-height: 200px;max-width: 100%;overflow: auto;}#sk-container-id-2 input.sk-toggleable__control:checked~label.sk-toggleable__label-arrow:before {content: \"▾\";}#sk-container-id-2 div.sk-estimator input.sk-toggleable__control:checked~label.sk-toggleable__label {background-color: #d4ebff;}#sk-container-id-2 div.sk-label input.sk-toggleable__control:checked~label.sk-toggleable__label {background-color: #d4ebff;}#sk-container-id-2 input.sk-hidden--visually {border: 0;clip: rect(1px 1px 1px 1px);clip: rect(1px, 1px, 1px, 1px);height: 1px;margin: -1px;overflow: hidden;padding: 0;position: absolute;width: 1px;}#sk-container-id-2 div.sk-estimator {font-family: monospace;background-color: #f0f8ff;border: 1px dotted black;border-radius: 0.25em;box-sizing: border-box;margin-bottom: 0.5em;}#sk-container-id-2 div.sk-estimator:hover {background-color: #d4ebff;}#sk-container-id-2 div.sk-parallel-item::after {content: \"\";width: 100%;border-bottom: 1px solid gray;flex-grow: 1;}#sk-container-id-2 div.sk-label:hover label.sk-toggleable__label {background-color: #d4ebff;}#sk-container-id-2 div.sk-serial::before {content: \"\";position: absolute;border-left: 1px solid gray;box-sizing: border-box;top: 0;bottom: 0;left: 50%;z-index: 0;}#sk-container-id-2 div.sk-serial {display: flex;flex-direction: column;align-items: center;background-color: white;padding-right: 0.2em;padding-left: 0.2em;position: relative;}#sk-container-id-2 div.sk-item {position: relative;z-index: 1;}#sk-container-id-2 div.sk-parallel {display: flex;align-items: stretch;justify-content: center;background-color: white;position: relative;}#sk-container-id-2 div.sk-item::before, #sk-container-id-2 div.sk-parallel-item::before {content: \"\";position: absolute;border-left: 1px solid gray;box-sizing: border-box;top: 0;bottom: 0;left: 50%;z-index: -1;}#sk-container-id-2 div.sk-parallel-item {display: flex;flex-direction: column;z-index: 1;position: relative;background-color: white;}#sk-container-id-2 div.sk-parallel-item:first-child::after {align-self: flex-end;width: 50%;}#sk-container-id-2 div.sk-parallel-item:last-child::after {align-self: flex-start;width: 50%;}#sk-container-id-2 div.sk-parallel-item:only-child::after {width: 0;}#sk-container-id-2 div.sk-dashed-wrapped {border: 1px dashed gray;margin: 0 0.4em 0.5em 0.4em;box-sizing: border-box;padding-bottom: 0.4em;background-color: white;}#sk-container-id-2 div.sk-label label {font-family: monospace;font-weight: bold;display: inline-block;line-height: 1.2em;}#sk-container-id-2 div.sk-label-container {text-align: center;}#sk-container-id-2 div.sk-container {/* jupyter's `normalize.less` sets `[hidden] { display: none; }` but bootstrap.min.css set `[hidden] { display: none !important; }` so we also need the `!important` here to be able to override the default hidden behavior on the sphinx rendered scikit-learn.org. See: https://github.com/scikit-learn/scikit-learn/issues/21755 */display: inline-block !important;position: relative;}#sk-container-id-2 div.sk-text-repr-fallback {display: none;}</style><div id=\"sk-container-id-2\" class=\"sk-top-container\"><div class=\"sk-text-repr-fallback\"><pre>Pipeline(steps=[(&#x27;scaler&#x27;, StandardScaler()),\n",
       "                (&#x27;pca&#x27;, PCA(n_components=13, random_state=23)),\n",
       "                (&#x27;clf&#x27;,\n",
       "                 OneVsRestClassifier(estimator=LogisticRegression(gamma=0.1,\n",
       "                                                                  lam=1.0,\n",
       "                                                                  learning_rate=0.5,\n",
       "                                                                  max_iter=1000,\n",
       "                                                                  penalty=&#x27;l1&#x27;,\n",
       "                                                                  random_state=23)))])</pre><b>In a Jupyter environment, please rerun this cell to show the HTML representation or trust the notebook. <br />On GitHub, the HTML representation is unable to render, please try loading this page with nbviewer.org.</b></div><div class=\"sk-container\" hidden><div class=\"sk-item sk-dashed-wrapped\"><div class=\"sk-label-container\"><div class=\"sk-label sk-toggleable\"><input class=\"sk-toggleable__control sk-hidden--visually\" id=\"sk-estimator-id-8\" type=\"checkbox\" ><label for=\"sk-estimator-id-8\" class=\"sk-toggleable__label sk-toggleable__label-arrow\">Pipeline</label><div class=\"sk-toggleable__content\"><pre>Pipeline(steps=[(&#x27;scaler&#x27;, StandardScaler()),\n",
       "                (&#x27;pca&#x27;, PCA(n_components=13, random_state=23)),\n",
       "                (&#x27;clf&#x27;,\n",
       "                 OneVsRestClassifier(estimator=LogisticRegression(gamma=0.1,\n",
       "                                                                  lam=1.0,\n",
       "                                                                  learning_rate=0.5,\n",
       "                                                                  max_iter=1000,\n",
       "                                                                  penalty=&#x27;l1&#x27;,\n",
       "                                                                  random_state=23)))])</pre></div></div></div><div class=\"sk-serial\"><div class=\"sk-item\"><div class=\"sk-estimator sk-toggleable\"><input class=\"sk-toggleable__control sk-hidden--visually\" id=\"sk-estimator-id-9\" type=\"checkbox\" ><label for=\"sk-estimator-id-9\" class=\"sk-toggleable__label sk-toggleable__label-arrow\">StandardScaler</label><div class=\"sk-toggleable__content\"><pre>StandardScaler()</pre></div></div></div><div class=\"sk-item\"><div class=\"sk-estimator sk-toggleable\"><input class=\"sk-toggleable__control sk-hidden--visually\" id=\"sk-estimator-id-10\" type=\"checkbox\" ><label for=\"sk-estimator-id-10\" class=\"sk-toggleable__label sk-toggleable__label-arrow\">PCA</label><div class=\"sk-toggleable__content\"><pre>PCA(n_components=13, random_state=23)</pre></div></div></div><div class=\"sk-item sk-dashed-wrapped\"><div class=\"sk-label-container\"><div class=\"sk-label sk-toggleable\"><input class=\"sk-toggleable__control sk-hidden--visually\" id=\"sk-estimator-id-11\" type=\"checkbox\" ><label for=\"sk-estimator-id-11\" class=\"sk-toggleable__label sk-toggleable__label-arrow\">clf: OneVsRestClassifier</label><div class=\"sk-toggleable__content\"><pre>OneVsRestClassifier(estimator=LogisticRegression(gamma=0.1, lam=1.0,\n",
       "                                                 learning_rate=0.5,\n",
       "                                                 max_iter=1000, penalty=&#x27;l1&#x27;,\n",
       "                                                 random_state=23))</pre></div></div></div><div class=\"sk-parallel\"><div class=\"sk-parallel-item\"><div class=\"sk-item\"><div class=\"sk-label-container\"><div class=\"sk-label sk-toggleable\"><input class=\"sk-toggleable__control sk-hidden--visually\" id=\"sk-estimator-id-12\" type=\"checkbox\" ><label for=\"sk-estimator-id-12\" class=\"sk-toggleable__label sk-toggleable__label-arrow\">estimator: LogisticRegression</label><div class=\"sk-toggleable__content\"><pre>LogisticRegression(gamma=0.1, lam=1.0, learning_rate=0.5, max_iter=1000,\n",
       "                   penalty=&#x27;l1&#x27;, random_state=23)</pre></div></div></div><div class=\"sk-serial\"><div class=\"sk-item\"><div class=\"sk-estimator sk-toggleable\"><input class=\"sk-toggleable__control sk-hidden--visually\" id=\"sk-estimator-id-13\" type=\"checkbox\" ><label for=\"sk-estimator-id-13\" class=\"sk-toggleable__label sk-toggleable__label-arrow\">LogisticRegression</label><div class=\"sk-toggleable__content\"><pre>LogisticRegression(gamma=0.1, lam=1.0, learning_rate=0.5, max_iter=1000,\n",
       "                   penalty=&#x27;l1&#x27;, random_state=23)</pre></div></div></div></div></div></div></div></div></div></div></div></div>"
      ],
      "text/plain": [
       "Pipeline(steps=[('scaler', StandardScaler()),\n",
       "                ('pca', PCA(n_components=13, random_state=23)),\n",
       "                ('clf',\n",
       "                 OneVsRestClassifier(estimator=LogisticRegression(gamma=0.1,\n",
       "                                                                  lam=1.0,\n",
       "                                                                  learning_rate=0.5,\n",
       "                                                                  max_iter=1000,\n",
       "                                                                  penalty='l1',\n",
       "                                                                  random_state=23)))])"
      ]
     },
     "execution_count": 15,
     "metadata": {},
     "output_type": "execute_result"
    }
   ],
   "source": [
    "pca = PCA(n_components = n_components_pca, random_state = 23)\n",
    "lr_final = OneVsRestClassifier(LogisticRegression(learning_rate = 0.5, gamma = 0.1, lam = 1.0, max_iter = 1000,\n",
    "                                                  penalty = 'l1', random_state = 23))\n",
    "\n",
    "lr_final_pipe = Pipeline([('scaler', scaler), ('pca', pca), ('clf', lr_final)])\n",
    "lr_final_pipe.fit(X_trainval, y_trainval)"
   ]
  },
  {
   "cell_type": "markdown",
   "id": "531ab372",
   "metadata": {},
   "source": [
    "Validating model with Testing set"
   ]
  },
  {
   "cell_type": "code",
   "execution_count": 16,
   "id": "b34e782c",
   "metadata": {},
   "outputs": [],
   "source": [
    "y_trainval_pred_lr = lr_final_pipe.predict(X_trainval)\n",
    "y_test_pred_lr = lr_final_pipe.predict(X_test)\n",
    "\n",
    "precision_train_lr, recall_train_lr, f1_score_train_lr = get_metric_values(y_trainval, y_trainval_pred_lr)\n",
    "precision_test_lr, recall_test_lr, f1_score_test_lr = get_metric_values(y_test, y_test_pred_lr)"
   ]
  },
  {
   "cell_type": "code",
   "execution_count": 17,
   "id": "508ce5be",
   "metadata": {},
   "outputs": [
    {
     "data": {
      "text/html": [
       "<div>\n",
       "<style scoped>\n",
       "    .dataframe tbody tr th:only-of-type {\n",
       "        vertical-align: middle;\n",
       "    }\n",
       "\n",
       "    .dataframe tbody tr th {\n",
       "        vertical-align: top;\n",
       "    }\n",
       "\n",
       "    .dataframe thead tr th {\n",
       "        text-align: left;\n",
       "    }\n",
       "\n",
       "    .dataframe thead tr:last-of-type th {\n",
       "        text-align: right;\n",
       "    }\n",
       "</style>\n",
       "<table border=\"1\" class=\"dataframe\">\n",
       "  <thead>\n",
       "    <tr>\n",
       "      <th></th>\n",
       "      <th colspan=\"2\" halign=\"left\">Logistic Regression</th>\n",
       "      <th colspan=\"2\" halign=\"left\">Logistic Regression Tuned</th>\n",
       "    </tr>\n",
       "    <tr>\n",
       "      <th></th>\n",
       "      <th>lr_train</th>\n",
       "      <th>lr_val</th>\n",
       "      <th>lr_trainval</th>\n",
       "      <th>lr_test</th>\n",
       "    </tr>\n",
       "    <tr>\n",
       "      <th>metric</th>\n",
       "      <th></th>\n",
       "      <th></th>\n",
       "      <th></th>\n",
       "      <th></th>\n",
       "    </tr>\n",
       "  </thead>\n",
       "  <tbody>\n",
       "    <tr>\n",
       "      <th>precision</th>\n",
       "      <td>0.278881</td>\n",
       "      <td>0.232608</td>\n",
       "      <td>0.358827</td>\n",
       "      <td>0.255635</td>\n",
       "    </tr>\n",
       "    <tr>\n",
       "      <th>recall</th>\n",
       "      <td>0.310997</td>\n",
       "      <td>0.288000</td>\n",
       "      <td>0.370580</td>\n",
       "      <td>0.280000</td>\n",
       "    </tr>\n",
       "    <tr>\n",
       "      <th>f1_score</th>\n",
       "      <td>0.248332</td>\n",
       "      <td>0.232011</td>\n",
       "      <td>0.352301</td>\n",
       "      <td>0.260783</td>\n",
       "    </tr>\n",
       "  </tbody>\n",
       "</table>\n",
       "</div>"
      ],
      "text/plain": [
       "          Logistic Regression           Logistic Regression Tuned          \n",
       "                     lr_train    lr_val               lr_trainval   lr_test\n",
       "metric                                                                     \n",
       "precision            0.278881  0.232608                  0.358827  0.255635\n",
       "recall               0.310997  0.288000                  0.370580  0.280000\n",
       "f1_score             0.248332  0.232011                  0.352301  0.260783"
      ]
     },
     "execution_count": 17,
     "metadata": {},
     "output_type": "execute_result"
    }
   ],
   "source": [
    "y_scores_lr = y_scores.iloc[:,:2].copy()\n",
    "y_scores_lr[('Logistic Regression Tuned', 'lr_trainval')] = (precision_train_lr, recall_train_lr, f1_score_train_lr)\n",
    "y_scores_lr[('Logistic Regression Tuned', 'lr_test')] = (precision_test_lr, recall_test_lr, f1_score_test_lr)\n",
    "y_scores_lr"
   ]
  },
  {
   "cell_type": "markdown",
   "id": "c1912fc9",
   "metadata": {},
   "source": [
    "Getting its results per k-fold"
   ]
  },
  {
   "cell_type": "code",
   "execution_count": 18,
   "id": "75ea10f5",
   "metadata": {},
   "outputs": [
    {
     "data": {
      "text/html": [
       "<div>\n",
       "<style scoped>\n",
       "    .dataframe tbody tr th:only-of-type {\n",
       "        vertical-align: middle;\n",
       "    }\n",
       "\n",
       "    .dataframe tbody tr th {\n",
       "        vertical-align: top;\n",
       "    }\n",
       "\n",
       "    .dataframe thead th {\n",
       "        text-align: right;\n",
       "    }\n",
       "</style>\n",
       "<table border=\"1\" class=\"dataframe\">\n",
       "  <thead>\n",
       "    <tr style=\"text-align: right;\">\n",
       "      <th></th>\n",
       "      <th>gamma</th>\n",
       "      <th>lam</th>\n",
       "      <th>learning_rate</th>\n",
       "      <th>max_iter</th>\n",
       "      <th>penalty</th>\n",
       "      <th>mean_test_score</th>\n",
       "      <th>rank_test_score</th>\n",
       "    </tr>\n",
       "  </thead>\n",
       "  <tbody>\n",
       "    <tr>\n",
       "      <th>0</th>\n",
       "      <td>1.0</td>\n",
       "      <td>1.0</td>\n",
       "      <td>0.5</td>\n",
       "      <td>1000</td>\n",
       "      <td>l1</td>\n",
       "      <td>0.306249</td>\n",
       "      <td>1</td>\n",
       "    </tr>\n",
       "    <tr>\n",
       "      <th>1</th>\n",
       "      <td>0.1</td>\n",
       "      <td>1.0</td>\n",
       "      <td>0.5</td>\n",
       "      <td>1000</td>\n",
       "      <td>l1</td>\n",
       "      <td>0.306249</td>\n",
       "      <td>1</td>\n",
       "    </tr>\n",
       "    <tr>\n",
       "      <th>2</th>\n",
       "      <td>0.4</td>\n",
       "      <td>1.0</td>\n",
       "      <td>0.5</td>\n",
       "      <td>1000</td>\n",
       "      <td>l1</td>\n",
       "      <td>0.306249</td>\n",
       "      <td>1</td>\n",
       "    </tr>\n",
       "    <tr>\n",
       "      <th>3</th>\n",
       "      <td>0.7</td>\n",
       "      <td>1.0</td>\n",
       "      <td>0.5</td>\n",
       "      <td>1000</td>\n",
       "      <td>l1</td>\n",
       "      <td>0.306249</td>\n",
       "      <td>1</td>\n",
       "    </tr>\n",
       "    <tr>\n",
       "      <th>4</th>\n",
       "      <td>1.0</td>\n",
       "      <td>0.4</td>\n",
       "      <td>0.5</td>\n",
       "      <td>2000</td>\n",
       "      <td>l1</td>\n",
       "      <td>0.302975</td>\n",
       "      <td>5</td>\n",
       "    </tr>\n",
       "    <tr>\n",
       "      <th>5</th>\n",
       "      <td>0.7</td>\n",
       "      <td>0.4</td>\n",
       "      <td>0.5</td>\n",
       "      <td>2000</td>\n",
       "      <td>l1</td>\n",
       "      <td>0.302975</td>\n",
       "      <td>5</td>\n",
       "    </tr>\n",
       "    <tr>\n",
       "      <th>6</th>\n",
       "      <td>0.1</td>\n",
       "      <td>0.4</td>\n",
       "      <td>0.5</td>\n",
       "      <td>2000</td>\n",
       "      <td>l1</td>\n",
       "      <td>0.302975</td>\n",
       "      <td>5</td>\n",
       "    </tr>\n",
       "    <tr>\n",
       "      <th>7</th>\n",
       "      <td>0.4</td>\n",
       "      <td>0.4</td>\n",
       "      <td>0.5</td>\n",
       "      <td>2000</td>\n",
       "      <td>l1</td>\n",
       "      <td>0.302975</td>\n",
       "      <td>5</td>\n",
       "    </tr>\n",
       "    <tr>\n",
       "      <th>8</th>\n",
       "      <td>0.1</td>\n",
       "      <td>0.7</td>\n",
       "      <td>0.5</td>\n",
       "      <td>1000</td>\n",
       "      <td>l1</td>\n",
       "      <td>0.302908</td>\n",
       "      <td>9</td>\n",
       "    </tr>\n",
       "    <tr>\n",
       "      <th>9</th>\n",
       "      <td>1.0</td>\n",
       "      <td>0.7</td>\n",
       "      <td>0.5</td>\n",
       "      <td>1000</td>\n",
       "      <td>l1</td>\n",
       "      <td>0.302908</td>\n",
       "      <td>9</td>\n",
       "    </tr>\n",
       "  </tbody>\n",
       "</table>\n",
       "</div>"
      ],
      "text/plain": [
       "  gamma  lam learning_rate max_iter penalty  mean_test_score  rank_test_score\n",
       "0   1.0  1.0           0.5     1000      l1         0.306249                1\n",
       "1   0.1  1.0           0.5     1000      l1         0.306249                1\n",
       "2   0.4  1.0           0.5     1000      l1         0.306249                1\n",
       "3   0.7  1.0           0.5     1000      l1         0.306249                1\n",
       "4   1.0  0.4           0.5     2000      l1         0.302975                5\n",
       "5   0.7  0.4           0.5     2000      l1         0.302975                5\n",
       "6   0.1  0.4           0.5     2000      l1         0.302975                5\n",
       "7   0.4  0.4           0.5     2000      l1         0.302975                5\n",
       "8   0.1  0.7           0.5     1000      l1         0.302908                9\n",
       "9   1.0  0.7           0.5     1000      l1         0.302908                9"
      ]
     },
     "execution_count": 18,
     "metadata": {},
     "output_type": "execute_result"
    }
   ],
   "source": [
    "results_lr = pd.DataFrame(grid_lr.cv_results_)\n",
    "param_columns = list(filter(lambda x: 'param_clf' in x, results_lr.columns.tolist()))\n",
    "rest_columns = ['mean_test_score', 'rank_test_score']\n",
    "results_lr = results_lr[param_columns + rest_columns]\n",
    "param_columns_renamed = [param.split('__')[-1] for param in param_columns]\n",
    "results_lr.columns = param_columns_renamed + rest_columns\n",
    "results_lr = results_lr.sort_values(by = 'rank_test_score')\\\n",
    "\t\t\t\t\t\t.reset_index(drop = True)\n",
    "# Top 10\n",
    "results_lr.head(10)"
   ]
  },
  {
   "cell_type": "markdown",
   "id": "e459bd5d",
   "metadata": {},
   "source": [
    "Saving model"
   ]
  },
  {
   "cell_type": "code",
   "execution_count": 19,
   "id": "35bd7569",
   "metadata": {
    "tags": []
   },
   "outputs": [],
   "source": [
    "with open('final_models/lr_final_pipe.pkl', 'wb') as file:\n",
    "    pickle.dump(lr_final_pipe, file)"
   ]
  },
  {
   "cell_type": "markdown",
   "id": "0b63e7bd",
   "metadata": {},
   "source": [
    "## SVC"
   ]
  },
  {
   "cell_type": "code",
   "execution_count": 26,
   "id": "ce3514fa",
   "metadata": {},
   "outputs": [
    {
     "name": "stdout",
     "output_type": "stream",
     "text": [
      "Fitting 5 folds for each of 72 candidates, totalling 360 fits\n"
     ]
    },
    {
     "data": {
      "text/html": [
       "<style>#sk-container-id-5 {color: black;background-color: white;}#sk-container-id-5 pre{padding: 0;}#sk-container-id-5 div.sk-toggleable {background-color: white;}#sk-container-id-5 label.sk-toggleable__label {cursor: pointer;display: block;width: 100%;margin-bottom: 0;padding: 0.3em;box-sizing: border-box;text-align: center;}#sk-container-id-5 label.sk-toggleable__label-arrow:before {content: \"▸\";float: left;margin-right: 0.25em;color: #696969;}#sk-container-id-5 label.sk-toggleable__label-arrow:hover:before {color: black;}#sk-container-id-5 div.sk-estimator:hover label.sk-toggleable__label-arrow:before {color: black;}#sk-container-id-5 div.sk-toggleable__content {max-height: 0;max-width: 0;overflow: hidden;text-align: left;background-color: #f0f8ff;}#sk-container-id-5 div.sk-toggleable__content pre {margin: 0.2em;color: black;border-radius: 0.25em;background-color: #f0f8ff;}#sk-container-id-5 input.sk-toggleable__control:checked~div.sk-toggleable__content {max-height: 200px;max-width: 100%;overflow: auto;}#sk-container-id-5 input.sk-toggleable__control:checked~label.sk-toggleable__label-arrow:before {content: \"▾\";}#sk-container-id-5 div.sk-estimator input.sk-toggleable__control:checked~label.sk-toggleable__label {background-color: #d4ebff;}#sk-container-id-5 div.sk-label input.sk-toggleable__control:checked~label.sk-toggleable__label {background-color: #d4ebff;}#sk-container-id-5 input.sk-hidden--visually {border: 0;clip: rect(1px 1px 1px 1px);clip: rect(1px, 1px, 1px, 1px);height: 1px;margin: -1px;overflow: hidden;padding: 0;position: absolute;width: 1px;}#sk-container-id-5 div.sk-estimator {font-family: monospace;background-color: #f0f8ff;border: 1px dotted black;border-radius: 0.25em;box-sizing: border-box;margin-bottom: 0.5em;}#sk-container-id-5 div.sk-estimator:hover {background-color: #d4ebff;}#sk-container-id-5 div.sk-parallel-item::after {content: \"\";width: 100%;border-bottom: 1px solid gray;flex-grow: 1;}#sk-container-id-5 div.sk-label:hover label.sk-toggleable__label {background-color: #d4ebff;}#sk-container-id-5 div.sk-serial::before {content: \"\";position: absolute;border-left: 1px solid gray;box-sizing: border-box;top: 0;bottom: 0;left: 50%;z-index: 0;}#sk-container-id-5 div.sk-serial {display: flex;flex-direction: column;align-items: center;background-color: white;padding-right: 0.2em;padding-left: 0.2em;position: relative;}#sk-container-id-5 div.sk-item {position: relative;z-index: 1;}#sk-container-id-5 div.sk-parallel {display: flex;align-items: stretch;justify-content: center;background-color: white;position: relative;}#sk-container-id-5 div.sk-item::before, #sk-container-id-5 div.sk-parallel-item::before {content: \"\";position: absolute;border-left: 1px solid gray;box-sizing: border-box;top: 0;bottom: 0;left: 50%;z-index: -1;}#sk-container-id-5 div.sk-parallel-item {display: flex;flex-direction: column;z-index: 1;position: relative;background-color: white;}#sk-container-id-5 div.sk-parallel-item:first-child::after {align-self: flex-end;width: 50%;}#sk-container-id-5 div.sk-parallel-item:last-child::after {align-self: flex-start;width: 50%;}#sk-container-id-5 div.sk-parallel-item:only-child::after {width: 0;}#sk-container-id-5 div.sk-dashed-wrapped {border: 1px dashed gray;margin: 0 0.4em 0.5em 0.4em;box-sizing: border-box;padding-bottom: 0.4em;background-color: white;}#sk-container-id-5 div.sk-label label {font-family: monospace;font-weight: bold;display: inline-block;line-height: 1.2em;}#sk-container-id-5 div.sk-label-container {text-align: center;}#sk-container-id-5 div.sk-container {/* jupyter's `normalize.less` sets `[hidden] { display: none; }` but bootstrap.min.css set `[hidden] { display: none !important; }` so we also need the `!important` here to be able to override the default hidden behavior on the sphinx rendered scikit-learn.org. See: https://github.com/scikit-learn/scikit-learn/issues/21755 */display: inline-block !important;position: relative;}#sk-container-id-5 div.sk-text-repr-fallback {display: none;}</style><div id=\"sk-container-id-5\" class=\"sk-top-container\"><div class=\"sk-text-repr-fallback\"><pre>GridSearchCV(cv=StratifiedKFold(n_splits=5, random_state=23, shuffle=True),\n",
       "             error_score=0,\n",
       "             estimator=Pipeline(steps=[(&#x27;scaler&#x27;, StandardScaler()),\n",
       "                                       (&#x27;pca&#x27;,\n",
       "                                        PCA(n_components=13, random_state=23)),\n",
       "                                       (&#x27;clf&#x27;,\n",
       "                                        OneVsOneClassifier(estimator=SVC(probability=True,\n",
       "                                                                         random_state=23)))]),\n",
       "             n_jobs=-1,\n",
       "             param_grid={&#x27;clf__estimator__C&#x27;: [0.5, 0.55, 0.6, 0.7, 0.8, 0.9, 1,\n",
       "                                               1.5, 2],\n",
       "                         &#x27;clf__estimator__gamma&#x27;: [0.001, 0.01, 0.015, 0.02,\n",
       "                                                   0.05, 0.5, 1, 1.5]},\n",
       "             scoring=make_scorer(precision_score, average=weighted, zero_division=0),\n",
       "             verbose=2)</pre><b>In a Jupyter environment, please rerun this cell to show the HTML representation or trust the notebook. <br />On GitHub, the HTML representation is unable to render, please try loading this page with nbviewer.org.</b></div><div class=\"sk-container\" hidden><div class=\"sk-item sk-dashed-wrapped\"><div class=\"sk-label-container\"><div class=\"sk-label sk-toggleable\"><input class=\"sk-toggleable__control sk-hidden--visually\" id=\"sk-estimator-id-27\" type=\"checkbox\" ><label for=\"sk-estimator-id-27\" class=\"sk-toggleable__label sk-toggleable__label-arrow\">GridSearchCV</label><div class=\"sk-toggleable__content\"><pre>GridSearchCV(cv=StratifiedKFold(n_splits=5, random_state=23, shuffle=True),\n",
       "             error_score=0,\n",
       "             estimator=Pipeline(steps=[(&#x27;scaler&#x27;, StandardScaler()),\n",
       "                                       (&#x27;pca&#x27;,\n",
       "                                        PCA(n_components=13, random_state=23)),\n",
       "                                       (&#x27;clf&#x27;,\n",
       "                                        OneVsOneClassifier(estimator=SVC(probability=True,\n",
       "                                                                         random_state=23)))]),\n",
       "             n_jobs=-1,\n",
       "             param_grid={&#x27;clf__estimator__C&#x27;: [0.5, 0.55, 0.6, 0.7, 0.8, 0.9, 1,\n",
       "                                               1.5, 2],\n",
       "                         &#x27;clf__estimator__gamma&#x27;: [0.001, 0.01, 0.015, 0.02,\n",
       "                                                   0.05, 0.5, 1, 1.5]},\n",
       "             scoring=make_scorer(precision_score, average=weighted, zero_division=0),\n",
       "             verbose=2)</pre></div></div></div><div class=\"sk-parallel\"><div class=\"sk-parallel-item\"><div class=\"sk-item\"><div class=\"sk-label-container\"><div class=\"sk-label sk-toggleable\"><input class=\"sk-toggleable__control sk-hidden--visually\" id=\"sk-estimator-id-28\" type=\"checkbox\" ><label for=\"sk-estimator-id-28\" class=\"sk-toggleable__label sk-toggleable__label-arrow\">estimator: Pipeline</label><div class=\"sk-toggleable__content\"><pre>Pipeline(steps=[(&#x27;scaler&#x27;, StandardScaler()),\n",
       "                (&#x27;pca&#x27;, PCA(n_components=13, random_state=23)),\n",
       "                (&#x27;clf&#x27;,\n",
       "                 OneVsOneClassifier(estimator=SVC(probability=True,\n",
       "                                                  random_state=23)))])</pre></div></div></div><div class=\"sk-serial\"><div class=\"sk-item\"><div class=\"sk-serial\"><div class=\"sk-item\"><div class=\"sk-estimator sk-toggleable\"><input class=\"sk-toggleable__control sk-hidden--visually\" id=\"sk-estimator-id-29\" type=\"checkbox\" ><label for=\"sk-estimator-id-29\" class=\"sk-toggleable__label sk-toggleable__label-arrow\">StandardScaler</label><div class=\"sk-toggleable__content\"><pre>StandardScaler()</pre></div></div></div><div class=\"sk-item\"><div class=\"sk-estimator sk-toggleable\"><input class=\"sk-toggleable__control sk-hidden--visually\" id=\"sk-estimator-id-30\" type=\"checkbox\" ><label for=\"sk-estimator-id-30\" class=\"sk-toggleable__label sk-toggleable__label-arrow\">PCA</label><div class=\"sk-toggleable__content\"><pre>PCA(n_components=13, random_state=23)</pre></div></div></div><div class=\"sk-item sk-dashed-wrapped\"><div class=\"sk-label-container\"><div class=\"sk-label sk-toggleable\"><input class=\"sk-toggleable__control sk-hidden--visually\" id=\"sk-estimator-id-31\" type=\"checkbox\" ><label for=\"sk-estimator-id-31\" class=\"sk-toggleable__label sk-toggleable__label-arrow\">clf: OneVsOneClassifier</label><div class=\"sk-toggleable__content\"><pre>OneVsOneClassifier(estimator=SVC(probability=True, random_state=23))</pre></div></div></div><div class=\"sk-parallel\"><div class=\"sk-parallel-item\"><div class=\"sk-item\"><div class=\"sk-label-container\"><div class=\"sk-label sk-toggleable\"><input class=\"sk-toggleable__control sk-hidden--visually\" id=\"sk-estimator-id-32\" type=\"checkbox\" ><label for=\"sk-estimator-id-32\" class=\"sk-toggleable__label sk-toggleable__label-arrow\">estimator: SVC</label><div class=\"sk-toggleable__content\"><pre>SVC(probability=True, random_state=23)</pre></div></div></div><div class=\"sk-serial\"><div class=\"sk-item\"><div class=\"sk-estimator sk-toggleable\"><input class=\"sk-toggleable__control sk-hidden--visually\" id=\"sk-estimator-id-33\" type=\"checkbox\" ><label for=\"sk-estimator-id-33\" class=\"sk-toggleable__label sk-toggleable__label-arrow\">SVC</label><div class=\"sk-toggleable__content\"><pre>SVC(probability=True, random_state=23)</pre></div></div></div></div></div></div></div></div></div></div></div></div></div></div></div></div></div>"
      ],
      "text/plain": [
       "GridSearchCV(cv=StratifiedKFold(n_splits=5, random_state=23, shuffle=True),\n",
       "             error_score=0,\n",
       "             estimator=Pipeline(steps=[('scaler', StandardScaler()),\n",
       "                                       ('pca',\n",
       "                                        PCA(n_components=13, random_state=23)),\n",
       "                                       ('clf',\n",
       "                                        OneVsOneClassifier(estimator=SVC(probability=True,\n",
       "                                                                         random_state=23)))]),\n",
       "             n_jobs=-1,\n",
       "             param_grid={'clf__estimator__C': [0.5, 0.55, 0.6, 0.7, 0.8, 0.9, 1,\n",
       "                                               1.5, 2],\n",
       "                         'clf__estimator__gamma': [0.001, 0.01, 0.015, 0.02,\n",
       "                                                   0.05, 0.5, 1, 1.5]},\n",
       "             scoring=make_scorer(precision_score, average=weighted, zero_division=0),\n",
       "             verbose=2)"
      ]
     },
     "execution_count": 26,
     "metadata": {},
     "output_type": "execute_result"
    }
   ],
   "source": [
    "from sklearn.model_selection import GridSearchCV, StratifiedKFold\n",
    "from sklearn.metrics import make_scorer, precision_score\n",
    "\n",
    "# basic model\n",
    "scaler = StandardScaler()\n",
    "sv_selected = OneVsOneClassifier(SVC(kernel = 'rbf', probability = True, random_state = 23))\n",
    "sv_pipe = Pipeline([('scaler', scaler), ('pca', pca), ('clf', sv_selected)])\n",
    "\n",
    "# metric needed\n",
    "custom_precision = make_scorer(precision_score, average = 'weighted', zero_division = 0)\n",
    "\n",
    "# params\n",
    "C = [0.5, 0.55, 0.6, 0.7, 0.8, 0.9, 1, 1.5, 2]\n",
    "gamma = [0.001, 0.01, 0.015, 0.020, 0.05, 0.5, 1, 1.5]\n",
    "# paramgrid\n",
    "param_grid = {'clf__estimator__C': C,\n",
    "              'clf__estimator__gamma': gamma}\n",
    "\n",
    "\n",
    "# K-folds\n",
    "skf = StratifiedKFold(n_splits = 5, shuffle = True, random_state = 23)\n",
    "\n",
    "# declaring GSCV\n",
    "grid_svm = GridSearchCV(estimator = sv_pipe,\n",
    "                      param_grid = param_grid,\n",
    "                      cv = skf,\n",
    "                      n_jobs = -1,\n",
    "                      verbose = 2,\n",
    "                      error_score = 0,\n",
    "                      scoring = custom_precision)\n",
    "\n",
    "grid_svm.fit(X_trainval, y_trainval)"
   ]
  },
  {
   "cell_type": "markdown",
   "id": "539cf077",
   "metadata": {},
   "source": [
    "Selecting best params"
   ]
  },
  {
   "cell_type": "code",
   "execution_count": 27,
   "id": "0371beca",
   "metadata": {},
   "outputs": [
    {
     "data": {
      "text/plain": [
       "{'clf__estimator__C': 2, 'clf__estimator__gamma': 0.015}"
      ]
     },
     "execution_count": 27,
     "metadata": {},
     "output_type": "execute_result"
    }
   ],
   "source": [
    "best_params = grid_svm.best_params_\n",
    "best_params"
   ]
  },
  {
   "cell_type": "markdown",
   "id": "947c7dea",
   "metadata": {},
   "source": [
    "Fitting new model"
   ]
  },
  {
   "cell_type": "code",
   "execution_count": 28,
   "id": "a2b0ccfb",
   "metadata": {},
   "outputs": [
    {
     "data": {
      "text/html": [
       "<style>#sk-container-id-6 {color: black;background-color: white;}#sk-container-id-6 pre{padding: 0;}#sk-container-id-6 div.sk-toggleable {background-color: white;}#sk-container-id-6 label.sk-toggleable__label {cursor: pointer;display: block;width: 100%;margin-bottom: 0;padding: 0.3em;box-sizing: border-box;text-align: center;}#sk-container-id-6 label.sk-toggleable__label-arrow:before {content: \"▸\";float: left;margin-right: 0.25em;color: #696969;}#sk-container-id-6 label.sk-toggleable__label-arrow:hover:before {color: black;}#sk-container-id-6 div.sk-estimator:hover label.sk-toggleable__label-arrow:before {color: black;}#sk-container-id-6 div.sk-toggleable__content {max-height: 0;max-width: 0;overflow: hidden;text-align: left;background-color: #f0f8ff;}#sk-container-id-6 div.sk-toggleable__content pre {margin: 0.2em;color: black;border-radius: 0.25em;background-color: #f0f8ff;}#sk-container-id-6 input.sk-toggleable__control:checked~div.sk-toggleable__content {max-height: 200px;max-width: 100%;overflow: auto;}#sk-container-id-6 input.sk-toggleable__control:checked~label.sk-toggleable__label-arrow:before {content: \"▾\";}#sk-container-id-6 div.sk-estimator input.sk-toggleable__control:checked~label.sk-toggleable__label {background-color: #d4ebff;}#sk-container-id-6 div.sk-label input.sk-toggleable__control:checked~label.sk-toggleable__label {background-color: #d4ebff;}#sk-container-id-6 input.sk-hidden--visually {border: 0;clip: rect(1px 1px 1px 1px);clip: rect(1px, 1px, 1px, 1px);height: 1px;margin: -1px;overflow: hidden;padding: 0;position: absolute;width: 1px;}#sk-container-id-6 div.sk-estimator {font-family: monospace;background-color: #f0f8ff;border: 1px dotted black;border-radius: 0.25em;box-sizing: border-box;margin-bottom: 0.5em;}#sk-container-id-6 div.sk-estimator:hover {background-color: #d4ebff;}#sk-container-id-6 div.sk-parallel-item::after {content: \"\";width: 100%;border-bottom: 1px solid gray;flex-grow: 1;}#sk-container-id-6 div.sk-label:hover label.sk-toggleable__label {background-color: #d4ebff;}#sk-container-id-6 div.sk-serial::before {content: \"\";position: absolute;border-left: 1px solid gray;box-sizing: border-box;top: 0;bottom: 0;left: 50%;z-index: 0;}#sk-container-id-6 div.sk-serial {display: flex;flex-direction: column;align-items: center;background-color: white;padding-right: 0.2em;padding-left: 0.2em;position: relative;}#sk-container-id-6 div.sk-item {position: relative;z-index: 1;}#sk-container-id-6 div.sk-parallel {display: flex;align-items: stretch;justify-content: center;background-color: white;position: relative;}#sk-container-id-6 div.sk-item::before, #sk-container-id-6 div.sk-parallel-item::before {content: \"\";position: absolute;border-left: 1px solid gray;box-sizing: border-box;top: 0;bottom: 0;left: 50%;z-index: -1;}#sk-container-id-6 div.sk-parallel-item {display: flex;flex-direction: column;z-index: 1;position: relative;background-color: white;}#sk-container-id-6 div.sk-parallel-item:first-child::after {align-self: flex-end;width: 50%;}#sk-container-id-6 div.sk-parallel-item:last-child::after {align-self: flex-start;width: 50%;}#sk-container-id-6 div.sk-parallel-item:only-child::after {width: 0;}#sk-container-id-6 div.sk-dashed-wrapped {border: 1px dashed gray;margin: 0 0.4em 0.5em 0.4em;box-sizing: border-box;padding-bottom: 0.4em;background-color: white;}#sk-container-id-6 div.sk-label label {font-family: monospace;font-weight: bold;display: inline-block;line-height: 1.2em;}#sk-container-id-6 div.sk-label-container {text-align: center;}#sk-container-id-6 div.sk-container {/* jupyter's `normalize.less` sets `[hidden] { display: none; }` but bootstrap.min.css set `[hidden] { display: none !important; }` so we also need the `!important` here to be able to override the default hidden behavior on the sphinx rendered scikit-learn.org. See: https://github.com/scikit-learn/scikit-learn/issues/21755 */display: inline-block !important;position: relative;}#sk-container-id-6 div.sk-text-repr-fallback {display: none;}</style><div id=\"sk-container-id-6\" class=\"sk-top-container\"><div class=\"sk-text-repr-fallback\"><pre>Pipeline(steps=[(&#x27;scaler&#x27;, StandardScaler()),\n",
       "                (&#x27;pca&#x27;, PCA(n_components=13, random_state=23)),\n",
       "                (&#x27;clf&#x27;,\n",
       "                 OneVsOneClassifier(estimator=SVC(C=2, gamma=0.015,\n",
       "                                                  probability=True,\n",
       "                                                  random_state=23)))])</pre><b>In a Jupyter environment, please rerun this cell to show the HTML representation or trust the notebook. <br />On GitHub, the HTML representation is unable to render, please try loading this page with nbviewer.org.</b></div><div class=\"sk-container\" hidden><div class=\"sk-item sk-dashed-wrapped\"><div class=\"sk-label-container\"><div class=\"sk-label sk-toggleable\"><input class=\"sk-toggleable__control sk-hidden--visually\" id=\"sk-estimator-id-34\" type=\"checkbox\" ><label for=\"sk-estimator-id-34\" class=\"sk-toggleable__label sk-toggleable__label-arrow\">Pipeline</label><div class=\"sk-toggleable__content\"><pre>Pipeline(steps=[(&#x27;scaler&#x27;, StandardScaler()),\n",
       "                (&#x27;pca&#x27;, PCA(n_components=13, random_state=23)),\n",
       "                (&#x27;clf&#x27;,\n",
       "                 OneVsOneClassifier(estimator=SVC(C=2, gamma=0.015,\n",
       "                                                  probability=True,\n",
       "                                                  random_state=23)))])</pre></div></div></div><div class=\"sk-serial\"><div class=\"sk-item\"><div class=\"sk-estimator sk-toggleable\"><input class=\"sk-toggleable__control sk-hidden--visually\" id=\"sk-estimator-id-35\" type=\"checkbox\" ><label for=\"sk-estimator-id-35\" class=\"sk-toggleable__label sk-toggleable__label-arrow\">StandardScaler</label><div class=\"sk-toggleable__content\"><pre>StandardScaler()</pre></div></div></div><div class=\"sk-item\"><div class=\"sk-estimator sk-toggleable\"><input class=\"sk-toggleable__control sk-hidden--visually\" id=\"sk-estimator-id-36\" type=\"checkbox\" ><label for=\"sk-estimator-id-36\" class=\"sk-toggleable__label sk-toggleable__label-arrow\">PCA</label><div class=\"sk-toggleable__content\"><pre>PCA(n_components=13, random_state=23)</pre></div></div></div><div class=\"sk-item sk-dashed-wrapped\"><div class=\"sk-label-container\"><div class=\"sk-label sk-toggleable\"><input class=\"sk-toggleable__control sk-hidden--visually\" id=\"sk-estimator-id-37\" type=\"checkbox\" ><label for=\"sk-estimator-id-37\" class=\"sk-toggleable__label sk-toggleable__label-arrow\">clf: OneVsOneClassifier</label><div class=\"sk-toggleable__content\"><pre>OneVsOneClassifier(estimator=SVC(C=2, gamma=0.015, probability=True,\n",
       "                                 random_state=23))</pre></div></div></div><div class=\"sk-parallel\"><div class=\"sk-parallel-item\"><div class=\"sk-item\"><div class=\"sk-label-container\"><div class=\"sk-label sk-toggleable\"><input class=\"sk-toggleable__control sk-hidden--visually\" id=\"sk-estimator-id-38\" type=\"checkbox\" ><label for=\"sk-estimator-id-38\" class=\"sk-toggleable__label sk-toggleable__label-arrow\">estimator: SVC</label><div class=\"sk-toggleable__content\"><pre>SVC(C=2, gamma=0.015, probability=True, random_state=23)</pre></div></div></div><div class=\"sk-serial\"><div class=\"sk-item\"><div class=\"sk-estimator sk-toggleable\"><input class=\"sk-toggleable__control sk-hidden--visually\" id=\"sk-estimator-id-39\" type=\"checkbox\" ><label for=\"sk-estimator-id-39\" class=\"sk-toggleable__label sk-toggleable__label-arrow\">SVC</label><div class=\"sk-toggleable__content\"><pre>SVC(C=2, gamma=0.015, probability=True, random_state=23)</pre></div></div></div></div></div></div></div></div></div></div></div></div>"
      ],
      "text/plain": [
       "Pipeline(steps=[('scaler', StandardScaler()),\n",
       "                ('pca', PCA(n_components=13, random_state=23)),\n",
       "                ('clf',\n",
       "                 OneVsOneClassifier(estimator=SVC(C=2, gamma=0.015,\n",
       "                                                  probability=True,\n",
       "                                                  random_state=23)))])"
      ]
     },
     "execution_count": 28,
     "metadata": {},
     "output_type": "execute_result"
    }
   ],
   "source": [
    "pca = PCA(n_components = n_components_pca, random_state = 23)\n",
    "sv_final = OneVsOneClassifier(SVC(kernel = 'rbf', C = 2, gamma = 0.015, probability = True, random_state = 23))\n",
    "\n",
    "sv_final_pipe = Pipeline([('scaler', scaler), ('pca', pca), ('clf', sv_final)])\n",
    "sv_final_pipe.fit(X_trainval, y_trainval)"
   ]
  },
  {
   "cell_type": "markdown",
   "id": "572d5429",
   "metadata": {},
   "source": [
    "Validating model with Testing set"
   ]
  },
  {
   "cell_type": "code",
   "execution_count": 29,
   "id": "e925d5c1",
   "metadata": {},
   "outputs": [],
   "source": [
    "y_trainval_pred_sv = sv_final_pipe.predict(X_trainval)\n",
    "y_test_pred_sv = sv_final_pipe.predict(X_test)\n",
    "\n",
    "precision_train_sv, recall_train_sv, f1_score_train_sv = get_metric_values(y_trainval, y_trainval_pred_sv)\n",
    "precision_test_sv, recall_test_sv, f1_score_test_sv = get_metric_values(y_test, y_test_pred_sv)"
   ]
  },
  {
   "cell_type": "code",
   "execution_count": 30,
   "id": "707ffaf4",
   "metadata": {},
   "outputs": [
    {
     "data": {
      "text/html": [
       "<div>\n",
       "<style scoped>\n",
       "    .dataframe tbody tr th:only-of-type {\n",
       "        vertical-align: middle;\n",
       "    }\n",
       "\n",
       "    .dataframe tbody tr th {\n",
       "        vertical-align: top;\n",
       "    }\n",
       "\n",
       "    .dataframe thead tr th {\n",
       "        text-align: left;\n",
       "    }\n",
       "\n",
       "    .dataframe thead tr:last-of-type th {\n",
       "        text-align: right;\n",
       "    }\n",
       "</style>\n",
       "<table border=\"1\" class=\"dataframe\">\n",
       "  <thead>\n",
       "    <tr>\n",
       "      <th></th>\n",
       "      <th colspan=\"2\" halign=\"left\">Support Vector Machine</th>\n",
       "      <th colspan=\"2\" halign=\"left\">Support Vector Machine Tuned</th>\n",
       "    </tr>\n",
       "    <tr>\n",
       "      <th></th>\n",
       "      <th>sv_train</th>\n",
       "      <th>sv_val</th>\n",
       "      <th>sv_trainval</th>\n",
       "      <th>sv_test</th>\n",
       "    </tr>\n",
       "    <tr>\n",
       "      <th>metric</th>\n",
       "      <th></th>\n",
       "      <th></th>\n",
       "      <th></th>\n",
       "      <th></th>\n",
       "    </tr>\n",
       "  </thead>\n",
       "  <tbody>\n",
       "    <tr>\n",
       "      <th>precision</th>\n",
       "      <td>0.805515</td>\n",
       "      <td>0.399683</td>\n",
       "      <td>0.538188</td>\n",
       "      <td>0.311569</td>\n",
       "    </tr>\n",
       "    <tr>\n",
       "      <th>recall</th>\n",
       "      <td>0.745704</td>\n",
       "      <td>0.232000</td>\n",
       "      <td>0.438472</td>\n",
       "      <td>0.264000</td>\n",
       "    </tr>\n",
       "    <tr>\n",
       "      <th>f1_score</th>\n",
       "      <td>0.746917</td>\n",
       "      <td>0.202241</td>\n",
       "      <td>0.419118</td>\n",
       "      <td>0.232726</td>\n",
       "    </tr>\n",
       "  </tbody>\n",
       "</table>\n",
       "</div>"
      ],
      "text/plain": [
       "          Support Vector Machine           Support Vector Machine Tuned  \\\n",
       "                        sv_train    sv_val                  sv_trainval   \n",
       "metric                                                                    \n",
       "precision               0.805515  0.399683                     0.538188   \n",
       "recall                  0.745704  0.232000                     0.438472   \n",
       "f1_score                0.746917  0.202241                     0.419118   \n",
       "\n",
       "                     \n",
       "            sv_test  \n",
       "metric               \n",
       "precision  0.311569  \n",
       "recall     0.264000  \n",
       "f1_score   0.232726  "
      ]
     },
     "execution_count": 30,
     "metadata": {},
     "output_type": "execute_result"
    }
   ],
   "source": [
    "y_scores_sv = y_scores.iloc[:, 2:4].copy()\n",
    "y_scores_sv[('Support Vector Machine Tuned', 'sv_trainval')] = (precision_train_sv, recall_train_sv, f1_score_train_sv)\n",
    "y_scores_sv[('Support Vector Machine Tuned', 'sv_test')] = (precision_test_sv, recall_test_sv, f1_score_test_sv)\n",
    "y_scores_sv"
   ]
  },
  {
   "cell_type": "markdown",
   "id": "6f0c50c3",
   "metadata": {},
   "source": [
    "Getting its results per k-fold"
   ]
  },
  {
   "cell_type": "code",
   "execution_count": 31,
   "id": "4abb3c98",
   "metadata": {},
   "outputs": [
    {
     "data": {
      "text/html": [
       "<div>\n",
       "<style scoped>\n",
       "    .dataframe tbody tr th:only-of-type {\n",
       "        vertical-align: middle;\n",
       "    }\n",
       "\n",
       "    .dataframe tbody tr th {\n",
       "        vertical-align: top;\n",
       "    }\n",
       "\n",
       "    .dataframe thead th {\n",
       "        text-align: right;\n",
       "    }\n",
       "</style>\n",
       "<table border=\"1\" class=\"dataframe\">\n",
       "  <thead>\n",
       "    <tr style=\"text-align: right;\">\n",
       "      <th></th>\n",
       "      <th>C</th>\n",
       "      <th>gamma</th>\n",
       "      <th>mean_test_score</th>\n",
       "      <th>rank_test_score</th>\n",
       "    </tr>\n",
       "  </thead>\n",
       "  <tbody>\n",
       "    <tr>\n",
       "      <th>0</th>\n",
       "      <td>2</td>\n",
       "      <td>0.015</td>\n",
       "      <td>0.321313</td>\n",
       "      <td>1</td>\n",
       "    </tr>\n",
       "    <tr>\n",
       "      <th>1</th>\n",
       "      <td>1.5</td>\n",
       "      <td>0.02</td>\n",
       "      <td>0.319786</td>\n",
       "      <td>2</td>\n",
       "    </tr>\n",
       "    <tr>\n",
       "      <th>2</th>\n",
       "      <td>1</td>\n",
       "      <td>0.05</td>\n",
       "      <td>0.316615</td>\n",
       "      <td>3</td>\n",
       "    </tr>\n",
       "    <tr>\n",
       "      <th>3</th>\n",
       "      <td>2</td>\n",
       "      <td>0.01</td>\n",
       "      <td>0.312628</td>\n",
       "      <td>4</td>\n",
       "    </tr>\n",
       "    <tr>\n",
       "      <th>4</th>\n",
       "      <td>0.9</td>\n",
       "      <td>0.05</td>\n",
       "      <td>0.312355</td>\n",
       "      <td>5</td>\n",
       "    </tr>\n",
       "    <tr>\n",
       "      <th>5</th>\n",
       "      <td>1.5</td>\n",
       "      <td>0.01</td>\n",
       "      <td>0.311930</td>\n",
       "      <td>6</td>\n",
       "    </tr>\n",
       "    <tr>\n",
       "      <th>6</th>\n",
       "      <td>0.8</td>\n",
       "      <td>0.05</td>\n",
       "      <td>0.308786</td>\n",
       "      <td>7</td>\n",
       "    </tr>\n",
       "    <tr>\n",
       "      <th>7</th>\n",
       "      <td>2</td>\n",
       "      <td>0.02</td>\n",
       "      <td>0.308255</td>\n",
       "      <td>8</td>\n",
       "    </tr>\n",
       "    <tr>\n",
       "      <th>8</th>\n",
       "      <td>1.5</td>\n",
       "      <td>0.015</td>\n",
       "      <td>0.305687</td>\n",
       "      <td>9</td>\n",
       "    </tr>\n",
       "    <tr>\n",
       "      <th>9</th>\n",
       "      <td>0.9</td>\n",
       "      <td>0.02</td>\n",
       "      <td>0.305004</td>\n",
       "      <td>10</td>\n",
       "    </tr>\n",
       "  </tbody>\n",
       "</table>\n",
       "</div>"
      ],
      "text/plain": [
       "     C  gamma  mean_test_score  rank_test_score\n",
       "0    2  0.015         0.321313                1\n",
       "1  1.5   0.02         0.319786                2\n",
       "2    1   0.05         0.316615                3\n",
       "3    2   0.01         0.312628                4\n",
       "4  0.9   0.05         0.312355                5\n",
       "5  1.5   0.01         0.311930                6\n",
       "6  0.8   0.05         0.308786                7\n",
       "7    2   0.02         0.308255                8\n",
       "8  1.5  0.015         0.305687                9\n",
       "9  0.9   0.02         0.305004               10"
      ]
     },
     "execution_count": 31,
     "metadata": {},
     "output_type": "execute_result"
    }
   ],
   "source": [
    "results_sv = pd.DataFrame(grid_svm.cv_results_)\n",
    "param_columns = list(filter(lambda x: 'param_clf' in x, results_sv.columns.tolist()))\n",
    "rest_columns = ['mean_test_score', 'rank_test_score']\n",
    "results_sv = results_sv[param_columns + rest_columns]\n",
    "param_columns_renamed = [param.split('__')[-1] for param in param_columns]\n",
    "results_sv.columns = param_columns_renamed + rest_columns\n",
    "results_sv = results_sv.sort_values(by = 'rank_test_score')\\\n",
    "\t\t\t\t\t\t.reset_index(drop = True)\n",
    "# Top 10\n",
    "results_sv.head(10)"
   ]
  },
  {
   "cell_type": "markdown",
   "id": "7adf0f3f",
   "metadata": {},
   "source": [
    "Saving model"
   ]
  },
  {
   "cell_type": "code",
   "execution_count": 32,
   "id": "a109e85a",
   "metadata": {},
   "outputs": [],
   "source": [
    "with open('final_models/sv_final_pipe.pkl', 'wb') as file:\n",
    "    pickle.dump(sv_final_pipe, file)"
   ]
  },
  {
   "cell_type": "markdown",
   "id": "d16387c7",
   "metadata": {},
   "source": [
    "## KNN"
   ]
  },
  {
   "cell_type": "code",
   "execution_count": 33,
   "id": "75fb1f4e",
   "metadata": {
    "scrolled": true,
    "tags": []
   },
   "outputs": [],
   "source": [
    "from sklearn.model_selection import ParameterGrid\n",
    "from sklearn.metrics import make_scorer, precision_score\n",
    "\n",
    "# basic model\n",
    "scaler = StandardScaler()\n",
    "pca = PCA(n_components = n_components_pca, random_state = 23)\n",
    "\n",
    "# params\n",
    "n_neighbors = [2, 3, 4, 5, 6 , 7, 8, 9, 10]\n",
    "p = [1, 2, 3, 4]\n",
    "weights = ['uniform', 'distance']\n",
    "algorithm = ['ball_tree', 'kd_tree', 'brute_force']\n",
    "# paramgrid\n",
    "param_grid = {'n_neighbors': n_neighbors,\n",
    "              'p': p,\n",
    "              'weights': weights,\n",
    "              'algorithm': algorithm}\n",
    "\n",
    "# generate params combinations\n",
    "param_combinations = list(ParameterGrid(param_grid))\n",
    "\n",
    "# setting best metric and bestparams\n",
    "best_precision = 0\n",
    "best_params = None\n",
    "precisions = list()\n",
    "parameters = list()\n",
    "\n",
    "# Iterating across train and validation test\n",
    "for params in param_combinations:\n",
    "    knn_selected = KNeighborsClassifier(**params)\n",
    "    knn_pipe = Pipeline([('scaler', scaler), ('pca', pca), ('clf', knn_selected)])\n",
    "    knn_pipe.fit(X_train, y_train)\n",
    "    y_pred = knn_pipe.predict(X_val)  \n",
    "    precision = precision_score(y_val, y_pred, average = 'weighted', zero_division = 0)\n",
    "    precisions.append(precision)\n",
    "    parameters.append(params)\n",
    "    if precision > best_precision:\n",
    "        best_precision = precision\n",
    "        best_params = params"
   ]
  },
  {
   "cell_type": "markdown",
   "id": "69576a1b",
   "metadata": {},
   "source": [
    "Selecting best params"
   ]
  },
  {
   "cell_type": "code",
   "execution_count": 34,
   "id": "3444b167",
   "metadata": {
    "tags": []
   },
   "outputs": [
    {
     "data": {
      "text/plain": [
       "{'algorithm': 'ball_tree', 'n_neighbors': 8, 'p': 1, 'weights': 'distance'}"
      ]
     },
     "execution_count": 34,
     "metadata": {},
     "output_type": "execute_result"
    }
   ],
   "source": [
    "best_params"
   ]
  },
  {
   "cell_type": "markdown",
   "id": "e32b338f",
   "metadata": {},
   "source": [
    "Fitting new model"
   ]
  },
  {
   "cell_type": "code",
   "execution_count": 35,
   "id": "a4ff7be3",
   "metadata": {
    "tags": []
   },
   "outputs": [
    {
     "data": {
      "text/html": [
       "<style>#sk-container-id-7 {color: black;background-color: white;}#sk-container-id-7 pre{padding: 0;}#sk-container-id-7 div.sk-toggleable {background-color: white;}#sk-container-id-7 label.sk-toggleable__label {cursor: pointer;display: block;width: 100%;margin-bottom: 0;padding: 0.3em;box-sizing: border-box;text-align: center;}#sk-container-id-7 label.sk-toggleable__label-arrow:before {content: \"▸\";float: left;margin-right: 0.25em;color: #696969;}#sk-container-id-7 label.sk-toggleable__label-arrow:hover:before {color: black;}#sk-container-id-7 div.sk-estimator:hover label.sk-toggleable__label-arrow:before {color: black;}#sk-container-id-7 div.sk-toggleable__content {max-height: 0;max-width: 0;overflow: hidden;text-align: left;background-color: #f0f8ff;}#sk-container-id-7 div.sk-toggleable__content pre {margin: 0.2em;color: black;border-radius: 0.25em;background-color: #f0f8ff;}#sk-container-id-7 input.sk-toggleable__control:checked~div.sk-toggleable__content {max-height: 200px;max-width: 100%;overflow: auto;}#sk-container-id-7 input.sk-toggleable__control:checked~label.sk-toggleable__label-arrow:before {content: \"▾\";}#sk-container-id-7 div.sk-estimator input.sk-toggleable__control:checked~label.sk-toggleable__label {background-color: #d4ebff;}#sk-container-id-7 div.sk-label input.sk-toggleable__control:checked~label.sk-toggleable__label {background-color: #d4ebff;}#sk-container-id-7 input.sk-hidden--visually {border: 0;clip: rect(1px 1px 1px 1px);clip: rect(1px, 1px, 1px, 1px);height: 1px;margin: -1px;overflow: hidden;padding: 0;position: absolute;width: 1px;}#sk-container-id-7 div.sk-estimator {font-family: monospace;background-color: #f0f8ff;border: 1px dotted black;border-radius: 0.25em;box-sizing: border-box;margin-bottom: 0.5em;}#sk-container-id-7 div.sk-estimator:hover {background-color: #d4ebff;}#sk-container-id-7 div.sk-parallel-item::after {content: \"\";width: 100%;border-bottom: 1px solid gray;flex-grow: 1;}#sk-container-id-7 div.sk-label:hover label.sk-toggleable__label {background-color: #d4ebff;}#sk-container-id-7 div.sk-serial::before {content: \"\";position: absolute;border-left: 1px solid gray;box-sizing: border-box;top: 0;bottom: 0;left: 50%;z-index: 0;}#sk-container-id-7 div.sk-serial {display: flex;flex-direction: column;align-items: center;background-color: white;padding-right: 0.2em;padding-left: 0.2em;position: relative;}#sk-container-id-7 div.sk-item {position: relative;z-index: 1;}#sk-container-id-7 div.sk-parallel {display: flex;align-items: stretch;justify-content: center;background-color: white;position: relative;}#sk-container-id-7 div.sk-item::before, #sk-container-id-7 div.sk-parallel-item::before {content: \"\";position: absolute;border-left: 1px solid gray;box-sizing: border-box;top: 0;bottom: 0;left: 50%;z-index: -1;}#sk-container-id-7 div.sk-parallel-item {display: flex;flex-direction: column;z-index: 1;position: relative;background-color: white;}#sk-container-id-7 div.sk-parallel-item:first-child::after {align-self: flex-end;width: 50%;}#sk-container-id-7 div.sk-parallel-item:last-child::after {align-self: flex-start;width: 50%;}#sk-container-id-7 div.sk-parallel-item:only-child::after {width: 0;}#sk-container-id-7 div.sk-dashed-wrapped {border: 1px dashed gray;margin: 0 0.4em 0.5em 0.4em;box-sizing: border-box;padding-bottom: 0.4em;background-color: white;}#sk-container-id-7 div.sk-label label {font-family: monospace;font-weight: bold;display: inline-block;line-height: 1.2em;}#sk-container-id-7 div.sk-label-container {text-align: center;}#sk-container-id-7 div.sk-container {/* jupyter's `normalize.less` sets `[hidden] { display: none; }` but bootstrap.min.css set `[hidden] { display: none !important; }` so we also need the `!important` here to be able to override the default hidden behavior on the sphinx rendered scikit-learn.org. See: https://github.com/scikit-learn/scikit-learn/issues/21755 */display: inline-block !important;position: relative;}#sk-container-id-7 div.sk-text-repr-fallback {display: none;}</style><div id=\"sk-container-id-7\" class=\"sk-top-container\"><div class=\"sk-text-repr-fallback\"><pre>Pipeline(steps=[(&#x27;scaler&#x27;, StandardScaler()),\n",
       "                (&#x27;pca&#x27;, PCA(n_components=13, random_state=23)),\n",
       "                (&#x27;clf&#x27;,\n",
       "                 KNeighborsClassifier(algorithm=&#x27;ball_tree&#x27;, n_neighbors=8, p=1,\n",
       "                                      weights=&#x27;distance&#x27;))])</pre><b>In a Jupyter environment, please rerun this cell to show the HTML representation or trust the notebook. <br />On GitHub, the HTML representation is unable to render, please try loading this page with nbviewer.org.</b></div><div class=\"sk-container\" hidden><div class=\"sk-item sk-dashed-wrapped\"><div class=\"sk-label-container\"><div class=\"sk-label sk-toggleable\"><input class=\"sk-toggleable__control sk-hidden--visually\" id=\"sk-estimator-id-40\" type=\"checkbox\" ><label for=\"sk-estimator-id-40\" class=\"sk-toggleable__label sk-toggleable__label-arrow\">Pipeline</label><div class=\"sk-toggleable__content\"><pre>Pipeline(steps=[(&#x27;scaler&#x27;, StandardScaler()),\n",
       "                (&#x27;pca&#x27;, PCA(n_components=13, random_state=23)),\n",
       "                (&#x27;clf&#x27;,\n",
       "                 KNeighborsClassifier(algorithm=&#x27;ball_tree&#x27;, n_neighbors=8, p=1,\n",
       "                                      weights=&#x27;distance&#x27;))])</pre></div></div></div><div class=\"sk-serial\"><div class=\"sk-item\"><div class=\"sk-estimator sk-toggleable\"><input class=\"sk-toggleable__control sk-hidden--visually\" id=\"sk-estimator-id-41\" type=\"checkbox\" ><label for=\"sk-estimator-id-41\" class=\"sk-toggleable__label sk-toggleable__label-arrow\">StandardScaler</label><div class=\"sk-toggleable__content\"><pre>StandardScaler()</pre></div></div></div><div class=\"sk-item\"><div class=\"sk-estimator sk-toggleable\"><input class=\"sk-toggleable__control sk-hidden--visually\" id=\"sk-estimator-id-42\" type=\"checkbox\" ><label for=\"sk-estimator-id-42\" class=\"sk-toggleable__label sk-toggleable__label-arrow\">PCA</label><div class=\"sk-toggleable__content\"><pre>PCA(n_components=13, random_state=23)</pre></div></div></div><div class=\"sk-item\"><div class=\"sk-estimator sk-toggleable\"><input class=\"sk-toggleable__control sk-hidden--visually\" id=\"sk-estimator-id-43\" type=\"checkbox\" ><label for=\"sk-estimator-id-43\" class=\"sk-toggleable__label sk-toggleable__label-arrow\">KNeighborsClassifier</label><div class=\"sk-toggleable__content\"><pre>KNeighborsClassifier(algorithm=&#x27;ball_tree&#x27;, n_neighbors=8, p=1,\n",
       "                     weights=&#x27;distance&#x27;)</pre></div></div></div></div></div></div></div>"
      ],
      "text/plain": [
       "Pipeline(steps=[('scaler', StandardScaler()),\n",
       "                ('pca', PCA(n_components=13, random_state=23)),\n",
       "                ('clf',\n",
       "                 KNeighborsClassifier(algorithm='ball_tree', n_neighbors=8, p=1,\n",
       "                                      weights='distance'))])"
      ]
     },
     "execution_count": 35,
     "metadata": {},
     "output_type": "execute_result"
    }
   ],
   "source": [
    "# generating values to fit\n",
    "X_trainval = np.vstack([X_train, X_val])\n",
    "y_trainval = np.concatenate([y_train, y_val])\n",
    "\n",
    "# defining final model\n",
    "pca = PCA(n_components = n_components_pca, random_state = 23)\n",
    "kn_final = KNeighborsClassifier(n_neighbors = 8, p = 1, weights = 'distance', algorithm = 'ball_tree')\n",
    "\n",
    "# fitting model\n",
    "kn_final_pipe = Pipeline([('scaler', scaler), ('pca', pca), ('clf', kn_final)])\n",
    "kn_final_pipe.fit(X_trainval, y_trainval)"
   ]
  },
  {
   "cell_type": "markdown",
   "id": "1abc2221",
   "metadata": {},
   "source": [
    "Validating model with testing set"
   ]
  },
  {
   "cell_type": "code",
   "execution_count": 38,
   "id": "fd9c92d1",
   "metadata": {
    "tags": []
   },
   "outputs": [],
   "source": [
    "y_trainval_pred_kn = kn_final_pipe.predict(X_trainval)\n",
    "y_test_pred_kn = kn_final_pipe.predict(X_test)\n",
    "\n",
    "precision_train_kn, recall_train_kn, f1_score_train_kn = get_metric_values(y_trainval, y_trainval_pred_kn)\n",
    "precision_test_kn, recall_test_kn, f1_score_test_kn = get_metric_values(y_test, y_test_pred_kn)"
   ]
  },
  {
   "cell_type": "code",
   "execution_count": 39,
   "id": "e96177e5",
   "metadata": {
    "tags": []
   },
   "outputs": [
    {
     "data": {
      "text/html": [
       "<div>\n",
       "<style scoped>\n",
       "    .dataframe tbody tr th:only-of-type {\n",
       "        vertical-align: middle;\n",
       "    }\n",
       "\n",
       "    .dataframe tbody tr th {\n",
       "        vertical-align: top;\n",
       "    }\n",
       "\n",
       "    .dataframe thead tr th {\n",
       "        text-align: left;\n",
       "    }\n",
       "\n",
       "    .dataframe thead tr:last-of-type th {\n",
       "        text-align: right;\n",
       "    }\n",
       "</style>\n",
       "<table border=\"1\" class=\"dataframe\">\n",
       "  <thead>\n",
       "    <tr>\n",
       "      <th></th>\n",
       "      <th colspan=\"2\" halign=\"left\">K-Nearest Neighbors</th>\n",
       "      <th colspan=\"2\" halign=\"left\">K-Nearest Neighbors Tuned</th>\n",
       "    </tr>\n",
       "    <tr>\n",
       "      <th></th>\n",
       "      <th>kn_train</th>\n",
       "      <th>kn_val</th>\n",
       "      <th>kn_trainval</th>\n",
       "      <th>kn_test</th>\n",
       "    </tr>\n",
       "    <tr>\n",
       "      <th>metric</th>\n",
       "      <th></th>\n",
       "      <th></th>\n",
       "      <th></th>\n",
       "      <th></th>\n",
       "    </tr>\n",
       "  </thead>\n",
       "  <tbody>\n",
       "    <tr>\n",
       "      <th>precision</th>\n",
       "      <td>0.635375</td>\n",
       "      <td>0.218442</td>\n",
       "      <td>1.0</td>\n",
       "      <td>0.285337</td>\n",
       "    </tr>\n",
       "    <tr>\n",
       "      <th>recall</th>\n",
       "      <td>0.632302</td>\n",
       "      <td>0.216000</td>\n",
       "      <td>1.0</td>\n",
       "      <td>0.248000</td>\n",
       "    </tr>\n",
       "    <tr>\n",
       "      <th>f1_score</th>\n",
       "      <td>0.629664</td>\n",
       "      <td>0.215268</td>\n",
       "      <td>1.0</td>\n",
       "      <td>0.258458</td>\n",
       "    </tr>\n",
       "  </tbody>\n",
       "</table>\n",
       "</div>"
      ],
      "text/plain": [
       "          K-Nearest Neighbors           K-Nearest Neighbors Tuned          \n",
       "                     kn_train    kn_val               kn_trainval   kn_test\n",
       "metric                                                                     \n",
       "precision            0.635375  0.218442                       1.0  0.285337\n",
       "recall               0.632302  0.216000                       1.0  0.248000\n",
       "f1_score             0.629664  0.215268                       1.0  0.258458"
      ]
     },
     "execution_count": 39,
     "metadata": {},
     "output_type": "execute_result"
    }
   ],
   "source": [
    "y_scores_kn = y_scores.iloc[:, 4:6].copy()\n",
    "y_scores_kn[('K-Nearest Neighbors Tuned', 'kn_trainval')] = (precision_train_kn, recall_train_kn, f1_score_train_kn)\n",
    "y_scores_kn[('K-Nearest Neighbors Tuned', 'kn_test')] = (precision_test_kn, recall_test_kn, f1_score_test_kn)\n",
    "y_scores_kn"
   ]
  },
  {
   "cell_type": "markdown",
   "id": "c8b3e8b5",
   "metadata": {},
   "source": [
    "Getting its results per iteration"
   ]
  },
  {
   "cell_type": "code",
   "execution_count": 40,
   "id": "02f90064",
   "metadata": {
    "tags": []
   },
   "outputs": [
    {
     "data": {
      "text/html": [
       "<div>\n",
       "<style scoped>\n",
       "    .dataframe tbody tr th:only-of-type {\n",
       "        vertical-align: middle;\n",
       "    }\n",
       "\n",
       "    .dataframe tbody tr th {\n",
       "        vertical-align: top;\n",
       "    }\n",
       "\n",
       "    .dataframe thead th {\n",
       "        text-align: right;\n",
       "    }\n",
       "</style>\n",
       "<table border=\"1\" class=\"dataframe\">\n",
       "  <thead>\n",
       "    <tr style=\"text-align: right;\">\n",
       "      <th></th>\n",
       "      <th>algorithm</th>\n",
       "      <th>n_neighbors</th>\n",
       "      <th>p</th>\n",
       "      <th>weights</th>\n",
       "      <th>test_score</th>\n",
       "      <th>rank_test_score</th>\n",
       "    </tr>\n",
       "  </thead>\n",
       "  <tbody>\n",
       "    <tr>\n",
       "      <th>0</th>\n",
       "      <td>ball_tree</td>\n",
       "      <td>8</td>\n",
       "      <td>2</td>\n",
       "      <td>distance</td>\n",
       "      <td>0.300481</td>\n",
       "      <td>1</td>\n",
       "    </tr>\n",
       "    <tr>\n",
       "      <th>1</th>\n",
       "      <td>brute_force</td>\n",
       "      <td>8</td>\n",
       "      <td>2</td>\n",
       "      <td>distance</td>\n",
       "      <td>0.300481</td>\n",
       "      <td>2</td>\n",
       "    </tr>\n",
       "    <tr>\n",
       "      <th>2</th>\n",
       "      <td>ball_tree</td>\n",
       "      <td>8</td>\n",
       "      <td>4</td>\n",
       "      <td>distance</td>\n",
       "      <td>0.300481</td>\n",
       "      <td>3</td>\n",
       "    </tr>\n",
       "    <tr>\n",
       "      <th>3</th>\n",
       "      <td>kd_tree</td>\n",
       "      <td>8</td>\n",
       "      <td>3</td>\n",
       "      <td>distance</td>\n",
       "      <td>0.300481</td>\n",
       "      <td>4</td>\n",
       "    </tr>\n",
       "    <tr>\n",
       "      <th>4</th>\n",
       "      <td>ball_tree</td>\n",
       "      <td>8</td>\n",
       "      <td>3</td>\n",
       "      <td>distance</td>\n",
       "      <td>0.300481</td>\n",
       "      <td>5</td>\n",
       "    </tr>\n",
       "    <tr>\n",
       "      <th>5</th>\n",
       "      <td>kd_tree</td>\n",
       "      <td>8</td>\n",
       "      <td>4</td>\n",
       "      <td>distance</td>\n",
       "      <td>0.300481</td>\n",
       "      <td>6</td>\n",
       "    </tr>\n",
       "    <tr>\n",
       "      <th>6</th>\n",
       "      <td>kd_tree</td>\n",
       "      <td>8</td>\n",
       "      <td>2</td>\n",
       "      <td>distance</td>\n",
       "      <td>0.300481</td>\n",
       "      <td>7</td>\n",
       "    </tr>\n",
       "    <tr>\n",
       "      <th>7</th>\n",
       "      <td>ball_tree</td>\n",
       "      <td>8</td>\n",
       "      <td>1</td>\n",
       "      <td>distance</td>\n",
       "      <td>0.300481</td>\n",
       "      <td>8</td>\n",
       "    </tr>\n",
       "    <tr>\n",
       "      <th>8</th>\n",
       "      <td>kd_tree</td>\n",
       "      <td>8</td>\n",
       "      <td>1</td>\n",
       "      <td>distance</td>\n",
       "      <td>0.300481</td>\n",
       "      <td>9</td>\n",
       "    </tr>\n",
       "    <tr>\n",
       "      <th>9</th>\n",
       "      <td>brute_force</td>\n",
       "      <td>8</td>\n",
       "      <td>1</td>\n",
       "      <td>distance</td>\n",
       "      <td>0.300481</td>\n",
       "      <td>10</td>\n",
       "    </tr>\n",
       "  </tbody>\n",
       "</table>\n",
       "</div>"
      ],
      "text/plain": [
       "     algorithm  n_neighbors  p   weights  test_score  rank_test_score\n",
       "0    ball_tree            8  2  distance    0.300481                1\n",
       "1  brute_force            8  2  distance    0.300481                2\n",
       "2    ball_tree            8  4  distance    0.300481                3\n",
       "3      kd_tree            8  3  distance    0.300481                4\n",
       "4    ball_tree            8  3  distance    0.300481                5\n",
       "5      kd_tree            8  4  distance    0.300481                6\n",
       "6      kd_tree            8  2  distance    0.300481                7\n",
       "7    ball_tree            8  1  distance    0.300481                8\n",
       "8      kd_tree            8  1  distance    0.300481                9\n",
       "9  brute_force            8  1  distance    0.300481               10"
      ]
     },
     "execution_count": 40,
     "metadata": {},
     "output_type": "execute_result"
    }
   ],
   "source": [
    "# creating dataframe of each of them\n",
    "parameters = pd.DataFrame(parameters)\n",
    "precisions = pd.DataFrame(precisions, columns = ['test_score'])\n",
    "\n",
    "# concatenating them\n",
    "results_kn = pd.concat([parameters, precisions], axis = 1)\n",
    "\n",
    "# creating rank_test_score\n",
    "results_kn = results_kn.sort_values(by = 'test_score', ascending = False).reset_index(drop = True)\n",
    "results_kn['rank_test_score'] = range(1, len(results_kn) + 1)\n",
    "\n",
    "# Top 10\n",
    "results_kn.head(10)"
   ]
  },
  {
   "cell_type": "markdown",
   "id": "bc3b1b41",
   "metadata": {},
   "source": [
    "Saving model"
   ]
  },
  {
   "cell_type": "code",
   "execution_count": 41,
   "id": "61c37008-6f06-4f71-8c63-4077df11e8ed",
   "metadata": {
    "tags": []
   },
   "outputs": [],
   "source": [
    "with open('final_models/kn_final_pipe.pkl', 'wb') as file:\n",
    "    pickle.dump(kn_final_pipe, file)"
   ]
  },
  {
   "cell_type": "markdown",
   "id": "84e944d5",
   "metadata": {},
   "source": [
    "## Decision Tree Classifier"
   ]
  },
  {
   "cell_type": "code",
   "execution_count": 44,
   "id": "2d5f65bd",
   "metadata": {
    "tags": []
   },
   "outputs": [],
   "source": [
    "from sklearn.model_selection import GridSearchCV, StratifiedKFold\n",
    "from sklearn.metrics import make_scorer, precision_score\n",
    "\n",
    "# basic model\n",
    "scaler = StandardScaler()\n",
    "pca = PCA(n_components = n_components_pca, random_state = 23)\n",
    "\n",
    "# params\n",
    "max_depth = [ 5, 7, 9, 11]\n",
    "min_samples_split = [4, 6, 10]\n",
    "min_samples_leaf = [2, 4, 6, 10]\n",
    "max_features = range(9, n_components_pca + 1)\n",
    "\n",
    "# paramgrid\n",
    "param_grid = {'max_depth': max_depth,\n",
    "              'min_samples_split': min_samples_split,\n",
    "              'min_samples_leaf': min_samples_leaf,\n",
    "              'max_features': max_features}\n",
    "\n",
    "\n",
    "# generate params combinations\n",
    "param_combinations = list(ParameterGrid(param_grid))\n",
    "\n",
    "# setting best metric and bestparams\n",
    "best_precision = 0\n",
    "best_params = None\n",
    "precisions = list()\n",
    "parameters = list()\n",
    "\n",
    "# Iterating across train and validation test\n",
    "for params in param_combinations:    \n",
    "    dt_selected = DecisionTreeClassifier(**params, random_state = 23)\n",
    "    dt_pipe = Pipeline([('scaler', scaler), ('pca', pca), ('clf', dt_selected)])\n",
    "    dt_pipe.fit(X_train, y_train)\n",
    "    y_pred = dt_pipe.predict(X_val)  \n",
    "    precision = precision_score(y_val, y_pred, average = 'weighted', zero_division = 0)\n",
    "    precisions.append(precision)\n",
    "    parameters.append(params)\n",
    "    if precision > best_precision:\n",
    "        best_precision = precision\n",
    "        best_params = params"
   ]
  },
  {
   "cell_type": "markdown",
   "id": "e1b3382c-723f-4d4e-9ef2-f5ee26b3cd70",
   "metadata": {},
   "source": [
    "Selecting best params"
   ]
  },
  {
   "cell_type": "code",
   "execution_count": 45,
   "id": "2645645c-a6ae-4731-a03d-419bf861a9f0",
   "metadata": {
    "tags": []
   },
   "outputs": [
    {
     "data": {
      "text/plain": [
       "{'max_depth': 9,\n",
       " 'max_features': 12,\n",
       " 'min_samples_leaf': 2,\n",
       " 'min_samples_split': 10}"
      ]
     },
     "execution_count": 45,
     "metadata": {},
     "output_type": "execute_result"
    }
   ],
   "source": [
    "best_params"
   ]
  },
  {
   "cell_type": "markdown",
   "id": "1910a5a8-d460-4a93-8e2e-189ddfbba850",
   "metadata": {},
   "source": [
    "Fitting the new model"
   ]
  },
  {
   "cell_type": "code",
   "execution_count": 46,
   "id": "14ada6dd-2985-4d30-965c-6f9fe482ecb1",
   "metadata": {
    "tags": []
   },
   "outputs": [
    {
     "data": {
      "text/html": [
       "<style>#sk-container-id-8 {color: black;background-color: white;}#sk-container-id-8 pre{padding: 0;}#sk-container-id-8 div.sk-toggleable {background-color: white;}#sk-container-id-8 label.sk-toggleable__label {cursor: pointer;display: block;width: 100%;margin-bottom: 0;padding: 0.3em;box-sizing: border-box;text-align: center;}#sk-container-id-8 label.sk-toggleable__label-arrow:before {content: \"▸\";float: left;margin-right: 0.25em;color: #696969;}#sk-container-id-8 label.sk-toggleable__label-arrow:hover:before {color: black;}#sk-container-id-8 div.sk-estimator:hover label.sk-toggleable__label-arrow:before {color: black;}#sk-container-id-8 div.sk-toggleable__content {max-height: 0;max-width: 0;overflow: hidden;text-align: left;background-color: #f0f8ff;}#sk-container-id-8 div.sk-toggleable__content pre {margin: 0.2em;color: black;border-radius: 0.25em;background-color: #f0f8ff;}#sk-container-id-8 input.sk-toggleable__control:checked~div.sk-toggleable__content {max-height: 200px;max-width: 100%;overflow: auto;}#sk-container-id-8 input.sk-toggleable__control:checked~label.sk-toggleable__label-arrow:before {content: \"▾\";}#sk-container-id-8 div.sk-estimator input.sk-toggleable__control:checked~label.sk-toggleable__label {background-color: #d4ebff;}#sk-container-id-8 div.sk-label input.sk-toggleable__control:checked~label.sk-toggleable__label {background-color: #d4ebff;}#sk-container-id-8 input.sk-hidden--visually {border: 0;clip: rect(1px 1px 1px 1px);clip: rect(1px, 1px, 1px, 1px);height: 1px;margin: -1px;overflow: hidden;padding: 0;position: absolute;width: 1px;}#sk-container-id-8 div.sk-estimator {font-family: monospace;background-color: #f0f8ff;border: 1px dotted black;border-radius: 0.25em;box-sizing: border-box;margin-bottom: 0.5em;}#sk-container-id-8 div.sk-estimator:hover {background-color: #d4ebff;}#sk-container-id-8 div.sk-parallel-item::after {content: \"\";width: 100%;border-bottom: 1px solid gray;flex-grow: 1;}#sk-container-id-8 div.sk-label:hover label.sk-toggleable__label {background-color: #d4ebff;}#sk-container-id-8 div.sk-serial::before {content: \"\";position: absolute;border-left: 1px solid gray;box-sizing: border-box;top: 0;bottom: 0;left: 50%;z-index: 0;}#sk-container-id-8 div.sk-serial {display: flex;flex-direction: column;align-items: center;background-color: white;padding-right: 0.2em;padding-left: 0.2em;position: relative;}#sk-container-id-8 div.sk-item {position: relative;z-index: 1;}#sk-container-id-8 div.sk-parallel {display: flex;align-items: stretch;justify-content: center;background-color: white;position: relative;}#sk-container-id-8 div.sk-item::before, #sk-container-id-8 div.sk-parallel-item::before {content: \"\";position: absolute;border-left: 1px solid gray;box-sizing: border-box;top: 0;bottom: 0;left: 50%;z-index: -1;}#sk-container-id-8 div.sk-parallel-item {display: flex;flex-direction: column;z-index: 1;position: relative;background-color: white;}#sk-container-id-8 div.sk-parallel-item:first-child::after {align-self: flex-end;width: 50%;}#sk-container-id-8 div.sk-parallel-item:last-child::after {align-self: flex-start;width: 50%;}#sk-container-id-8 div.sk-parallel-item:only-child::after {width: 0;}#sk-container-id-8 div.sk-dashed-wrapped {border: 1px dashed gray;margin: 0 0.4em 0.5em 0.4em;box-sizing: border-box;padding-bottom: 0.4em;background-color: white;}#sk-container-id-8 div.sk-label label {font-family: monospace;font-weight: bold;display: inline-block;line-height: 1.2em;}#sk-container-id-8 div.sk-label-container {text-align: center;}#sk-container-id-8 div.sk-container {/* jupyter's `normalize.less` sets `[hidden] { display: none; }` but bootstrap.min.css set `[hidden] { display: none !important; }` so we also need the `!important` here to be able to override the default hidden behavior on the sphinx rendered scikit-learn.org. See: https://github.com/scikit-learn/scikit-learn/issues/21755 */display: inline-block !important;position: relative;}#sk-container-id-8 div.sk-text-repr-fallback {display: none;}</style><div id=\"sk-container-id-8\" class=\"sk-top-container\"><div class=\"sk-text-repr-fallback\"><pre>Pipeline(steps=[(&#x27;scaler&#x27;, StandardScaler()),\n",
       "                (&#x27;pca&#x27;, PCA(n_components=13, random_state=23)),\n",
       "                (&#x27;clf&#x27;,\n",
       "                 DecisionTreeClassifier(max_depth=9, max_features=12,\n",
       "                                        min_samples_leaf=2,\n",
       "                                        min_samples_split=10,\n",
       "                                        random_state=23))])</pre><b>In a Jupyter environment, please rerun this cell to show the HTML representation or trust the notebook. <br />On GitHub, the HTML representation is unable to render, please try loading this page with nbviewer.org.</b></div><div class=\"sk-container\" hidden><div class=\"sk-item sk-dashed-wrapped\"><div class=\"sk-label-container\"><div class=\"sk-label sk-toggleable\"><input class=\"sk-toggleable__control sk-hidden--visually\" id=\"sk-estimator-id-44\" type=\"checkbox\" ><label for=\"sk-estimator-id-44\" class=\"sk-toggleable__label sk-toggleable__label-arrow\">Pipeline</label><div class=\"sk-toggleable__content\"><pre>Pipeline(steps=[(&#x27;scaler&#x27;, StandardScaler()),\n",
       "                (&#x27;pca&#x27;, PCA(n_components=13, random_state=23)),\n",
       "                (&#x27;clf&#x27;,\n",
       "                 DecisionTreeClassifier(max_depth=9, max_features=12,\n",
       "                                        min_samples_leaf=2,\n",
       "                                        min_samples_split=10,\n",
       "                                        random_state=23))])</pre></div></div></div><div class=\"sk-serial\"><div class=\"sk-item\"><div class=\"sk-estimator sk-toggleable\"><input class=\"sk-toggleable__control sk-hidden--visually\" id=\"sk-estimator-id-45\" type=\"checkbox\" ><label for=\"sk-estimator-id-45\" class=\"sk-toggleable__label sk-toggleable__label-arrow\">StandardScaler</label><div class=\"sk-toggleable__content\"><pre>StandardScaler()</pre></div></div></div><div class=\"sk-item\"><div class=\"sk-estimator sk-toggleable\"><input class=\"sk-toggleable__control sk-hidden--visually\" id=\"sk-estimator-id-46\" type=\"checkbox\" ><label for=\"sk-estimator-id-46\" class=\"sk-toggleable__label sk-toggleable__label-arrow\">PCA</label><div class=\"sk-toggleable__content\"><pre>PCA(n_components=13, random_state=23)</pre></div></div></div><div class=\"sk-item\"><div class=\"sk-estimator sk-toggleable\"><input class=\"sk-toggleable__control sk-hidden--visually\" id=\"sk-estimator-id-47\" type=\"checkbox\" ><label for=\"sk-estimator-id-47\" class=\"sk-toggleable__label sk-toggleable__label-arrow\">DecisionTreeClassifier</label><div class=\"sk-toggleable__content\"><pre>DecisionTreeClassifier(max_depth=9, max_features=12, min_samples_leaf=2,\n",
       "                       min_samples_split=10, random_state=23)</pre></div></div></div></div></div></div></div>"
      ],
      "text/plain": [
       "Pipeline(steps=[('scaler', StandardScaler()),\n",
       "                ('pca', PCA(n_components=13, random_state=23)),\n",
       "                ('clf',\n",
       "                 DecisionTreeClassifier(max_depth=9, max_features=12,\n",
       "                                        min_samples_leaf=2,\n",
       "                                        min_samples_split=10,\n",
       "                                        random_state=23))])"
      ]
     },
     "execution_count": 46,
     "metadata": {},
     "output_type": "execute_result"
    }
   ],
   "source": [
    "# defining final model\n",
    "pca = PCA(n_components = n_components_pca, random_state = 23)\n",
    "dt_final = DecisionTreeClassifier(max_depth =9, max_features = 12, min_samples_leaf = 2, min_samples_split = 10, random_state = 23)\n",
    "\n",
    "# fitting model\n",
    "dt_final_pipe = Pipeline([('scaler', scaler), ('pca', pca), ('clf', dt_final)])\n",
    "dt_final_pipe.fit(X_trainval, y_trainval)"
   ]
  },
  {
   "cell_type": "markdown",
   "id": "78564576-c81f-460c-b309-a7c64e30be0b",
   "metadata": {},
   "source": [
    "Validating model with testing set"
   ]
  },
  {
   "cell_type": "code",
   "execution_count": 47,
   "id": "1f47915a-4aaa-4e81-a1f8-09a7e2cc829d",
   "metadata": {
    "tags": []
   },
   "outputs": [],
   "source": [
    "y_trainval_pred_dt = dt_final_pipe.predict(X_trainval)\n",
    "y_test_pred_dt = dt_final_pipe.predict(X_test)\n",
    "\n",
    "precision_train_dt, recall_train_dt, f1_score_train_dt = get_metric_values(y_trainval, y_trainval_pred_dt)\n",
    "precision_test_dt, recall_test_dt, f1_score_test_dt = get_metric_values(y_test, y_test_pred_dt)"
   ]
  },
  {
   "cell_type": "code",
   "execution_count": 48,
   "id": "6a9084d9-b494-41cf-888a-6203df8c5293",
   "metadata": {
    "tags": []
   },
   "outputs": [
    {
     "data": {
      "text/html": [
       "<div>\n",
       "<style scoped>\n",
       "    .dataframe tbody tr th:only-of-type {\n",
       "        vertical-align: middle;\n",
       "    }\n",
       "\n",
       "    .dataframe tbody tr th {\n",
       "        vertical-align: top;\n",
       "    }\n",
       "\n",
       "    .dataframe thead tr th {\n",
       "        text-align: left;\n",
       "    }\n",
       "\n",
       "    .dataframe thead tr:last-of-type th {\n",
       "        text-align: right;\n",
       "    }\n",
       "</style>\n",
       "<table border=\"1\" class=\"dataframe\">\n",
       "  <thead>\n",
       "    <tr>\n",
       "      <th></th>\n",
       "      <th colspan=\"2\" halign=\"left\">Decision Tree Classifier</th>\n",
       "      <th colspan=\"2\" halign=\"left\">Decision Tree Classifier Tuned</th>\n",
       "    </tr>\n",
       "    <tr>\n",
       "      <th></th>\n",
       "      <th>dt_train</th>\n",
       "      <th>dt_val</th>\n",
       "      <th>dt_trainval</th>\n",
       "      <th>dt_test</th>\n",
       "    </tr>\n",
       "    <tr>\n",
       "      <th>metric</th>\n",
       "      <th></th>\n",
       "      <th></th>\n",
       "      <th></th>\n",
       "      <th></th>\n",
       "    </tr>\n",
       "  </thead>\n",
       "  <tbody>\n",
       "    <tr>\n",
       "      <th>precision</th>\n",
       "      <td>0.998309</td>\n",
       "      <td>0.167821</td>\n",
       "      <td>0.588386</td>\n",
       "      <td>0.188440</td>\n",
       "    </tr>\n",
       "    <tr>\n",
       "      <th>recall</th>\n",
       "      <td>0.998282</td>\n",
       "      <td>0.160000</td>\n",
       "      <td>0.574257</td>\n",
       "      <td>0.192000</td>\n",
       "    </tr>\n",
       "    <tr>\n",
       "      <th>f1_score</th>\n",
       "      <td>0.998282</td>\n",
       "      <td>0.161191</td>\n",
       "      <td>0.573212</td>\n",
       "      <td>0.187047</td>\n",
       "    </tr>\n",
       "  </tbody>\n",
       "</table>\n",
       "</div>"
      ],
      "text/plain": [
       "          Decision Tree Classifier           Decision Tree Classifier Tuned  \\\n",
       "                          dt_train    dt_val                    dt_trainval   \n",
       "metric                                                                        \n",
       "precision                 0.998309  0.167821                       0.588386   \n",
       "recall                    0.998282  0.160000                       0.574257   \n",
       "f1_score                  0.998282  0.161191                       0.573212   \n",
       "\n",
       "                     \n",
       "            dt_test  \n",
       "metric               \n",
       "precision  0.188440  \n",
       "recall     0.192000  \n",
       "f1_score   0.187047  "
      ]
     },
     "execution_count": 48,
     "metadata": {},
     "output_type": "execute_result"
    }
   ],
   "source": [
    "y_scores_dt = y_scores.iloc[:, 6:8].copy()\n",
    "y_scores_dt[('Decision Tree Classifier Tuned', 'dt_trainval')] = (precision_train_dt, recall_train_dt, f1_score_train_dt)\n",
    "y_scores_dt[('Decision Tree Classifier Tuned', 'dt_test')] = (precision_test_dt, recall_test_dt, f1_score_test_dt)\n",
    "y_scores_dt"
   ]
  },
  {
   "cell_type": "markdown",
   "id": "3d4da017-c9c1-4924-951b-7e91ada84dda",
   "metadata": {},
   "source": [
    "Getting its results per iteration"
   ]
  },
  {
   "cell_type": "code",
   "execution_count": 49,
   "id": "1644b872-3799-4dd0-a151-2935e7ce8b53",
   "metadata": {
    "tags": []
   },
   "outputs": [
    {
     "data": {
      "text/html": [
       "<div>\n",
       "<style scoped>\n",
       "    .dataframe tbody tr th:only-of-type {\n",
       "        vertical-align: middle;\n",
       "    }\n",
       "\n",
       "    .dataframe tbody tr th {\n",
       "        vertical-align: top;\n",
       "    }\n",
       "\n",
       "    .dataframe thead th {\n",
       "        text-align: right;\n",
       "    }\n",
       "</style>\n",
       "<table border=\"1\" class=\"dataframe\">\n",
       "  <thead>\n",
       "    <tr style=\"text-align: right;\">\n",
       "      <th></th>\n",
       "      <th>max_depth</th>\n",
       "      <th>max_features</th>\n",
       "      <th>min_samples_leaf</th>\n",
       "      <th>min_samples_split</th>\n",
       "      <th>test_score</th>\n",
       "      <th>rank_test_score</th>\n",
       "    </tr>\n",
       "  </thead>\n",
       "  <tbody>\n",
       "    <tr>\n",
       "      <th>0</th>\n",
       "      <td>9</td>\n",
       "      <td>12</td>\n",
       "      <td>4</td>\n",
       "      <td>10</td>\n",
       "      <td>0.291500</td>\n",
       "      <td>1</td>\n",
       "    </tr>\n",
       "    <tr>\n",
       "      <th>1</th>\n",
       "      <td>9</td>\n",
       "      <td>12</td>\n",
       "      <td>10</td>\n",
       "      <td>10</td>\n",
       "      <td>0.291500</td>\n",
       "      <td>2</td>\n",
       "    </tr>\n",
       "    <tr>\n",
       "      <th>2</th>\n",
       "      <td>9</td>\n",
       "      <td>12</td>\n",
       "      <td>10</td>\n",
       "      <td>6</td>\n",
       "      <td>0.291500</td>\n",
       "      <td>3</td>\n",
       "    </tr>\n",
       "    <tr>\n",
       "      <th>3</th>\n",
       "      <td>9</td>\n",
       "      <td>12</td>\n",
       "      <td>2</td>\n",
       "      <td>10</td>\n",
       "      <td>0.291500</td>\n",
       "      <td>4</td>\n",
       "    </tr>\n",
       "    <tr>\n",
       "      <th>4</th>\n",
       "      <td>9</td>\n",
       "      <td>12</td>\n",
       "      <td>10</td>\n",
       "      <td>4</td>\n",
       "      <td>0.291500</td>\n",
       "      <td>5</td>\n",
       "    </tr>\n",
       "    <tr>\n",
       "      <th>5</th>\n",
       "      <td>9</td>\n",
       "      <td>12</td>\n",
       "      <td>6</td>\n",
       "      <td>10</td>\n",
       "      <td>0.291500</td>\n",
       "      <td>6</td>\n",
       "    </tr>\n",
       "    <tr>\n",
       "      <th>6</th>\n",
       "      <td>11</td>\n",
       "      <td>10</td>\n",
       "      <td>10</td>\n",
       "      <td>6</td>\n",
       "      <td>0.285968</td>\n",
       "      <td>7</td>\n",
       "    </tr>\n",
       "    <tr>\n",
       "      <th>7</th>\n",
       "      <td>11</td>\n",
       "      <td>10</td>\n",
       "      <td>10</td>\n",
       "      <td>10</td>\n",
       "      <td>0.285968</td>\n",
       "      <td>8</td>\n",
       "    </tr>\n",
       "    <tr>\n",
       "      <th>8</th>\n",
       "      <td>11</td>\n",
       "      <td>10</td>\n",
       "      <td>2</td>\n",
       "      <td>10</td>\n",
       "      <td>0.285968</td>\n",
       "      <td>9</td>\n",
       "    </tr>\n",
       "    <tr>\n",
       "      <th>9</th>\n",
       "      <td>11</td>\n",
       "      <td>10</td>\n",
       "      <td>4</td>\n",
       "      <td>10</td>\n",
       "      <td>0.285968</td>\n",
       "      <td>10</td>\n",
       "    </tr>\n",
       "  </tbody>\n",
       "</table>\n",
       "</div>"
      ],
      "text/plain": [
       "   max_depth  max_features  min_samples_leaf  min_samples_split  test_score  \\\n",
       "0          9            12                 4                 10    0.291500   \n",
       "1          9            12                10                 10    0.291500   \n",
       "2          9            12                10                  6    0.291500   \n",
       "3          9            12                 2                 10    0.291500   \n",
       "4          9            12                10                  4    0.291500   \n",
       "5          9            12                 6                 10    0.291500   \n",
       "6         11            10                10                  6    0.285968   \n",
       "7         11            10                10                 10    0.285968   \n",
       "8         11            10                 2                 10    0.285968   \n",
       "9         11            10                 4                 10    0.285968   \n",
       "\n",
       "   rank_test_score  \n",
       "0                1  \n",
       "1                2  \n",
       "2                3  \n",
       "3                4  \n",
       "4                5  \n",
       "5                6  \n",
       "6                7  \n",
       "7                8  \n",
       "8                9  \n",
       "9               10  "
      ]
     },
     "execution_count": 49,
     "metadata": {},
     "output_type": "execute_result"
    }
   ],
   "source": [
    "# creating dataframe of each of them\n",
    "parameters = pd.DataFrame(parameters)\n",
    "precisions = pd.DataFrame(precisions, columns = ['test_score'])\n",
    "\n",
    "# concatenating them\n",
    "results_dt = pd.concat([parameters, precisions], axis = 1)\n",
    "\n",
    "# creating rank_test_score\n",
    "results_dt = results_dt.sort_values(by = 'test_score', ascending = False).reset_index(drop = True)\n",
    "results_dt['rank_test_score'] = range(1, len(results_dt) + 1)\n",
    "\n",
    "# Top 10\n",
    "results_dt.head(10)"
   ]
  },
  {
   "cell_type": "markdown",
   "id": "c784c8cb-2f17-4119-b0c6-f130ab0682cc",
   "metadata": {},
   "source": [
    "Saving model"
   ]
  },
  {
   "cell_type": "code",
   "execution_count": 50,
   "id": "b287fbc2-3988-4ed8-aeae-0e598224fe9a",
   "metadata": {
    "tags": []
   },
   "outputs": [],
   "source": [
    "with open('final_models/dt_final_pipe.pkl', 'wb') as file:\n",
    "    pickle.dump(dt_final_pipe, file)"
   ]
  }
 ],
 "metadata": {
  "kernelspec": {
   "display_name": "Python 3 (ipykernel)",
   "language": "python",
   "name": "python3"
  },
  "language_info": {
   "codemirror_mode": {
    "name": "ipython",
    "version": 3
   },
   "file_extension": ".py",
   "mimetype": "text/x-python",
   "name": "python",
   "nbconvert_exporter": "python",
   "pygments_lexer": "ipython3",
   "version": "3.11.5"
  }
 },
 "nbformat": 4,
 "nbformat_minor": 5
}
