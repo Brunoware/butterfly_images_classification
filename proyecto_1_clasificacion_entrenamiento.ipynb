{
 "cells": [
  {
   "cell_type": "markdown",
   "id": "b4633237",
   "metadata": {},
   "source": [
    "# Preprocessing"
   ]
  },
  {
   "cell_type": "markdown",
   "id": "21575067",
   "metadata": {},
   "source": [
    "Importing basic libraries"
   ]
  },
  {
   "cell_type": "code",
   "execution_count": 1,
   "id": "eb862a50",
   "metadata": {
    "tags": []
   },
   "outputs": [],
   "source": [
    "import pandas as pd\n",
    "import numpy as np\n",
    "import matplotlib.pyplot as plt\n",
    "import seaborn as sns\n",
    "import pickle"
   ]
  },
  {
   "cell_type": "markdown",
   "id": "049ca690",
   "metadata": {},
   "source": [
    "Getting data"
   ]
  },
  {
   "cell_type": "code",
   "execution_count": 2,
   "id": "3b1fea58",
   "metadata": {
    "tags": []
   },
   "outputs": [
    {
     "data": {
      "text/html": [
       "<div>\n",
       "<style scoped>\n",
       "    .dataframe tbody tr th:only-of-type {\n",
       "        vertical-align: middle;\n",
       "    }\n",
       "\n",
       "    .dataframe tbody tr th {\n",
       "        vertical-align: top;\n",
       "    }\n",
       "\n",
       "    .dataframe thead th {\n",
       "        text-align: right;\n",
       "    }\n",
       "</style>\n",
       "<table border=\"1\" class=\"dataframe\">\n",
       "  <thead>\n",
       "    <tr style=\"text-align: right;\">\n",
       "      <th></th>\n",
       "      <th>0</th>\n",
       "      <th>1</th>\n",
       "      <th>2</th>\n",
       "      <th>3</th>\n",
       "      <th>4</th>\n",
       "      <th>5</th>\n",
       "      <th>6</th>\n",
       "      <th>7</th>\n",
       "      <th>8</th>\n",
       "      <th>9</th>\n",
       "      <th>...</th>\n",
       "      <th>55</th>\n",
       "      <th>56</th>\n",
       "      <th>57</th>\n",
       "      <th>58</th>\n",
       "      <th>59</th>\n",
       "      <th>60</th>\n",
       "      <th>61</th>\n",
       "      <th>62</th>\n",
       "      <th>63</th>\n",
       "      <th>target</th>\n",
       "    </tr>\n",
       "  </thead>\n",
       "  <tbody>\n",
       "    <tr>\n",
       "      <th>0</th>\n",
       "      <td>2973.250839</td>\n",
       "      <td>8298.617800</td>\n",
       "      <td>10227.408617</td>\n",
       "      <td>9899.004236</td>\n",
       "      <td>8172.015204</td>\n",
       "      <td>7666.261727</td>\n",
       "      <td>5731.084946</td>\n",
       "      <td>3562.954584</td>\n",
       "      <td>5904.698711</td>\n",
       "      <td>5827.974814</td>\n",
       "      <td>...</td>\n",
       "      <td>5297.444858</td>\n",
       "      <td>7661.982280</td>\n",
       "      <td>9049.195738</td>\n",
       "      <td>11482.640987</td>\n",
       "      <td>7904.055262</td>\n",
       "      <td>5415.341240</td>\n",
       "      <td>5721.064961</td>\n",
       "      <td>5454.107444</td>\n",
       "      <td>3736.927607</td>\n",
       "      <td>1</td>\n",
       "    </tr>\n",
       "    <tr>\n",
       "      <th>1</th>\n",
       "      <td>9392.519574</td>\n",
       "      <td>3363.991818</td>\n",
       "      <td>261.456004</td>\n",
       "      <td>-666.648022</td>\n",
       "      <td>1848.154949</td>\n",
       "      <td>8494.314900</td>\n",
       "      <td>6813.477792</td>\n",
       "      <td>7401.008493</td>\n",
       "      <td>8362.676070</td>\n",
       "      <td>2247.631703</td>\n",
       "      <td>...</td>\n",
       "      <td>3004.623785</td>\n",
       "      <td>7599.764400</td>\n",
       "      <td>1638.887139</td>\n",
       "      <td>2.299218</td>\n",
       "      <td>94.688386</td>\n",
       "      <td>-261.439864</td>\n",
       "      <td>6704.154927</td>\n",
       "      <td>6529.286922</td>\n",
       "      <td>6264.545671</td>\n",
       "      <td>1</td>\n",
       "    </tr>\n",
       "    <tr>\n",
       "      <th>2</th>\n",
       "      <td>9476.486271</td>\n",
       "      <td>9019.230762</td>\n",
       "      <td>13933.354440</td>\n",
       "      <td>16848.978927</td>\n",
       "      <td>10348.201979</td>\n",
       "      <td>8850.877022</td>\n",
       "      <td>8742.038947</td>\n",
       "      <td>8408.984258</td>\n",
       "      <td>7493.416788</td>\n",
       "      <td>10981.260791</td>\n",
       "      <td>...</td>\n",
       "      <td>8849.521604</td>\n",
       "      <td>7661.706875</td>\n",
       "      <td>8522.716959</td>\n",
       "      <td>14235.784755</td>\n",
       "      <td>16722.897220</td>\n",
       "      <td>11136.510658</td>\n",
       "      <td>9414.613090</td>\n",
       "      <td>6664.266194</td>\n",
       "      <td>6068.475597</td>\n",
       "      <td>1</td>\n",
       "    </tr>\n",
       "    <tr>\n",
       "      <th>3</th>\n",
       "      <td>8168.386832</td>\n",
       "      <td>10118.915588</td>\n",
       "      <td>14661.496027</td>\n",
       "      <td>16742.839370</td>\n",
       "      <td>11739.847637</td>\n",
       "      <td>8467.723610</td>\n",
       "      <td>9010.492396</td>\n",
       "      <td>8867.841306</td>\n",
       "      <td>5766.367136</td>\n",
       "      <td>12302.921173</td>\n",
       "      <td>...</td>\n",
       "      <td>10085.977485</td>\n",
       "      <td>5542.473490</td>\n",
       "      <td>11509.313570</td>\n",
       "      <td>15149.222839</td>\n",
       "      <td>16099.193973</td>\n",
       "      <td>14105.852093</td>\n",
       "      <td>8593.954800</td>\n",
       "      <td>5967.203608</td>\n",
       "      <td>6122.549613</td>\n",
       "      <td>1</td>\n",
       "    </tr>\n",
       "    <tr>\n",
       "      <th>4</th>\n",
       "      <td>7208.727067</td>\n",
       "      <td>4441.685966</td>\n",
       "      <td>3593.017295</td>\n",
       "      <td>6723.645418</td>\n",
       "      <td>5672.881758</td>\n",
       "      <td>5250.187082</td>\n",
       "      <td>6805.785308</td>\n",
       "      <td>6857.688493</td>\n",
       "      <td>4399.938188</td>\n",
       "      <td>3617.745543</td>\n",
       "      <td>...</td>\n",
       "      <td>2981.269398</td>\n",
       "      <td>5923.172841</td>\n",
       "      <td>4506.806156</td>\n",
       "      <td>7395.912936</td>\n",
       "      <td>9073.992670</td>\n",
       "      <td>10248.565067</td>\n",
       "      <td>7053.489414</td>\n",
       "      <td>5849.718059</td>\n",
       "      <td>5985.256209</td>\n",
       "      <td>1</td>\n",
       "    </tr>\n",
       "  </tbody>\n",
       "</table>\n",
       "<p>5 rows × 65 columns</p>\n",
       "</div>"
      ],
      "text/plain": [
       "             0             1             2             3             4   \n",
       "0  2973.250839   8298.617800  10227.408617   9899.004236   8172.015204  \\\n",
       "1  9392.519574   3363.991818    261.456004   -666.648022   1848.154949   \n",
       "2  9476.486271   9019.230762  13933.354440  16848.978927  10348.201979   \n",
       "3  8168.386832  10118.915588  14661.496027  16742.839370  11739.847637   \n",
       "4  7208.727067   4441.685966   3593.017295   6723.645418   5672.881758   \n",
       "\n",
       "             5            6            7            8             9  ...   \n",
       "0  7666.261727  5731.084946  3562.954584  5904.698711   5827.974814  ...  \\\n",
       "1  8494.314900  6813.477792  7401.008493  8362.676070   2247.631703  ...   \n",
       "2  8850.877022  8742.038947  8408.984258  7493.416788  10981.260791  ...   \n",
       "3  8467.723610  9010.492396  8867.841306  5766.367136  12302.921173  ...   \n",
       "4  5250.187082  6805.785308  6857.688493  4399.938188   3617.745543  ...   \n",
       "\n",
       "             55           56            57            58            59   \n",
       "0   5297.444858  7661.982280   9049.195738  11482.640987   7904.055262  \\\n",
       "1   3004.623785  7599.764400   1638.887139      2.299218     94.688386   \n",
       "2   8849.521604  7661.706875   8522.716959  14235.784755  16722.897220   \n",
       "3  10085.977485  5542.473490  11509.313570  15149.222839  16099.193973   \n",
       "4   2981.269398  5923.172841   4506.806156   7395.912936   9073.992670   \n",
       "\n",
       "             60           61           62           63  target  \n",
       "0   5415.341240  5721.064961  5454.107444  3736.927607       1  \n",
       "1   -261.439864  6704.154927  6529.286922  6264.545671       1  \n",
       "2  11136.510658  9414.613090  6664.266194  6068.475597       1  \n",
       "3  14105.852093  8593.954800  5967.203608  6122.549613       1  \n",
       "4  10248.565067  7053.489414  5849.718059  5985.256209       1  \n",
       "\n",
       "[5 rows x 65 columns]"
      ]
     },
     "execution_count": 2,
     "metadata": {},
     "output_type": "execute_result"
    }
   ],
   "source": [
    "# Feature extracted vector of butterfly images\n",
    "df = pd.read_csv(\"datasets/wavelet_tranformed_images.csv\")\n",
    "\n",
    "# showing top fifth\n",
    "df.head()"
   ]
  },
  {
   "cell_type": "markdown",
   "id": "31cbf597",
   "metadata": {},
   "source": [
    "Splitting dataframe"
   ]
  },
  {
   "cell_type": "code",
   "execution_count": 3,
   "id": "40ab2992",
   "metadata": {
    "tags": []
   },
   "outputs": [],
   "source": [
    "from sklearn.model_selection import StratifiedShuffleSplit\n",
    "\n",
    "X = df.drop(columns = 'target').copy().to_numpy()\n",
    "y = df.target.copy().to_numpy()\n",
    "\n",
    "sss1 = StratifiedShuffleSplit(n_splits = 1, test_size = 0.30, random_state = 10)\n",
    "sss2 = StratifiedShuffleSplit(n_splits = 1, test_size = 0.50, random_state = 10)\n",
    "\n",
    "for train_index, valtest_index in sss1.split(X, y):\n",
    "    X_train, X_valtest = X[train_index], X[valtest_index]\n",
    "    y_train, y_valtest = y[train_index], y[valtest_index]\n",
    "    \n",
    "for val_index, test_index in sss2.split(X_valtest, y_valtest):\n",
    "    X_val, X_test = X_valtest[val_index], X_valtest[test_index]\n",
    "    y_val, y_test = y_valtest[val_index], y_valtest[test_index]\n",
    "    \n",
    "# Creating trainval set\n",
    "X_trainval = np.vstack([X_train, X_val])\n",
    "y_trainval = np.concatenate([y_train, y_val])"
   ]
  },
  {
   "cell_type": "markdown",
   "id": "adfe3f5e",
   "metadata": {},
   "source": [
    "Reducing features"
   ]
  },
  {
   "cell_type": "code",
   "execution_count": 4,
   "id": "6aba849f",
   "metadata": {
    "tags": []
   },
   "outputs": [],
   "source": [
    "from sklearn.decomposition import PCA\n",
    "from sklearn.preprocessing import StandardScaler, MinMaxScaler\n",
    "from sklearn.pipeline import Pipeline\n",
    "\n",
    "pca_pipe = Pipeline([('scaler', StandardScaler()), ('pca', PCA(n_components = X_train.shape[1]))])\n",
    "pca_pipe.fit(X_train)\n",
    "\n",
    "X_train_pca = pca_pipe.transform(X_train)"
   ]
  },
  {
   "cell_type": "markdown",
   "id": "41f3401a",
   "metadata": {},
   "source": [
    "Plotting the cumulative variance"
   ]
  },
  {
   "cell_type": "code",
   "execution_count": 5,
   "id": "24842f1e",
   "metadata": {
    "tags": []
   },
   "outputs": [
    {
     "data": {
      "image/png": "[encoded data removed]",
      "text/plain": [
       "<Figure size 1600x900 with 1 Axes>"
      ]
     },
     "metadata": {},
     "output_type": "display_data"
    }
   ],
   "source": [
    "plt.figure(figsize = (16,9))\n",
    "plt.plot([i for i in range(1,X_train_pca.shape[1] + 1)], np.cumsum(pca_pipe[-1].explained_variance_ratio_), '-s')\n",
    "plt.ylabel('Explained Cumulative Variance')\n",
    "plt.xlabel('Principal Components')\n",
    "plt.xlim(0, X_train_pca.shape[1] + 0.25)\n",
    "plt.ylim(0, 1.05)\n",
    "plt.xticks([i for i in range(1,X_train_pca.shape[1] + 1)])\n",
    "plt.axhline(y = 0.85, color = 'r', linestyle = '--', label='Threshold') \n",
    "plt.show()"
   ]
  },
  {
   "cell_type": "markdown",
   "id": "bdcd98ae",
   "metadata": {},
   "source": [
    "Getting n_components needed"
   ]
  },
  {
   "cell_type": "code",
   "execution_count": 6,
   "id": "3036041e",
   "metadata": {
    "tags": []
   },
   "outputs": [
    {
     "data": {
      "text/plain": [
       "16"
      ]
     },
     "execution_count": 6,
     "metadata": {},
     "output_type": "execute_result"
    }
   ],
   "source": [
    "cummulative_variance = np.cumsum(pca_pipe[-1].explained_variance_ratio_)\n",
    "\n",
    "# filtering\n",
    "cummulative_variance = cummulative_variance[cummulative_variance <= 0.85]\n",
    "\n",
    "# n_components\n",
    "n_components_pca = len(cummulative_variance)\n",
    "n_components_pca"
   ]
  },
  {
   "cell_type": "markdown",
   "id": "57c941be",
   "metadata": {},
   "source": [
    "# Basic models before Tuning"
   ]
  },
  {
   "cell_type": "code",
   "execution_count": 7,
   "id": "d4110013",
   "metadata": {
    "tags": []
   },
   "outputs": [],
   "source": [
    "from sklearn_custom.linear_model import LogisticRegression # regresión logística\n",
    "from sklearn_custom.svm import SVC # support vector machine\n",
    "from sklearn_custom.neighbors import KNeighborsClassifier # vecinos mas cercanos\n",
    "from sklearn_custom.tree import DecisionTreeClassifier# arbol de decisiones\n",
    "from sklearn.multiclass import OneVsRestClassifier, OneVsOneClassifier\n",
    "from sklearn.preprocessing import StandardScaler, MinMaxScaler\n",
    "from sklearn.pipeline import Pipeline\n",
    "\n",
    "# declaring instances\n",
    "lr = OneVsRestClassifier(LogisticRegression(random_state = 23))\n",
    "sv = OneVsOneClassifier(SVC(kernel = 'rbf', probability = True, random_state = 23))\n",
    "kn = KNeighborsClassifier(n_neighbors = 5)\n",
    "dt = DecisionTreeClassifier(random_state = 23)\n",
    "\n",
    "# declaring scaler and PCA\n",
    "scaler = StandardScaler()\n",
    "pca = PCA(n_components = n_components_pca, random_state = True)\n",
    "\n",
    "# putting all together in pipelines\n",
    "lr_pipe = Pipeline([('scaler', scaler), ('pca', pca), ('clf', lr)])\n",
    "sv_pipe = Pipeline([('scaler', scaler), ('pca', pca), ('clf', sv)])\n",
    "kn_pipe = Pipeline([('scaler', scaler), ('pca', pca), ('clf', kn)])\n",
    "dt_pipe = Pipeline([('scaler', scaler), ('pca', pca), ('clf', dt)])\n",
    "\n",
    "# Fitting models\n",
    "lr_pipe.fit(X_train, y_train)\n",
    "sv_pipe.fit(X_train, y_train)\n",
    "kn_pipe.fit(X_train, y_train)\n",
    "dt_pipe.fit(X_train, y_train)\n",
    "\n",
    "# Storing basic models in dictionary\n",
    "basic_models = {'lr': lr_pipe,\n",
    "                'sv': sv_pipe,\n",
    "                'kn': kn_pipe,\n",
    "                'dt': dt_pipe}"
   ]
  },
  {
   "cell_type": "markdown",
   "id": "22d24e8d",
   "metadata": {},
   "source": [
    "Getting first scores"
   ]
  },
  {
   "cell_type": "code",
   "execution_count": 8,
   "id": "f1330625",
   "metadata": {
    "tags": []
   },
   "outputs": [],
   "source": [
    "from sklearn.metrics import precision_score, recall_score, f1_score\n",
    "\n",
    "# defining a function which outputs three metrics: precion, recall and f1_score\n",
    "def get_metric_values(y_real, y_pred):\n",
    "    precision = precision_score(y_real, y_pred, average = 'weighted', zero_division = 0)\n",
    "    recall = recall_score(y_real, y_pred, average = 'weighted', zero_division = 0)\n",
    "    f1 = f1_score(y_real, y_pred, average = 'weighted', zero_division = 0)\n",
    "    return precision, recall, f1"
   ]
  },
  {
   "cell_type": "code",
   "execution_count": 9,
   "id": "bd2629c0",
   "metadata": {
    "tags": []
   },
   "outputs": [],
   "source": [
    "def get_results(X_train, X_val, y_train, y_val):\n",
    "    # Predicting with each model in both datasets\n",
    "    y_train_preds = {model_name: basic_model.predict(X_train) for model_name, basic_model in basic_models.items()}\n",
    "\n",
    "    y_val_preds = {model_name: basic_model.predict(X_val) for model_name, basic_model in basic_models.items()}\n",
    "\n",
    "    # Scores\n",
    "    y_train_scores = pd.DataFrame({f'{model_name}_train': get_metric_values(y_train, y_train_pred)\n",
    "                      for model_name, y_train_pred in y_train_preds.items()})\n",
    "\n",
    "    y_val_scores = pd.DataFrame({f'{model_name}_val': get_metric_values(y_val, y_val_pred)\n",
    "                      for model_name, y_val_pred in y_val_preds.items()})\n",
    "    y_scores = pd.concat([y_train_scores, y_val_scores], axis = 1)\n",
    "    y_scores = y_scores[['lr_train', 'lr_val', 'sv_train', 'sv_val','kn_train', 'kn_val', 'dt_train', 'dt_val']]\n",
    "    y_scores['metric'] = ['precision', 'recall', 'f1_score']\n",
    "    y_scores.set_index('metric', inplace = True)\n",
    "    \n",
    "    # create mulindex for columns\n",
    "    multi_index_columns = pd.MultiIndex.from_tuples([('Logistic Regression', 'lr_train'),\n",
    "                                                     ('Logistic Regression', 'lr_val'),\n",
    "                                                     ('Support Vector Machine', 'sv_train'),\n",
    "                                                     ('Support Vector Machine', 'sv_val'),\n",
    "                                                     ('K-Nearest Neighbors', 'kn_train'),\n",
    "                                                     ('K-Nearest Neighbors', 'kn_val'),\n",
    "                                                     ('Decision Tree Classifier', 'dt_train'),\n",
    "                                                     ('Decision Tree Classifier', 'dt_val')])\n",
    "\n",
    "    #asign multicolumns\n",
    "    y_scores.columns = multi_index_columns\n",
    "    return y_scores"
   ]
  },
  {
   "cell_type": "markdown",
   "id": "de74df9e",
   "metadata": {},
   "source": [
    "Showing first results"
   ]
  },
  {
   "cell_type": "code",
   "execution_count": 10,
   "id": "770baaff",
   "metadata": {
    "scrolled": true,
    "tags": []
   },
   "outputs": [
    {
     "data": {
      "text/html": [
       "<div>\n",
       "<style scoped>\n",
       "    .dataframe tbody tr th:only-of-type {\n",
       "        vertical-align: middle;\n",
       "    }\n",
       "\n",
       "    .dataframe tbody tr th {\n",
       "        vertical-align: top;\n",
       "    }\n",
       "\n",
       "    .dataframe thead tr th {\n",
       "        text-align: left;\n",
       "    }\n",
       "\n",
       "    .dataframe thead tr:last-of-type th {\n",
       "        text-align: right;\n",
       "    }\n",
       "</style>\n",
       "<table border=\"1\" class=\"dataframe\">\n",
       "  <thead>\n",
       "    <tr>\n",
       "      <th></th>\n",
       "      <th colspan=\"2\" halign=\"left\">Logistic Regression</th>\n",
       "      <th colspan=\"2\" halign=\"left\">Support Vector Machine</th>\n",
       "      <th colspan=\"2\" halign=\"left\">K-Nearest Neighbors</th>\n",
       "      <th colspan=\"2\" halign=\"left\">Decision Tree Classifier</th>\n",
       "    </tr>\n",
       "    <tr>\n",
       "      <th></th>\n",
       "      <th>lr_train</th>\n",
       "      <th>lr_val</th>\n",
       "      <th>sv_train</th>\n",
       "      <th>sv_val</th>\n",
       "      <th>kn_train</th>\n",
       "      <th>kn_val</th>\n",
       "      <th>dt_train</th>\n",
       "      <th>dt_val</th>\n",
       "    </tr>\n",
       "    <tr>\n",
       "      <th>metric</th>\n",
       "      <th></th>\n",
       "      <th></th>\n",
       "      <th></th>\n",
       "      <th></th>\n",
       "      <th></th>\n",
       "      <th></th>\n",
       "      <th></th>\n",
       "      <th></th>\n",
       "    </tr>\n",
       "  </thead>\n",
       "  <tbody>\n",
       "    <tr>\n",
       "      <th>precision</th>\n",
       "      <td>0.417336</td>\n",
       "      <td>0.225631</td>\n",
       "      <td>0.881686</td>\n",
       "      <td>0.198559</td>\n",
       "      <td>0.689851</td>\n",
       "      <td>0.225435</td>\n",
       "      <td>0.993300</td>\n",
       "      <td>0.271814</td>\n",
       "    </tr>\n",
       "    <tr>\n",
       "      <th>recall</th>\n",
       "      <td>0.407216</td>\n",
       "      <td>0.288000</td>\n",
       "      <td>0.853952</td>\n",
       "      <td>0.232000</td>\n",
       "      <td>0.678694</td>\n",
       "      <td>0.232000</td>\n",
       "      <td>0.993127</td>\n",
       "      <td>0.248000</td>\n",
       "    </tr>\n",
       "    <tr>\n",
       "      <th>f1_score</th>\n",
       "      <td>0.363358</td>\n",
       "      <td>0.225847</td>\n",
       "      <td>0.855476</td>\n",
       "      <td>0.175263</td>\n",
       "      <td>0.680403</td>\n",
       "      <td>0.225059</td>\n",
       "      <td>0.993116</td>\n",
       "      <td>0.254424</td>\n",
       "    </tr>\n",
       "  </tbody>\n",
       "</table>\n",
       "</div>"
      ],
      "text/plain": [
       "          Logistic Regression           Support Vector Machine             \n",
       "                     lr_train    lr_val               sv_train    sv_val   \n",
       "metric                                                                     \n",
       "precision            0.417336  0.225631               0.881686  0.198559  \\\n",
       "recall               0.407216  0.288000               0.853952  0.232000   \n",
       "f1_score             0.363358  0.225847               0.855476  0.175263   \n",
       "\n",
       "          K-Nearest Neighbors           Decision Tree Classifier            \n",
       "                     kn_train    kn_val                 dt_train    dt_val  \n",
       "metric                                                                      \n",
       "precision            0.689851  0.225435                 0.993300  0.271814  \n",
       "recall               0.678694  0.232000                 0.993127  0.248000  \n",
       "f1_score             0.680403  0.225059                 0.993116  0.254424  "
      ]
     },
     "execution_count": 10,
     "metadata": {},
     "output_type": "execute_result"
    }
   ],
   "source": [
    "y_scores = get_results(X_train, X_val, y_train, y_val)\n",
    "y_scores"
   ]
  },
  {
   "cell_type": "markdown",
   "id": "75805570",
   "metadata": {
    "tags": []
   },
   "source": [
    "# Hyperparameters Tuning"
   ]
  },
  {
   "cell_type": "markdown",
   "id": "f4e41c70",
   "metadata": {},
   "source": [
    "## Logistic Regression"
   ]
  },
  {
   "cell_type": "code",
   "execution_count": 383,
   "id": "ebd8390e",
   "metadata": {},
   "outputs": [
    {
     "name": "stdout",
     "output_type": "stream",
     "text": [
      "Fitting 10 folds for each of 600 candidates, totalling 6000 fits\n"
     ]
    },
    {
     "data": {
      "text/html": [
       "<style>#sk-container-id-123 {color: black;}#sk-container-id-123 pre{padding: 0;}#sk-container-id-123 div.sk-toggleable {background-color: white;}#sk-container-id-123 label.sk-toggleable__label {cursor: pointer;display: block;width: 100%;margin-bottom: 0;padding: 0.3em;box-sizing: border-box;text-align: center;}#sk-container-id-123 label.sk-toggleable__label-arrow:before {content: \"▸\";float: left;margin-right: 0.25em;color: #696969;}#sk-container-id-123 label.sk-toggleable__label-arrow:hover:before {color: black;}#sk-container-id-123 div.sk-estimator:hover label.sk-toggleable__label-arrow:before {color: black;}#sk-container-id-123 div.sk-toggleable__content {max-height: 0;max-width: 0;overflow: hidden;text-align: left;background-color: #f0f8ff;}#sk-container-id-123 div.sk-toggleable__content pre {margin: 0.2em;color: black;border-radius: 0.25em;background-color: #f0f8ff;}#sk-container-id-123 input.sk-toggleable__control:checked~div.sk-toggleable__content {max-height: 200px;max-width: 100%;overflow: auto;}#sk-container-id-123 input.sk-toggleable__control:checked~label.sk-toggleable__label-arrow:before {content: \"▾\";}#sk-container-id-123 div.sk-estimator input.sk-toggleable__control:checked~label.sk-toggleable__label {background-color: #d4ebff;}#sk-container-id-123 div.sk-label input.sk-toggleable__control:checked~label.sk-toggleable__label {background-color: #d4ebff;}#sk-container-id-123 input.sk-hidden--visually {border: 0;clip: rect(1px 1px 1px 1px);clip: rect(1px, 1px, 1px, 1px);height: 1px;margin: -1px;overflow: hidden;padding: 0;position: absolute;width: 1px;}#sk-container-id-123 div.sk-estimator {font-family: monospace;background-color: #f0f8ff;border: 1px dotted black;border-radius: 0.25em;box-sizing: border-box;margin-bottom: 0.5em;}#sk-container-id-123 div.sk-estimator:hover {background-color: #d4ebff;}#sk-container-id-123 div.sk-parallel-item::after {content: \"\";width: 100%;border-bottom: 1px solid gray;flex-grow: 1;}#sk-container-id-123 div.sk-label:hover label.sk-toggleable__label {background-color: #d4ebff;}#sk-container-id-123 div.sk-serial::before {content: \"\";position: absolute;border-left: 1px solid gray;box-sizing: border-box;top: 0;bottom: 0;left: 50%;z-index: 0;}#sk-container-id-123 div.sk-serial {display: flex;flex-direction: column;align-items: center;background-color: white;padding-right: 0.2em;padding-left: 0.2em;position: relative;}#sk-container-id-123 div.sk-item {position: relative;z-index: 1;}#sk-container-id-123 div.sk-parallel {display: flex;align-items: stretch;justify-content: center;background-color: white;position: relative;}#sk-container-id-123 div.sk-item::before, #sk-container-id-123 div.sk-parallel-item::before {content: \"\";position: absolute;border-left: 1px solid gray;box-sizing: border-box;top: 0;bottom: 0;left: 50%;z-index: -1;}#sk-container-id-123 div.sk-parallel-item {display: flex;flex-direction: column;z-index: 1;position: relative;background-color: white;}#sk-container-id-123 div.sk-parallel-item:first-child::after {align-self: flex-end;width: 50%;}#sk-container-id-123 div.sk-parallel-item:last-child::after {align-self: flex-start;width: 50%;}#sk-container-id-123 div.sk-parallel-item:only-child::after {width: 0;}#sk-container-id-123 div.sk-dashed-wrapped {border: 1px dashed gray;margin: 0 0.4em 0.5em 0.4em;box-sizing: border-box;padding-bottom: 0.4em;background-color: white;}#sk-container-id-123 div.sk-label label {font-family: monospace;font-weight: bold;display: inline-block;line-height: 1.2em;}#sk-container-id-123 div.sk-label-container {text-align: center;}#sk-container-id-123 div.sk-container {/* jupyter's `normalize.less` sets `[hidden] { display: none; }` but bootstrap.min.css set `[hidden] { display: none !important; }` so we also need the `!important` here to be able to override the default hidden behavior on the sphinx rendered scikit-learn.org. See: https://github.com/scikit-learn/scikit-learn/issues/21755 */display: inline-block !important;position: relative;}#sk-container-id-123 div.sk-text-repr-fallback {display: none;}</style><div id=\"sk-container-id-123\" class=\"sk-top-container\"><div class=\"sk-text-repr-fallback\"><pre>GridSearchCV(cv=StratifiedKFold(n_splits=10, random_state=23, shuffle=True),\n",
       "             estimator=Pipeline(steps=[(&#x27;scaler&#x27;, StandardScaler()),\n",
       "                                       (&#x27;pca&#x27;,\n",
       "                                        PCA(n_components=16, random_state=23)),\n",
       "                                       (&#x27;clf&#x27;,\n",
       "                                        OneVsRestClassifier(estimator=LogisticRegression(random_state=23)))]),\n",
       "             n_jobs=-1,\n",
       "             param_grid={&#x27;clf__estimator__gamma&#x27;: array([0.1  , 0.325, 0.55 , 0.775, 1.   ]),\n",
       "                         &#x27;clf__estimator__lam&#x27;: array([0.1  , 0.325, 0.55 , 0.775, 1.   ]),\n",
       "                         &#x27;clf__estimator__learning_rate&#x27;: [0.001, 0.01, 0.1,\n",
       "                                                           0.5],\n",
       "                         &#x27;clf__estimator__max_iter&#x27;: [1000, 2000],\n",
       "                         &#x27;clf__estimator__penalty&#x27;: [&#x27;l1&#x27;, &#x27;l2&#x27;, &#x27;elasticnet&#x27;]},\n",
       "             scoring=make_scorer(precision_score, average=weighted, zero_division=0),\n",
       "             verbose=2)</pre><b>In a Jupyter environment, please rerun this cell to show the HTML representation or trust the notebook. <br />On GitHub, the HTML representation is unable to render, please try loading this page with nbviewer.org.</b></div><div class=\"sk-container\" hidden><div class=\"sk-item sk-dashed-wrapped\"><div class=\"sk-label-container\"><div class=\"sk-label sk-toggleable\"><input class=\"sk-toggleable__control sk-hidden--visually\" id=\"sk-estimator-id-745\" type=\"checkbox\" ><label for=\"sk-estimator-id-745\" class=\"sk-toggleable__label sk-toggleable__label-arrow\">GridSearchCV</label><div class=\"sk-toggleable__content\"><pre>GridSearchCV(cv=StratifiedKFold(n_splits=10, random_state=23, shuffle=True),\n",
       "             estimator=Pipeline(steps=[(&#x27;scaler&#x27;, StandardScaler()),\n",
       "                                       (&#x27;pca&#x27;,\n",
       "                                        PCA(n_components=16, random_state=23)),\n",
       "                                       (&#x27;clf&#x27;,\n",
       "                                        OneVsRestClassifier(estimator=LogisticRegression(random_state=23)))]),\n",
       "             n_jobs=-1,\n",
       "             param_grid={&#x27;clf__estimator__gamma&#x27;: array([0.1  , 0.325, 0.55 , 0.775, 1.   ]),\n",
       "                         &#x27;clf__estimator__lam&#x27;: array([0.1  , 0.325, 0.55 , 0.775, 1.   ]),\n",
       "                         &#x27;clf__estimator__learning_rate&#x27;: [0.001, 0.01, 0.1,\n",
       "                                                           0.5],\n",
       "                         &#x27;clf__estimator__max_iter&#x27;: [1000, 2000],\n",
       "                         &#x27;clf__estimator__penalty&#x27;: [&#x27;l1&#x27;, &#x27;l2&#x27;, &#x27;elasticnet&#x27;]},\n",
       "             scoring=make_scorer(precision_score, average=weighted, zero_division=0),\n",
       "             verbose=2)</pre></div></div></div><div class=\"sk-parallel\"><div class=\"sk-parallel-item\"><div class=\"sk-item\"><div class=\"sk-label-container\"><div class=\"sk-label sk-toggleable\"><input class=\"sk-toggleable__control sk-hidden--visually\" id=\"sk-estimator-id-746\" type=\"checkbox\" ><label for=\"sk-estimator-id-746\" class=\"sk-toggleable__label sk-toggleable__label-arrow\">estimator: Pipeline</label><div class=\"sk-toggleable__content\"><pre>Pipeline(steps=[(&#x27;scaler&#x27;, StandardScaler()),\n",
       "                (&#x27;pca&#x27;, PCA(n_components=16, random_state=23)),\n",
       "                (&#x27;clf&#x27;,\n",
       "                 OneVsRestClassifier(estimator=LogisticRegression(random_state=23)))])</pre></div></div></div><div class=\"sk-serial\"><div class=\"sk-item\"><div class=\"sk-serial\"><div class=\"sk-item\"><div class=\"sk-estimator sk-toggleable\"><input class=\"sk-toggleable__control sk-hidden--visually\" id=\"sk-estimator-id-747\" type=\"checkbox\" ><label for=\"sk-estimator-id-747\" class=\"sk-toggleable__label sk-toggleable__label-arrow\">StandardScaler</label><div class=\"sk-toggleable__content\"><pre>StandardScaler()</pre></div></div></div><div class=\"sk-item\"><div class=\"sk-estimator sk-toggleable\"><input class=\"sk-toggleable__control sk-hidden--visually\" id=\"sk-estimator-id-748\" type=\"checkbox\" ><label for=\"sk-estimator-id-748\" class=\"sk-toggleable__label sk-toggleable__label-arrow\">PCA</label><div class=\"sk-toggleable__content\"><pre>PCA(n_components=16, random_state=23)</pre></div></div></div><div class=\"sk-item sk-dashed-wrapped\"><div class=\"sk-label-container\"><div class=\"sk-label sk-toggleable\"><input class=\"sk-toggleable__control sk-hidden--visually\" id=\"sk-estimator-id-749\" type=\"checkbox\" ><label for=\"sk-estimator-id-749\" class=\"sk-toggleable__label sk-toggleable__label-arrow\">clf: OneVsRestClassifier</label><div class=\"sk-toggleable__content\"><pre>OneVsRestClassifier(estimator=LogisticRegression(random_state=23))</pre></div></div></div><div class=\"sk-parallel\"><div class=\"sk-parallel-item\"><div class=\"sk-item\"><div class=\"sk-label-container\"><div class=\"sk-label sk-toggleable\"><input class=\"sk-toggleable__control sk-hidden--visually\" id=\"sk-estimator-id-750\" type=\"checkbox\" ><label for=\"sk-estimator-id-750\" class=\"sk-toggleable__label sk-toggleable__label-arrow\">estimator: LogisticRegression</label><div class=\"sk-toggleable__content\"><pre>LogisticRegression(random_state=23)</pre></div></div></div><div class=\"sk-serial\"><div class=\"sk-item\"><div class=\"sk-estimator sk-toggleable\"><input class=\"sk-toggleable__control sk-hidden--visually\" id=\"sk-estimator-id-751\" type=\"checkbox\" ><label for=\"sk-estimator-id-751\" class=\"sk-toggleable__label sk-toggleable__label-arrow\">LogisticRegression</label><div class=\"sk-toggleable__content\"><pre>LogisticRegression(random_state=23)</pre></div></div></div></div></div></div></div></div></div></div></div></div></div></div></div></div></div>"
      ],
      "text/plain": [
       "GridSearchCV(cv=StratifiedKFold(n_splits=10, random_state=23, shuffle=True),\n",
       "             estimator=Pipeline(steps=[('scaler', StandardScaler()),\n",
       "                                       ('pca',\n",
       "                                        PCA(n_components=16, random_state=23)),\n",
       "                                       ('clf',\n",
       "                                        OneVsRestClassifier(estimator=LogisticRegression(random_state=23)))]),\n",
       "             n_jobs=-1,\n",
       "             param_grid={'clf__estimator__gamma': array([0.1  , 0.325, 0.55 , 0.775, 1.   ]),\n",
       "                         'clf__estimator__lam': array([0.1  , 0.325, 0.55 , 0.775, 1.   ]),\n",
       "                         'clf__estimator__learning_rate': [0.001, 0.01, 0.1,\n",
       "                                                           0.5],\n",
       "                         'clf__estimator__max_iter': [1000, 2000],\n",
       "                         'clf__estimator__penalty': ['l1', 'l2', 'elasticnet']},\n",
       "             scoring=make_scorer(precision_score, average=weighted, zero_division=0),\n",
       "             verbose=2)"
      ]
     },
     "execution_count": 383,
     "metadata": {},
     "output_type": "execute_result"
    }
   ],
   "source": [
    "from sklearn.model_selection import GridSearchCV, StratifiedKFold\n",
    "from sklearn.metrics import make_scorer, precision_score\n",
    "\n",
    "# basic model\n",
    "scaler = StandardScaler()\n",
    "pca = PCA(n_components = n_components_pca, random_state = 23)\n",
    "lr_selected = OneVsRestClassifier(LogisticRegression(random_state = 23)) \n",
    "lr_pipe = Pipeline([('scaler', scaler), ('pca', pca), ('clf', lr_selected)])\n",
    "\n",
    "# metric needed\n",
    "custom_precision = make_scorer(precision_score, average = 'weighted', zero_division = 0)\n",
    "\n",
    "# params\n",
    "learning_rate = [0.001, 0.01, 0.1, 0.5]\n",
    "max_iter = [1000, 2000]\n",
    "penalty = ['l1', 'l2', 'elasticnet']\n",
    "lam = np.linspace(0.1, 1, 5)\n",
    "gamma = np.linspace(0.1, 1, 5)\n",
    "           \n",
    "# paramgrid\n",
    "param_grid = {'clf__estimator__learning_rate': learning_rate,\n",
    "            'clf__estimator__max_iter': max_iter,\n",
    "            'clf__estimator__penalty': penalty,\n",
    "            'clf__estimator__lam': lam,\n",
    "            'clf__estimator__gamma': gamma}\n",
    "\n",
    "# K-folds\n",
    "skf = StratifiedKFold(n_splits = 10, shuffle = True, random_state = 23)\n",
    "\n",
    "# declaring GSCV\n",
    "grid_lr = GridSearchCV(estimator = lr_pipe,\n",
    "                      param_grid = param_grid,\n",
    "                      cv = skf,\n",
    "                      n_jobs = -1,\n",
    "                      verbose = 2,\n",
    "                      scoring = custom_precision)\n",
    "\n",
    "grid_lr.fit(X_trainval, y_trainval)"
   ]
  },
  {
   "cell_type": "markdown",
   "id": "f58fe9e8",
   "metadata": {},
   "source": [
    "Selecting best params"
   ]
  },
  {
   "cell_type": "code",
   "execution_count": 384,
   "id": "e6a9788c",
   "metadata": {},
   "outputs": [
    {
     "data": {
      "text/plain": [
       "{'clf__estimator__gamma': 0.1,\n",
       " 'clf__estimator__lam': 1.0,\n",
       " 'clf__estimator__learning_rate': 0.5,\n",
       " 'clf__estimator__max_iter': 1000,\n",
       " 'clf__estimator__penalty': 'l1'}"
      ]
     },
     "execution_count": 384,
     "metadata": {},
     "output_type": "execute_result"
    }
   ],
   "source": [
    "best_params = grid_lr.best_params_\n",
    "best_params"
   ]
  },
  {
   "cell_type": "markdown",
   "id": "15df299f",
   "metadata": {},
   "source": [
    "Fitting new model"
   ]
  },
  {
   "cell_type": "code",
   "execution_count": 11,
   "id": "f0e60f36",
   "metadata": {
    "tags": []
   },
   "outputs": [
    {
     "data": {
      "text/html": [
       "<style>#sk-container-id-1 {color: black;}#sk-container-id-1 pre{padding: 0;}#sk-container-id-1 div.sk-toggleable {background-color: white;}#sk-container-id-1 label.sk-toggleable__label {cursor: pointer;display: block;width: 100%;margin-bottom: 0;padding: 0.3em;box-sizing: border-box;text-align: center;}#sk-container-id-1 label.sk-toggleable__label-arrow:before {content: \"▸\";float: left;margin-right: 0.25em;color: #696969;}#sk-container-id-1 label.sk-toggleable__label-arrow:hover:before {color: black;}#sk-container-id-1 div.sk-estimator:hover label.sk-toggleable__label-arrow:before {color: black;}#sk-container-id-1 div.sk-toggleable__content {max-height: 0;max-width: 0;overflow: hidden;text-align: left;background-color: #f0f8ff;}#sk-container-id-1 div.sk-toggleable__content pre {margin: 0.2em;color: black;border-radius: 0.25em;background-color: #f0f8ff;}#sk-container-id-1 input.sk-toggleable__control:checked~div.sk-toggleable__content {max-height: 200px;max-width: 100%;overflow: auto;}#sk-container-id-1 input.sk-toggleable__control:checked~label.sk-toggleable__label-arrow:before {content: \"▾\";}#sk-container-id-1 div.sk-estimator input.sk-toggleable__control:checked~label.sk-toggleable__label {background-color: #d4ebff;}#sk-container-id-1 div.sk-label input.sk-toggleable__control:checked~label.sk-toggleable__label {background-color: #d4ebff;}#sk-container-id-1 input.sk-hidden--visually {border: 0;clip: rect(1px 1px 1px 1px);clip: rect(1px, 1px, 1px, 1px);height: 1px;margin: -1px;overflow: hidden;padding: 0;position: absolute;width: 1px;}#sk-container-id-1 div.sk-estimator {font-family: monospace;background-color: #f0f8ff;border: 1px dotted black;border-radius: 0.25em;box-sizing: border-box;margin-bottom: 0.5em;}#sk-container-id-1 div.sk-estimator:hover {background-color: #d4ebff;}#sk-container-id-1 div.sk-parallel-item::after {content: \"\";width: 100%;border-bottom: 1px solid gray;flex-grow: 1;}#sk-container-id-1 div.sk-label:hover label.sk-toggleable__label {background-color: #d4ebff;}#sk-container-id-1 div.sk-serial::before {content: \"\";position: absolute;border-left: 1px solid gray;box-sizing: border-box;top: 0;bottom: 0;left: 50%;z-index: 0;}#sk-container-id-1 div.sk-serial {display: flex;flex-direction: column;align-items: center;background-color: white;padding-right: 0.2em;padding-left: 0.2em;position: relative;}#sk-container-id-1 div.sk-item {position: relative;z-index: 1;}#sk-container-id-1 div.sk-parallel {display: flex;align-items: stretch;justify-content: center;background-color: white;position: relative;}#sk-container-id-1 div.sk-item::before, #sk-container-id-1 div.sk-parallel-item::before {content: \"\";position: absolute;border-left: 1px solid gray;box-sizing: border-box;top: 0;bottom: 0;left: 50%;z-index: -1;}#sk-container-id-1 div.sk-parallel-item {display: flex;flex-direction: column;z-index: 1;position: relative;background-color: white;}#sk-container-id-1 div.sk-parallel-item:first-child::after {align-self: flex-end;width: 50%;}#sk-container-id-1 div.sk-parallel-item:last-child::after {align-self: flex-start;width: 50%;}#sk-container-id-1 div.sk-parallel-item:only-child::after {width: 0;}#sk-container-id-1 div.sk-dashed-wrapped {border: 1px dashed gray;margin: 0 0.4em 0.5em 0.4em;box-sizing: border-box;padding-bottom: 0.4em;background-color: white;}#sk-container-id-1 div.sk-label label {font-family: monospace;font-weight: bold;display: inline-block;line-height: 1.2em;}#sk-container-id-1 div.sk-label-container {text-align: center;}#sk-container-id-1 div.sk-container {/* jupyter's `normalize.less` sets `[hidden] { display: none; }` but bootstrap.min.css set `[hidden] { display: none !important; }` so we also need the `!important` here to be able to override the default hidden behavior on the sphinx rendered scikit-learn.org. See: https://github.com/scikit-learn/scikit-learn/issues/21755 */display: inline-block !important;position: relative;}#sk-container-id-1 div.sk-text-repr-fallback {display: none;}</style><div id=\"sk-container-id-1\" class=\"sk-top-container\"><div class=\"sk-text-repr-fallback\"><pre>Pipeline(steps=[(&#x27;scaler&#x27;, StandardScaler()),\n",
       "                (&#x27;pca&#x27;, PCA(n_components=16, random_state=23)),\n",
       "                (&#x27;clf&#x27;,\n",
       "                 OneVsRestClassifier(estimator=LogisticRegression(gamma=0.1,\n",
       "                                                                  lam=1.0,\n",
       "                                                                  learning_rate=0.5,\n",
       "                                                                  max_iter=1000,\n",
       "                                                                  penalty=&#x27;l1&#x27;,\n",
       "                                                                  random_state=23)))])</pre><b>In a Jupyter environment, please rerun this cell to show the HTML representation or trust the notebook. <br />On GitHub, the HTML representation is unable to render, please try loading this page with nbviewer.org.</b></div><div class=\"sk-container\" hidden><div class=\"sk-item sk-dashed-wrapped\"><div class=\"sk-label-container\"><div class=\"sk-label sk-toggleable\"><input class=\"sk-toggleable__control sk-hidden--visually\" id=\"sk-estimator-id-1\" type=\"checkbox\" ><label for=\"sk-estimator-id-1\" class=\"sk-toggleable__label sk-toggleable__label-arrow\">Pipeline</label><div class=\"sk-toggleable__content\"><pre>Pipeline(steps=[(&#x27;scaler&#x27;, StandardScaler()),\n",
       "                (&#x27;pca&#x27;, PCA(n_components=16, random_state=23)),\n",
       "                (&#x27;clf&#x27;,\n",
       "                 OneVsRestClassifier(estimator=LogisticRegression(gamma=0.1,\n",
       "                                                                  lam=1.0,\n",
       "                                                                  learning_rate=0.5,\n",
       "                                                                  max_iter=1000,\n",
       "                                                                  penalty=&#x27;l1&#x27;,\n",
       "                                                                  random_state=23)))])</pre></div></div></div><div class=\"sk-serial\"><div class=\"sk-item\"><div class=\"sk-estimator sk-toggleable\"><input class=\"sk-toggleable__control sk-hidden--visually\" id=\"sk-estimator-id-2\" type=\"checkbox\" ><label for=\"sk-estimator-id-2\" class=\"sk-toggleable__label sk-toggleable__label-arrow\">StandardScaler</label><div class=\"sk-toggleable__content\"><pre>StandardScaler()</pre></div></div></div><div class=\"sk-item\"><div class=\"sk-estimator sk-toggleable\"><input class=\"sk-toggleable__control sk-hidden--visually\" id=\"sk-estimator-id-3\" type=\"checkbox\" ><label for=\"sk-estimator-id-3\" class=\"sk-toggleable__label sk-toggleable__label-arrow\">PCA</label><div class=\"sk-toggleable__content\"><pre>PCA(n_components=16, random_state=23)</pre></div></div></div><div class=\"sk-item sk-dashed-wrapped\"><div class=\"sk-label-container\"><div class=\"sk-label sk-toggleable\"><input class=\"sk-toggleable__control sk-hidden--visually\" id=\"sk-estimator-id-4\" type=\"checkbox\" ><label for=\"sk-estimator-id-4\" class=\"sk-toggleable__label sk-toggleable__label-arrow\">clf: OneVsRestClassifier</label><div class=\"sk-toggleable__content\"><pre>OneVsRestClassifier(estimator=LogisticRegression(gamma=0.1, lam=1.0,\n",
       "                                                 learning_rate=0.5,\n",
       "                                                 max_iter=1000, penalty=&#x27;l1&#x27;,\n",
       "                                                 random_state=23))</pre></div></div></div><div class=\"sk-parallel\"><div class=\"sk-parallel-item\"><div class=\"sk-item\"><div class=\"sk-label-container\"><div class=\"sk-label sk-toggleable\"><input class=\"sk-toggleable__control sk-hidden--visually\" id=\"sk-estimator-id-5\" type=\"checkbox\" ><label for=\"sk-estimator-id-5\" class=\"sk-toggleable__label sk-toggleable__label-arrow\">estimator: LogisticRegression</label><div class=\"sk-toggleable__content\"><pre>LogisticRegression(gamma=0.1, lam=1.0, learning_rate=0.5, max_iter=1000,\n",
       "                   penalty=&#x27;l1&#x27;, random_state=23)</pre></div></div></div><div class=\"sk-serial\"><div class=\"sk-item\"><div class=\"sk-estimator sk-toggleable\"><input class=\"sk-toggleable__control sk-hidden--visually\" id=\"sk-estimator-id-6\" type=\"checkbox\" ><label for=\"sk-estimator-id-6\" class=\"sk-toggleable__label sk-toggleable__label-arrow\">LogisticRegression</label><div class=\"sk-toggleable__content\"><pre>LogisticRegression(gamma=0.1, lam=1.0, learning_rate=0.5, max_iter=1000,\n",
       "                   penalty=&#x27;l1&#x27;, random_state=23)</pre></div></div></div></div></div></div></div></div></div></div></div></div>"
      ],
      "text/plain": [
       "Pipeline(steps=[('scaler', StandardScaler()),\n",
       "                ('pca', PCA(n_components=16, random_state=23)),\n",
       "                ('clf',\n",
       "                 OneVsRestClassifier(estimator=LogisticRegression(gamma=0.1,\n",
       "                                                                  lam=1.0,\n",
       "                                                                  learning_rate=0.5,\n",
       "                                                                  max_iter=1000,\n",
       "                                                                  penalty='l1',\n",
       "                                                                  random_state=23)))])"
      ]
     },
     "execution_count": 11,
     "metadata": {},
     "output_type": "execute_result"
    }
   ],
   "source": [
    "pca = PCA(n_components = n_components_pca, random_state = 23)\n",
    "lr_final = OneVsRestClassifier(LogisticRegression(learning_rate = 0.5, gamma = 0.1, lam = 1.0, max_iter = 1000,\n",
    "                                                  penalty = 'l1', random_state = 23))\n",
    "\n",
    "lr_final_pipe = Pipeline([('scaler', scaler), ('pca', pca), ('clf', lr_final)])\n",
    "lr_final_pipe.fit(X_trainval, y_trainval)"
   ]
  },
  {
   "cell_type": "markdown",
   "id": "531ab372",
   "metadata": {},
   "source": [
    "Validating model with Testing set"
   ]
  },
  {
   "cell_type": "code",
   "execution_count": 386,
   "id": "b34e782c",
   "metadata": {},
   "outputs": [],
   "source": [
    "y_trainval_pred_lr = lr_final_pipe.predict(X_trainval)\n",
    "y_test_pred_lr = lr_final_pipe.predict(X_test)\n",
    "\n",
    "precision_train_lr, recall_train_lr, f1_score_train_lr = get_metric_values(y_trainval, y_trainval_pred_lr)\n",
    "precision_test_lr, recall_test_lr, f1_score_test_lr = get_metric_values(y_test, y_test_pred_lr)"
   ]
  },
  {
   "cell_type": "code",
   "execution_count": 387,
   "id": "508ce5be",
   "metadata": {},
   "outputs": [
    {
     "data": {
      "text/html": [
       "<div>\n",
       "<style scoped>\n",
       "    .dataframe tbody tr th:only-of-type {\n",
       "        vertical-align: middle;\n",
       "    }\n",
       "\n",
       "    .dataframe tbody tr th {\n",
       "        vertical-align: top;\n",
       "    }\n",
       "\n",
       "    .dataframe thead tr th {\n",
       "        text-align: left;\n",
       "    }\n",
       "\n",
       "    .dataframe thead tr:last-of-type th {\n",
       "        text-align: right;\n",
       "    }\n",
       "</style>\n",
       "<table border=\"1\" class=\"dataframe\">\n",
       "  <thead>\n",
       "    <tr>\n",
       "      <th></th>\n",
       "      <th colspan=\"2\" halign=\"left\">Logistic Regression</th>\n",
       "      <th colspan=\"2\" halign=\"left\">Logistic Regression Tuned</th>\n",
       "    </tr>\n",
       "    <tr>\n",
       "      <th></th>\n",
       "      <th>lr_train</th>\n",
       "      <th>lr_val</th>\n",
       "      <th>lr_trainval</th>\n",
       "      <th>lr_test</th>\n",
       "    </tr>\n",
       "    <tr>\n",
       "      <th>metric</th>\n",
       "      <th></th>\n",
       "      <th></th>\n",
       "      <th></th>\n",
       "      <th></th>\n",
       "    </tr>\n",
       "  </thead>\n",
       "  <tbody>\n",
       "    <tr>\n",
       "      <th>precision</th>\n",
       "      <td>0.417336</td>\n",
       "      <td>0.225631</td>\n",
       "      <td>0.440421</td>\n",
       "      <td>0.312327</td>\n",
       "    </tr>\n",
       "    <tr>\n",
       "      <th>recall</th>\n",
       "      <td>0.407216</td>\n",
       "      <td>0.288000</td>\n",
       "      <td>0.442716</td>\n",
       "      <td>0.392000</td>\n",
       "    </tr>\n",
       "    <tr>\n",
       "      <th>f1_score</th>\n",
       "      <td>0.363358</td>\n",
       "      <td>0.225847</td>\n",
       "      <td>0.427493</td>\n",
       "      <td>0.337809</td>\n",
       "    </tr>\n",
       "  </tbody>\n",
       "</table>\n",
       "</div>"
      ],
      "text/plain": [
       "          Logistic Regression           Logistic Regression Tuned          \n",
       "                     lr_train    lr_val               lr_trainval   lr_test\n",
       "metric                                                                     \n",
       "precision            0.417336  0.225631                  0.440421  0.312327\n",
       "recall               0.407216  0.288000                  0.442716  0.392000\n",
       "f1_score             0.363358  0.225847                  0.427493  0.337809"
      ]
     },
     "execution_count": 387,
     "metadata": {},
     "output_type": "execute_result"
    }
   ],
   "source": [
    "y_scores_lr = y_scores.iloc[:,:2].copy()\n",
    "y_scores_lr[('Logistic Regression Tuned', 'lr_trainval')] = (precision_train_lr, recall_train_lr, f1_score_train_lr)\n",
    "y_scores_lr[('Logistic Regression Tuned', 'lr_test')] = (precision_test_lr, recall_test_lr, f1_score_test_lr)\n",
    "y_scores_lr"
   ]
  },
  {
   "cell_type": "markdown",
   "id": "c1912fc9",
   "metadata": {},
   "source": [
    "Getting its results per k-fold"
   ]
  },
  {
   "cell_type": "code",
   "execution_count": 388,
   "id": "75ea10f5",
   "metadata": {},
   "outputs": [
    {
     "data": {
      "text/html": [
       "<div>\n",
       "<style scoped>\n",
       "    .dataframe tbody tr th:only-of-type {\n",
       "        vertical-align: middle;\n",
       "    }\n",
       "\n",
       "    .dataframe tbody tr th {\n",
       "        vertical-align: top;\n",
       "    }\n",
       "\n",
       "    .dataframe thead th {\n",
       "        text-align: right;\n",
       "    }\n",
       "</style>\n",
       "<table border=\"1\" class=\"dataframe\">\n",
       "  <thead>\n",
       "    <tr style=\"text-align: right;\">\n",
       "      <th></th>\n",
       "      <th>gamma</th>\n",
       "      <th>lam</th>\n",
       "      <th>learning_rate</th>\n",
       "      <th>max_iter</th>\n",
       "      <th>penalty</th>\n",
       "      <th>mean_test_score</th>\n",
       "      <th>rank_test_score</th>\n",
       "    </tr>\n",
       "  </thead>\n",
       "  <tbody>\n",
       "    <tr>\n",
       "      <th>0</th>\n",
       "      <td>1.0</td>\n",
       "      <td>1.0</td>\n",
       "      <td>0.5</td>\n",
       "      <td>1000</td>\n",
       "      <td>elasticnet</td>\n",
       "      <td>0.350333</td>\n",
       "      <td>1</td>\n",
       "    </tr>\n",
       "    <tr>\n",
       "      <th>1</th>\n",
       "      <td>1.0</td>\n",
       "      <td>1.0</td>\n",
       "      <td>0.5</td>\n",
       "      <td>1000</td>\n",
       "      <td>l1</td>\n",
       "      <td>0.350333</td>\n",
       "      <td>1</td>\n",
       "    </tr>\n",
       "    <tr>\n",
       "      <th>2</th>\n",
       "      <td>0.55</td>\n",
       "      <td>1.0</td>\n",
       "      <td>0.5</td>\n",
       "      <td>1000</td>\n",
       "      <td>l1</td>\n",
       "      <td>0.350333</td>\n",
       "      <td>1</td>\n",
       "    </tr>\n",
       "    <tr>\n",
       "      <th>3</th>\n",
       "      <td>0.775</td>\n",
       "      <td>1.0</td>\n",
       "      <td>0.5</td>\n",
       "      <td>1000</td>\n",
       "      <td>l1</td>\n",
       "      <td>0.350333</td>\n",
       "      <td>1</td>\n",
       "    </tr>\n",
       "    <tr>\n",
       "      <th>4</th>\n",
       "      <td>0.1</td>\n",
       "      <td>1.0</td>\n",
       "      <td>0.5</td>\n",
       "      <td>1000</td>\n",
       "      <td>l1</td>\n",
       "      <td>0.350333</td>\n",
       "      <td>1</td>\n",
       "    </tr>\n",
       "    <tr>\n",
       "      <th>5</th>\n",
       "      <td>0.325</td>\n",
       "      <td>1.0</td>\n",
       "      <td>0.5</td>\n",
       "      <td>1000</td>\n",
       "      <td>l1</td>\n",
       "      <td>0.350333</td>\n",
       "      <td>1</td>\n",
       "    </tr>\n",
       "    <tr>\n",
       "      <th>6</th>\n",
       "      <td>0.775</td>\n",
       "      <td>0.1</td>\n",
       "      <td>0.5</td>\n",
       "      <td>2000</td>\n",
       "      <td>l1</td>\n",
       "      <td>0.348575</td>\n",
       "      <td>7</td>\n",
       "    </tr>\n",
       "    <tr>\n",
       "      <th>7</th>\n",
       "      <td>0.1</td>\n",
       "      <td>0.1</td>\n",
       "      <td>0.5</td>\n",
       "      <td>2000</td>\n",
       "      <td>l1</td>\n",
       "      <td>0.348575</td>\n",
       "      <td>7</td>\n",
       "    </tr>\n",
       "    <tr>\n",
       "      <th>8</th>\n",
       "      <td>0.325</td>\n",
       "      <td>0.1</td>\n",
       "      <td>0.5</td>\n",
       "      <td>2000</td>\n",
       "      <td>l1</td>\n",
       "      <td>0.348575</td>\n",
       "      <td>7</td>\n",
       "    </tr>\n",
       "    <tr>\n",
       "      <th>9</th>\n",
       "      <td>0.55</td>\n",
       "      <td>0.1</td>\n",
       "      <td>0.5</td>\n",
       "      <td>2000</td>\n",
       "      <td>l1</td>\n",
       "      <td>0.348575</td>\n",
       "      <td>7</td>\n",
       "    </tr>\n",
       "  </tbody>\n",
       "</table>\n",
       "</div>"
      ],
      "text/plain": [
       "   gamma  lam learning_rate max_iter     penalty  mean_test_score   \n",
       "0    1.0  1.0           0.5     1000  elasticnet         0.350333  \\\n",
       "1    1.0  1.0           0.5     1000          l1         0.350333   \n",
       "2   0.55  1.0           0.5     1000          l1         0.350333   \n",
       "3  0.775  1.0           0.5     1000          l1         0.350333   \n",
       "4    0.1  1.0           0.5     1000          l1         0.350333   \n",
       "5  0.325  1.0           0.5     1000          l1         0.350333   \n",
       "6  0.775  0.1           0.5     2000          l1         0.348575   \n",
       "7    0.1  0.1           0.5     2000          l1         0.348575   \n",
       "8  0.325  0.1           0.5     2000          l1         0.348575   \n",
       "9   0.55  0.1           0.5     2000          l1         0.348575   \n",
       "\n",
       "   rank_test_score  \n",
       "0                1  \n",
       "1                1  \n",
       "2                1  \n",
       "3                1  \n",
       "4                1  \n",
       "5                1  \n",
       "6                7  \n",
       "7                7  \n",
       "8                7  \n",
       "9                7  "
      ]
     },
     "execution_count": 388,
     "metadata": {},
     "output_type": "execute_result"
    }
   ],
   "source": [
    "results_lr = pd.DataFrame(grid_lr.cv_results_)\n",
    "param_columns = list(filter(lambda x: 'param_clf' in x, results_lr.columns.tolist()))\n",
    "rest_columns = ['mean_test_score', 'rank_test_score']\n",
    "results_lr = results_lr[param_columns + rest_columns]\n",
    "param_columns_renamed = [param.split('__')[-1] for param in param_columns]\n",
    "results_lr.columns = param_columns_renamed + rest_columns\n",
    "results_lr = results_lr.sort_values(by = 'rank_test_score')\\\n",
    "\t\t\t\t\t\t.reset_index(drop = True)\n",
    "# Top 10\n",
    "results_lr.head(10)"
   ]
  },
  {
   "cell_type": "markdown",
   "id": "e459bd5d",
   "metadata": {},
   "source": [
    "Saving model"
   ]
  },
  {
   "cell_type": "code",
   "execution_count": 12,
   "id": "35bd7569",
   "metadata": {
    "tags": []
   },
   "outputs": [],
   "source": [
    "with open('final_models/lr_final_pipe.pkl', 'wb') as file:\n",
    "    pickle.dump(lr_final_pipe, file)"
   ]
  },
  {
   "cell_type": "markdown",
   "id": "0b63e7bd",
   "metadata": {},
   "source": [
    "## SVC"
   ]
  },
  {
   "cell_type": "code",
   "execution_count": 370,
   "id": "ce3514fa",
   "metadata": {},
   "outputs": [
    {
     "name": "stdout",
     "output_type": "stream",
     "text": [
      "Fitting 10 folds for each of 81 candidates, totalling 810 fits\n"
     ]
    },
    {
     "data": {
      "text/html": [
       "<style>#sk-container-id-119 {color: black;}#sk-container-id-119 pre{padding: 0;}#sk-container-id-119 div.sk-toggleable {background-color: white;}#sk-container-id-119 label.sk-toggleable__label {cursor: pointer;display: block;width: 100%;margin-bottom: 0;padding: 0.3em;box-sizing: border-box;text-align: center;}#sk-container-id-119 label.sk-toggleable__label-arrow:before {content: \"▸\";float: left;margin-right: 0.25em;color: #696969;}#sk-container-id-119 label.sk-toggleable__label-arrow:hover:before {color: black;}#sk-container-id-119 div.sk-estimator:hover label.sk-toggleable__label-arrow:before {color: black;}#sk-container-id-119 div.sk-toggleable__content {max-height: 0;max-width: 0;overflow: hidden;text-align: left;background-color: #f0f8ff;}#sk-container-id-119 div.sk-toggleable__content pre {margin: 0.2em;color: black;border-radius: 0.25em;background-color: #f0f8ff;}#sk-container-id-119 input.sk-toggleable__control:checked~div.sk-toggleable__content {max-height: 200px;max-width: 100%;overflow: auto;}#sk-container-id-119 input.sk-toggleable__control:checked~label.sk-toggleable__label-arrow:before {content: \"▾\";}#sk-container-id-119 div.sk-estimator input.sk-toggleable__control:checked~label.sk-toggleable__label {background-color: #d4ebff;}#sk-container-id-119 div.sk-label input.sk-toggleable__control:checked~label.sk-toggleable__label {background-color: #d4ebff;}#sk-container-id-119 input.sk-hidden--visually {border: 0;clip: rect(1px 1px 1px 1px);clip: rect(1px, 1px, 1px, 1px);height: 1px;margin: -1px;overflow: hidden;padding: 0;position: absolute;width: 1px;}#sk-container-id-119 div.sk-estimator {font-family: monospace;background-color: #f0f8ff;border: 1px dotted black;border-radius: 0.25em;box-sizing: border-box;margin-bottom: 0.5em;}#sk-container-id-119 div.sk-estimator:hover {background-color: #d4ebff;}#sk-container-id-119 div.sk-parallel-item::after {content: \"\";width: 100%;border-bottom: 1px solid gray;flex-grow: 1;}#sk-container-id-119 div.sk-label:hover label.sk-toggleable__label {background-color: #d4ebff;}#sk-container-id-119 div.sk-serial::before {content: \"\";position: absolute;border-left: 1px solid gray;box-sizing: border-box;top: 0;bottom: 0;left: 50%;z-index: 0;}#sk-container-id-119 div.sk-serial {display: flex;flex-direction: column;align-items: center;background-color: white;padding-right: 0.2em;padding-left: 0.2em;position: relative;}#sk-container-id-119 div.sk-item {position: relative;z-index: 1;}#sk-container-id-119 div.sk-parallel {display: flex;align-items: stretch;justify-content: center;background-color: white;position: relative;}#sk-container-id-119 div.sk-item::before, #sk-container-id-119 div.sk-parallel-item::before {content: \"\";position: absolute;border-left: 1px solid gray;box-sizing: border-box;top: 0;bottom: 0;left: 50%;z-index: -1;}#sk-container-id-119 div.sk-parallel-item {display: flex;flex-direction: column;z-index: 1;position: relative;background-color: white;}#sk-container-id-119 div.sk-parallel-item:first-child::after {align-self: flex-end;width: 50%;}#sk-container-id-119 div.sk-parallel-item:last-child::after {align-self: flex-start;width: 50%;}#sk-container-id-119 div.sk-parallel-item:only-child::after {width: 0;}#sk-container-id-119 div.sk-dashed-wrapped {border: 1px dashed gray;margin: 0 0.4em 0.5em 0.4em;box-sizing: border-box;padding-bottom: 0.4em;background-color: white;}#sk-container-id-119 div.sk-label label {font-family: monospace;font-weight: bold;display: inline-block;line-height: 1.2em;}#sk-container-id-119 div.sk-label-container {text-align: center;}#sk-container-id-119 div.sk-container {/* jupyter's `normalize.less` sets `[hidden] { display: none; }` but bootstrap.min.css set `[hidden] { display: none !important; }` so we also need the `!important` here to be able to override the default hidden behavior on the sphinx rendered scikit-learn.org. See: https://github.com/scikit-learn/scikit-learn/issues/21755 */display: inline-block !important;position: relative;}#sk-container-id-119 div.sk-text-repr-fallback {display: none;}</style><div id=\"sk-container-id-119\" class=\"sk-top-container\"><div class=\"sk-text-repr-fallback\"><pre>GridSearchCV(cv=StratifiedKFold(n_splits=10, random_state=23, shuffle=True),\n",
       "             error_score=0,\n",
       "             estimator=Pipeline(steps=[(&#x27;scaler&#x27;, StandardScaler()),\n",
       "                                       (&#x27;pca&#x27;,\n",
       "                                        PCA(n_components=16, random_state=23)),\n",
       "                                       (&#x27;clf&#x27;,\n",
       "                                        OneVsOneClassifier(estimator=SVC(probability=True,\n",
       "                                                                         random_state=23)))]),\n",
       "             n_jobs=-1,\n",
       "             param_grid={&#x27;clf__estimator__C&#x27;: [0.5, 0.55, 0.6, 0.7, 0.8, 0.9, 1,\n",
       "                                               1.5, 2],\n",
       "                         &#x27;clf__estimator__gamma&#x27;: [0.001, 0.01, 0.015, 0.02,\n",
       "                                                   0.05, 0.5, 1, 1.5, 10]},\n",
       "             scoring=make_scorer(precision_score, average=weighted, zero_division=0),\n",
       "             verbose=2)</pre><b>In a Jupyter environment, please rerun this cell to show the HTML representation or trust the notebook. <br />On GitHub, the HTML representation is unable to render, please try loading this page with nbviewer.org.</b></div><div class=\"sk-container\" hidden><div class=\"sk-item sk-dashed-wrapped\"><div class=\"sk-label-container\"><div class=\"sk-label sk-toggleable\"><input class=\"sk-toggleable__control sk-hidden--visually\" id=\"sk-estimator-id-720\" type=\"checkbox\" ><label for=\"sk-estimator-id-720\" class=\"sk-toggleable__label sk-toggleable__label-arrow\">GridSearchCV</label><div class=\"sk-toggleable__content\"><pre>GridSearchCV(cv=StratifiedKFold(n_splits=10, random_state=23, shuffle=True),\n",
       "             error_score=0,\n",
       "             estimator=Pipeline(steps=[(&#x27;scaler&#x27;, StandardScaler()),\n",
       "                                       (&#x27;pca&#x27;,\n",
       "                                        PCA(n_components=16, random_state=23)),\n",
       "                                       (&#x27;clf&#x27;,\n",
       "                                        OneVsOneClassifier(estimator=SVC(probability=True,\n",
       "                                                                         random_state=23)))]),\n",
       "             n_jobs=-1,\n",
       "             param_grid={&#x27;clf__estimator__C&#x27;: [0.5, 0.55, 0.6, 0.7, 0.8, 0.9, 1,\n",
       "                                               1.5, 2],\n",
       "                         &#x27;clf__estimator__gamma&#x27;: [0.001, 0.01, 0.015, 0.02,\n",
       "                                                   0.05, 0.5, 1, 1.5, 10]},\n",
       "             scoring=make_scorer(precision_score, average=weighted, zero_division=0),\n",
       "             verbose=2)</pre></div></div></div><div class=\"sk-parallel\"><div class=\"sk-parallel-item\"><div class=\"sk-item\"><div class=\"sk-label-container\"><div class=\"sk-label sk-toggleable\"><input class=\"sk-toggleable__control sk-hidden--visually\" id=\"sk-estimator-id-721\" type=\"checkbox\" ><label for=\"sk-estimator-id-721\" class=\"sk-toggleable__label sk-toggleable__label-arrow\">estimator: Pipeline</label><div class=\"sk-toggleable__content\"><pre>Pipeline(steps=[(&#x27;scaler&#x27;, StandardScaler()),\n",
       "                (&#x27;pca&#x27;, PCA(n_components=16, random_state=23)),\n",
       "                (&#x27;clf&#x27;,\n",
       "                 OneVsOneClassifier(estimator=SVC(probability=True,\n",
       "                                                  random_state=23)))])</pre></div></div></div><div class=\"sk-serial\"><div class=\"sk-item\"><div class=\"sk-serial\"><div class=\"sk-item\"><div class=\"sk-estimator sk-toggleable\"><input class=\"sk-toggleable__control sk-hidden--visually\" id=\"sk-estimator-id-722\" type=\"checkbox\" ><label for=\"sk-estimator-id-722\" class=\"sk-toggleable__label sk-toggleable__label-arrow\">StandardScaler</label><div class=\"sk-toggleable__content\"><pre>StandardScaler()</pre></div></div></div><div class=\"sk-item\"><div class=\"sk-estimator sk-toggleable\"><input class=\"sk-toggleable__control sk-hidden--visually\" id=\"sk-estimator-id-723\" type=\"checkbox\" ><label for=\"sk-estimator-id-723\" class=\"sk-toggleable__label sk-toggleable__label-arrow\">PCA</label><div class=\"sk-toggleable__content\"><pre>PCA(n_components=16, random_state=23)</pre></div></div></div><div class=\"sk-item sk-dashed-wrapped\"><div class=\"sk-label-container\"><div class=\"sk-label sk-toggleable\"><input class=\"sk-toggleable__control sk-hidden--visually\" id=\"sk-estimator-id-724\" type=\"checkbox\" ><label for=\"sk-estimator-id-724\" class=\"sk-toggleable__label sk-toggleable__label-arrow\">clf: OneVsOneClassifier</label><div class=\"sk-toggleable__content\"><pre>OneVsOneClassifier(estimator=SVC(probability=True, random_state=23))</pre></div></div></div><div class=\"sk-parallel\"><div class=\"sk-parallel-item\"><div class=\"sk-item\"><div class=\"sk-label-container\"><div class=\"sk-label sk-toggleable\"><input class=\"sk-toggleable__control sk-hidden--visually\" id=\"sk-estimator-id-725\" type=\"checkbox\" ><label for=\"sk-estimator-id-725\" class=\"sk-toggleable__label sk-toggleable__label-arrow\">estimator: SVC</label><div class=\"sk-toggleable__content\"><pre>SVC(probability=True, random_state=23)</pre></div></div></div><div class=\"sk-serial\"><div class=\"sk-item\"><div class=\"sk-estimator sk-toggleable\"><input class=\"sk-toggleable__control sk-hidden--visually\" id=\"sk-estimator-id-726\" type=\"checkbox\" ><label for=\"sk-estimator-id-726\" class=\"sk-toggleable__label sk-toggleable__label-arrow\">SVC</label><div class=\"sk-toggleable__content\"><pre>SVC(probability=True, random_state=23)</pre></div></div></div></div></div></div></div></div></div></div></div></div></div></div></div></div></div>"
      ],
      "text/plain": [
       "GridSearchCV(cv=StratifiedKFold(n_splits=10, random_state=23, shuffle=True),\n",
       "             error_score=0,\n",
       "             estimator=Pipeline(steps=[('scaler', StandardScaler()),\n",
       "                                       ('pca',\n",
       "                                        PCA(n_components=16, random_state=23)),\n",
       "                                       ('clf',\n",
       "                                        OneVsOneClassifier(estimator=SVC(probability=True,\n",
       "                                                                         random_state=23)))]),\n",
       "             n_jobs=-1,\n",
       "             param_grid={'clf__estimator__C': [0.5, 0.55, 0.6, 0.7, 0.8, 0.9, 1,\n",
       "                                               1.5, 2],\n",
       "                         'clf__estimator__gamma': [0.001, 0.01, 0.015, 0.02,\n",
       "                                                   0.05, 0.5, 1, 1.5, 10]},\n",
       "             scoring=make_scorer(precision_score, average=weighted, zero_division=0),\n",
       "             verbose=2)"
      ]
     },
     "execution_count": 370,
     "metadata": {},
     "output_type": "execute_result"
    }
   ],
   "source": [
    "from sklearn.model_selection import GridSearchCV, StratifiedKFold\n",
    "from sklearn.metrics import make_scorer, precision_score\n",
    "\n",
    "# basic model\n",
    "scaler = StandardScaler()\n",
    "sv_selected = OneVsOneClassifier(SVC(kernel = 'rbf', probability = True, random_state = 23))\n",
    "sv_pipe = Pipeline([('scaler', scaler), ('pca', pca), ('clf', sv_selected)])\n",
    "\n",
    "# metric needed\n",
    "custom_precision = make_scorer(precision_score, average = 'weighted', zero_division = 0)\n",
    "\n",
    "# params\n",
    "C = [0.5, 0.55, 0.6, 0.7, 0.8, 0.9, 1, 1.5, 2]\n",
    "gamma = [0.001, 0.01, 0.015, 0.020, 0.05, 0.5, 1, 1.5, 10]\n",
    "# paramgrid\n",
    "param_grid = {'clf__estimator__C': C,\n",
    "              'clf__estimator__gamma': gamma}\n",
    "\n",
    "\n",
    "# K-folds\n",
    "skf = StratifiedKFold(n_splits = 10, shuffle = True, random_state = 23)\n",
    "\n",
    "# declaring GSCV\n",
    "grid_svm = GridSearchCV(estimator = sv_pipe,\n",
    "                      param_grid = param_grid,\n",
    "                      cv = skf,\n",
    "                      n_jobs = -1,\n",
    "                      verbose = 2,\n",
    "                      error_score = 0,\n",
    "                      scoring = custom_precision)\n",
    "\n",
    "grid_svm.fit(X_trainval, y_trainval)"
   ]
  },
  {
   "cell_type": "markdown",
   "id": "539cf077",
   "metadata": {},
   "source": [
    "Selecting best params"
   ]
  },
  {
   "cell_type": "code",
   "execution_count": 371,
   "id": "0371beca",
   "metadata": {},
   "outputs": [
    {
     "data": {
      "text/plain": [
       "{'clf__estimator__C': 1.5, 'clf__estimator__gamma': 0.02}"
      ]
     },
     "execution_count": 371,
     "metadata": {},
     "output_type": "execute_result"
    }
   ],
   "source": [
    "best_params = grid_svm.best_params_\n",
    "best_params"
   ]
  },
  {
   "cell_type": "markdown",
   "id": "947c7dea",
   "metadata": {},
   "source": [
    "Fitting new model"
   ]
  },
  {
   "cell_type": "code",
   "execution_count": 377,
   "id": "a2b0ccfb",
   "metadata": {},
   "outputs": [
    {
     "data": {
      "text/html": [
       "<style>#sk-container-id-122 {color: black;}#sk-container-id-122 pre{padding: 0;}#sk-container-id-122 div.sk-toggleable {background-color: white;}#sk-container-id-122 label.sk-toggleable__label {cursor: pointer;display: block;width: 100%;margin-bottom: 0;padding: 0.3em;box-sizing: border-box;text-align: center;}#sk-container-id-122 label.sk-toggleable__label-arrow:before {content: \"▸\";float: left;margin-right: 0.25em;color: #696969;}#sk-container-id-122 label.sk-toggleable__label-arrow:hover:before {color: black;}#sk-container-id-122 div.sk-estimator:hover label.sk-toggleable__label-arrow:before {color: black;}#sk-container-id-122 div.sk-toggleable__content {max-height: 0;max-width: 0;overflow: hidden;text-align: left;background-color: #f0f8ff;}#sk-container-id-122 div.sk-toggleable__content pre {margin: 0.2em;color: black;border-radius: 0.25em;background-color: #f0f8ff;}#sk-container-id-122 input.sk-toggleable__control:checked~div.sk-toggleable__content {max-height: 200px;max-width: 100%;overflow: auto;}#sk-container-id-122 input.sk-toggleable__control:checked~label.sk-toggleable__label-arrow:before {content: \"▾\";}#sk-container-id-122 div.sk-estimator input.sk-toggleable__control:checked~label.sk-toggleable__label {background-color: #d4ebff;}#sk-container-id-122 div.sk-label input.sk-toggleable__control:checked~label.sk-toggleable__label {background-color: #d4ebff;}#sk-container-id-122 input.sk-hidden--visually {border: 0;clip: rect(1px 1px 1px 1px);clip: rect(1px, 1px, 1px, 1px);height: 1px;margin: -1px;overflow: hidden;padding: 0;position: absolute;width: 1px;}#sk-container-id-122 div.sk-estimator {font-family: monospace;background-color: #f0f8ff;border: 1px dotted black;border-radius: 0.25em;box-sizing: border-box;margin-bottom: 0.5em;}#sk-container-id-122 div.sk-estimator:hover {background-color: #d4ebff;}#sk-container-id-122 div.sk-parallel-item::after {content: \"\";width: 100%;border-bottom: 1px solid gray;flex-grow: 1;}#sk-container-id-122 div.sk-label:hover label.sk-toggleable__label {background-color: #d4ebff;}#sk-container-id-122 div.sk-serial::before {content: \"\";position: absolute;border-left: 1px solid gray;box-sizing: border-box;top: 0;bottom: 0;left: 50%;z-index: 0;}#sk-container-id-122 div.sk-serial {display: flex;flex-direction: column;align-items: center;background-color: white;padding-right: 0.2em;padding-left: 0.2em;position: relative;}#sk-container-id-122 div.sk-item {position: relative;z-index: 1;}#sk-container-id-122 div.sk-parallel {display: flex;align-items: stretch;justify-content: center;background-color: white;position: relative;}#sk-container-id-122 div.sk-item::before, #sk-container-id-122 div.sk-parallel-item::before {content: \"\";position: absolute;border-left: 1px solid gray;box-sizing: border-box;top: 0;bottom: 0;left: 50%;z-index: -1;}#sk-container-id-122 div.sk-parallel-item {display: flex;flex-direction: column;z-index: 1;position: relative;background-color: white;}#sk-container-id-122 div.sk-parallel-item:first-child::after {align-self: flex-end;width: 50%;}#sk-container-id-122 div.sk-parallel-item:last-child::after {align-self: flex-start;width: 50%;}#sk-container-id-122 div.sk-parallel-item:only-child::after {width: 0;}#sk-container-id-122 div.sk-dashed-wrapped {border: 1px dashed gray;margin: 0 0.4em 0.5em 0.4em;box-sizing: border-box;padding-bottom: 0.4em;background-color: white;}#sk-container-id-122 div.sk-label label {font-family: monospace;font-weight: bold;display: inline-block;line-height: 1.2em;}#sk-container-id-122 div.sk-label-container {text-align: center;}#sk-container-id-122 div.sk-container {/* jupyter's `normalize.less` sets `[hidden] { display: none; }` but bootstrap.min.css set `[hidden] { display: none !important; }` so we also need the `!important` here to be able to override the default hidden behavior on the sphinx rendered scikit-learn.org. See: https://github.com/scikit-learn/scikit-learn/issues/21755 */display: inline-block !important;position: relative;}#sk-container-id-122 div.sk-text-repr-fallback {display: none;}</style><div id=\"sk-container-id-122\" class=\"sk-top-container\"><div class=\"sk-text-repr-fallback\"><pre>Pipeline(steps=[(&#x27;scaler&#x27;, StandardScaler()),\n",
       "                (&#x27;pca&#x27;, PCA(n_components=16, random_state=23)),\n",
       "                (&#x27;clf&#x27;,\n",
       "                 OneVsOneClassifier(estimator=SVC(gamma=0.02, probability=True,\n",
       "                                                  random_state=23)))])</pre><b>In a Jupyter environment, please rerun this cell to show the HTML representation or trust the notebook. <br />On GitHub, the HTML representation is unable to render, please try loading this page with nbviewer.org.</b></div><div class=\"sk-container\" hidden><div class=\"sk-item sk-dashed-wrapped\"><div class=\"sk-label-container\"><div class=\"sk-label sk-toggleable\"><input class=\"sk-toggleable__control sk-hidden--visually\" id=\"sk-estimator-id-739\" type=\"checkbox\" ><label for=\"sk-estimator-id-739\" class=\"sk-toggleable__label sk-toggleable__label-arrow\">Pipeline</label><div class=\"sk-toggleable__content\"><pre>Pipeline(steps=[(&#x27;scaler&#x27;, StandardScaler()),\n",
       "                (&#x27;pca&#x27;, PCA(n_components=16, random_state=23)),\n",
       "                (&#x27;clf&#x27;,\n",
       "                 OneVsOneClassifier(estimator=SVC(gamma=0.02, probability=True,\n",
       "                                                  random_state=23)))])</pre></div></div></div><div class=\"sk-serial\"><div class=\"sk-item\"><div class=\"sk-estimator sk-toggleable\"><input class=\"sk-toggleable__control sk-hidden--visually\" id=\"sk-estimator-id-740\" type=\"checkbox\" ><label for=\"sk-estimator-id-740\" class=\"sk-toggleable__label sk-toggleable__label-arrow\">StandardScaler</label><div class=\"sk-toggleable__content\"><pre>StandardScaler()</pre></div></div></div><div class=\"sk-item\"><div class=\"sk-estimator sk-toggleable\"><input class=\"sk-toggleable__control sk-hidden--visually\" id=\"sk-estimator-id-741\" type=\"checkbox\" ><label for=\"sk-estimator-id-741\" class=\"sk-toggleable__label sk-toggleable__label-arrow\">PCA</label><div class=\"sk-toggleable__content\"><pre>PCA(n_components=16, random_state=23)</pre></div></div></div><div class=\"sk-item sk-dashed-wrapped\"><div class=\"sk-label-container\"><div class=\"sk-label sk-toggleable\"><input class=\"sk-toggleable__control sk-hidden--visually\" id=\"sk-estimator-id-742\" type=\"checkbox\" ><label for=\"sk-estimator-id-742\" class=\"sk-toggleable__label sk-toggleable__label-arrow\">clf: OneVsOneClassifier</label><div class=\"sk-toggleable__content\"><pre>OneVsOneClassifier(estimator=SVC(gamma=0.02, probability=True, random_state=23))</pre></div></div></div><div class=\"sk-parallel\"><div class=\"sk-parallel-item\"><div class=\"sk-item\"><div class=\"sk-label-container\"><div class=\"sk-label sk-toggleable\"><input class=\"sk-toggleable__control sk-hidden--visually\" id=\"sk-estimator-id-743\" type=\"checkbox\" ><label for=\"sk-estimator-id-743\" class=\"sk-toggleable__label sk-toggleable__label-arrow\">estimator: SVC</label><div class=\"sk-toggleable__content\"><pre>SVC(gamma=0.02, probability=True, random_state=23)</pre></div></div></div><div class=\"sk-serial\"><div class=\"sk-item\"><div class=\"sk-estimator sk-toggleable\"><input class=\"sk-toggleable__control sk-hidden--visually\" id=\"sk-estimator-id-744\" type=\"checkbox\" ><label for=\"sk-estimator-id-744\" class=\"sk-toggleable__label sk-toggleable__label-arrow\">SVC</label><div class=\"sk-toggleable__content\"><pre>SVC(gamma=0.02, probability=True, random_state=23)</pre></div></div></div></div></div></div></div></div></div></div></div></div>"
      ],
      "text/plain": [
       "Pipeline(steps=[('scaler', StandardScaler()),\n",
       "                ('pca', PCA(n_components=16, random_state=23)),\n",
       "                ('clf',\n",
       "                 OneVsOneClassifier(estimator=SVC(gamma=0.02, probability=True,\n",
       "                                                  random_state=23)))])"
      ]
     },
     "execution_count": 377,
     "metadata": {},
     "output_type": "execute_result"
    }
   ],
   "source": [
    "pca = PCA(n_components = n_components_pca, random_state = 23)\n",
    "sv_final = OneVsOneClassifier(SVC(kernel = 'rbf', C = 1.5, gamma = 0.02, probability = True, random_state = 23))\n",
    "\n",
    "sv_final_pipe = Pipeline([('scaler', scaler), ('pca', pca), ('clf', sv_final)])\n",
    "sv_final_pipe.fit(X_trainval, y_trainval)"
   ]
  },
  {
   "cell_type": "markdown",
   "id": "572d5429",
   "metadata": {},
   "source": [
    "Validating model with Testing set"
   ]
  },
  {
   "cell_type": "code",
   "execution_count": 378,
   "id": "e925d5c1",
   "metadata": {},
   "outputs": [],
   "source": [
    "y_trainval_pred_sv = sv_final_pipe.predict(X_trainval)\n",
    "y_test_pred_sv = sv_final_pipe.predict(X_test)\n",
    "\n",
    "precision_train_sv, recall_train_sv, f1_score_train_sv = get_metric_values(y_trainval, y_trainval_pred_sv)\n",
    "precision_test_sv, recall_test_sv, f1_score_test_sv = get_metric_values(y_test, y_test_pred_sv)"
   ]
  },
  {
   "cell_type": "code",
   "execution_count": 379,
   "id": "707ffaf4",
   "metadata": {},
   "outputs": [
    {
     "data": {
      "text/html": [
       "<div>\n",
       "<style scoped>\n",
       "    .dataframe tbody tr th:only-of-type {\n",
       "        vertical-align: middle;\n",
       "    }\n",
       "\n",
       "    .dataframe tbody tr th {\n",
       "        vertical-align: top;\n",
       "    }\n",
       "\n",
       "    .dataframe thead tr th {\n",
       "        text-align: left;\n",
       "    }\n",
       "\n",
       "    .dataframe thead tr:last-of-type th {\n",
       "        text-align: right;\n",
       "    }\n",
       "</style>\n",
       "<table border=\"1\" class=\"dataframe\">\n",
       "  <thead>\n",
       "    <tr>\n",
       "      <th></th>\n",
       "      <th colspan=\"2\" halign=\"left\">Support Vector Machine</th>\n",
       "      <th colspan=\"2\" halign=\"left\">Support Vector Machine Tuned</th>\n",
       "    </tr>\n",
       "    <tr>\n",
       "      <th></th>\n",
       "      <th>sv_train</th>\n",
       "      <th>sv_val</th>\n",
       "      <th>sv_trainval</th>\n",
       "      <th>sv_test</th>\n",
       "    </tr>\n",
       "    <tr>\n",
       "      <th>metric</th>\n",
       "      <th></th>\n",
       "      <th></th>\n",
       "      <th></th>\n",
       "      <th></th>\n",
       "    </tr>\n",
       "  </thead>\n",
       "  <tbody>\n",
       "    <tr>\n",
       "      <th>precision</th>\n",
       "      <td>0.881686</td>\n",
       "      <td>0.198559</td>\n",
       "      <td>0.682235</td>\n",
       "      <td>0.499469</td>\n",
       "    </tr>\n",
       "    <tr>\n",
       "      <th>recall</th>\n",
       "      <td>0.853952</td>\n",
       "      <td>0.232000</td>\n",
       "      <td>0.585573</td>\n",
       "      <td>0.384000</td>\n",
       "    </tr>\n",
       "    <tr>\n",
       "      <th>f1_score</th>\n",
       "      <td>0.855476</td>\n",
       "      <td>0.175263</td>\n",
       "      <td>0.579839</td>\n",
       "      <td>0.345004</td>\n",
       "    </tr>\n",
       "  </tbody>\n",
       "</table>\n",
       "</div>"
      ],
      "text/plain": [
       "          Support Vector Machine           Support Vector Machine Tuned   \n",
       "                        sv_train    sv_val                  sv_trainval   \n",
       "metric                                                                    \n",
       "precision               0.881686  0.198559                     0.682235  \\\n",
       "recall                  0.853952  0.232000                     0.585573   \n",
       "f1_score                0.855476  0.175263                     0.579839   \n",
       "\n",
       "                     \n",
       "            sv_test  \n",
       "metric               \n",
       "precision  0.499469  \n",
       "recall     0.384000  \n",
       "f1_score   0.345004  "
      ]
     },
     "execution_count": 379,
     "metadata": {},
     "output_type": "execute_result"
    }
   ],
   "source": [
    "y_scores_sv = y_scores.iloc[:, 2:4].copy()\n",
    "y_scores_sv[('Support Vector Machine Tuned', 'sv_trainval')] = (precision_train_sv, recall_train_sv, f1_score_train_sv)\n",
    "y_scores_sv[('Support Vector Machine Tuned', 'sv_test')] = (precision_test_sv, recall_test_sv, f1_score_test_sv)\n",
    "y_scores_sv"
   ]
  },
  {
   "cell_type": "markdown",
   "id": "6f0c50c3",
   "metadata": {},
   "source": [
    "Getting its results per k-fold"
   ]
  },
  {
   "cell_type": "code",
   "execution_count": 392,
   "id": "4abb3c98",
   "metadata": {},
   "outputs": [
    {
     "data": {
      "text/html": [
       "<div>\n",
       "<style scoped>\n",
       "    .dataframe tbody tr th:only-of-type {\n",
       "        vertical-align: middle;\n",
       "    }\n",
       "\n",
       "    .dataframe tbody tr th {\n",
       "        vertical-align: top;\n",
       "    }\n",
       "\n",
       "    .dataframe thead th {\n",
       "        text-align: right;\n",
       "    }\n",
       "</style>\n",
       "<table border=\"1\" class=\"dataframe\">\n",
       "  <thead>\n",
       "    <tr style=\"text-align: right;\">\n",
       "      <th></th>\n",
       "      <th>C</th>\n",
       "      <th>gamma</th>\n",
       "      <th>mean_test_score</th>\n",
       "      <th>rank_test_score</th>\n",
       "    </tr>\n",
       "  </thead>\n",
       "  <tbody>\n",
       "    <tr>\n",
       "      <th>0</th>\n",
       "      <td>1.5</td>\n",
       "      <td>0.02</td>\n",
       "      <td>0.392875</td>\n",
       "      <td>1</td>\n",
       "    </tr>\n",
       "    <tr>\n",
       "      <th>1</th>\n",
       "      <td>2</td>\n",
       "      <td>0.02</td>\n",
       "      <td>0.379077</td>\n",
       "      <td>2</td>\n",
       "    </tr>\n",
       "    <tr>\n",
       "      <th>2</th>\n",
       "      <td>0.7</td>\n",
       "      <td>0.01</td>\n",
       "      <td>0.372105</td>\n",
       "      <td>3</td>\n",
       "    </tr>\n",
       "    <tr>\n",
       "      <th>3</th>\n",
       "      <td>1</td>\n",
       "      <td>0.01</td>\n",
       "      <td>0.367350</td>\n",
       "      <td>4</td>\n",
       "    </tr>\n",
       "    <tr>\n",
       "      <th>4</th>\n",
       "      <td>0.9</td>\n",
       "      <td>0.01</td>\n",
       "      <td>0.366815</td>\n",
       "      <td>5</td>\n",
       "    </tr>\n",
       "    <tr>\n",
       "      <th>5</th>\n",
       "      <td>0.7</td>\n",
       "      <td>0.015</td>\n",
       "      <td>0.362780</td>\n",
       "      <td>6</td>\n",
       "    </tr>\n",
       "    <tr>\n",
       "      <th>6</th>\n",
       "      <td>0.8</td>\n",
       "      <td>0.01</td>\n",
       "      <td>0.361206</td>\n",
       "      <td>7</td>\n",
       "    </tr>\n",
       "    <tr>\n",
       "      <th>7</th>\n",
       "      <td>0.8</td>\n",
       "      <td>0.015</td>\n",
       "      <td>0.359465</td>\n",
       "      <td>8</td>\n",
       "    </tr>\n",
       "    <tr>\n",
       "      <th>8</th>\n",
       "      <td>1.5</td>\n",
       "      <td>0.015</td>\n",
       "      <td>0.359314</td>\n",
       "      <td>9</td>\n",
       "    </tr>\n",
       "    <tr>\n",
       "      <th>9</th>\n",
       "      <td>2</td>\n",
       "      <td>0.015</td>\n",
       "      <td>0.358617</td>\n",
       "      <td>10</td>\n",
       "    </tr>\n",
       "  </tbody>\n",
       "</table>\n",
       "</div>"
      ],
      "text/plain": [
       "     C  gamma  mean_test_score  rank_test_score\n",
       "0  1.5   0.02         0.392875                1\n",
       "1    2   0.02         0.379077                2\n",
       "2  0.7   0.01         0.372105                3\n",
       "3    1   0.01         0.367350                4\n",
       "4  0.9   0.01         0.366815                5\n",
       "5  0.7  0.015         0.362780                6\n",
       "6  0.8   0.01         0.361206                7\n",
       "7  0.8  0.015         0.359465                8\n",
       "8  1.5  0.015         0.359314                9\n",
       "9    2  0.015         0.358617               10"
      ]
     },
     "execution_count": 392,
     "metadata": {},
     "output_type": "execute_result"
    }
   ],
   "source": [
    "results_sv = pd.DataFrame(grid_svm.cv_results_)\n",
    "param_columns = list(filter(lambda x: 'param_clf' in x, results_sv.columns.tolist()))\n",
    "rest_columns = ['mean_test_score', 'rank_test_score']\n",
    "results_sv = results_sv[param_columns + rest_columns]\n",
    "param_columns_renamed = [param.split('__')[-1] for param in param_columns]\n",
    "results_sv.columns = param_columns_renamed + rest_columns\n",
    "results_sv = results_sv.sort_values(by = 'rank_test_score')\\\n",
    "\t\t\t\t\t\t.reset_index(drop = True)\n",
    "# Top 10\n",
    "results_sv.head(10)"
   ]
  },
  {
   "cell_type": "markdown",
   "id": "7adf0f3f",
   "metadata": {},
   "source": [
    "Saving model"
   ]
  },
  {
   "cell_type": "code",
   "execution_count": 391,
   "id": "a109e85a",
   "metadata": {},
   "outputs": [],
   "source": [
    "with open('final_models/sv_final_pipe.pkl', 'wb') as file:\n",
    "    pickle.dump(sv_final_pipe, file)"
   ]
  },
  {
   "cell_type": "markdown",
   "id": "d16387c7",
   "metadata": {},
   "source": [
    "## KNN"
   ]
  },
  {
   "cell_type": "code",
   "execution_count": 49,
   "id": "75fb1f4e",
   "metadata": {
    "scrolled": true,
    "tags": []
   },
   "outputs": [],
   "source": [
    "from sklearn.model_selection import ParameterGrid\n",
    "from sklearn.metrics import make_scorer, precision_score\n",
    "\n",
    "# basic model\n",
    "scaler = StandardScaler()\n",
    "pca = PCA(n_components = n_components_pca, random_state = 23)\n",
    "\n",
    "# params\n",
    "n_neighbors = [2, 3, 4, 5, 6 , 7, 8, 9, 10]\n",
    "p = [1, 2, 3, 4]\n",
    "weights = ['uniform', 'distance']\n",
    "algorithm = ['ball_tree', 'kd_tree', 'brute_force']\n",
    "# paramgrid\n",
    "param_grid = {'n_neighbors': n_neighbors,\n",
    "              'p': p,\n",
    "              'weights': weights,\n",
    "              'algorithm': algorithm}\n",
    "\n",
    "# generate params combinations\n",
    "param_combinations = list(ParameterGrid(param_grid))\n",
    "\n",
    "# setting best metric and bestparams\n",
    "best_precision = 0\n",
    "best_params = None\n",
    "precisions = list()\n",
    "parameters = list()\n",
    "\n",
    "# Iterating across train and validation test\n",
    "for params in param_combinations:\n",
    "    knn_selected = KNeighborsClassifier(**params)\n",
    "    knn_pipe = Pipeline([('scaler', scaler), ('pca', pca), ('clf', knn_selected)])\n",
    "    knn_pipe.fit(X_train, y_train)\n",
    "    y_pred = knn_pipe.predict(X_val)  \n",
    "    precision = precision_score(y_val, y_pred, average = 'weighted', zero_division = 0)\n",
    "    precisions.append(precision)\n",
    "    parameters.append(params)\n",
    "    if precision > best_precision:\n",
    "        best_precision = precision\n",
    "        best_params = params"
   ]
  },
  {
   "cell_type": "markdown",
   "id": "69576a1b",
   "metadata": {},
   "source": [
    "Selecting best params"
   ]
  },
  {
   "cell_type": "code",
   "execution_count": 50,
   "id": "3444b167",
   "metadata": {
    "tags": []
   },
   "outputs": [
    {
     "data": {
      "text/plain": [
       "{'algorithm': 'ball_tree', 'n_neighbors': 8, 'p': 1, 'weights': 'distance'}"
      ]
     },
     "execution_count": 50,
     "metadata": {},
     "output_type": "execute_result"
    }
   ],
   "source": [
    "best_params"
   ]
  },
  {
   "cell_type": "markdown",
   "id": "e32b338f",
   "metadata": {},
   "source": [
    "Fitting new model"
   ]
  },
  {
   "cell_type": "code",
   "execution_count": 51,
   "id": "a4ff7be3",
   "metadata": {
    "tags": []
   },
   "outputs": [
    {
     "data": {
      "text/html": [
       "<style>#sk-container-id-3 {color: black;}#sk-container-id-3 pre{padding: 0;}#sk-container-id-3 div.sk-toggleable {background-color: white;}#sk-container-id-3 label.sk-toggleable__label {cursor: pointer;display: block;width: 100%;margin-bottom: 0;padding: 0.3em;box-sizing: border-box;text-align: center;}#sk-container-id-3 label.sk-toggleable__label-arrow:before {content: \"▸\";float: left;margin-right: 0.25em;color: #696969;}#sk-container-id-3 label.sk-toggleable__label-arrow:hover:before {color: black;}#sk-container-id-3 div.sk-estimator:hover label.sk-toggleable__label-arrow:before {color: black;}#sk-container-id-3 div.sk-toggleable__content {max-height: 0;max-width: 0;overflow: hidden;text-align: left;background-color: #f0f8ff;}#sk-container-id-3 div.sk-toggleable__content pre {margin: 0.2em;color: black;border-radius: 0.25em;background-color: #f0f8ff;}#sk-container-id-3 input.sk-toggleable__control:checked~div.sk-toggleable__content {max-height: 200px;max-width: 100%;overflow: auto;}#sk-container-id-3 input.sk-toggleable__control:checked~label.sk-toggleable__label-arrow:before {content: \"▾\";}#sk-container-id-3 div.sk-estimator input.sk-toggleable__control:checked~label.sk-toggleable__label {background-color: #d4ebff;}#sk-container-id-3 div.sk-label input.sk-toggleable__control:checked~label.sk-toggleable__label {background-color: #d4ebff;}#sk-container-id-3 input.sk-hidden--visually {border: 0;clip: rect(1px 1px 1px 1px);clip: rect(1px, 1px, 1px, 1px);height: 1px;margin: -1px;overflow: hidden;padding: 0;position: absolute;width: 1px;}#sk-container-id-3 div.sk-estimator {font-family: monospace;background-color: #f0f8ff;border: 1px dotted black;border-radius: 0.25em;box-sizing: border-box;margin-bottom: 0.5em;}#sk-container-id-3 div.sk-estimator:hover {background-color: #d4ebff;}#sk-container-id-3 div.sk-parallel-item::after {content: \"\";width: 100%;border-bottom: 1px solid gray;flex-grow: 1;}#sk-container-id-3 div.sk-label:hover label.sk-toggleable__label {background-color: #d4ebff;}#sk-container-id-3 div.sk-serial::before {content: \"\";position: absolute;border-left: 1px solid gray;box-sizing: border-box;top: 0;bottom: 0;left: 50%;z-index: 0;}#sk-container-id-3 div.sk-serial {display: flex;flex-direction: column;align-items: center;background-color: white;padding-right: 0.2em;padding-left: 0.2em;position: relative;}#sk-container-id-3 div.sk-item {position: relative;z-index: 1;}#sk-container-id-3 div.sk-parallel {display: flex;align-items: stretch;justify-content: center;background-color: white;position: relative;}#sk-container-id-3 div.sk-item::before, #sk-container-id-3 div.sk-parallel-item::before {content: \"\";position: absolute;border-left: 1px solid gray;box-sizing: border-box;top: 0;bottom: 0;left: 50%;z-index: -1;}#sk-container-id-3 div.sk-parallel-item {display: flex;flex-direction: column;z-index: 1;position: relative;background-color: white;}#sk-container-id-3 div.sk-parallel-item:first-child::after {align-self: flex-end;width: 50%;}#sk-container-id-3 div.sk-parallel-item:last-child::after {align-self: flex-start;width: 50%;}#sk-container-id-3 div.sk-parallel-item:only-child::after {width: 0;}#sk-container-id-3 div.sk-dashed-wrapped {border: 1px dashed gray;margin: 0 0.4em 0.5em 0.4em;box-sizing: border-box;padding-bottom: 0.4em;background-color: white;}#sk-container-id-3 div.sk-label label {font-family: monospace;font-weight: bold;display: inline-block;line-height: 1.2em;}#sk-container-id-3 div.sk-label-container {text-align: center;}#sk-container-id-3 div.sk-container {/* jupyter's `normalize.less` sets `[hidden] { display: none; }` but bootstrap.min.css set `[hidden] { display: none !important; }` so we also need the `!important` here to be able to override the default hidden behavior on the sphinx rendered scikit-learn.org. See: https://github.com/scikit-learn/scikit-learn/issues/21755 */display: inline-block !important;position: relative;}#sk-container-id-3 div.sk-text-repr-fallback {display: none;}</style><div id=\"sk-container-id-3\" class=\"sk-top-container\"><div class=\"sk-text-repr-fallback\"><pre>Pipeline(steps=[(&#x27;scaler&#x27;, StandardScaler()),\n",
       "                (&#x27;pca&#x27;, PCA(n_components=16, random_state=23)),\n",
       "                (&#x27;clf&#x27;,\n",
       "                 KNeighborsClassifier(algorithm=&#x27;ball_tree&#x27;, n_neighbors=8, p=1,\n",
       "                                      weights=&#x27;distance&#x27;))])</pre><b>In a Jupyter environment, please rerun this cell to show the HTML representation or trust the notebook. <br />On GitHub, the HTML representation is unable to render, please try loading this page with nbviewer.org.</b></div><div class=\"sk-container\" hidden><div class=\"sk-item sk-dashed-wrapped\"><div class=\"sk-label-container\"><div class=\"sk-label sk-toggleable\"><input class=\"sk-toggleable__control sk-hidden--visually\" id=\"sk-estimator-id-9\" type=\"checkbox\" ><label for=\"sk-estimator-id-9\" class=\"sk-toggleable__label sk-toggleable__label-arrow\">Pipeline</label><div class=\"sk-toggleable__content\"><pre>Pipeline(steps=[(&#x27;scaler&#x27;, StandardScaler()),\n",
       "                (&#x27;pca&#x27;, PCA(n_components=16, random_state=23)),\n",
       "                (&#x27;clf&#x27;,\n",
       "                 KNeighborsClassifier(algorithm=&#x27;ball_tree&#x27;, n_neighbors=8, p=1,\n",
       "                                      weights=&#x27;distance&#x27;))])</pre></div></div></div><div class=\"sk-serial\"><div class=\"sk-item\"><div class=\"sk-estimator sk-toggleable\"><input class=\"sk-toggleable__control sk-hidden--visually\" id=\"sk-estimator-id-10\" type=\"checkbox\" ><label for=\"sk-estimator-id-10\" class=\"sk-toggleable__label sk-toggleable__label-arrow\">StandardScaler</label><div class=\"sk-toggleable__content\"><pre>StandardScaler()</pre></div></div></div><div class=\"sk-item\"><div class=\"sk-estimator sk-toggleable\"><input class=\"sk-toggleable__control sk-hidden--visually\" id=\"sk-estimator-id-11\" type=\"checkbox\" ><label for=\"sk-estimator-id-11\" class=\"sk-toggleable__label sk-toggleable__label-arrow\">PCA</label><div class=\"sk-toggleable__content\"><pre>PCA(n_components=16, random_state=23)</pre></div></div></div><div class=\"sk-item\"><div class=\"sk-estimator sk-toggleable\"><input class=\"sk-toggleable__control sk-hidden--visually\" id=\"sk-estimator-id-12\" type=\"checkbox\" ><label for=\"sk-estimator-id-12\" class=\"sk-toggleable__label sk-toggleable__label-arrow\">KNeighborsClassifier</label><div class=\"sk-toggleable__content\"><pre>KNeighborsClassifier(algorithm=&#x27;ball_tree&#x27;, n_neighbors=8, p=1,\n",
       "                     weights=&#x27;distance&#x27;)</pre></div></div></div></div></div></div></div>"
      ],
      "text/plain": [
       "Pipeline(steps=[('scaler', StandardScaler()),\n",
       "                ('pca', PCA(n_components=16, random_state=23)),\n",
       "                ('clf',\n",
       "                 KNeighborsClassifier(algorithm='ball_tree', n_neighbors=8, p=1,\n",
       "                                      weights='distance'))])"
      ]
     },
     "execution_count": 51,
     "metadata": {},
     "output_type": "execute_result"
    }
   ],
   "source": [
    "# generating values to fit\n",
    "X_trainval = np.vstack([X_train, X_val])\n",
    "y_trainval = np.concatenate([y_train, y_val])\n",
    "\n",
    "# defining final model\n",
    "pca = PCA(n_components = n_components_pca, random_state = 23)\n",
    "kn_final = KNeighborsClassifier(n_neighbors = 8, p = 1, weights = 'distance', algorithm = 'ball_tree')\n",
    "\n",
    "# fitting model\n",
    "kn_final_pipe = Pipeline([('scaler', scaler), ('pca', pca), ('clf', kn_final)])\n",
    "kn_final_pipe.fit(X_trainval, y_trainval)"
   ]
  },
  {
   "cell_type": "markdown",
   "id": "1abc2221",
   "metadata": {},
   "source": [
    "Validating model with testing set"
   ]
  },
  {
   "cell_type": "code",
   "execution_count": 52,
   "id": "fd9c92d1",
   "metadata": {
    "tags": []
   },
   "outputs": [],
   "source": [
    "y_trainval_pred_kn = dt_final_pipe.predict(X_trainval)\n",
    "y_test_pred_kn = dt_final_pipe.predict(X_test)\n",
    "\n",
    "precision_train_kn, recall_train_kn, f1_score_train_kn = get_metric_values(y_trainval, y_trainval_pred_kn)\n",
    "precision_test_kn, recall_test_kn, f1_score_test_kn = get_metric_values(y_test, y_test_pred_kn)"
   ]
  },
  {
   "cell_type": "code",
   "execution_count": 53,
   "id": "e96177e5",
   "metadata": {
    "tags": []
   },
   "outputs": [
    {
     "data": {
      "text/html": [
       "<div>\n",
       "<style scoped>\n",
       "    .dataframe tbody tr th:only-of-type {\n",
       "        vertical-align: middle;\n",
       "    }\n",
       "\n",
       "    .dataframe tbody tr th {\n",
       "        vertical-align: top;\n",
       "    }\n",
       "\n",
       "    .dataframe thead tr th {\n",
       "        text-align: left;\n",
       "    }\n",
       "\n",
       "    .dataframe thead tr:last-of-type th {\n",
       "        text-align: right;\n",
       "    }\n",
       "</style>\n",
       "<table border=\"1\" class=\"dataframe\">\n",
       "  <thead>\n",
       "    <tr>\n",
       "      <th></th>\n",
       "      <th colspan=\"2\" halign=\"left\">K-Nearest Neighbors</th>\n",
       "      <th colspan=\"2\" halign=\"left\">K-Nearest Neighbors Tuned</th>\n",
       "    </tr>\n",
       "    <tr>\n",
       "      <th></th>\n",
       "      <th>kn_train</th>\n",
       "      <th>kn_val</th>\n",
       "      <th>kn_trainval</th>\n",
       "      <th>kn_test</th>\n",
       "    </tr>\n",
       "    <tr>\n",
       "      <th>metric</th>\n",
       "      <th></th>\n",
       "      <th></th>\n",
       "      <th></th>\n",
       "      <th></th>\n",
       "    </tr>\n",
       "  </thead>\n",
       "  <tbody>\n",
       "    <tr>\n",
       "      <th>precision</th>\n",
       "      <td>0.689851</td>\n",
       "      <td>0.225435</td>\n",
       "      <td>1.0</td>\n",
       "      <td>0.329281</td>\n",
       "    </tr>\n",
       "    <tr>\n",
       "      <th>recall</th>\n",
       "      <td>0.678694</td>\n",
       "      <td>0.232000</td>\n",
       "      <td>1.0</td>\n",
       "      <td>0.344000</td>\n",
       "    </tr>\n",
       "    <tr>\n",
       "      <th>f1_score</th>\n",
       "      <td>0.680403</td>\n",
       "      <td>0.225059</td>\n",
       "      <td>1.0</td>\n",
       "      <td>0.331009</td>\n",
       "    </tr>\n",
       "  </tbody>\n",
       "</table>\n",
       "</div>"
      ],
      "text/plain": [
       "          K-Nearest Neighbors           K-Nearest Neighbors Tuned          \n",
       "                     kn_train    kn_val               kn_trainval   kn_test\n",
       "metric                                                                     \n",
       "precision            0.689851  0.225435                       1.0  0.329281\n",
       "recall               0.678694  0.232000                       1.0  0.344000\n",
       "f1_score             0.680403  0.225059                       1.0  0.331009"
      ]
     },
     "execution_count": 53,
     "metadata": {},
     "output_type": "execute_result"
    }
   ],
   "source": [
    "y_scores_kn = y_scores.iloc[:, 4:6].copy()\n",
    "y_scores_kn[('K-Nearest Neighbors Tuned', 'kn_trainval')] = (precision_train_kn, recall_train_kn, f1_score_train_kn)\n",
    "y_scores_kn[('K-Nearest Neighbors Tuned', 'kn_test')] = (precision_test_kn, recall_test_kn, f1_score_test_kn)\n",
    "y_scores_kn"
   ]
  },
  {
   "cell_type": "markdown",
   "id": "c8b3e8b5",
   "metadata": {},
   "source": [
    "Getting its results per iteration"
   ]
  },
  {
   "cell_type": "code",
   "execution_count": 54,
   "id": "02f90064",
   "metadata": {
    "tags": []
   },
   "outputs": [
    {
     "data": {
      "text/html": [
       "<div>\n",
       "<style scoped>\n",
       "    .dataframe tbody tr th:only-of-type {\n",
       "        vertical-align: middle;\n",
       "    }\n",
       "\n",
       "    .dataframe tbody tr th {\n",
       "        vertical-align: top;\n",
       "    }\n",
       "\n",
       "    .dataframe thead th {\n",
       "        text-align: right;\n",
       "    }\n",
       "</style>\n",
       "<table border=\"1\" class=\"dataframe\">\n",
       "  <thead>\n",
       "    <tr style=\"text-align: right;\">\n",
       "      <th></th>\n",
       "      <th>algorithm</th>\n",
       "      <th>n_neighbors</th>\n",
       "      <th>p</th>\n",
       "      <th>weights</th>\n",
       "      <th>test_score</th>\n",
       "      <th>rank_test_score</th>\n",
       "    </tr>\n",
       "  </thead>\n",
       "  <tbody>\n",
       "    <tr>\n",
       "      <th>0</th>\n",
       "      <td>kd_tree</td>\n",
       "      <td>8</td>\n",
       "      <td>3</td>\n",
       "      <td>distance</td>\n",
       "      <td>0.321564</td>\n",
       "      <td>1</td>\n",
       "    </tr>\n",
       "    <tr>\n",
       "      <th>1</th>\n",
       "      <td>brute_force</td>\n",
       "      <td>8</td>\n",
       "      <td>2</td>\n",
       "      <td>distance</td>\n",
       "      <td>0.321564</td>\n",
       "      <td>2</td>\n",
       "    </tr>\n",
       "    <tr>\n",
       "      <th>2</th>\n",
       "      <td>brute_force</td>\n",
       "      <td>8</td>\n",
       "      <td>1</td>\n",
       "      <td>distance</td>\n",
       "      <td>0.321564</td>\n",
       "      <td>3</td>\n",
       "    </tr>\n",
       "    <tr>\n",
       "      <th>3</th>\n",
       "      <td>brute_force</td>\n",
       "      <td>8</td>\n",
       "      <td>4</td>\n",
       "      <td>distance</td>\n",
       "      <td>0.321564</td>\n",
       "      <td>4</td>\n",
       "    </tr>\n",
       "    <tr>\n",
       "      <th>4</th>\n",
       "      <td>ball_tree</td>\n",
       "      <td>8</td>\n",
       "      <td>2</td>\n",
       "      <td>distance</td>\n",
       "      <td>0.321564</td>\n",
       "      <td>5</td>\n",
       "    </tr>\n",
       "    <tr>\n",
       "      <th>5</th>\n",
       "      <td>kd_tree</td>\n",
       "      <td>8</td>\n",
       "      <td>4</td>\n",
       "      <td>distance</td>\n",
       "      <td>0.321564</td>\n",
       "      <td>6</td>\n",
       "    </tr>\n",
       "    <tr>\n",
       "      <th>6</th>\n",
       "      <td>kd_tree</td>\n",
       "      <td>8</td>\n",
       "      <td>2</td>\n",
       "      <td>distance</td>\n",
       "      <td>0.321564</td>\n",
       "      <td>7</td>\n",
       "    </tr>\n",
       "    <tr>\n",
       "      <th>7</th>\n",
       "      <td>kd_tree</td>\n",
       "      <td>8</td>\n",
       "      <td>1</td>\n",
       "      <td>distance</td>\n",
       "      <td>0.321564</td>\n",
       "      <td>8</td>\n",
       "    </tr>\n",
       "    <tr>\n",
       "      <th>8</th>\n",
       "      <td>brute_force</td>\n",
       "      <td>8</td>\n",
       "      <td>3</td>\n",
       "      <td>distance</td>\n",
       "      <td>0.321564</td>\n",
       "      <td>9</td>\n",
       "    </tr>\n",
       "    <tr>\n",
       "      <th>9</th>\n",
       "      <td>ball_tree</td>\n",
       "      <td>8</td>\n",
       "      <td>4</td>\n",
       "      <td>distance</td>\n",
       "      <td>0.321564</td>\n",
       "      <td>10</td>\n",
       "    </tr>\n",
       "  </tbody>\n",
       "</table>\n",
       "</div>"
      ],
      "text/plain": [
       "     algorithm  n_neighbors  p   weights  test_score  rank_test_score\n",
       "0      kd_tree            8  3  distance    0.321564                1\n",
       "1  brute_force            8  2  distance    0.321564                2\n",
       "2  brute_force            8  1  distance    0.321564                3\n",
       "3  brute_force            8  4  distance    0.321564                4\n",
       "4    ball_tree            8  2  distance    0.321564                5\n",
       "5      kd_tree            8  4  distance    0.321564                6\n",
       "6      kd_tree            8  2  distance    0.321564                7\n",
       "7      kd_tree            8  1  distance    0.321564                8\n",
       "8  brute_force            8  3  distance    0.321564                9\n",
       "9    ball_tree            8  4  distance    0.321564               10"
      ]
     },
     "execution_count": 54,
     "metadata": {},
     "output_type": "execute_result"
    }
   ],
   "source": [
    "# creating dataframe of each of them\n",
    "parameters = pd.DataFrame(parameters)\n",
    "precisions = pd.DataFrame(precisions, columns = ['test_score'])\n",
    "\n",
    "# concatenating them\n",
    "results_kn = pd.concat([parameters, precisions], axis = 1)\n",
    "\n",
    "# creating rank_test_score\n",
    "results_kn = results_kn.sort_values(by = 'test_score', ascending = False).reset_index(drop = True)\n",
    "results_kn['rank_test_score'] = range(1, len(results_kn) + 1)\n",
    "\n",
    "# Top 10\n",
    "results_kn.head(10)"
   ]
  },
  {
   "cell_type": "markdown",
   "id": "bc3b1b41",
   "metadata": {},
   "source": [
    "Saving model"
   ]
  },
  {
   "cell_type": "code",
   "execution_count": 48,
   "id": "61c37008-6f06-4f71-8c63-4077df11e8ed",
   "metadata": {
    "tags": []
   },
   "outputs": [],
   "source": [
    "with open('final_models/kn_final_pipe.pkl', 'wb') as file:\n",
    "    pickle.dump(kn_final_pipe, file)"
   ]
  },
  {
   "cell_type": "markdown",
   "id": "84e944d5",
   "metadata": {},
   "source": [
    "## Decision Tree Classifier"
   ]
  },
  {
   "cell_type": "code",
   "execution_count": 55,
   "id": "2d5f65bd",
   "metadata": {
    "tags": []
   },
   "outputs": [],
   "source": [
    "from sklearn.model_selection import GridSearchCV, StratifiedKFold\n",
    "from sklearn.metrics import make_scorer, precision_score\n",
    "\n",
    "# basic model\n",
    "scaler = StandardScaler()\n",
    "pca = PCA(n_components = n_components_pca, random_state = 23)\n",
    "\n",
    "# params\n",
    "max_depth = [3, 5, 7, 9, 11]\n",
    "min_samples_split = [2 ,4, 6, 10]\n",
    "min_samples_leaf = [2, 4, 6, 10]\n",
    "max_features = range(1, n_components_pca + 1)\n",
    "\n",
    "# paramgrid\n",
    "param_grid = {'max_depth': max_depth,\n",
    "              'min_samples_split': min_samples_split,\n",
    "              'min_samples_leaf': min_samples_leaf,\n",
    "              'max_features': max_features}\n",
    "\n",
    "\n",
    "# generate params combinations\n",
    "param_combinations = list(ParameterGrid(param_grid))\n",
    "\n",
    "# setting best metric and bestparams\n",
    "best_precision = 0\n",
    "best_params = None\n",
    "precisions = list()\n",
    "parameters = list()\n",
    "\n",
    "# Iterating across train and validation test\n",
    "for params in param_combinations:\n",
    "    dt_selected = DecisionTreeClassifier()\n",
    "    dt_pipe = Pipeline([('scaler', scaler), ('pca', pca), ('clf', dt_selected)])\n",
    "    dt_pipe.fit(X_train, y_train)\n",
    "    y_pred = dt_pipe.predict(X_val)  \n",
    "    precision = precision_score(y_val, y_pred, average = 'weighted', zero_division = 0)\n",
    "    precisions.append(precision)\n",
    "    parameters.append(params)\n",
    "    if precision > best_precision:\n",
    "        best_precision = precision\n",
    "        best_params = params"
   ]
  },
  {
   "cell_type": "markdown",
   "id": "e1b3382c-723f-4d4e-9ef2-f5ee26b3cd70",
   "metadata": {},
   "source": [
    "Selecting best params"
   ]
  },
  {
   "cell_type": "code",
   "execution_count": 56,
   "id": "2645645c-a6ae-4731-a03d-419bf861a9f0",
   "metadata": {
    "tags": []
   },
   "outputs": [
    {
     "data": {
      "text/plain": [
       "{'max_depth': 5,\n",
       " 'max_features': 9,\n",
       " 'min_samples_leaf': 2,\n",
       " 'min_samples_split': 4}"
      ]
     },
     "execution_count": 56,
     "metadata": {},
     "output_type": "execute_result"
    }
   ],
   "source": [
    "best_params"
   ]
  },
  {
   "cell_type": "markdown",
   "id": "1910a5a8-d460-4a93-8e2e-189ddfbba850",
   "metadata": {},
   "source": [
    "Fitting the new model"
   ]
  },
  {
   "cell_type": "code",
   "execution_count": 61,
   "id": "14ada6dd-2985-4d30-965c-6f9fe482ecb1",
   "metadata": {
    "tags": []
   },
   "outputs": [
    {
     "data": {
      "text/html": [
       "<style>#sk-container-id-4 {color: black;}#sk-container-id-4 pre{padding: 0;}#sk-container-id-4 div.sk-toggleable {background-color: white;}#sk-container-id-4 label.sk-toggleable__label {cursor: pointer;display: block;width: 100%;margin-bottom: 0;padding: 0.3em;box-sizing: border-box;text-align: center;}#sk-container-id-4 label.sk-toggleable__label-arrow:before {content: \"▸\";float: left;margin-right: 0.25em;color: #696969;}#sk-container-id-4 label.sk-toggleable__label-arrow:hover:before {color: black;}#sk-container-id-4 div.sk-estimator:hover label.sk-toggleable__label-arrow:before {color: black;}#sk-container-id-4 div.sk-toggleable__content {max-height: 0;max-width: 0;overflow: hidden;text-align: left;background-color: #f0f8ff;}#sk-container-id-4 div.sk-toggleable__content pre {margin: 0.2em;color: black;border-radius: 0.25em;background-color: #f0f8ff;}#sk-container-id-4 input.sk-toggleable__control:checked~div.sk-toggleable__content {max-height: 200px;max-width: 100%;overflow: auto;}#sk-container-id-4 input.sk-toggleable__control:checked~label.sk-toggleable__label-arrow:before {content: \"▾\";}#sk-container-id-4 div.sk-estimator input.sk-toggleable__control:checked~label.sk-toggleable__label {background-color: #d4ebff;}#sk-container-id-4 div.sk-label input.sk-toggleable__control:checked~label.sk-toggleable__label {background-color: #d4ebff;}#sk-container-id-4 input.sk-hidden--visually {border: 0;clip: rect(1px 1px 1px 1px);clip: rect(1px, 1px, 1px, 1px);height: 1px;margin: -1px;overflow: hidden;padding: 0;position: absolute;width: 1px;}#sk-container-id-4 div.sk-estimator {font-family: monospace;background-color: #f0f8ff;border: 1px dotted black;border-radius: 0.25em;box-sizing: border-box;margin-bottom: 0.5em;}#sk-container-id-4 div.sk-estimator:hover {background-color: #d4ebff;}#sk-container-id-4 div.sk-parallel-item::after {content: \"\";width: 100%;border-bottom: 1px solid gray;flex-grow: 1;}#sk-container-id-4 div.sk-label:hover label.sk-toggleable__label {background-color: #d4ebff;}#sk-container-id-4 div.sk-serial::before {content: \"\";position: absolute;border-left: 1px solid gray;box-sizing: border-box;top: 0;bottom: 0;left: 50%;z-index: 0;}#sk-container-id-4 div.sk-serial {display: flex;flex-direction: column;align-items: center;background-color: white;padding-right: 0.2em;padding-left: 0.2em;position: relative;}#sk-container-id-4 div.sk-item {position: relative;z-index: 1;}#sk-container-id-4 div.sk-parallel {display: flex;align-items: stretch;justify-content: center;background-color: white;position: relative;}#sk-container-id-4 div.sk-item::before, #sk-container-id-4 div.sk-parallel-item::before {content: \"\";position: absolute;border-left: 1px solid gray;box-sizing: border-box;top: 0;bottom: 0;left: 50%;z-index: -1;}#sk-container-id-4 div.sk-parallel-item {display: flex;flex-direction: column;z-index: 1;position: relative;background-color: white;}#sk-container-id-4 div.sk-parallel-item:first-child::after {align-self: flex-end;width: 50%;}#sk-container-id-4 div.sk-parallel-item:last-child::after {align-self: flex-start;width: 50%;}#sk-container-id-4 div.sk-parallel-item:only-child::after {width: 0;}#sk-container-id-4 div.sk-dashed-wrapped {border: 1px dashed gray;margin: 0 0.4em 0.5em 0.4em;box-sizing: border-box;padding-bottom: 0.4em;background-color: white;}#sk-container-id-4 div.sk-label label {font-family: monospace;font-weight: bold;display: inline-block;line-height: 1.2em;}#sk-container-id-4 div.sk-label-container {text-align: center;}#sk-container-id-4 div.sk-container {/* jupyter's `normalize.less` sets `[hidden] { display: none; }` but bootstrap.min.css set `[hidden] { display: none !important; }` so we also need the `!important` here to be able to override the default hidden behavior on the sphinx rendered scikit-learn.org. See: https://github.com/scikit-learn/scikit-learn/issues/21755 */display: inline-block !important;position: relative;}#sk-container-id-4 div.sk-text-repr-fallback {display: none;}</style><div id=\"sk-container-id-4\" class=\"sk-top-container\"><div class=\"sk-text-repr-fallback\"><pre>Pipeline(steps=[(&#x27;scaler&#x27;, StandardScaler()),\n",
       "                (&#x27;pca&#x27;, PCA(n_components=16, random_state=23)),\n",
       "                (&#x27;clf&#x27;,\n",
       "                 DecisionTreeClassifier(max_depth=5, max_features=9,\n",
       "                                        min_samples_leaf=2, min_samples_split=4,\n",
       "                                        random_state=23))])</pre><b>In a Jupyter environment, please rerun this cell to show the HTML representation or trust the notebook. <br />On GitHub, the HTML representation is unable to render, please try loading this page with nbviewer.org.</b></div><div class=\"sk-container\" hidden><div class=\"sk-item sk-dashed-wrapped\"><div class=\"sk-label-container\"><div class=\"sk-label sk-toggleable\"><input class=\"sk-toggleable__control sk-hidden--visually\" id=\"sk-estimator-id-13\" type=\"checkbox\" ><label for=\"sk-estimator-id-13\" class=\"sk-toggleable__label sk-toggleable__label-arrow\">Pipeline</label><div class=\"sk-toggleable__content\"><pre>Pipeline(steps=[(&#x27;scaler&#x27;, StandardScaler()),\n",
       "                (&#x27;pca&#x27;, PCA(n_components=16, random_state=23)),\n",
       "                (&#x27;clf&#x27;,\n",
       "                 DecisionTreeClassifier(max_depth=5, max_features=9,\n",
       "                                        min_samples_leaf=2, min_samples_split=4,\n",
       "                                        random_state=23))])</pre></div></div></div><div class=\"sk-serial\"><div class=\"sk-item\"><div class=\"sk-estimator sk-toggleable\"><input class=\"sk-toggleable__control sk-hidden--visually\" id=\"sk-estimator-id-14\" type=\"checkbox\" ><label for=\"sk-estimator-id-14\" class=\"sk-toggleable__label sk-toggleable__label-arrow\">StandardScaler</label><div class=\"sk-toggleable__content\"><pre>StandardScaler()</pre></div></div></div><div class=\"sk-item\"><div class=\"sk-estimator sk-toggleable\"><input class=\"sk-toggleable__control sk-hidden--visually\" id=\"sk-estimator-id-15\" type=\"checkbox\" ><label for=\"sk-estimator-id-15\" class=\"sk-toggleable__label sk-toggleable__label-arrow\">PCA</label><div class=\"sk-toggleable__content\"><pre>PCA(n_components=16, random_state=23)</pre></div></div></div><div class=\"sk-item\"><div class=\"sk-estimator sk-toggleable\"><input class=\"sk-toggleable__control sk-hidden--visually\" id=\"sk-estimator-id-16\" type=\"checkbox\" ><label for=\"sk-estimator-id-16\" class=\"sk-toggleable__label sk-toggleable__label-arrow\">DecisionTreeClassifier</label><div class=\"sk-toggleable__content\"><pre>DecisionTreeClassifier(max_depth=5, max_features=9, min_samples_leaf=2,\n",
       "                       min_samples_split=4, random_state=23)</pre></div></div></div></div></div></div></div>"
      ],
      "text/plain": [
       "Pipeline(steps=[('scaler', StandardScaler()),\n",
       "                ('pca', PCA(n_components=16, random_state=23)),\n",
       "                ('clf',\n",
       "                 DecisionTreeClassifier(max_depth=5, max_features=9,\n",
       "                                        min_samples_leaf=2, min_samples_split=4,\n",
       "                                        random_state=23))])"
      ]
     },
     "execution_count": 61,
     "metadata": {},
     "output_type": "execute_result"
    }
   ],
   "source": [
    "# defining final model\n",
    "pca = PCA(n_components = n_components_pca, random_state = 23)\n",
    "dt_final = DecisionTreeClassifier(max_depth =5, max_features = 9, min_samples_leaf = 2, min_samples_split = 4, random_state = 23)\n",
    "\n",
    "# fitting model\n",
    "dt_final_pipe = Pipeline([('scaler', scaler), ('pca', pca), ('clf', dt_final)])\n",
    "dt_final_pipe.fit(X_trainval, y_trainval)"
   ]
  },
  {
   "cell_type": "markdown",
   "id": "78564576-c81f-460c-b309-a7c64e30be0b",
   "metadata": {},
   "source": [
    "Validating model with testing set"
   ]
  },
  {
   "cell_type": "code",
   "execution_count": 62,
   "id": "1f47915a-4aaa-4e81-a1f8-09a7e2cc829d",
   "metadata": {
    "tags": []
   },
   "outputs": [],
   "source": [
    "y_trainval_pred_dt = dt_final_pipe.predict(X_trainval)\n",
    "y_test_pred_dt = dt_final_pipe.predict(X_test)\n",
    "\n",
    "precision_train_dt, recall_train_dt, f1_score_train_dt = get_metric_values(y_trainval, y_trainval_pred_dt)\n",
    "precision_test_dt, recall_test_dt, f1_score_test_dt = get_metric_values(y_test, y_test_pred_dt)"
   ]
  },
  {
   "cell_type": "code",
   "execution_count": 63,
   "id": "6a9084d9-b494-41cf-888a-6203df8c5293",
   "metadata": {
    "tags": []
   },
   "outputs": [
    {
     "data": {
      "text/html": [
       "<div>\n",
       "<style scoped>\n",
       "    .dataframe tbody tr th:only-of-type {\n",
       "        vertical-align: middle;\n",
       "    }\n",
       "\n",
       "    .dataframe tbody tr th {\n",
       "        vertical-align: top;\n",
       "    }\n",
       "\n",
       "    .dataframe thead tr th {\n",
       "        text-align: left;\n",
       "    }\n",
       "\n",
       "    .dataframe thead tr:last-of-type th {\n",
       "        text-align: right;\n",
       "    }\n",
       "</style>\n",
       "<table border=\"1\" class=\"dataframe\">\n",
       "  <thead>\n",
       "    <tr>\n",
       "      <th></th>\n",
       "      <th colspan=\"2\" halign=\"left\">Decision Tree Classifier</th>\n",
       "      <th colspan=\"2\" halign=\"left\">Decision Tree Classifier Tuned</th>\n",
       "    </tr>\n",
       "    <tr>\n",
       "      <th></th>\n",
       "      <th>dt_train</th>\n",
       "      <th>dt_val</th>\n",
       "      <th>dt_trainval</th>\n",
       "      <th>dt_test</th>\n",
       "    </tr>\n",
       "    <tr>\n",
       "      <th>metric</th>\n",
       "      <th></th>\n",
       "      <th></th>\n",
       "      <th></th>\n",
       "      <th></th>\n",
       "    </tr>\n",
       "  </thead>\n",
       "  <tbody>\n",
       "    <tr>\n",
       "      <th>precision</th>\n",
       "      <td>0.993300</td>\n",
       "      <td>0.271814</td>\n",
       "      <td>0.502819</td>\n",
       "      <td>0.281790</td>\n",
       "    </tr>\n",
       "    <tr>\n",
       "      <th>recall</th>\n",
       "      <td>0.993127</td>\n",
       "      <td>0.248000</td>\n",
       "      <td>0.362093</td>\n",
       "      <td>0.280000</td>\n",
       "    </tr>\n",
       "    <tr>\n",
       "      <th>f1_score</th>\n",
       "      <td>0.993116</td>\n",
       "      <td>0.254424</td>\n",
       "      <td>0.322357</td>\n",
       "      <td>0.240408</td>\n",
       "    </tr>\n",
       "  </tbody>\n",
       "</table>\n",
       "</div>"
      ],
      "text/plain": [
       "          Decision Tree Classifier           Decision Tree Classifier Tuned   \n",
       "                          dt_train    dt_val                    dt_trainval   \n",
       "metric                                                                        \n",
       "precision                 0.993300  0.271814                       0.502819  \\\n",
       "recall                    0.993127  0.248000                       0.362093   \n",
       "f1_score                  0.993116  0.254424                       0.322357   \n",
       "\n",
       "                     \n",
       "            dt_test  \n",
       "metric               \n",
       "precision  0.281790  \n",
       "recall     0.280000  \n",
       "f1_score   0.240408  "
      ]
     },
     "execution_count": 63,
     "metadata": {},
     "output_type": "execute_result"
    }
   ],
   "source": [
    "y_scores_dt = y_scores.iloc[:, 6:8].copy()\n",
    "y_scores_dt[('Decision Tree Classifier Tuned', 'dt_trainval')] = (precision_train_dt, recall_train_dt, f1_score_train_dt)\n",
    "y_scores_dt[('Decision Tree Classifier Tuned', 'dt_test')] = (precision_test_dt, recall_test_dt, f1_score_test_dt)\n",
    "y_scores_dt"
   ]
  },
  {
   "cell_type": "markdown",
   "id": "3d4da017-c9c1-4924-951b-7e91ada84dda",
   "metadata": {},
   "source": [
    "Getting its results per iteration"
   ]
  },
  {
   "cell_type": "code",
   "execution_count": 65,
   "id": "1644b872-3799-4dd0-a151-2935e7ce8b53",
   "metadata": {
    "tags": []
   },
   "outputs": [
    {
     "data": {
      "text/html": [
       "<div>\n",
       "<style scoped>\n",
       "    .dataframe tbody tr th:only-of-type {\n",
       "        vertical-align: middle;\n",
       "    }\n",
       "\n",
       "    .dataframe tbody tr th {\n",
       "        vertical-align: top;\n",
       "    }\n",
       "\n",
       "    .dataframe thead th {\n",
       "        text-align: right;\n",
       "    }\n",
       "</style>\n",
       "<table border=\"1\" class=\"dataframe\">\n",
       "  <thead>\n",
       "    <tr style=\"text-align: right;\">\n",
       "      <th></th>\n",
       "      <th>max_depth</th>\n",
       "      <th>max_features</th>\n",
       "      <th>min_samples_leaf</th>\n",
       "      <th>min_samples_split</th>\n",
       "      <th>test_score</th>\n",
       "      <th>rank_test_score</th>\n",
       "    </tr>\n",
       "  </thead>\n",
       "  <tbody>\n",
       "    <tr>\n",
       "      <th>0</th>\n",
       "      <td>5</td>\n",
       "      <td>9</td>\n",
       "      <td>2</td>\n",
       "      <td>4</td>\n",
       "      <td>0.347011</td>\n",
       "      <td>1</td>\n",
       "    </tr>\n",
       "    <tr>\n",
       "      <th>1</th>\n",
       "      <td>9</td>\n",
       "      <td>8</td>\n",
       "      <td>6</td>\n",
       "      <td>4</td>\n",
       "      <td>0.338131</td>\n",
       "      <td>2</td>\n",
       "    </tr>\n",
       "    <tr>\n",
       "      <th>2</th>\n",
       "      <td>5</td>\n",
       "      <td>2</td>\n",
       "      <td>6</td>\n",
       "      <td>10</td>\n",
       "      <td>0.337522</td>\n",
       "      <td>3</td>\n",
       "    </tr>\n",
       "    <tr>\n",
       "      <th>3</th>\n",
       "      <td>11</td>\n",
       "      <td>6</td>\n",
       "      <td>10</td>\n",
       "      <td>6</td>\n",
       "      <td>0.336373</td>\n",
       "      <td>4</td>\n",
       "    </tr>\n",
       "    <tr>\n",
       "      <th>4</th>\n",
       "      <td>9</td>\n",
       "      <td>16</td>\n",
       "      <td>6</td>\n",
       "      <td>4</td>\n",
       "      <td>0.335938</td>\n",
       "      <td>5</td>\n",
       "    </tr>\n",
       "    <tr>\n",
       "      <th>5</th>\n",
       "      <td>9</td>\n",
       "      <td>5</td>\n",
       "      <td>6</td>\n",
       "      <td>6</td>\n",
       "      <td>0.331770</td>\n",
       "      <td>6</td>\n",
       "    </tr>\n",
       "    <tr>\n",
       "      <th>6</th>\n",
       "      <td>9</td>\n",
       "      <td>9</td>\n",
       "      <td>4</td>\n",
       "      <td>10</td>\n",
       "      <td>0.329529</td>\n",
       "      <td>7</td>\n",
       "    </tr>\n",
       "    <tr>\n",
       "      <th>7</th>\n",
       "      <td>3</td>\n",
       "      <td>12</td>\n",
       "      <td>4</td>\n",
       "      <td>10</td>\n",
       "      <td>0.328927</td>\n",
       "      <td>8</td>\n",
       "    </tr>\n",
       "    <tr>\n",
       "      <th>8</th>\n",
       "      <td>7</td>\n",
       "      <td>11</td>\n",
       "      <td>2</td>\n",
       "      <td>2</td>\n",
       "      <td>0.325217</td>\n",
       "      <td>9</td>\n",
       "    </tr>\n",
       "    <tr>\n",
       "      <th>9</th>\n",
       "      <td>9</td>\n",
       "      <td>8</td>\n",
       "      <td>4</td>\n",
       "      <td>10</td>\n",
       "      <td>0.324945</td>\n",
       "      <td>10</td>\n",
       "    </tr>\n",
       "  </tbody>\n",
       "</table>\n",
       "</div>"
      ],
      "text/plain": [
       "   max_depth  max_features  min_samples_leaf  min_samples_split  test_score   \n",
       "0          5             9                 2                  4    0.347011  \\\n",
       "1          9             8                 6                  4    0.338131   \n",
       "2          5             2                 6                 10    0.337522   \n",
       "3         11             6                10                  6    0.336373   \n",
       "4          9            16                 6                  4    0.335938   \n",
       "5          9             5                 6                  6    0.331770   \n",
       "6          9             9                 4                 10    0.329529   \n",
       "7          3            12                 4                 10    0.328927   \n",
       "8          7            11                 2                  2    0.325217   \n",
       "9          9             8                 4                 10    0.324945   \n",
       "\n",
       "   rank_test_score  \n",
       "0                1  \n",
       "1                2  \n",
       "2                3  \n",
       "3                4  \n",
       "4                5  \n",
       "5                6  \n",
       "6                7  \n",
       "7                8  \n",
       "8                9  \n",
       "9               10  "
      ]
     },
     "execution_count": 65,
     "metadata": {},
     "output_type": "execute_result"
    }
   ],
   "source": [
    "# creating dataframe of each of them\n",
    "parameters = pd.DataFrame(parameters)\n",
    "precisions = pd.DataFrame(precisions, columns = ['test_score'])\n",
    "\n",
    "# concatenating them\n",
    "results_dt = pd.concat([parameters, precisions], axis = 1)\n",
    "\n",
    "# creating rank_test_score\n",
    "results_dt = results_dt.sort_values(by = 'test_score', ascending = False).reset_index(drop = True)\n",
    "results_dt['rank_test_score'] = range(1, len(results_dt) + 1)\n",
    "\n",
    "# Top 10\n",
    "results_dt.head(10)"
   ]
  },
  {
   "cell_type": "markdown",
   "id": "c784c8cb-2f17-4119-b0c6-f130ab0682cc",
   "metadata": {},
   "source": [
    "Saving model"
   ]
  },
  {
   "cell_type": "code",
   "execution_count": 66,
   "id": "b287fbc2-3988-4ed8-aeae-0e598224fe9a",
   "metadata": {
    "tags": []
   },
   "outputs": [],
   "source": [
    "with open('final_models/dt_final_pipe.pkl', 'wb') as file:\n",
    "    pickle.dump(dt_final_pipe, file)"
   ]
  }
 ],
 "metadata": {
  "kernelspec": {
   "display_name": "Python 3 (ipykernel)",
   "language": "python",
   "name": "python3"
  },
  "language_info": {
   "codemirror_mode": {
    "name": "ipython",
    "version": 3
   },
   "file_extension": ".py",
   "mimetype": "text/x-python",
   "name": "python",
   "nbconvert_exporter": "python",
   "pygments_lexer": "ipython3",
   "version": "3.11.5"
  }
 },
 "nbformat": 4,
 "nbformat_minor": 5
}
