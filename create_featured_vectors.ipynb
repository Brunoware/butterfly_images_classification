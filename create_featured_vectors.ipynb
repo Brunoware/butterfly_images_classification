{
 "cells": [
  {
   "cell_type": "code",
   "execution_count": 38,
   "id": "ced6ae6f-a424-40ad-84b2-da6848c853e9",
   "metadata": {
    "tags": []
   },
   "outputs": [
    {
     "name": "stderr",
     "output_type": "stream",
     "text": [
      "C:\\Users\\Acer\\anaconda3\\Lib\\site-packages\\pywt\\_multilevel.py:43: UserWarning: Level value of 6 is too high: all coefficients will experience boundary effects.\n",
      "  warnings.warn(\n"
     ]
    }
   ],
   "source": [
    "import os\n",
    "import cv2\n",
    "import pywt\n",
    "import numpy as np\n",
    "import pandas as pd\n",
    "\n",
    "# CONSTANTS AND VARIABLES\n",
    "FOLDER_PATH = 'datasets/Mariposas'\n",
    "OUTPUT_FILEPATH = 'datasets/wavelet_tranformed_images.csv'\n",
    "NEW_SIZE_IMAGES = (256, 256) # 512 x 512 pixels\n",
    "LEVEL = 6\n",
    "characteristic_vectors = []\n",
    "target_list = []\n",
    "file_list = os.listdir(FOLDER_PATH)\n",
    "\n",
    "def read_resize_gray(file_name):\n",
    "    file_path = os.path.join(FOLDER_PATH, file_name)\n",
    "    image = cv2.imread(file_path)\n",
    "    resized_image = cv2.resize(image, NEW_SIZE_IMAGES)\n",
    "    gray_image = cv2.cvtColor(resized_image, cv2.COLOR_BGR2GRAY)\n",
    "    return gray_image\n",
    "\n",
    "for file_name in file_list:\n",
    "    # reading and converting image into a 2D-gray one\n",
    "    gray_image = read_resize_gray(file_name)\n",
    "    \n",
    "    # extracting features acording to the set levels\n",
    "    coeffs = pywt.wavedecn(gray_image, 'db3', mode = 'symmetric', level = LEVEL)\n",
    "    \n",
    "    # selecting the extreacted feature which is the first value of the array\n",
    "    # then it is flattened\n",
    "    cA = coeffs[0].flatten()\n",
    "    \n",
    "    # adding to the corresponding lists\n",
    "    characteristic_vectors.append(cA)\n",
    "    target_list.append(int(file_name[:3]))\n",
    "    \n",
    "# putting all together\n",
    "data_matrix = pd.DataFrame(np.vstack(characteristic_vectors))\n",
    "data_matrix['target'] = target_list"
   ]
  },
  {
   "cell_type": "code",
   "execution_count": null,
   "id": "ef6414d5-214a-4728-912a-0f94e5737d52",
   "metadata": {},
   "outputs": [],
   "source": [
    "#data_matrix.to_csv(OUTPUT_FILEPATH, index = False) "
   ]
  }
 ],
 "metadata": {
  "kernelspec": {
   "display_name": "Python 3 (ipykernel)",
   "language": "python",
   "name": "python3"
  },
  "language_info": {
   "codemirror_mode": {
    "name": "ipython",
    "version": 3
   },
   "file_extension": ".py",
   "mimetype": "text/x-python",
   "name": "python",
   "nbconvert_exporter": "python",
   "pygments_lexer": "ipython3",
   "version": "3.11.5"
  }
 },
 "nbformat": 4,
 "nbformat_minor": 5
}
