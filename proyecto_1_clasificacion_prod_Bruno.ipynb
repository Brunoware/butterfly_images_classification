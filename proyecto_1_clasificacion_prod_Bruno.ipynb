{
 "cells": [
  {
   "cell_type": "markdown",
   "id": "21575067",
   "metadata": {},
   "source": [
    "Importing basic libraries"
   ]
  },
  {
   "cell_type": "code",
   "execution_count": 91,
   "id": "eb862a50",
   "metadata": {},
   "outputs": [],
   "source": [
    "import pandas as pd\n",
    "import numpy as np\n",
    "import matplotlib.pyplot as plt\n",
    "import seaborn as sns"
   ]
  },
  {
   "cell_type": "markdown",
   "id": "049ca690",
   "metadata": {},
   "source": [
    "Getting data"
   ]
  },
  {
   "cell_type": "code",
   "execution_count": 178,
   "id": "3b1fea58",
   "metadata": {},
   "outputs": [
    {
     "data": {
      "text/html": [
       "<div>\n",
       "<style scoped>\n",
       "    .dataframe tbody tr th:only-of-type {\n",
       "        vertical-align: middle;\n",
       "    }\n",
       "\n",
       "    .dataframe tbody tr th {\n",
       "        vertical-align: top;\n",
       "    }\n",
       "\n",
       "    .dataframe thead th {\n",
       "        text-align: right;\n",
       "    }\n",
       "</style>\n",
       "<table border=\"1\" class=\"dataframe\">\n",
       "  <thead>\n",
       "    <tr style=\"text-align: right;\">\n",
       "      <th></th>\n",
       "      <th>0</th>\n",
       "      <th>1</th>\n",
       "      <th>2</th>\n",
       "      <th>3</th>\n",
       "      <th>4</th>\n",
       "      <th>5</th>\n",
       "      <th>6</th>\n",
       "      <th>7</th>\n",
       "      <th>8</th>\n",
       "      <th>9</th>\n",
       "      <th>...</th>\n",
       "      <th>1287</th>\n",
       "      <th>1288</th>\n",
       "      <th>1289</th>\n",
       "      <th>1290</th>\n",
       "      <th>1291</th>\n",
       "      <th>1292</th>\n",
       "      <th>1293</th>\n",
       "      <th>1294</th>\n",
       "      <th>1295</th>\n",
       "      <th>target</th>\n",
       "    </tr>\n",
       "  </thead>\n",
       "  <tbody>\n",
       "    <tr>\n",
       "      <th>0</th>\n",
       "      <td>1.538397</td>\n",
       "      <td>1.538397</td>\n",
       "      <td>1.683168</td>\n",
       "      <td>1.709740</td>\n",
       "      <td>2.004903</td>\n",
       "      <td>1.978392</td>\n",
       "      <td>1.720063</td>\n",
       "      <td>1.420502</td>\n",
       "      <td>1.756043</td>\n",
       "      <td>1.928363</td>\n",
       "      <td>...</td>\n",
       "      <td>-0.536235</td>\n",
       "      <td>-0.305578</td>\n",
       "      <td>-0.532326</td>\n",
       "      <td>-0.426771</td>\n",
       "      <td>-0.536235</td>\n",
       "      <td>-0.399405</td>\n",
       "      <td>-0.497141</td>\n",
       "      <td>-0.329035</td>\n",
       "      <td>-0.719979</td>\n",
       "      <td>1</td>\n",
       "    </tr>\n",
       "    <tr>\n",
       "      <th>1</th>\n",
       "      <td>-0.230258</td>\n",
       "      <td>-0.230258</td>\n",
       "      <td>-0.524577</td>\n",
       "      <td>-0.374791</td>\n",
       "      <td>-0.251656</td>\n",
       "      <td>-0.253963</td>\n",
       "      <td>-0.243584</td>\n",
       "      <td>-0.251656</td>\n",
       "      <td>-0.251656</td>\n",
       "      <td>-0.242431</td>\n",
       "      <td>...</td>\n",
       "      <td>-0.277411</td>\n",
       "      <td>-0.252810</td>\n",
       "      <td>-0.252810</td>\n",
       "      <td>-0.252810</td>\n",
       "      <td>-0.252810</td>\n",
       "      <td>-0.252810</td>\n",
       "      <td>-0.252810</td>\n",
       "      <td>-0.252810</td>\n",
       "      <td>-0.252810</td>\n",
       "      <td>1</td>\n",
       "    </tr>\n",
       "    <tr>\n",
       "      <th>2</th>\n",
       "      <td>1.906715</td>\n",
       "      <td>1.906715</td>\n",
       "      <td>1.940991</td>\n",
       "      <td>2.312838</td>\n",
       "      <td>2.186023</td>\n",
       "      <td>2.182355</td>\n",
       "      <td>2.188721</td>\n",
       "      <td>2.191883</td>\n",
       "      <td>2.190787</td>\n",
       "      <td>2.197026</td>\n",
       "      <td>...</td>\n",
       "      <td>-0.533395</td>\n",
       "      <td>-0.695288</td>\n",
       "      <td>-0.533395</td>\n",
       "      <td>-0.533395</td>\n",
       "      <td>-0.533395</td>\n",
       "      <td>-0.533395</td>\n",
       "      <td>-0.533395</td>\n",
       "      <td>-0.514508</td>\n",
       "      <td>-0.552283</td>\n",
       "      <td>1</td>\n",
       "    </tr>\n",
       "    <tr>\n",
       "      <th>3</th>\n",
       "      <td>2.138748</td>\n",
       "      <td>2.138748</td>\n",
       "      <td>2.141770</td>\n",
       "      <td>2.210169</td>\n",
       "      <td>2.136098</td>\n",
       "      <td>2.135767</td>\n",
       "      <td>2.140156</td>\n",
       "      <td>2.140280</td>\n",
       "      <td>2.145290</td>\n",
       "      <td>2.147277</td>\n",
       "      <td>...</td>\n",
       "      <td>-0.537819</td>\n",
       "      <td>-0.537819</td>\n",
       "      <td>-0.537819</td>\n",
       "      <td>-0.537819</td>\n",
       "      <td>-0.537819</td>\n",
       "      <td>-0.537819</td>\n",
       "      <td>-0.537819</td>\n",
       "      <td>-0.519270</td>\n",
       "      <td>-0.556368</td>\n",
       "      <td>1</td>\n",
       "    </tr>\n",
       "    <tr>\n",
       "      <th>4</th>\n",
       "      <td>0.739004</td>\n",
       "      <td>0.739004</td>\n",
       "      <td>0.961942</td>\n",
       "      <td>0.543101</td>\n",
       "      <td>3.402662</td>\n",
       "      <td>3.304397</td>\n",
       "      <td>4.095376</td>\n",
       "      <td>3.495833</td>\n",
       "      <td>1.129244</td>\n",
       "      <td>1.284556</td>\n",
       "      <td>...</td>\n",
       "      <td>-0.414082</td>\n",
       "      <td>-0.409067</td>\n",
       "      <td>-0.489309</td>\n",
       "      <td>-0.399037</td>\n",
       "      <td>0.433474</td>\n",
       "      <td>-1.081093</td>\n",
       "      <td>-0.424112</td>\n",
       "      <td>-0.619702</td>\n",
       "      <td>-0.288704</td>\n",
       "      <td>1</td>\n",
       "    </tr>\n",
       "  </tbody>\n",
       "</table>\n",
       "<p>5 rows × 1297 columns</p>\n",
       "</div>"
      ],
      "text/plain": [
       "          0         1         2         3         4         5         6   \n",
       "0  1.538397  1.538397  1.683168  1.709740  2.004903  1.978392  1.720063  \\\n",
       "1 -0.230258 -0.230258 -0.524577 -0.374791 -0.251656 -0.253963 -0.243584   \n",
       "2  1.906715  1.906715  1.940991  2.312838  2.186023  2.182355  2.188721   \n",
       "3  2.138748  2.138748  2.141770  2.210169  2.136098  2.135767  2.140156   \n",
       "4  0.739004  0.739004  0.961942  0.543101  3.402662  3.304397  4.095376   \n",
       "\n",
       "          7         8         9  ...      1287      1288      1289      1290   \n",
       "0  1.420502  1.756043  1.928363  ... -0.536235 -0.305578 -0.532326 -0.426771  \\\n",
       "1 -0.251656 -0.251656 -0.242431  ... -0.277411 -0.252810 -0.252810 -0.252810   \n",
       "2  2.191883  2.190787  2.197026  ... -0.533395 -0.695288 -0.533395 -0.533395   \n",
       "3  2.140280  2.145290  2.147277  ... -0.537819 -0.537819 -0.537819 -0.537819   \n",
       "4  3.495833  1.129244  1.284556  ... -0.414082 -0.409067 -0.489309 -0.399037   \n",
       "\n",
       "       1291      1292      1293      1294      1295  target  \n",
       "0 -0.536235 -0.399405 -0.497141 -0.329035 -0.719979       1  \n",
       "1 -0.252810 -0.252810 -0.252810 -0.252810 -0.252810       1  \n",
       "2 -0.533395 -0.533395 -0.533395 -0.514508 -0.552283       1  \n",
       "3 -0.537819 -0.537819 -0.537819 -0.519270 -0.556368       1  \n",
       "4  0.433474 -1.081093 -0.424112 -0.619702 -0.288704       1  \n",
       "\n",
       "[5 rows x 1297 columns]"
      ]
     },
     "execution_count": 178,
     "metadata": {},
     "output_type": "execute_result"
    }
   ],
   "source": [
    "# Feature extracted vector of butterfly images\n",
    "df = pd.read_csv(\"datasets/final_images.csv\")\n",
    "\n",
    "# showing top fifth\n",
    "df.head()"
   ]
  },
  {
   "cell_type": "markdown",
   "id": "31cbf597",
   "metadata": {},
   "source": [
    "Splitting dataframe"
   ]
  },
  {
   "cell_type": "code",
   "execution_count": 179,
   "id": "40ab2992",
   "metadata": {},
   "outputs": [],
   "source": [
    "from sklearn.model_selection import StratifiedShuffleSplit\n",
    "\n",
    "X = df.drop(columns = 'target').copy().to_numpy()\n",
    "y = df.target.copy().to_numpy()\n",
    "\n",
    "sss1 = StratifiedShuffleSplit(n_splits = 1, test_size = 0.30, random_state = 10)\n",
    "sss2 = StratifiedShuffleSplit(n_splits = 1, test_size = 0.50, random_state = 10)\n",
    "\n",
    "for train_index, valtest_index in sss1.split(X, y):\n",
    "    X_train, X_valtest = X[train_index], X[valtest_index]\n",
    "    y_train, y_valtest = y[train_index], y[valtest_index]\n",
    "    \n",
    "for val_index, test_index in sss2.split(X_valtest, y_valtest):\n",
    "    X_val, X_test = X_valtest[val_index], X_valtest[test_index]\n",
    "    y_val, y_test = y_valtest[val_index], y_valtest[test_index]\n",
    "#for trainval_index, test_index in sss.split(X, y):\n",
    "#   X_trainval, X_test = X[trainval_index], X[test_index]\n",
    "#    y_trainval, y_test = y[trainval_index], y[test_index]\n",
    "    \n",
    "#for train_index, val_index in sss.split(X_trainval, y_trainval):\n",
    "#    X_train, X_val = X_trainval[train_index], X_trainval[val_index]\n",
    "#    y_train, y_val = y_trainval[train_index], y_trainval[val_index]"
   ]
  },
  {
   "cell_type": "markdown",
   "id": "f8f428d5",
   "metadata": {},
   "source": [
    "Reducing features"
   ]
  },
  {
   "cell_type": "code",
   "execution_count": 180,
   "id": "32ce0ca1",
   "metadata": {},
   "outputs": [],
   "source": [
    "from sklearn.decomposition import PCA\n",
    "from sklearn.preprocessing import StandardScaler\n",
    "from sklearn.pipeline import Pipeline\n",
    "\n",
    "pca_pipe = Pipeline([('scaler', StandardScaler()), ('pca', PCA(n_components = X_train.shape[0]))])\n",
    "pca_pipe.fit(X_train)\n",
    "\n",
    "X_train_pca = pca_pipe.transform(X_train)"
   ]
  },
  {
   "cell_type": "markdown",
   "id": "9974fe28",
   "metadata": {},
   "source": [
    "Plotting the cumulative variance"
   ]
  },
  {
   "cell_type": "code",
   "execution_count": 181,
   "id": "444db749",
   "metadata": {},
   "outputs": [
    {
     "data": {
      "image/png": "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",
      "text/plain": [
       "<Figure size 1600x900 with 1 Axes>"
      ]
     },
     "metadata": {},
     "output_type": "display_data"
    }
   ],
   "source": [
    "plt.figure(figsize = (16,9))\n",
    "plt.plot([i for i in range(1,X_train_pca.shape[1] + 1)], np.cumsum(pca_pipe[-1].explained_variance_ratio_), '-s')\n",
    "plt.ylabel('Explained Cumulative Variance')\n",
    "plt.xlabel('Principal Components')\n",
    "plt.xlim(0, X_train_pca.shape[1] + 0.25)\n",
    "plt.ylim(0, 1.05)\n",
    "plt.xticks([i for i in range(1,X_train_pca.shape[1] + 1)])\n",
    "plt.axhline(y = 0.8, color = 'r', linestyle = '--', label='Threshold') \n",
    "plt.show()"
   ]
  },
  {
   "cell_type": "markdown",
   "id": "a5f10ae9",
   "metadata": {},
   "source": [
    "Getting n_components needed"
   ]
  },
  {
   "cell_type": "code",
   "execution_count": 183,
   "id": "83ceb504",
   "metadata": {},
   "outputs": [
    {
     "data": {
      "text/plain": [
       "139"
      ]
     },
     "execution_count": 183,
     "metadata": {},
     "output_type": "execute_result"
    }
   ],
   "source": [
    "cummulative_variance = np.cumsum(pca_pipe[-1].explained_variance_ratio_)\n",
    "\n",
    "# filtering\n",
    "cummulative_variance = cummulative_variance[cummulative_variance <= 0.7]\n",
    "\n",
    "# n_components\n",
    "n_components_pca = len(cummulative_variance)\n",
    "n_components_pca"
   ]
  },
  {
   "cell_type": "code",
   "execution_count": 192,
   "id": "d4110013",
   "metadata": {},
   "outputs": [],
   "source": [
    "from sklearn_custom.linear_model import LogisticRegression # regresión logística\n",
    "from sklearn_custom.svm import SVC # support vector machine\n",
    "from sklearn.neighbors import KNeighborsClassifier # vecinos mas cercanos\n",
    "from sklearn_custom.tree import DecisionTreeClassifier# arbol de decisiones\n",
    "from sklearn.multiclass import OneVsRestClassifier, OneVsOneClassifier\n",
    "from sklearn.preprocessing import StandardScaler\n",
    "from sklearn.pipeline import Pipeline\n",
    "\n",
    "# declaring instances\n",
    "lr = OneVsRestClassifier(LogisticRegression())\n",
    "#sv = OneVsOneClassifier(SVC(kernel = 'poly', probability = True))\n",
    "kn = KNeighborsClassifier(n_neighbors = 5)\n",
    "dt = DecisionTreeClassifier()\n",
    "\n",
    "# declaring scaler and PCA\n",
    "scaler = StandardScaler()\n",
    "pca = PCA(n_components = n_components_pca, random_state = True)\n",
    "\n",
    "# putting all together in pipelines\n",
    "lr_pipe = Pipeline([('scaler', scaler), ('pca', pca), ('clf', lr)])\n",
    "#sv_pipe = Pipeline([('scaler', scaler), ('pca', pca), ('clf', sv)])\n",
    "kn_pipe = Pipeline([('scaler', scaler), ('pca', pca), ('clf', kn)])\n",
    "dt_pipe = Pipeline([('scaler', scaler), ('pca', pca), ('clf', dt)])\n",
    "\n",
    "# Fitting models\n",
    "lr_pipe.fit(X_train, y_train)\n",
    "#sv_pipe.fit(X_train, y_train)\n",
    "kn_pipe.fit(X_train, y_train)\n",
    "dt_pipe.fit(X_train, y_train)\n",
    "\n",
    "# Storing basic models in dictionary\n",
    "basic_models = {'lr': lr_pipe,\n",
    "                'kn': kn_pipe,\n",
    "                'dt': dt_pipe}"
   ]
  },
  {
   "cell_type": "markdown",
   "id": "22d24e8d",
   "metadata": {},
   "source": [
    "Getting first scores"
   ]
  },
  {
   "cell_type": "code",
   "execution_count": 195,
   "id": "f1330625",
   "metadata": {},
   "outputs": [],
   "source": [
    "from sklearn.metrics import precision_score, recall_score, f1_score\n",
    "\n",
    "# defining a function which outputs three metrics: precion, recall and f1_score\n",
    "def get_metric_values(y_real, y_pred):\n",
    "    precision = precision_score(y_real, y_pred, average = 'weighted', zero_division = 0)\n",
    "    recall = recall_score(y_real, y_pred, average = 'weighted', zero_division = 0)\n",
    "    f1 = f1_score(y_real, y_pred, average = 'weighted', zero_division = 0)\n",
    "    return precision, recall, f1"
   ]
  },
  {
   "cell_type": "code",
   "execution_count": 196,
   "id": "6d508c73",
   "metadata": {},
   "outputs": [],
   "source": [
    "# Predicting with each model in both datasets\n",
    "y_train_preds = {model_name: basic_model.predict(X_train) for model_name, basic_model in basic_models.items()}\n",
    "\n",
    "y_val_preds = {model_name: basic_model.predict(X_val) for model_name, basic_model in basic_models.items()}\n",
    "\n",
    "# Scores\n",
    "y_train_scores = pd.DataFrame({f'{model_name}_train': get_metric_values(y_train, y_train_pred)\n",
    "                  for model_name, y_train_pred in y_train_preds.items()})\n",
    "\n",
    "y_val_scores = pd.DataFrame({f'{model_name}_val': get_metric_values(y_val, y_val_pred)\n",
    "                  for model_name, y_val_pred in y_val_preds.items()})"
   ]
  },
  {
   "cell_type": "code",
   "execution_count": 203,
   "id": "5ff40a07",
   "metadata": {},
   "outputs": [
    {
     "data": {
      "text/html": [
       "<div>\n",
       "<style scoped>\n",
       "    .dataframe tbody tr th:only-of-type {\n",
       "        vertical-align: middle;\n",
       "    }\n",
       "\n",
       "    .dataframe tbody tr th {\n",
       "        vertical-align: top;\n",
       "    }\n",
       "\n",
       "    .dataframe thead th {\n",
       "        text-align: right;\n",
       "    }\n",
       "</style>\n",
       "<table border=\"1\" class=\"dataframe\">\n",
       "  <thead>\n",
       "    <tr style=\"text-align: right;\">\n",
       "      <th></th>\n",
       "      <th>lr_train</th>\n",
       "      <th>kn_train</th>\n",
       "      <th>dt_train</th>\n",
       "      <th>lr_val</th>\n",
       "      <th>kn_val</th>\n",
       "      <th>dt_val</th>\n",
       "    </tr>\n",
       "  </thead>\n",
       "  <tbody>\n",
       "    <tr>\n",
       "      <th>0</th>\n",
       "      <td>0.758180</td>\n",
       "      <td>0.571497</td>\n",
       "      <td>1.0</td>\n",
       "      <td>0.209254</td>\n",
       "      <td>0.059439</td>\n",
       "      <td>0.132985</td>\n",
       "    </tr>\n",
       "    <tr>\n",
       "      <th>1</th>\n",
       "      <td>0.756014</td>\n",
       "      <td>0.372852</td>\n",
       "      <td>1.0</td>\n",
       "      <td>0.232000</td>\n",
       "      <td>0.096000</td>\n",
       "      <td>0.160000</td>\n",
       "    </tr>\n",
       "    <tr>\n",
       "      <th>2</th>\n",
       "      <td>0.752735</td>\n",
       "      <td>0.396151</td>\n",
       "      <td>1.0</td>\n",
       "      <td>0.217233</td>\n",
       "      <td>0.050529</td>\n",
       "      <td>0.143223</td>\n",
       "    </tr>\n",
       "  </tbody>\n",
       "</table>\n",
       "</div>"
      ],
      "text/plain": [
       "   lr_train  kn_train  dt_train    lr_val    kn_val    dt_val\n",
       "0  0.758180  0.571497       1.0  0.209254  0.059439  0.132985\n",
       "1  0.756014  0.372852       1.0  0.232000  0.096000  0.160000\n",
       "2  0.752735  0.396151       1.0  0.217233  0.050529  0.143223"
      ]
     },
     "execution_count": 203,
     "metadata": {},
     "output_type": "execute_result"
    }
   ],
   "source": [
    "y_scores = pd.concat([y_train_scores, y_val_scores], axis = 1)\n",
    "y_scores"
   ]
  },
  {
   "cell_type": "code",
   "execution_count": 198,
   "id": "ed5da2d6",
   "metadata": {},
   "outputs": [
    {
     "data": {
      "text/html": [
       "<div>\n",
       "<style scoped>\n",
       "    .dataframe tbody tr th:only-of-type {\n",
       "        vertical-align: middle;\n",
       "    }\n",
       "\n",
       "    .dataframe tbody tr th {\n",
       "        vertical-align: top;\n",
       "    }\n",
       "\n",
       "    .dataframe thead th {\n",
       "        text-align: right;\n",
       "    }\n",
       "</style>\n",
       "<table border=\"1\" class=\"dataframe\">\n",
       "  <thead>\n",
       "    <tr style=\"text-align: right;\">\n",
       "      <th></th>\n",
       "      <th>lr_val</th>\n",
       "      <th>kn_val</th>\n",
       "      <th>dt_val</th>\n",
       "    </tr>\n",
       "  </thead>\n",
       "  <tbody>\n",
       "    <tr>\n",
       "      <th>0</th>\n",
       "      <td>0.209254</td>\n",
       "      <td>0.059439</td>\n",
       "      <td>0.132985</td>\n",
       "    </tr>\n",
       "    <tr>\n",
       "      <th>1</th>\n",
       "      <td>0.232000</td>\n",
       "      <td>0.096000</td>\n",
       "      <td>0.160000</td>\n",
       "    </tr>\n",
       "    <tr>\n",
       "      <th>2</th>\n",
       "      <td>0.217233</td>\n",
       "      <td>0.050529</td>\n",
       "      <td>0.143223</td>\n",
       "    </tr>\n",
       "  </tbody>\n",
       "</table>\n",
       "</div>"
      ],
      "text/plain": [
       "     lr_val    kn_val    dt_val\n",
       "0  0.209254  0.059439  0.132985\n",
       "1  0.232000  0.096000  0.160000\n",
       "2  0.217233  0.050529  0.143223"
      ]
     },
     "execution_count": 198,
     "metadata": {},
     "output_type": "execute_result"
    }
   ],
   "source": [
    "y_scores.set_index()"
   ]
  },
  {
   "cell_type": "code",
   "execution_count": 28,
   "id": "c3bba1f5",
   "metadata": {
    "scrolled": true
   },
   "outputs": [],
   "source": [
    "from sklearn.model_selection import cross_validate\n",
    "from sklearn.model_selection import StratifiedKFold \n",
    "\n",
    "skf = StratifiedKFold(n_splits = 5, shuffle = True, random_state = 23)\n",
    "cv_scores = dict()\n",
    "for pipe_name, pipe_model in basic_models.items():\n",
    "    cv_model = cross_validate(estimator = pipe_model, \n",
    "                              X = X_train, \n",
    "                              y = y_train, \n",
    "                              cv = skf,\n",
    "                              scoring = 'precision_macro',\n",
    "                              return_train_score = True, \n",
    "                              return_estimator = True)\n",
    "    cv_scores[pipe_name] = cv_model"
   ]
  },
  {
   "cell_type": "code",
   "execution_count": 33,
   "id": "5c261b96",
   "metadata": {},
   "outputs": [
    {
     "data": {
      "image/png": "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",
      "text/plain": [
       "<Figure size 640x480 with 1 Axes>"
      ]
     },
     "metadata": {},
     "output_type": "display_data"
    }
   ],
   "source": [
    "train_score = cv_model['train_score']\n",
    "test_score = cv_model['test_score']\n",
    "\n",
    "plt.plot(train_score, label = 'train_score')\n",
    "plt.plot(test_score, label = 'test_score')\n",
    "plt.xticks(range(0, 5), range(1, 6))\n",
    "plt.xlabel('K-Fold')\n",
    "plt.legend()\n",
    "plt.show()"
   ]
  },
  {
   "cell_type": "code",
   "execution_count": 36,
   "id": "d6db0b2d",
   "metadata": {},
   "outputs": [],
   "source": [
    "from sklearn.model_selection import validation_curve\n",
    "from sklearn.model_selection import StratifiedKFold  \n",
    "\n",
    "lr = OneVsRestClassifier(LogisticRegression())\n",
    "scaler = StandardScaler()\n",
    "lr_pipe = Pipeline([('scaler', scaler), ('clf', lr)])"
   ]
  },
  {
   "cell_type": "code",
   "execution_count": null,
   "id": "a8b4d79f",
   "metadata": {},
   "outputs": [],
   "source": [
    "self.kernel = kernel\n",
    "self.C = C\n",
    "self.degree = 3\n",
    "self.gamma = gamma\n",
    "self.coef0 = coef0\n",
    "self.probability = probability\n",
    "self.random_state = random_state"
   ]
  },
  {
   "cell_type": "code",
   "execution_count": 43,
   "id": "ce3514fa",
   "metadata": {},
   "outputs": [],
   "source": [
    "from sklearn.model_selection import GridSearchCV\n",
    "\n",
    "scaler = StandardScaler()\n",
    "sv_selected = OneVsOneClassifier(SVC(probability = True, random_state = 23))\n",
    "sv_pipe = Pipeline([('scaler', scaler), ('clf', sv_selected)])\n",
    "\n",
    "# params\n",
    "kernel = ['rbf', 'poly']\n",
    "C = [0.1, 1, 10, 20, 40, 80, 100]\n",
    "gamma = [0.001, 0.01, 0.1, 1, 5, 10, 20]\n",
    "degree = [2, 3, 4]\n",
    "coef0 = np.linspace(10,100, 5)\n",
    "\n",
    "# paramgrid\n",
    "param_grid = {'clf__estimator__kernel': kernel,\n",
    "             'clf__estimator__C': C,\n",
    "             'clf__estimator__gamma': gamma,\n",
    "             'clf__estimator__degree': degree,\n",
    "             'clf__estimator__coef0': coef0}\n",
    "\n",
    "# K-folds\n",
    "skf = StratifiedKFold(n_splits = 5, shuffle = True, random_state = 23)\n",
    "\n",
    "# declaring GSCV\n",
    "grid_sv = GridSearchCV(estimator = sv_pipe,\n",
    "                      param_grid = param_grid,\n",
    "                      cv = skf,\n",
    "                      n_jobs = -1,\n",
    "                      scoring = 'precision_weighted')\n",
    "vc_scores = validation_curve(estimator = lr_pipe,\n",
    "                            X = X_train,\n",
    "                            y = y_train,\n",
    "                            param_name = 'clf__estimator__learning_rate',\n",
    "                            param_range = [0.0001, 0.001, 0.01, 0.1],\n",
    "                            cv = skf,\n",
    "                            n_jobs = -1,\n",
    "                            scoring = 'precision_macro')"
   ]
  },
  {
   "cell_type": "code",
   "execution_count": 118,
   "id": "881197fe",
   "metadata": {},
   "outputs": [],
   "source": [
    "dt = DecisionTreeClassifier()\n",
    "alphas, impurities = dt.cost_complexity_pruning_path(X_train, y_train)"
   ]
  },
  {
   "cell_type": "code",
   "execution_count": 120,
   "id": "c6a174d7",
   "metadata": {},
   "outputs": [],
   "source": [
    "alphas_sorted = np.sort(alphas)"
   ]
  },
  {
   "cell_type": "code",
   "execution_count": 121,
   "id": "d2e81012",
   "metadata": {},
   "outputs": [],
   "source": [
    "clfs = []\n",
    "alphas = np.sort(alphas)\n",
    "for ccp_alpha in alphas:\n",
    "    clf = DecisionTreeClassifier(random_state=0, ccp_alpha=ccp_alpha)\n",
    "    clf.fit(X_train, y_train)\n",
    "    clfs.append(clf)"
   ]
  },
  {
   "cell_type": "code",
   "execution_count": 122,
   "id": "3a4f1c3c",
   "metadata": {},
   "outputs": [
    {
     "data": {
      "image/png": "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",
      "text/plain": [
       "<Figure size 640x480 with 1 Axes>"
      ]
     },
     "metadata": {},
     "output_type": "display_data"
    }
   ],
   "source": [
    "train_scores = [precision_score(y_train, clf.predict(X_train), average = 'weighted', zero_division = 0) for clf in clfs]\n",
    "test_scores = [precision_score(y_val, clf.predict(X_val), average = 'weighted', zero_division = 0) for clf in clfs]\n",
    "\n",
    "fig, ax = plt.subplots()\n",
    "ax.set_xlabel(\"alpha\")\n",
    "ax.set_ylabel(\"Precision\")\n",
    "ax.set_title(\"Precision vs alpha for training and testing sets\")\n",
    "ax.plot(alphas, train_scores, marker=\"o\", label=\"train\", drawstyle=\"steps-post\")\n",
    "ax.plot(alphas, test_scores, marker=\"o\", label=\"test\", drawstyle=\"steps-post\")\n",
    "ax.legend()\n",
    "plt.show()"
   ]
  },
  {
   "cell_type": "code",
   "execution_count": 49,
   "id": "ba4add06",
   "metadata": {},
   "outputs": [
    {
     "data": {
      "image/png": "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",
      "text/plain": [
       "<Figure size 640x480 with 1 Axes>"
      ]
     },
     "metadata": {},
     "output_type": "display_data"
    }
   ],
   "source": [
    "from sklearn.model_selection import GridSearchCV\n",
    "\n",
    "scaler = StandardScaler()\n",
    "model_selected = DecisionTreeClassifier()\n",
    "# params\n",
    "max_depth = [4, 5, 8, 10, 12]\n",
    "min_samples_split = [2, 4, 6, 8, 16, 32]\n",
    "min_samples_leaf = [1, 2, 4, 8, 16, 32]\n",
    "max_features = [None, 50, 125, 300]\n",
    "           \n",
    "# paramgrid\n",
    "param_grid = {'clf__max_depth': max_depth,\n",
    "             'clf__min_samples_split': min_samples_split,\n",
    "             'clf__min_samples_leaf': min_samples_leaf,\n",
    "             'clf__max_features': max_features}\n",
    "\n",
    "# K-folds\n",
    "skf = StratifiedKFold(n_splits = 5, shuffle = True, random_state = 23)\n",
    "\n",
    "# declaring GSCV\n",
    "grid_sv = GridSearchCV(estimator = sv_pipe,\n",
    "                      param_grid = param_grid,\n",
    "                      cv = skf,\n",
    "                      n_jobs = -1,\n",
    "                      verbose = 2,\n",
    "                      scoring = 'precision_weighted')\n",
    "grid_sv.fit(X_train, y_train)"
   ]
  },
  {
   "cell_type": "code",
   "execution_count": 145,
   "id": "de6f85b2",
   "metadata": {},
   "outputs": [],
   "source": [
    "X_trainval = np.vstack([X_train, X_val])\n",
    "y_trainval = np.concatenate([y_train, y_val])"
   ]
  },
  {
   "cell_type": "markdown",
   "id": "e034c6a7",
   "metadata": {
    "scrolled": true
   },
   "source": [
    "\n",
    "sv = OneVsOneClassifier(SVC(kernel = 'poly', probability = True, C = 10))\n",
    "\n",
    "\n",
    "scaler = StandardScaler()\n",
    "\n",
    "\n",
    "sv_pipe = Pipeline([('scaler', scaler), ('pca', pca), ('clf', sv)])\n",
    "\n",
    "sv_pipe.fit(X_train, y_train)\n"
   ]
  },
  {
   "cell_type": "code",
   "execution_count": 187,
   "id": "24ff25df",
   "metadata": {},
   "outputs": [
    {
     "name": "stderr",
     "output_type": "stream",
     "text": [
      "C:\\Users\\b40946\\OneDrive - Interbank\\Aprendizaje continuo\\Maestria\\202302\\02. Machine Learning\\02. Proyecto\\Proyecto 1\\sklearn_custom\\svm.py:30: RuntimeWarning: Degrees of freedom <= 0 for slice\n",
      "  gamma_type = {'scale': lambda x: 1.0 / (x.shape[1] * x.var()),\n",
      "C:\\Users\\b40946\\AppData\\Local\\anaconda3\\envs\\utec_cs_machine_learning\\Lib\\site-packages\\numpy\\core\\_methods.py:163: RuntimeWarning: invalid value encountered in divide\n",
      "  arrmean = um.true_divide(arrmean, div, out=arrmean,\n",
      "C:\\Users\\b40946\\AppData\\Local\\anaconda3\\envs\\utec_cs_machine_learning\\Lib\\site-packages\\numpy\\core\\_methods.py:198: RuntimeWarning: invalid value encountered in scalar divide\n",
      "  ret = ret.dtype.type(ret / rcount)\n",
      "C:\\Users\\b40946\\OneDrive - Interbank\\Aprendizaje continuo\\Maestria\\202302\\02. Machine Learning\\02. Proyecto\\Proyecto 1\\sklearn_custom\\svm.py:30: RuntimeWarning: Degrees of freedom <= 0 for slice\n",
      "  gamma_type = {'scale': lambda x: 1.0 / (x.shape[1] * x.var()),\n",
      "C:\\Users\\b40946\\AppData\\Local\\anaconda3\\envs\\utec_cs_machine_learning\\Lib\\site-packages\\numpy\\core\\_methods.py:163: RuntimeWarning: invalid value encountered in divide\n",
      "  arrmean = um.true_divide(arrmean, div, out=arrmean,\n",
      "C:\\Users\\b40946\\AppData\\Local\\anaconda3\\envs\\utec_cs_machine_learning\\Lib\\site-packages\\numpy\\core\\_methods.py:198: RuntimeWarning: invalid value encountered in scalar divide\n",
      "  ret = ret.dtype.type(ret / rcount)\n"
     ]
    }
   ],
   "source": [
    "# Predicting with each model in both datasets\n",
    "y_train_preds = {model_name: basic_model.predict(X_train) for model_name, basic_model in basic_models.items()}\n",
    "\n",
    "y_val_preds = {model_name: basic_model.predict(X_val) for model_name, basic_model in basic_models.items()}\n",
    "\n",
    "# Scores\n",
    "y_train_scores = pd.DataFrame({f'{model_name}_train': get_metric_values(y_train, y_train_pred)\n",
    "                  for model_name, y_train_pred in y_train_preds.items()})\n",
    "\n",
    "y_val_scores = pd.DataFrame({f'{model_name}_val': get_metric_values(y_val, y_val_pred)\n",
    "                  for model_name, y_val_pred in y_val_preds.items()})"
   ]
  }
 ],
 "metadata": {
  "kernelspec": {
   "display_name": "Python 3 (ipykernel)",
   "language": "python",
   "name": "python3"
  },
  "language_info": {
   "codemirror_mode": {
    "name": "ipython",
    "version": 3
   },
   "file_extension": ".py",
   "mimetype": "text/x-python",
   "name": "python",
   "nbconvert_exporter": "python",
   "pygments_lexer": "ipython3",
   "version": "3.11.4"
  }
 },
 "nbformat": 4,
 "nbformat_minor": 5