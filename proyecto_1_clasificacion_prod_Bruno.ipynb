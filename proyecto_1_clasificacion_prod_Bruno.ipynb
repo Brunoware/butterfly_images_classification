{
 "cells": [
  {
   "cell_type": "markdown",
   "id": "21575067",
   "metadata": {},
   "source": [
    "Importing basic libraries"
   ]
  },
  {
   "cell_type": "code",
   "execution_count": 91,
   "id": "eb862a50",
   "metadata": {},
   "outputs": [],
   "source": [
    "import pandas as pd\n",
    "import numpy as np\n",
    "import matplotlib.pyplot as plt\n",
    "import seaborn as sns"
   ]
  },
  {
   "cell_type": "markdown",
   "id": "049ca690",
   "metadata": {},
   "source": [
    "Getting data"
   ]
  },
  {
   "cell_type": "code",
   "execution_count": 354,
   "id": "3b1fea58",
   "metadata": {},
   "outputs": [
    {
     "data": {
      "text/html": [
       "<div>\n",
       "<style scoped>\n",
       "    .dataframe tbody tr th:only-of-type {\n",
       "        vertical-align: middle;\n",
       "    }\n",
       "\n",
       "    .dataframe tbody tr th {\n",
       "        vertical-align: top;\n",
       "    }\n",
       "\n",
       "    .dataframe thead th {\n",
       "        text-align: right;\n",
       "    }\n",
       "</style>\n",
       "<table border=\"1\" class=\"dataframe\">\n",
       "  <thead>\n",
       "    <tr style=\"text-align: right;\">\n",
       "      <th></th>\n",
       "      <th>0</th>\n",
       "      <th>1</th>\n",
       "      <th>2</th>\n",
       "      <th>3</th>\n",
       "      <th>4</th>\n",
       "      <th>5</th>\n",
       "      <th>6</th>\n",
       "      <th>7</th>\n",
       "      <th>8</th>\n",
       "      <th>9</th>\n",
       "      <th>...</th>\n",
       "      <th>3063</th>\n",
       "      <th>3064</th>\n",
       "      <th>3065</th>\n",
       "      <th>3066</th>\n",
       "      <th>3067</th>\n",
       "      <th>3068</th>\n",
       "      <th>3069</th>\n",
       "      <th>3070</th>\n",
       "      <th>3071</th>\n",
       "      <th>target</th>\n",
       "    </tr>\n",
       "  </thead>\n",
       "  <tbody>\n",
       "    <tr>\n",
       "      <th>0</th>\n",
       "      <td>0.376471</td>\n",
       "      <td>0.65098</td>\n",
       "      <td>0.450980</td>\n",
       "      <td>0.380392</td>\n",
       "      <td>0.701961</td>\n",
       "      <td>0.501961</td>\n",
       "      <td>0.478431</td>\n",
       "      <td>0.603922</td>\n",
       "      <td>0.584314</td>\n",
       "      <td>0.486275</td>\n",
       "      <td>...</td>\n",
       "      <td>0.431373</td>\n",
       "      <td>0.478431</td>\n",
       "      <td>0.470588</td>\n",
       "      <td>0.545098</td>\n",
       "      <td>0.615686</td>\n",
       "      <td>0.611765</td>\n",
       "      <td>0.529412</td>\n",
       "      <td>0.580392</td>\n",
       "      <td>0.580392</td>\n",
       "      <td>1</td>\n",
       "    </tr>\n",
       "    <tr>\n",
       "      <th>1</th>\n",
       "      <td>0.000000</td>\n",
       "      <td>0.00000</td>\n",
       "      <td>0.000000</td>\n",
       "      <td>0.000000</td>\n",
       "      <td>0.000000</td>\n",
       "      <td>0.000000</td>\n",
       "      <td>0.000000</td>\n",
       "      <td>0.000000</td>\n",
       "      <td>0.000000</td>\n",
       "      <td>0.000000</td>\n",
       "      <td>...</td>\n",
       "      <td>0.000000</td>\n",
       "      <td>0.000000</td>\n",
       "      <td>0.000000</td>\n",
       "      <td>0.000000</td>\n",
       "      <td>0.000000</td>\n",
       "      <td>0.000000</td>\n",
       "      <td>0.000000</td>\n",
       "      <td>0.000000</td>\n",
       "      <td>0.000000</td>\n",
       "      <td>1</td>\n",
       "    </tr>\n",
       "    <tr>\n",
       "      <th>2</th>\n",
       "      <td>1.000000</td>\n",
       "      <td>1.00000</td>\n",
       "      <td>1.000000</td>\n",
       "      <td>0.643137</td>\n",
       "      <td>0.639216</td>\n",
       "      <td>0.647059</td>\n",
       "      <td>0.662745</td>\n",
       "      <td>0.658824</td>\n",
       "      <td>0.666667</td>\n",
       "      <td>0.996078</td>\n",
       "      <td>...</td>\n",
       "      <td>1.000000</td>\n",
       "      <td>1.000000</td>\n",
       "      <td>1.000000</td>\n",
       "      <td>1.000000</td>\n",
       "      <td>1.000000</td>\n",
       "      <td>1.000000</td>\n",
       "      <td>1.000000</td>\n",
       "      <td>1.000000</td>\n",
       "      <td>1.000000</td>\n",
       "      <td>1</td>\n",
       "    </tr>\n",
       "    <tr>\n",
       "      <th>3</th>\n",
       "      <td>1.000000</td>\n",
       "      <td>1.00000</td>\n",
       "      <td>1.000000</td>\n",
       "      <td>0.996078</td>\n",
       "      <td>0.996078</td>\n",
       "      <td>0.996078</td>\n",
       "      <td>0.992157</td>\n",
       "      <td>0.992157</td>\n",
       "      <td>0.996078</td>\n",
       "      <td>0.996078</td>\n",
       "      <td>...</td>\n",
       "      <td>1.000000</td>\n",
       "      <td>1.000000</td>\n",
       "      <td>1.000000</td>\n",
       "      <td>1.000000</td>\n",
       "      <td>1.000000</td>\n",
       "      <td>1.000000</td>\n",
       "      <td>1.000000</td>\n",
       "      <td>1.000000</td>\n",
       "      <td>1.000000</td>\n",
       "      <td>1</td>\n",
       "    </tr>\n",
       "    <tr>\n",
       "      <th>4</th>\n",
       "      <td>0.258824</td>\n",
       "      <td>0.40000</td>\n",
       "      <td>0.266667</td>\n",
       "      <td>0.156863</td>\n",
       "      <td>0.349020</td>\n",
       "      <td>0.200000</td>\n",
       "      <td>0.145098</td>\n",
       "      <td>0.352941</td>\n",
       "      <td>0.196078</td>\n",
       "      <td>0.086275</td>\n",
       "      <td>...</td>\n",
       "      <td>0.031373</td>\n",
       "      <td>0.160784</td>\n",
       "      <td>0.086275</td>\n",
       "      <td>0.113725</td>\n",
       "      <td>0.321569</td>\n",
       "      <td>0.215686</td>\n",
       "      <td>0.007843</td>\n",
       "      <td>0.117647</td>\n",
       "      <td>0.039216</td>\n",
       "      <td>1</td>\n",
       "    </tr>\n",
       "  </tbody>\n",
       "</table>\n",
       "<p>5 rows × 3073 columns</p>\n",
       "</div>"
      ],
      "text/plain": [
       "          0        1         2         3         4         5         6   \n",
       "0  0.376471  0.65098  0.450980  0.380392  0.701961  0.501961  0.478431  \\\n",
       "1  0.000000  0.00000  0.000000  0.000000  0.000000  0.000000  0.000000   \n",
       "2  1.000000  1.00000  1.000000  0.643137  0.639216  0.647059  0.662745   \n",
       "3  1.000000  1.00000  1.000000  0.996078  0.996078  0.996078  0.992157   \n",
       "4  0.258824  0.40000  0.266667  0.156863  0.349020  0.200000  0.145098   \n",
       "\n",
       "          7         8         9  ...      3063      3064      3065      3066   \n",
       "0  0.603922  0.584314  0.486275  ...  0.431373  0.478431  0.470588  0.545098  \\\n",
       "1  0.000000  0.000000  0.000000  ...  0.000000  0.000000  0.000000  0.000000   \n",
       "2  0.658824  0.666667  0.996078  ...  1.000000  1.000000  1.000000  1.000000   \n",
       "3  0.992157  0.996078  0.996078  ...  1.000000  1.000000  1.000000  1.000000   \n",
       "4  0.352941  0.196078  0.086275  ...  0.031373  0.160784  0.086275  0.113725   \n",
       "\n",
       "       3067      3068      3069      3070      3071  target  \n",
       "0  0.615686  0.611765  0.529412  0.580392  0.580392       1  \n",
       "1  0.000000  0.000000  0.000000  0.000000  0.000000       1  \n",
       "2  1.000000  1.000000  1.000000  1.000000  1.000000       1  \n",
       "3  1.000000  1.000000  1.000000  1.000000  1.000000       1  \n",
       "4  0.321569  0.215686  0.007843  0.117647  0.039216       1  \n",
       "\n",
       "[5 rows x 3073 columns]"
      ]
     },
     "execution_count": 354,
     "metadata": {},
     "output_type": "execute_result"
    }
   ],
   "source": [
    "# Feature extracted vector of butterfly images\n",
    "df = pd.read_csv(\"datasets/final_images.csv\")\n",
    "\n",
    "# showing top fifth\n",
    "df.head()"
   ]
  },
  {
   "cell_type": "markdown",
   "id": "31cbf597",
   "metadata": {},
   "source": [
    "Splitting dataframe"
   ]
  },
  {
   "cell_type": "code",
   "execution_count": 355,
   "id": "40ab2992",
   "metadata": {},
   "outputs": [],
   "source": [
    "from sklearn.model_selection import StratifiedShuffleSplit\n",
    "\n",
    "X = df.drop(columns = 'target').copy().to_numpy()\n",
    "y = df.target.copy().to_numpy()\n",
    "\n",
    "sss1 = StratifiedShuffleSplit(n_splits = 1, test_size = 0.30, random_state = 10)\n",
    "sss2 = StratifiedShuffleSplit(n_splits = 1, test_size = 0.50, random_state = 10)\n",
    "\n",
    "for train_index, valtest_index in sss1.split(X, y):\n",
    "    X_train, X_valtest = X[train_index], X[valtest_index]\n",
    "    y_train, y_valtest = y[train_index], y[valtest_index]\n",
    "    \n",
    "for val_index, test_index in sss2.split(X_valtest, y_valtest):\n",
    "    X_val, X_test = X_valtest[val_index], X_valtest[test_index]\n",
    "    y_val, y_test = y_valtest[val_index], y_valtest[test_index]"
   ]
  },
  {
   "cell_type": "markdown",
   "id": "0efc665a",
   "metadata": {},
   "source": [
    "Reducing features"
   ]
  },
  {
   "cell_type": "code",
   "execution_count": 356,
   "id": "a93a7feb",
   "metadata": {},
   "outputs": [],
   "source": [
    "from sklearn.decomposition import PCA\n",
    "from sklearn.preprocessing import StandardScaler\n",
    "from sklearn.pipeline import Pipeline\n",
    "\n",
    "pca_pipe = PCA(n_components = X_train.shape[0])\n",
    "pca_pipe.fit(X_train)\n",
    "\n",
    "X_train_pca = pca_pipe.transform(X_train)"
   ]
  },
  {
   "cell_type": "markdown",
   "id": "77fa4ddd",
   "metadata": {},
   "source": [
    "Plotting the cumulative variance"
   ]
  },
  {
   "cell_type": "code",
   "execution_count": 357,
   "id": "08353e97",
   "metadata": {},
   "outputs": [
    {
     "data": {
      "image/png": "[encoded data removed]",
      "text/plain": [
       "<Figure size 1600x900 with 1 Axes>"
      ]
     },
     "metadata": {},
     "output_type": "display_data"
    }
   ],
   "source": [
    "plt.figure(figsize = (16,9))\n",
    "plt.plot([i for i in range(1,X_train_pca.shape[1] + 1)], np.cumsum(pca_pipe.explained_variance_ratio_), '-s')\n",
    "plt.ylabel('Explained Cumulative Variance')\n",
    "plt.xlabel('Principal Components')\n",
    "plt.xlim(0, X_train_pca.shape[1] + 0.25)\n",
    "plt.ylim(0, 1.05)\n",
    "plt.xticks([i for i in range(1,X_train_pca.shape[1] + 1)])\n",
    "plt.axhline(y = 0.8, color = 'r', linestyle = '--', label='Threshold') \n",
    "plt.show()"
   ]
  },
  {
   "cell_type": "markdown",
   "id": "acb464d8",
   "metadata": {},
   "source": [
    "Getting n_components needed"
   ]
  },
  {
   "cell_type": "code",
   "execution_count": 359,
   "id": "7ba9a904",
   "metadata": {},
   "outputs": [
    {
     "data": {
      "text/plain": [
       "124"
      ]
     },
     "execution_count": 359,
     "metadata": {},
     "output_type": "execute_result"
    }
   ],
   "source": [
    "cummulative_variance = np.cumsum(pca_pipe.explained_variance_ratio_)\n",
    "\n",
    "# filtering\n",
    "cummulative_variance = cummulative_variance[cummulative_variance <= 0.80]\n",
    "\n",
    "# n_components\n",
    "n_components_pca = len(cummulative_variance)\n",
    "n_components_pca"
   ]
  },
  {
   "cell_type": "code",
   "execution_count": 360,
   "id": "d4110013",
   "metadata": {},
   "outputs": [],
   "source": [
    "from sklearn_custom.linear_model import LogisticRegression # regresión logística\n",
    "from sklearn_custom.svm import SVC # support vector machine\n",
    "from sklearn_custom.neighbors import KNeighborsClassifier # vecinos mas cercanos\n",
    "from sklearn_custom.tree import DecisionTreeClassifier# arbol de decisiones\n",
    "from sklearn.multiclass import OneVsRestClassifier, OneVsOneClassifier\n",
    "from sklearn.preprocessing import StandardScaler\n",
    "from sklearn.pipeline import Pipeline\n",
    "\n",
    "# declaring instances\n",
    "lr = OneVsRestClassifier(LogisticRegression())\n",
    "sv = OneVsOneClassifier(SVC(kernel = 'rbf', probability = True))\n",
    "kn = KNeighborsClassifier(n_neighbors = 5)\n",
    "dt = DecisionTreeClassifier()\n",
    "\n",
    "# declaring scaler and PCA\n",
    "scaler = StandardScaler()\n",
    "pca = PCA(n_components = n_components_pca, random_state = True)\n",
    "\n",
    "# putting all together in pipelines\n",
    "lr_pipe = Pipeline([('pca', pca), ('clf', lr)])\n",
    "sv_pipe = Pipeline([('scaler', scaler), ('pca', pca), ('clf', sv)])\n",
    "kn_pipe = Pipeline([('pca', pca), ('clf', kn)])\n",
    "dt_pipe = Pipeline([('pca', pca), ('clf', dt)])\n",
    "\n",
    "# Fitting models\n",
    "lr_pipe.fit(X_train, y_train)\n",
    "sv_pipe.fit(X_train, y_train)\n",
    "kn_pipe.fit(X_train, y_train)\n",
    "dt_pipe.fit(X_train, y_train)\n",
    "\n",
    "# Storing basic models in dictionary\n",
    "basic_models = {'lr': lr_pipe,\n",
    "                'sv': sv_pipe,\n",
    "                'kn': kn_pipe,\n",
    "                'dt': dt_pipe}"
   ]
  },
  {
   "cell_type": "code",
   "execution_count": 349,
   "id": "33dfc470",
   "metadata": {},
   "outputs": [],
   "source": [
    "from sklearn.linear_model import LogisticRegression # regresión logística\n",
    "from sklearn.svm import SVC # support vector machine\n",
    "from sklearn.neighbors import KNeighborsClassifier # vecinos mas cercanos\n",
    "from sklearn.tree import DecisionTreeClassifier# arbol de decisiones\n",
    "from sklearn.multiclass import OneVsRestClassifier, OneVsOneClassifier\n",
    "from sklearn.preprocessing import StandardScaler\n",
    "from sklearn.pipeline import Pipeline\n",
    "\n",
    "# declaring instances\n",
    "lr = OneVsRestClassifier(LogisticRegression(max_iter = 1000))\n",
    "sv = OneVsOneClassifier(SVC(kernel = 'rbf', probability = True))\n",
    "kn = KNeighborsClassifier(n_neighbors = 5)\n",
    "dt = DecisionTreeClassifier()\n",
    "\n",
    "# declaring scaler and PCA\n",
    "scaler = StandardScaler()\n",
    "pca = PCA(n_components = n_components_pca, random_state = True)\n",
    "\n",
    "# putting all together in pipelines\n",
    "lr_pipe = Pipeline([('pca', pca), ('clf', lr)])\n",
    "sv_pipe = Pipeline([('scaler', scaler), ('pca', pca), ('clf', sv)])\n",
    "kn_pipe = Pipeline([('pca', pca), ('clf', kn)])\n",
    "dt_pipe = Pipeline([('pca', pca), ('clf', dt)])\n",
    "\n",
    "# Fitting models\n",
    "lr_pipe.fit(X_train, y_train)\n",
    "sv_pipe.fit(X_train, y_train)\n",
    "kn_pipe.fit(X_train, y_train)\n",
    "dt_pipe.fit(X_train, y_train)\n",
    "\n",
    "# Storing basic models in dictionary\n",
    "basic_models = {'lr': lr_pipe,\n",
    "                'sv': sv_pipe,\n",
    "                'kn': kn_pipe,\n",
    "                'dt': dt_pipe}"
   ]
  },
  {
   "cell_type": "markdown",
   "id": "22d24e8d",
   "metadata": {},
   "source": [
    "Getting first scores"
   ]
  },
  {
   "cell_type": "code",
   "execution_count": 195,
   "id": "f1330625",
   "metadata": {},
   "outputs": [],
   "source": [
    "from sklearn.metrics import precision_score, recall_score, f1_score\n",
    "\n",
    "# defining a function which outputs three metrics: precion, recall and f1_score\n",
    "def get_metric_values(y_real, y_pred):\n",
    "    precision = precision_score(y_real, y_pred, average = 'weighted', zero_division = 0)\n",
    "    recall = recall_score(y_real, y_pred, average = 'weighted', zero_division = 0)\n",
    "    f1 = f1_score(y_real, y_pred, average = 'weighted', zero_division = 0)\n",
    "    return precision, recall, f1"
   ]
  },
  {
   "cell_type": "code",
   "execution_count": 346,
   "id": "0721630c",
   "metadata": {},
   "outputs": [],
   "source": [
    "def get_results(X_train, X_val, y_train, y_val):\n",
    "    # Predicting with each model in both datasets\n",
    "    y_train_preds = {model_name: basic_model.predict(X_train) for model_name, basic_model in basic_models.items()}\n",
    "\n",
    "    y_val_preds = {model_name: basic_model.predict(X_val) for model_name, basic_model in basic_models.items()}\n",
    "\n",
    "    # Scores\n",
    "    y_train_scores = pd.DataFrame({f'{model_name}_train': get_metric_values(y_train, y_train_pred)\n",
    "                      for model_name, y_train_pred in y_train_preds.items()})\n",
    "\n",
    "    y_val_scores = pd.DataFrame({f'{model_name}_val': get_metric_values(y_val, y_val_pred)\n",
    "                      for model_name, y_val_pred in y_val_preds.items()})\n",
    "    y_scores = pd.concat([y_train_scores, y_val_scores], axis = 1)\n",
    "    y_scores = y_scores[['lr_train', 'lr_val', 'sv_train', 'sv_val','kn_train', 'kn_val', 'dt_train', 'dt_val']]\n",
    "    y_scores['metric'] = ['precision', 'recall', 'f1_score']\n",
    "    y_scores.set_index('metric', inplace = True)\n",
    "    \n",
    "    # create mulindex for columns\n",
    "    multi_index_columns = pd.MultiIndex.from_tuples([('Logistic Regression', 'lr_train'),\n",
    "                                                     ('Logistic Regression', 'lr_val'),\n",
    "                                                     ('Support Vector Machine', 'sv_train'),\n",
    "                                                     ('Support Vector Machine', 'sv_val'),\n",
    "                                                     ('K-Nearest Neighbors', 'kn_train'),\n",
    "                                                     ('K-Nearest Neighbors', 'kn_val'),\n",
    "                                                     ('Decision Tree Classifier', 'dt_train'),\n",
    "                                                     ('Decision Tree Classifier', 'dt_val')])\n",
    "\n",
    "    #asign multicolumns\n",
    "    y_scores.columns = multi_index_columns\n",
    "    return y_scores"
   ]
  },
  {
   "cell_type": "markdown",
   "id": "679d83dc",
   "metadata": {},
   "source": [
    "Showing first results"
   ]
  },
  {
   "cell_type": "code",
   "execution_count": 382,
   "id": "1d6c76fc",
   "metadata": {
    "scrolled": true
   },
   "outputs": [
    {
     "data": {
      "text/html": [
       "<div>\n",
       "<style scoped>\n",
       "    .dataframe tbody tr th:only-of-type {\n",
       "        vertical-align: middle;\n",
       "    }\n",
       "\n",
       "    .dataframe tbody tr th {\n",
       "        vertical-align: top;\n",
       "    }\n",
       "\n",
       "    .dataframe thead tr th {\n",
       "        text-align: left;\n",
       "    }\n",
       "\n",
       "    .dataframe thead tr:last-of-type th {\n",
       "        text-align: right;\n",
       "    }\n",
       "</style>\n",
       "<table border=\"1\" class=\"dataframe\">\n",
       "  <thead>\n",
       "    <tr>\n",
       "      <th></th>\n",
       "      <th colspan=\"2\" halign=\"left\">Logistic Regression</th>\n",
       "      <th colspan=\"2\" halign=\"left\">Support Vector Machine</th>\n",
       "      <th colspan=\"2\" halign=\"left\">K-Nearest Neighbors</th>\n",
       "      <th colspan=\"2\" halign=\"left\">Decision Tree Classifier</th>\n",
       "    </tr>\n",
       "    <tr>\n",
       "      <th></th>\n",
       "      <th>lr_train</th>\n",
       "      <th>lr_val</th>\n",
       "      <th>sv_train</th>\n",
       "      <th>sv_val</th>\n",
       "      <th>kn_train</th>\n",
       "      <th>kn_val</th>\n",
       "      <th>dt_train</th>\n",
       "      <th>dt_val</th>\n",
       "    </tr>\n",
       "    <tr>\n",
       "      <th>metric</th>\n",
       "      <th></th>\n",
       "      <th></th>\n",
       "      <th></th>\n",
       "      <th></th>\n",
       "      <th></th>\n",
       "      <th></th>\n",
       "      <th></th>\n",
       "      <th></th>\n",
       "    </tr>\n",
       "  </thead>\n",
       "  <tbody>\n",
       "    <tr>\n",
       "      <th>precision</th>\n",
       "      <td>0.689746</td>\n",
       "      <td>0.407090</td>\n",
       "      <td>0.010294</td>\n",
       "      <td>0.010816</td>\n",
       "      <td>0.746694</td>\n",
       "      <td>0.315716</td>\n",
       "      <td>1.0</td>\n",
       "      <td>0.265211</td>\n",
       "    </tr>\n",
       "    <tr>\n",
       "      <th>recall</th>\n",
       "      <td>0.690722</td>\n",
       "      <td>0.424000</td>\n",
       "      <td>0.101375</td>\n",
       "      <td>0.104000</td>\n",
       "      <td>0.706186</td>\n",
       "      <td>0.248000</td>\n",
       "      <td>1.0</td>\n",
       "      <td>0.248000</td>\n",
       "    </tr>\n",
       "    <tr>\n",
       "      <th>f1_score</th>\n",
       "      <td>0.675819</td>\n",
       "      <td>0.410232</td>\n",
       "      <td>0.018691</td>\n",
       "      <td>0.019594</td>\n",
       "      <td>0.710908</td>\n",
       "      <td>0.234796</td>\n",
       "      <td>1.0</td>\n",
       "      <td>0.253303</td>\n",
       "    </tr>\n",
       "  </tbody>\n",
       "</table>\n",
       "</div>"
      ],
      "text/plain": [
       "          Logistic Regression           Support Vector Machine             \n",
       "                     lr_train    lr_val               sv_train    sv_val   \n",
       "metric                                                                     \n",
       "precision            0.689746  0.407090               0.010294  0.010816  \\\n",
       "recall               0.690722  0.424000               0.101375  0.104000   \n",
       "f1_score             0.675819  0.410232               0.018691  0.019594   \n",
       "\n",
       "          K-Nearest Neighbors           Decision Tree Classifier            \n",
       "                     kn_train    kn_val                 dt_train    dt_val  \n",
       "metric                                                                      \n",
       "precision            0.746694  0.315716                      1.0  0.265211  \n",
       "recall               0.706186  0.248000                      1.0  0.248000  \n",
       "f1_score             0.710908  0.234796                      1.0  0.253303  "
      ]
     },
     "execution_count": 382,
     "metadata": {},
     "output_type": "execute_result"
    }
   ],
   "source": [
    "y_scores = get_results(X_train, X_val, y_train, y_val)\n",
    "y_scores"
   ]
  },
  {
   "cell_type": "code",
   "execution_count": 28,
   "id": "c3bba1f5",
   "metadata": {
    "scrolled": true
   },
   "outputs": [],
   "source": [
    "from sklearn.model_selection import cross_validate\n",
    "from sklearn.model_selection import StratifiedKFold \n",
    "\n",
    "skf = StratifiedKFold(n_splits = 5, shuffle = True, random_state = 23)\n",
    "cv_scores = dict()\n",
    "for pipe_name, pipe_model in basic_models.items():\n",
    "    cv_model = cross_validate(estimator = pipe_model, \n",
    "                              X = X_train, \n",
    "                              y = y_train, \n",
    "                              cv = skf,\n",
    "                              scoring = 'precision_macro',\n",
    "                              return_train_score = True, \n",
    "                              return_estimator = True)\n",
    "    cv_scores[pipe_name] = cv_model"
   ]
  },
  {
   "cell_type": "code",
   "execution_count": 322,
   "id": "e873c6aa",
   "metadata": {},
   "outputs": [
    {
     "data": {
      "text/html": [
       "<style>#sk-container-id-26 {color: black;}#sk-container-id-26 pre{padding: 0;}#sk-container-id-26 div.sk-toggleable {background-color: white;}#sk-container-id-26 label.sk-toggleable__label {cursor: pointer;display: block;width: 100%;margin-bottom: 0;padding: 0.3em;box-sizing: border-box;text-align: center;}#sk-container-id-26 label.sk-toggleable__label-arrow:before {content: \"▸\";float: left;margin-right: 0.25em;color: #696969;}#sk-container-id-26 label.sk-toggleable__label-arrow:hover:before {color: black;}#sk-container-id-26 div.sk-estimator:hover label.sk-toggleable__label-arrow:before {color: black;}#sk-container-id-26 div.sk-toggleable__content {max-height: 0;max-width: 0;overflow: hidden;text-align: left;background-color: #f0f8ff;}#sk-container-id-26 div.sk-toggleable__content pre {margin: 0.2em;color: black;border-radius: 0.25em;background-color: #f0f8ff;}#sk-container-id-26 input.sk-toggleable__control:checked~div.sk-toggleable__content {max-height: 200px;max-width: 100%;overflow: auto;}#sk-container-id-26 input.sk-toggleable__control:checked~label.sk-toggleable__label-arrow:before {content: \"▾\";}#sk-container-id-26 div.sk-estimator input.sk-toggleable__control:checked~label.sk-toggleable__label {background-color: #d4ebff;}#sk-container-id-26 div.sk-label input.sk-toggleable__control:checked~label.sk-toggleable__label {background-color: #d4ebff;}#sk-container-id-26 input.sk-hidden--visually {border: 0;clip: rect(1px 1px 1px 1px);clip: rect(1px, 1px, 1px, 1px);height: 1px;margin: -1px;overflow: hidden;padding: 0;position: absolute;width: 1px;}#sk-container-id-26 div.sk-estimator {font-family: monospace;background-color: #f0f8ff;border: 1px dotted black;border-radius: 0.25em;box-sizing: border-box;margin-bottom: 0.5em;}#sk-container-id-26 div.sk-estimator:hover {background-color: #d4ebff;}#sk-container-id-26 div.sk-parallel-item::after {content: \"\";width: 100%;border-bottom: 1px solid gray;flex-grow: 1;}#sk-container-id-26 div.sk-label:hover label.sk-toggleable__label {background-color: #d4ebff;}#sk-container-id-26 div.sk-serial::before {content: \"\";position: absolute;border-left: 1px solid gray;box-sizing: border-box;top: 0;bottom: 0;left: 50%;z-index: 0;}#sk-container-id-26 div.sk-serial {display: flex;flex-direction: column;align-items: center;background-color: white;padding-right: 0.2em;padding-left: 0.2em;position: relative;}#sk-container-id-26 div.sk-item {position: relative;z-index: 1;}#sk-container-id-26 div.sk-parallel {display: flex;align-items: stretch;justify-content: center;background-color: white;position: relative;}#sk-container-id-26 div.sk-item::before, #sk-container-id-26 div.sk-parallel-item::before {content: \"\";position: absolute;border-left: 1px solid gray;box-sizing: border-box;top: 0;bottom: 0;left: 50%;z-index: -1;}#sk-container-id-26 div.sk-parallel-item {display: flex;flex-direction: column;z-index: 1;position: relative;background-color: white;}#sk-container-id-26 div.sk-parallel-item:first-child::after {align-self: flex-end;width: 50%;}#sk-container-id-26 div.sk-parallel-item:last-child::after {align-self: flex-start;width: 50%;}#sk-container-id-26 div.sk-parallel-item:only-child::after {width: 0;}#sk-container-id-26 div.sk-dashed-wrapped {border: 1px dashed gray;margin: 0 0.4em 0.5em 0.4em;box-sizing: border-box;padding-bottom: 0.4em;background-color: white;}#sk-container-id-26 div.sk-label label {font-family: monospace;font-weight: bold;display: inline-block;line-height: 1.2em;}#sk-container-id-26 div.sk-label-container {text-align: center;}#sk-container-id-26 div.sk-container {/* jupyter's `normalize.less` sets `[hidden] { display: none; }` but bootstrap.min.css set `[hidden] { display: none !important; }` so we also need the `!important` here to be able to override the default hidden behavior on the sphinx rendered scikit-learn.org. See: https://github.com/scikit-learn/scikit-learn/issues/21755 */display: inline-block !important;position: relative;}#sk-container-id-26 div.sk-text-repr-fallback {display: none;}</style><div id=\"sk-container-id-26\" class=\"sk-top-container\"><div class=\"sk-text-repr-fallback\"><pre>Pipeline(steps=[(&#x27;pca&#x27;, PCA(n_components=167, random_state=True)),\n",
       "                (&#x27;clf&#x27;, RandomForestClassifier(max_depth=5))])</pre><b>In a Jupyter environment, please rerun this cell to show the HTML representation or trust the notebook. <br />On GitHub, the HTML representation is unable to render, please try loading this page with nbviewer.org.</b></div><div class=\"sk-container\" hidden><div class=\"sk-item sk-dashed-wrapped\"><div class=\"sk-label-container\"><div class=\"sk-label sk-toggleable\"><input class=\"sk-toggleable__control sk-hidden--visually\" id=\"sk-estimator-id-117\" type=\"checkbox\" ><label for=\"sk-estimator-id-117\" class=\"sk-toggleable__label sk-toggleable__label-arrow\">Pipeline</label><div class=\"sk-toggleable__content\"><pre>Pipeline(steps=[(&#x27;pca&#x27;, PCA(n_components=167, random_state=True)),\n",
       "                (&#x27;clf&#x27;, RandomForestClassifier(max_depth=5))])</pre></div></div></div><div class=\"sk-serial\"><div class=\"sk-item\"><div class=\"sk-estimator sk-toggleable\"><input class=\"sk-toggleable__control sk-hidden--visually\" id=\"sk-estimator-id-118\" type=\"checkbox\" ><label for=\"sk-estimator-id-118\" class=\"sk-toggleable__label sk-toggleable__label-arrow\">PCA</label><div class=\"sk-toggleable__content\"><pre>PCA(n_components=167, random_state=True)</pre></div></div></div><div class=\"sk-item\"><div class=\"sk-estimator sk-toggleable\"><input class=\"sk-toggleable__control sk-hidden--visually\" id=\"sk-estimator-id-119\" type=\"checkbox\" ><label for=\"sk-estimator-id-119\" class=\"sk-toggleable__label sk-toggleable__label-arrow\">RandomForestClassifier</label><div class=\"sk-toggleable__content\"><pre>RandomForestClassifier(max_depth=5)</pre></div></div></div></div></div></div></div>"
      ],
      "text/plain": [
       "Pipeline(steps=[('pca', PCA(n_components=167, random_state=True)),\n",
       "                ('clf', RandomForestClassifier(max_depth=5))])"
      ]
     },
     "execution_count": 322,
     "metadata": {},
     "output_type": "execute_result"
    }
   ],
   "source": [
    "from sklearn.ensemble import RandomForestClassifier\n",
    "\n",
    "rf = RandomForestClassifier(max_depth = 5, )\n",
    "rf_pipe = Pipeline([('pca', pca), ('clf', rf)])\n",
    "rf_pipe.fit(X_train, y_train)"
   ]
  },
  {
   "cell_type": "code",
   "execution_count": 323,
   "id": "f1f2e665",
   "metadata": {},
   "outputs": [],
   "source": [
    "y_train_pred_rf = rf_pipe.predict(X_train)\n",
    "y_val_pred_rf = rf_pipe.predict(X_val)"
   ]
  },
  {
   "cell_type": "code",
   "execution_count": 324,
   "id": "0a4c6c19",
   "metadata": {},
   "outputs": [
    {
     "data": {
      "text/plain": [
       "0.8418059869851379"
      ]
     },
     "execution_count": 324,
     "metadata": {},
     "output_type": "execute_result"
    }
   ],
   "source": [
    "precision = precision_score(y_train, y_train_pred_rf, average = 'weighted', zero_division = 0)\n",
    "precision"
   ]
  },
  {
   "cell_type": "code",
   "execution_count": 325,
   "id": "41505e5d",
   "metadata": {},
   "outputs": [
    {
     "data": {
      "text/plain": [
       "0.4049114796039873"
      ]
     },
     "execution_count": 325,
     "metadata": {},
     "output_type": "execute_result"
    }
   ],
   "source": [
    "precision = precision_score(y_val, y_val_pred_rf, average = 'weighted', zero_division = 0)\n",
    "precision"
   ]
  },
  {
   "cell_type": "code",
   "execution_count": 33,
   "id": "5c261b96",
   "metadata": {},
   "outputs": [
    {
     "data": {
      "image/png": "[encoded data removed]",
      "text/plain": [
       "<Figure size 640x480 with 1 Axes>"
      ]
     },
     "metadata": {},
     "output_type": "display_data"
    }
   ],
   "source": [
    "train_score = cv_model['train_score']\n",
    "test_score = cv_model['test_score']\n",
    "\n",
    "plt.plot(train_score, label = 'train_score')\n",
    "plt.plot(test_score, label = 'test_score')\n",
    "plt.xticks(range(0, 5), range(1, 6))\n",
    "plt.xlabel('K-Fold')\n",
    "plt.legend()\n",
    "plt.show()"
   ]
  },
  {
   "cell_type": "code",
   "execution_count": 317,
   "id": "d6db0b2d",
   "metadata": {},
   "outputs": [
    {
     "name": "stderr",
     "output_type": "stream",
     "text": [
      "[Parallel(n_jobs=-1)]: Using backend LokyBackend with 8 concurrent workers.\n",
      "[Parallel(n_jobs=-1)]: Done  29 out of  90 | elapsed:   33.9s remaining:  1.2min\n",
      "[Parallel(n_jobs=-1)]: Done  60 out of  90 | elapsed:  1.0min remaining:   30.6s\n",
      "[Parallel(n_jobs=-1)]: Done  90 out of  90 | elapsed:  1.4min finished\n"
     ]
    }
   ],
   "source": [
    "from sklearn.model_selection import validation_curve\n",
    "from sklearn.model_selection import StratifiedKFold  \n",
    "\n",
    "skf = StratifiedKFold(n_splits = 5, shuffle = True, random_state = 23)\n",
    "kn_curve = KNeighborsClassifier()\n",
    "kn_pipe_curve = Pipeline([('pca', pca), ('clf', kn_curve)])\n",
    "\n",
    "train_score_kn, test_score_kn = validation_curve(estimator = kn_pipe_curve,\n",
    "                                                 X = X_train,\n",
    "                                                 y = y_train,\n",
    "                                                 cv = skf,\n",
    "                                                 param_name = 'clf__n_neighbors',\n",
    "                                                 param_range = range(3, 21),\n",
    "                                                 n_jobs = -1,\n",
    "                                                 scoring = 'precision_macro',\n",
    "                                                 verbose = 3)"
   ]
  },
  {
   "cell_type": "code",
   "execution_count": 318,
   "id": "1cdac10e",
   "metadata": {},
   "outputs": [
    {
     "data": {
      "image/png": "[encoded data removed]",
      "text/plain": [
       "<Figure size 640x480 with 1 Axes>"
      ]
     },
     "metadata": {},
     "output_type": "display_data"
    }
   ],
   "source": [
    "plt.plot(train_score_kn.mean(axis = 1), label = 'train_score')\n",
    "plt.plot(test_score_kn.mean(axis = 1), label = 'test_score')\n",
    "plt.xticks(range(0, 18), range(3, 21))\n",
    "plt.xlabel('n_neighbors')\n",
    "plt.legend()\n",
    "plt.grid()\n",
    "plt.show()"
   ]
  },
  {
   "cell_type": "code",
   "execution_count": 351,
   "id": "a9d4b50c",
   "metadata": {},
   "outputs": [
    {
     "name": "stderr",
     "output_type": "stream",
     "text": [
      "[Parallel(n_jobs=-1)]: Using backend LokyBackend with 8 concurrent workers.\n",
      "[Parallel(n_jobs=-1)]: Done  19 out of  60 | elapsed:   20.8s remaining:   45.0s\n",
      "[Parallel(n_jobs=-1)]: Done  40 out of  60 | elapsed:   28.2s remaining:   14.0s\n",
      "[Parallel(n_jobs=-1)]: Done  60 out of  60 | elapsed:   34.4s finished\n"
     ]
    }
   ],
   "source": [
    "from sklearn.model_selection import validation_curve\n",
    "from sklearn.model_selection import StratifiedKFold  \n",
    "\n",
    "skf = StratifiedKFold(n_splits = 5, shuffle = True, random_state = 23)\n",
    "dt_curve = DecisionTreeClassifier()\n",
    "dt_curve_pipe = Pipeline([('pca', pca), ('clf', dt_curve)])\n",
    "\n",
    "train_score_dt, test_score_dt = validation_curve(estimator = dt_curve_pipe,\n",
    "                                                 X = X_train,\n",
    "                                                 y = y_train,\n",
    "                                                 cv = skf,\n",
    "                                                 param_name = 'clf__max_depth',\n",
    "                                                 param_range = range(3, 15),\n",
    "                                                 n_jobs = -1,\n",
    "                                                 scoring = 'precision_macro',\n",
    "                                                 verbose = 3)"
   ]
  },
  {
   "cell_type": "code",
   "execution_count": 352,
   "id": "7d3a4fc3",
   "metadata": {},
   "outputs": [
    {
     "data": {
      "image/png": "[encoded data removed]",
      "text/plain": [
       "<Figure size 640x480 with 1 Axes>"
      ]
     },
     "metadata": {},
     "output_type": "display_data"
    }
   ],
   "source": [
    "plt.plot(train_score_dt.mean(axis = 1), label = 'train_score')\n",
    "plt.plot(test_score_dt.mean(axis = 1), label = 'test_score')\n",
    "plt.xticks(range(0, 18), range(3, 21))\n",
    "plt.xlabel('n_neighbors')\n",
    "plt.legend()\n",
    "plt.grid()\n",
    "plt.show()"
   ]
  },
  {
   "cell_type": "code",
   "execution_count": 43,
   "id": "ce3514fa",
   "metadata": {},
   "outputs": [],
   "source": [
    "from sklearn.model_selection import GridSearchCV\n",
    "\n",
    "scaler = StandardScaler()\n",
    "sv_selected = OneVsOneClassifier(SVC(probability = True, random_state = 23))\n",
    "sv_pipe = Pipeline([('scaler', scaler), ('clf', sv_selected)])\n",
    "\n",
    "# params\n",
    "kernel = ['rbf', 'poly']\n",
    "C = [0.1, 1, 10, 20, 40, 80, 100]\n",
    "gamma = [0.001, 0.01, 0.1, 1, 5, 10, 20]\n",
    "degree = [2, 3, 4]\n",
    "coef0 = np.linspace(10,100, 5)\n",
    "\n",
    "# paramgrid\n",
    "param_grid = {'clf__estimator__kernel': kernel,\n",
    "             'clf__estimator__C': C,\n",
    "             'clf__estimator__gamma': gamma,\n",
    "             'clf__estimator__degree': degree,\n",
    "             'clf__estimator__coef0': coef0}\n",
    "\n",
    "# K-folds\n",
    "skf = StratifiedKFold(n_splits = 5, shuffle = True, random_state = 23)\n",
    "\n",
    "# declaring GSCV\n",
    "grid_sv = GridSearchCV(estimator = sv_pipe,\n",
    "                      param_grid = param_grid,\n",
    "                      cv = skf,\n",
    "                      n_jobs = -1,\n",
    "                      scoring = 'precision_weighted')\n",
    "vc_scores = validation_curve(estimator = lr_pipe,\n",
    "                            X = X_train,\n",
    "                            y = y_train,\n",
    "                            param_name = 'clf__estimator__learning_rate',\n",
    "                            param_range = [0.0001, 0.001, 0.01, 0.1],\n",
    "                            cv = skf,\n",
    "                            n_jobs = -1,\n",
    "                            scoring = 'precision_macro')"
   ]
  },
  {
   "cell_type": "code",
   "execution_count": 118,
   "id": "881197fe",
   "metadata": {},
   "outputs": [],
   "source": [
    "dt = DecisionTreeClassifier()\n",
    "alphas, impurities = dt.cost_complexity_pruning_path(X_train, y_train)"
   ]
  },
  {
   "cell_type": "code",
   "execution_count": 120,
   "id": "8fcad484",
   "metadata": {},
   "outputs": [],
   "source": [
    "alphas_sorted = np.sort(alphas)"
   ]
  },
  {
   "cell_type": "code",
   "execution_count": 121,
   "id": "584224f8",
   "metadata": {},
   "outputs": [],
   "source": [
    "clfs = []\n",
    "alphas = np.sort(alphas)\n",
    "for ccp_alpha in alphas:\n",
    "    clf = DecisionTreeClassifier(random_state=0, ccp_alpha=ccp_alpha)\n",
    "    clf.fit(X_train, y_train)\n",
    "    clfs.append(clf)"
   ]
  },
  {
   "cell_type": "code",
   "execution_count": 122,
   "id": "1652522b",
   "metadata": {},
   "outputs": [
    {
     "data": {
      "image/png": "[encoded data removed]",
      "text/plain": [
       "<Figure size 640x480 with 1 Axes>"
      ]
     },
     "metadata": {},
     "output_type": "display_data"
    }
   ],
   "source": [
    "train_scores = [precision_score(y_train, clf.predict(X_train), average = 'weighted', zero_division = 0) for clf in clfs]\n",
    "test_scores = [precision_score(y_val, clf.predict(X_val), average = 'weighted', zero_division = 0) for clf in clfs]\n",
    "\n",
    "fig, ax = plt.subplots()\n",
    "ax.set_xlabel(\"alpha\")\n",
    "ax.set_ylabel(\"Precision\")\n",
    "ax.set_title(\"Precision vs alpha for training and testing sets\")\n",
    "ax.plot(alphas, train_scores, marker=\"o\", label=\"train\", drawstyle=\"steps-post\")\n",
    "ax.plot(alphas, test_scores, marker=\"o\", label=\"test\", drawstyle=\"steps-post\")\n",
    "ax.legend()\n",
    "plt.show()"
   ]
  },
  {
   "cell_type": "code",
   "execution_count": 49,
   "id": "ba4add06",
   "metadata": {},
   "outputs": [
    {
     "data": {
      "image/png": "[encoded data removed]",
      "text/plain": [
       "<Figure size 640x480 with 1 Axes>"
      ]
     },
     "metadata": {},
     "output_type": "display_data"
    }
   ],
   "source": [
    "from sklearn.model_selection import GridSearchCV\n",
    "\n",
    "scaler = StandardScaler()\n",
    "model_selected = DecisionTreeClassifier()\n",
    "# params\n",
    "max_depth = [4, 5, 8, 10, 12]\n",
    "min_samples_split = [2, 4, 6, 8, 16, 32]\n",
    "min_samples_leaf = [1, 2, 4, 8, 16, 32]\n",
    "max_features = [None, 50, 125, 300]\n",
    "           \n",
    "# paramgrid\n",
    "param_grid = {'clf__max_depth': max_depth,\n",
    "             'clf__min_samples_split': min_samples_split,\n",
    "             'clf__min_samples_leaf': min_samples_leaf,\n",
    "             'clf__max_features': max_features}\n",
    "\n",
    "# K-folds\n",
    "skf = StratifiedKFold(n_splits = 5, shuffle = True, random_state = 23)\n",
    "\n",
    "# declaring GSCV\n",
    "grid_sv = GridSearchCV(estimator = sv_pipe,\n",
    "                      param_grid = param_grid,\n",
    "                      cv = skf,\n",
    "                      n_jobs = -1,\n",
    "                      verbose = 2,\n",
    "                      scoring = 'precision_weighted')\n",
    "grid_sv.fit(X_train, y_train)"
   ]
  },
  {
   "cell_type": "code",
   "execution_count": null,
   "id": "a659b461",
   "metadata": {},
   "outputs": [],
   "source": [
    "self.learning_rate = learning_rate\n",
    "self.max_iter = max_iter\n",
    "self.threshold = threshold\n",
    "self.tol = tol\n",
    "self.penalty = penalty\n",
    "self.lam = lam\n",
    "self.gamma = gamma\n",
    "self.random_state = random_state"
   ]
  },
  {
   "cell_type": "code",
   "execution_count": 367,
   "id": "e6409f64",
   "metadata": {},
   "outputs": [
    {
     "data": {
      "text/plain": [
       "array([0.1, 0.2, 0.3, 0.4, 0.5, 0.6, 0.7, 0.8, 0.9, 1. ])"
      ]
     },
     "execution_count": 367,
     "metadata": {},
     "output_type": "execute_result"
    }
   ],
   "source": [
    "np.linspace(0.1, 1, 10)"
   ]
  },
  {
   "cell_type": "code",
   "execution_count": null,
   "id": "7e0df534",
   "metadata": {},
   "outputs": [
    {
     "name": "stdout",
     "output_type": "stream",
     "text": [
      "Fitting 5 folds for each of 11200 candidates, totalling 56000 fits\n"
     ]
    }
   ],
   "source": [
    "from sklearn.model_selection import GridSearchCV\n",
    "\n",
    "pca = PCA(n_components = n_components_pca, random_state = 23)\n",
    "model_selected = OneVsRestClassifier(LogisticRegression(random_state = 23)) \n",
    "model_pipe = Pipeline([('pca', pca), ('clf', model_selected)])\n",
    "\n",
    "# params\n",
    "learning_rate = [0.0001, 0.001, 0.01, 0.1]\n",
    "max_iter = [100, 200, 300, 500, 1000, 2000, 5000]\n",
    "penalty = ['l1', 'l2', 'elasticnet', None]\n",
    "lam = np.linspace(0.1, 1, 10)\n",
    "gamma = np.linspace(0.1, 1, 10)\n",
    "           \n",
    "# paramgrid\n",
    "param_grid = {'clf__estimator__learning_rate': learning_rate,\n",
    "            'clf__estimator__max_iter': max_iter,\n",
    "            'clf__estimator__penalty': penalty,\n",
    "            'clf__estimator__lam': lam,\n",
    "            'clf__estimator__gamma': gamma}\n",
    "\n",
    "# K-folds\n",
    "skf = StratifiedKFold(n_splits = 5, shuffle = True, random_state = 23)\n",
    "\n",
    "# declaring GSCV\n",
    "grid_sv = GridSearchCV(estimator = model_pipe,\n",
    "                      param_grid = param_grid,\n",
    "                      cv = skf,\n",
    "                      n_jobs = -1,\n",
    "                      verbose = 2,\n",
    "                      scoring = 'precision_weighted')\n",
    "\n",
    "X_trainval = np.vstack([X_train, X_val])\n",
    "y_trainval = np.concatenate([y_train, y_val])\n",
    "grid_sv.fit(X_trainval, y_trainval)"
   ]
  },
  {
   "cell_type": "code",
   "execution_count": 386,
   "id": "146e0696",
   "metadata": {},
   "outputs": [
    {
     "data": {
      "text/plain": [
       "array([ 1,  5,  6, 10, 10,  9,  9,  7, 10,  5,  9,  2,  6,  3,  2,  1,  5,\n",
       "        2,  8,  6,  6,  7,  4,  4,  1,  3, 10,  9,  2,  4,  3,  2,  1,  6,\n",
       "        8,  4,  6,  1,  4,  2,  6,  6,  4,  2, 10,  6,  6,  4,  8,  8,  7,\n",
       "        7,  7,  5,  1,  5,  1, 10,  4,  5, 10,  8,  6, 10,  2,  2,  5,  2,\n",
       "        7,  2, 10,  7,  9,  2,  8,  2,  5, 10,  7,  9,  2, 10,  9,  9,  8,\n",
       "        7,  9, 10,  7,  5,  6,  4,  9,  7,  3,  8,  9,  3,  2,  2,  2,  5,\n",
       "        4,  7,  4,  6,  1, 10,  6,  4,  7,  1,  3,  3,  7,  4,  8,  7,  2,\n",
       "        9,  7, 10,  5, 10,  3,  3,  6,  6,  6,  5,  2,  9,  4,  7,  7, 10,\n",
       "        4,  6,  9,  4,  4,  2,  1, 10,  7,  6,  8,  1,  5,  5,  6,  5,  2,\n",
       "        2, 10,  6,  1,  7,  9,  8, 10,  1,  9,  9,  2, 10,  1,  2,  9,  8,\n",
       "        9,  1,  9,  1,  6,  8,  9,  1,  5,  1,  5,  4, 10,  5, 10,  4,  4,\n",
       "        3,  6,  9,  5,  2,  2,  3,  8,  6,  6, 10,  5,  5, 10,  1,  1, 10,\n",
       "        1,  8,  8,  4, 10,  3,  9,  4,  1,  5,  9,  4,  3,  2,  1,  7,  4,\n",
       "        9,  5,  6,  9, 10,  2,  6, 10,  6,  8,  7,  2,  3,  8,  5,  7,  6,\n",
       "        7,  9,  6, 10,  8,  4,  5,  3,  5,  2, 10,  7,  6, 10,  2,  2,  6,\n",
       "        9,  6, 10,  3,  3,  2,  1, 10,  7,  9,  6,  7,  6, 10,  6,  4,  9,\n",
       "        7, 10,  1,  3,  6,  4,  2,  3,  2,  5,  9,  2,  8,  7,  2,  6,  2,\n",
       "        9,  9,  1,  6,  9,  7,  6,  9,  1, 10,  1,  5,  5,  7, 10,  9,  3,\n",
       "        1,  8,  4, 10,  1,  5,  2,  2,  7,  7,  7,  4,  6,  2,  3,  4,  3,\n",
       "        4,  6,  5,  7,  9,  7, 10,  5,  4,  4,  9,  1,  5,  7,  4,  1,  1,\n",
       "       10,  3,  3,  1,  6,  6,  8,  6,  4,  4,  9,  4,  4,  4,  9,  8, 10,\n",
       "        9,  5,  6,  1,  4,  1,  8,  8,  3,  3, 10,  1,  2,  4,  3,  9,  1,\n",
       "        6,  3, 10,  7,  5,  4,  1,  1,  1,  2,  6,  2,  9,  7,  9,  4,  4,\n",
       "       10,  1,  5,  1,  7, 10,  7,  5,  4,  9,  4,  5,  4,  6,  2,  1,  6,\n",
       "        2, 10,  1,  4,  6,  4,  9,  3,  6,  4, 10,  7,  3,  1,  3,  4, 10,\n",
       "        7,  5,  1,  2,  2,  8,  9,  7, 10,  4,  2,  6,  5,  2,  7,  1,  8,\n",
       "        8,  4,  6,  7,  6,  5,  8,  7,  4,  8,  9,  6, 10,  7,  5,  6,  2,\n",
       "        2,  8,  7,  8,  5,  2,  1,  1,  9,  7, 10,  2,  5,  5,  6, 10,  7,\n",
       "        6,  9,  4, 10,  5,  3,  2,  7,  8,  9,  6, 10,  5, 10,  5,  1,  5,\n",
       "        3, 10,  5,  8,  7,  6,  9,  6,  2,  9,  1,  3,  2,  3,  5,  3,  5,\n",
       "        5,  7,  2,  5,  8,  9,  3,  2,  3,  9,  4,  9,  7,  2,  4,  3,  3,\n",
       "        4,  7,  2,  6,  5,  5,  5,  4,  7,  9,  2,  5,  1,  6,  9, 10,  5,\n",
       "        2,  5,  9,  8,  7,  1,  2,  1,  5,  4,  9,  6,  9,  6,  2,  8,  7,\n",
       "        8,  1, 10,  5,  7,  6,  4,  7,  1, 10,  6,  3,  7,  6,  4,  6,  4,\n",
       "        9,  3,  3,  9,  4,  4,  2,  6, 10, 10, 10, 10,  7,  9, 10,  6,  5,\n",
       "        2,  8,  4,  1,  1, 10,  4,  3,  7, 10,  6,  4,  5,  9,  7,  6,  2,\n",
       "       10,  1,  8,  2, 10,  7,  5,  4,  4,  3,  9,  8,  2,  9,  1,  3,  6,\n",
       "        9,  2,  5,  5,  5,  6,  7,  3,  1,  4,  9,  8,  1,  6,  9, 10,  1,\n",
       "        9,  6,  2,  7,  8,  9,  5,  4,  4,  7,  9,  6, 10,  3,  6,  3,  1,\n",
       "        4,  1,  9,  7,  7,  8,  7,  5,  4, 10,  8,  3,  6,  7,  2,  2,  1,\n",
       "        6,  2,  5,  6,  1,  2,  5,  5, 10,  3,  2,  7,  6,  3,  1,  9,  2,\n",
       "        5,  5,  4,  6,  2,  7,  9,  7,  1,  8], dtype=int64)"
      ]
     },
     "execution_count": 386,
     "metadata": {},
     "output_type": "execute_result"
    }
   ],
   "source": [
    "np.concatenate([y_train, y_val])"
   ]
  },
  {
   "cell_type": "code",
   "execution_count": 369,
   "id": "4ca82f55",
   "metadata": {},
   "outputs": [
    {
     "data": {
      "text/plain": [
       "{'clf__estimator__gamma': 0.1,\n",
       " 'clf__estimator__lam': 0.1,\n",
       " 'clf__estimator__max_iter': 2000,\n",
       " 'clf__estimator__penalty': 'l1'}"
      ]
     },
     "execution_count": 369,
     "metadata": {},
     "output_type": "execute_result"
    }
   ],
   "source": [
    "best_params = grid_sv.best_params_\n",
    "best_params"
   ]
  },
  {
   "cell_type": "code",
   "execution_count": 371,
   "id": "210b7af8",
   "metadata": {},
   "outputs": [
    {
     "data": {
      "text/html": [
       "<style>#sk-container-id-28 {color: black;}#sk-container-id-28 pre{padding: 0;}#sk-container-id-28 div.sk-toggleable {background-color: white;}#sk-container-id-28 label.sk-toggleable__label {cursor: pointer;display: block;width: 100%;margin-bottom: 0;padding: 0.3em;box-sizing: border-box;text-align: center;}#sk-container-id-28 label.sk-toggleable__label-arrow:before {content: \"▸\";float: left;margin-right: 0.25em;color: #696969;}#sk-container-id-28 label.sk-toggleable__label-arrow:hover:before {color: black;}#sk-container-id-28 div.sk-estimator:hover label.sk-toggleable__label-arrow:before {color: black;}#sk-container-id-28 div.sk-toggleable__content {max-height: 0;max-width: 0;overflow: hidden;text-align: left;background-color: #f0f8ff;}#sk-container-id-28 div.sk-toggleable__content pre {margin: 0.2em;color: black;border-radius: 0.25em;background-color: #f0f8ff;}#sk-container-id-28 input.sk-toggleable__control:checked~div.sk-toggleable__content {max-height: 200px;max-width: 100%;overflow: auto;}#sk-container-id-28 input.sk-toggleable__control:checked~label.sk-toggleable__label-arrow:before {content: \"▾\";}#sk-container-id-28 div.sk-estimator input.sk-toggleable__control:checked~label.sk-toggleable__label {background-color: #d4ebff;}#sk-container-id-28 div.sk-label input.sk-toggleable__control:checked~label.sk-toggleable__label {background-color: #d4ebff;}#sk-container-id-28 input.sk-hidden--visually {border: 0;clip: rect(1px 1px 1px 1px);clip: rect(1px, 1px, 1px, 1px);height: 1px;margin: -1px;overflow: hidden;padding: 0;position: absolute;width: 1px;}#sk-container-id-28 div.sk-estimator {font-family: monospace;background-color: #f0f8ff;border: 1px dotted black;border-radius: 0.25em;box-sizing: border-box;margin-bottom: 0.5em;}#sk-container-id-28 div.sk-estimator:hover {background-color: #d4ebff;}#sk-container-id-28 div.sk-parallel-item::after {content: \"\";width: 100%;border-bottom: 1px solid gray;flex-grow: 1;}#sk-container-id-28 div.sk-label:hover label.sk-toggleable__label {background-color: #d4ebff;}#sk-container-id-28 div.sk-serial::before {content: \"\";position: absolute;border-left: 1px solid gray;box-sizing: border-box;top: 0;bottom: 0;left: 50%;z-index: 0;}#sk-container-id-28 div.sk-serial {display: flex;flex-direction: column;align-items: center;background-color: white;padding-right: 0.2em;padding-left: 0.2em;position: relative;}#sk-container-id-28 div.sk-item {position: relative;z-index: 1;}#sk-container-id-28 div.sk-parallel {display: flex;align-items: stretch;justify-content: center;background-color: white;position: relative;}#sk-container-id-28 div.sk-item::before, #sk-container-id-28 div.sk-parallel-item::before {content: \"\";position: absolute;border-left: 1px solid gray;box-sizing: border-box;top: 0;bottom: 0;left: 50%;z-index: -1;}#sk-container-id-28 div.sk-parallel-item {display: flex;flex-direction: column;z-index: 1;position: relative;background-color: white;}#sk-container-id-28 div.sk-parallel-item:first-child::after {align-self: flex-end;width: 50%;}#sk-container-id-28 div.sk-parallel-item:last-child::after {align-self: flex-start;width: 50%;}#sk-container-id-28 div.sk-parallel-item:only-child::after {width: 0;}#sk-container-id-28 div.sk-dashed-wrapped {border: 1px dashed gray;margin: 0 0.4em 0.5em 0.4em;box-sizing: border-box;padding-bottom: 0.4em;background-color: white;}#sk-container-id-28 div.sk-label label {font-family: monospace;font-weight: bold;display: inline-block;line-height: 1.2em;}#sk-container-id-28 div.sk-label-container {text-align: center;}#sk-container-id-28 div.sk-container {/* jupyter's `normalize.less` sets `[hidden] { display: none; }` but bootstrap.min.css set `[hidden] { display: none !important; }` so we also need the `!important` here to be able to override the default hidden behavior on the sphinx rendered scikit-learn.org. See: https://github.com/scikit-learn/scikit-learn/issues/21755 */display: inline-block !important;position: relative;}#sk-container-id-28 div.sk-text-repr-fallback {display: none;}</style><div id=\"sk-container-id-28\" class=\"sk-top-container\"><div class=\"sk-text-repr-fallback\"><pre>Pipeline(steps=[(&#x27;pca&#x27;, PCA(n_components=124, random_state=23)),\n",
       "                (&#x27;clf&#x27;,\n",
       "                 OneVsRestClassifier(estimator=LogisticRegression(gamma=0.1,\n",
       "                                                                  lam=0.1,\n",
       "                                                                  max_iter=2000,\n",
       "                                                                  penalty=&#x27;l1&#x27;,\n",
       "                                                                  random_state=23)))])</pre><b>In a Jupyter environment, please rerun this cell to show the HTML representation or trust the notebook. <br />On GitHub, the HTML representation is unable to render, please try loading this page with nbviewer.org.</b></div><div class=\"sk-container\" hidden><div class=\"sk-item sk-dashed-wrapped\"><div class=\"sk-label-container\"><div class=\"sk-label sk-toggleable\"><input class=\"sk-toggleable__control sk-hidden--visually\" id=\"sk-estimator-id-126\" type=\"checkbox\" ><label for=\"sk-estimator-id-126\" class=\"sk-toggleable__label sk-toggleable__label-arrow\">Pipeline</label><div class=\"sk-toggleable__content\"><pre>Pipeline(steps=[(&#x27;pca&#x27;, PCA(n_components=124, random_state=23)),\n",
       "                (&#x27;clf&#x27;,\n",
       "                 OneVsRestClassifier(estimator=LogisticRegression(gamma=0.1,\n",
       "                                                                  lam=0.1,\n",
       "                                                                  max_iter=2000,\n",
       "                                                                  penalty=&#x27;l1&#x27;,\n",
       "                                                                  random_state=23)))])</pre></div></div></div><div class=\"sk-serial\"><div class=\"sk-item\"><div class=\"sk-estimator sk-toggleable\"><input class=\"sk-toggleable__control sk-hidden--visually\" id=\"sk-estimator-id-127\" type=\"checkbox\" ><label for=\"sk-estimator-id-127\" class=\"sk-toggleable__label sk-toggleable__label-arrow\">PCA</label><div class=\"sk-toggleable__content\"><pre>PCA(n_components=124, random_state=23)</pre></div></div></div><div class=\"sk-item sk-dashed-wrapped\"><div class=\"sk-label-container\"><div class=\"sk-label sk-toggleable\"><input class=\"sk-toggleable__control sk-hidden--visually\" id=\"sk-estimator-id-128\" type=\"checkbox\" ><label for=\"sk-estimator-id-128\" class=\"sk-toggleable__label sk-toggleable__label-arrow\">clf: OneVsRestClassifier</label><div class=\"sk-toggleable__content\"><pre>OneVsRestClassifier(estimator=LogisticRegression(gamma=0.1, lam=0.1,\n",
       "                                                 max_iter=2000, penalty=&#x27;l1&#x27;,\n",
       "                                                 random_state=23))</pre></div></div></div><div class=\"sk-parallel\"><div class=\"sk-parallel-item\"><div class=\"sk-item\"><div class=\"sk-label-container\"><div class=\"sk-label sk-toggleable\"><input class=\"sk-toggleable__control sk-hidden--visually\" id=\"sk-estimator-id-129\" type=\"checkbox\" ><label for=\"sk-estimator-id-129\" class=\"sk-toggleable__label sk-toggleable__label-arrow\">estimator: LogisticRegression</label><div class=\"sk-toggleable__content\"><pre>LogisticRegression(gamma=0.1, lam=0.1, max_iter=2000, penalty=&#x27;l1&#x27;,\n",
       "                   random_state=23)</pre></div></div></div><div class=\"sk-serial\"><div class=\"sk-item\"><div class=\"sk-estimator sk-toggleable\"><input class=\"sk-toggleable__control sk-hidden--visually\" id=\"sk-estimator-id-130\" type=\"checkbox\" ><label for=\"sk-estimator-id-130\" class=\"sk-toggleable__label sk-toggleable__label-arrow\">LogisticRegression</label><div class=\"sk-toggleable__content\"><pre>LogisticRegression(gamma=0.1, lam=0.1, max_iter=2000, penalty=&#x27;l1&#x27;,\n",
       "                   random_state=23)</pre></div></div></div></div></div></div></div></div></div></div></div></div>"
      ],
      "text/plain": [
       "Pipeline(steps=[('pca', PCA(n_components=124, random_state=23)),\n",
       "                ('clf',\n",
       "                 OneVsRestClassifier(estimator=LogisticRegression(gamma=0.1,\n",
       "                                                                  lam=0.1,\n",
       "                                                                  max_iter=2000,\n",
       "                                                                  penalty='l1',\n",
       "                                                                  random_state=23)))])"
      ]
     },
     "execution_count": 371,
     "metadata": {},
     "output_type": "execute_result"
    }
   ],
   "source": [
    "pca = PCA(n_components = n_components_pca, random_state = 23)\n",
    "lr_final = OneVsRestClassifier(LogisticRegression(gamma = 0.1, lam = 0.1, max_iter = 2000,\n",
    "                                                  penalty = 'l1',random_state = 23))\n",
    "\n",
    "lr_final_pipe = Pipeline([('pca', pca), ('clf', lr_final)])\n",
    "lr_final_pipe.fit(X_train, y_train)"
   ]
  },
  {
   "cell_type": "code",
   "execution_count": 372,
   "id": "4c61cb79",
   "metadata": {},
   "outputs": [],
   "source": [
    "def get_metric_values(y_real, y_pred):\n",
    "    precision = precision_score(y_real, y_pred, average = 'weighted', zero_division = 0)\n",
    "    recall = recall_score(y_real, y_pred, average = 'weighted', zero_division = 0)\n",
    "    f1 = f1_score(y_real, y_pred, average = 'weighted', zero_division = 0)\n",
    "    return precision, recall, f1"
   ]
  },
  {
   "cell_type": "code",
   "execution_count": 380,
   "id": "70634985",
   "metadata": {},
   "outputs": [],
   "source": [
    "y_train_pred = lr_final_pipe.predict(X_train)\n",
    "y_val_pred = lr_final_pipe.predict(X_val)\n",
    "precision_train, _, _ = get_metric_values(y_train, y_train_pred)\n",
    "precision_val, _, _ = get_metric_values(y_val, y_val_pred)"
   ]
  },
  {
   "cell_type": "code",
   "execution_count": 378,
   "id": "ec1d6eb0",
   "metadata": {},
   "outputs": [
    {
     "data": {
      "text/plain": [
       "0.6884743482700103"
      ]
     },
     "execution_count": 378,
     "metadata": {},
     "output_type": "execute_result"
    }
   ],
   "source": [
    "precision_train"
   ]
  },
  {
   "cell_type": "code",
   "execution_count": 381,
   "id": "428897b9",
   "metadata": {},
   "outputs": [
    {
     "data": {
      "text/plain": [
       "0.4622843776106934"
      ]
     },
     "execution_count": 381,
     "metadata": {},
     "output_type": "execute_result"
    }
   ],
   "source": [
    "precision_val"
   ]
  }
 ],
 "metadata": {
  "kernelspec": {
   "display_name": "Python 3 (ipykernel)",
   "language": "python",
   "name": "python3"
  },
  "language_info": {
   "codemirror_mode": {
    "name": "ipython",
    "version": 3
   },
   "file_extension": ".py",
   "mimetype": "text/x-python",
   "name": "python",
   "nbconvert_exporter": "python",
   "pygments_lexer": "ipython3",
   "version": "3.11.4"
  }
 },
 "nbformat": 4,
 "nbformat_minor": 5
}
