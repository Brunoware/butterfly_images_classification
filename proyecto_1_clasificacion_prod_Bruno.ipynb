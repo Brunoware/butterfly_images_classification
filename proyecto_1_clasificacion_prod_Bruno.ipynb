{
 "cells": [
  {
   "cell_type": "markdown",
   "id": "b4633237",
   "metadata": {},
   "source": [
    "# Preprocessing"
   ]
  },
  {
   "cell_type": "markdown",
   "id": "21575067",
   "metadata": {},
   "source": [
    "Importing basic libraries"
   ]
  },
  {
   "cell_type": "code",
   "execution_count": 2,
   "id": "eb862a50",
   "metadata": {},
   "outputs": [],
   "source": [
    "import pandas as pd\n",
    "import numpy as np\n",
    "import matplotlib.pyplot as plt\n",
    "import seaborn as sns\n",
    "import pickle"
   ]
  },
  {
   "cell_type": "markdown",
   "id": "049ca690",
   "metadata": {},
   "source": [
    "Getting data"
   ]
  },
  {
   "cell_type": "code",
   "execution_count": 3,
   "id": "3b1fea58",
   "metadata": {},
   "outputs": [
    {
     "data": {
      "text/html": [
       "<div>\n",
       "<style scoped>\n",
       "    .dataframe tbody tr th:only-of-type {\n",
       "        vertical-align: middle;\n",
       "    }\n",
       "\n",
       "    .dataframe tbody tr th {\n",
       "        vertical-align: top;\n",
       "    }\n",
       "\n",
       "    .dataframe thead th {\n",
       "        text-align: right;\n",
       "    }\n",
       "</style>\n",
       "<table border=\"1\" class=\"dataframe\">\n",
       "  <thead>\n",
       "    <tr style=\"text-align: right;\">\n",
       "      <th></th>\n",
       "      <th>0</th>\n",
       "      <th>1</th>\n",
       "      <th>2</th>\n",
       "      <th>3</th>\n",
       "      <th>4</th>\n",
       "      <th>5</th>\n",
       "      <th>6</th>\n",
       "      <th>7</th>\n",
       "      <th>8</th>\n",
       "      <th>9</th>\n",
       "      <th>...</th>\n",
       "      <th>3063</th>\n",
       "      <th>3064</th>\n",
       "      <th>3065</th>\n",
       "      <th>3066</th>\n",
       "      <th>3067</th>\n",
       "      <th>3068</th>\n",
       "      <th>3069</th>\n",
       "      <th>3070</th>\n",
       "      <th>3071</th>\n",
       "      <th>target</th>\n",
       "    </tr>\n",
       "  </thead>\n",
       "  <tbody>\n",
       "    <tr>\n",
       "      <th>0</th>\n",
       "      <td>0.376471</td>\n",
       "      <td>0.65098</td>\n",
       "      <td>0.450980</td>\n",
       "      <td>0.380392</td>\n",
       "      <td>0.701961</td>\n",
       "      <td>0.501961</td>\n",
       "      <td>0.478431</td>\n",
       "      <td>0.603922</td>\n",
       "      <td>0.584314</td>\n",
       "      <td>0.486275</td>\n",
       "      <td>...</td>\n",
       "      <td>0.431373</td>\n",
       "      <td>0.478431</td>\n",
       "      <td>0.470588</td>\n",
       "      <td>0.545098</td>\n",
       "      <td>0.615686</td>\n",
       "      <td>0.611765</td>\n",
       "      <td>0.529412</td>\n",
       "      <td>0.580392</td>\n",
       "      <td>0.580392</td>\n",
       "      <td>1</td>\n",
       "    </tr>\n",
       "    <tr>\n",
       "      <th>1</th>\n",
       "      <td>0.000000</td>\n",
       "      <td>0.00000</td>\n",
       "      <td>0.000000</td>\n",
       "      <td>0.000000</td>\n",
       "      <td>0.000000</td>\n",
       "      <td>0.000000</td>\n",
       "      <td>0.000000</td>\n",
       "      <td>0.000000</td>\n",
       "      <td>0.000000</td>\n",
       "      <td>0.000000</td>\n",
       "      <td>...</td>\n",
       "      <td>0.000000</td>\n",
       "      <td>0.000000</td>\n",
       "      <td>0.000000</td>\n",
       "      <td>0.000000</td>\n",
       "      <td>0.000000</td>\n",
       "      <td>0.000000</td>\n",
       "      <td>0.000000</td>\n",
       "      <td>0.000000</td>\n",
       "      <td>0.000000</td>\n",
       "      <td>1</td>\n",
       "    </tr>\n",
       "    <tr>\n",
       "      <th>2</th>\n",
       "      <td>1.000000</td>\n",
       "      <td>1.00000</td>\n",
       "      <td>1.000000</td>\n",
       "      <td>0.643137</td>\n",
       "      <td>0.639216</td>\n",
       "      <td>0.647059</td>\n",
       "      <td>0.662745</td>\n",
       "      <td>0.658824</td>\n",
       "      <td>0.666667</td>\n",
       "      <td>0.996078</td>\n",
       "      <td>...</td>\n",
       "      <td>1.000000</td>\n",
       "      <td>1.000000</td>\n",
       "      <td>1.000000</td>\n",
       "      <td>1.000000</td>\n",
       "      <td>1.000000</td>\n",
       "      <td>1.000000</td>\n",
       "      <td>1.000000</td>\n",
       "      <td>1.000000</td>\n",
       "      <td>1.000000</td>\n",
       "      <td>1</td>\n",
       "    </tr>\n",
       "    <tr>\n",
       "      <th>3</th>\n",
       "      <td>1.000000</td>\n",
       "      <td>1.00000</td>\n",
       "      <td>1.000000</td>\n",
       "      <td>0.996078</td>\n",
       "      <td>0.996078</td>\n",
       "      <td>0.996078</td>\n",
       "      <td>0.992157</td>\n",
       "      <td>0.992157</td>\n",
       "      <td>0.996078</td>\n",
       "      <td>0.996078</td>\n",
       "      <td>...</td>\n",
       "      <td>1.000000</td>\n",
       "      <td>1.000000</td>\n",
       "      <td>1.000000</td>\n",
       "      <td>1.000000</td>\n",
       "      <td>1.000000</td>\n",
       "      <td>1.000000</td>\n",
       "      <td>1.000000</td>\n",
       "      <td>1.000000</td>\n",
       "      <td>1.000000</td>\n",
       "      <td>1</td>\n",
       "    </tr>\n",
       "    <tr>\n",
       "      <th>4</th>\n",
       "      <td>0.258824</td>\n",
       "      <td>0.40000</td>\n",
       "      <td>0.266667</td>\n",
       "      <td>0.156863</td>\n",
       "      <td>0.349020</td>\n",
       "      <td>0.200000</td>\n",
       "      <td>0.145098</td>\n",
       "      <td>0.352941</td>\n",
       "      <td>0.196078</td>\n",
       "      <td>0.086275</td>\n",
       "      <td>...</td>\n",
       "      <td>0.031373</td>\n",
       "      <td>0.160784</td>\n",
       "      <td>0.086275</td>\n",
       "      <td>0.113725</td>\n",
       "      <td>0.321569</td>\n",
       "      <td>0.215686</td>\n",
       "      <td>0.007843</td>\n",
       "      <td>0.117647</td>\n",
       "      <td>0.039216</td>\n",
       "      <td>1</td>\n",
       "    </tr>\n",
       "  </tbody>\n",
       "</table>\n",
       "<p>5 rows × 3073 columns</p>\n",
       "</div>"
      ],
      "text/plain": [
       "          0        1         2         3         4         5         6   \n",
       "0  0.376471  0.65098  0.450980  0.380392  0.701961  0.501961  0.478431  \\\n",
       "1  0.000000  0.00000  0.000000  0.000000  0.000000  0.000000  0.000000   \n",
       "2  1.000000  1.00000  1.000000  0.643137  0.639216  0.647059  0.662745   \n",
       "3  1.000000  1.00000  1.000000  0.996078  0.996078  0.996078  0.992157   \n",
       "4  0.258824  0.40000  0.266667  0.156863  0.349020  0.200000  0.145098   \n",
       "\n",
       "          7         8         9  ...      3063      3064      3065      3066   \n",
       "0  0.603922  0.584314  0.486275  ...  0.431373  0.478431  0.470588  0.545098  \\\n",
       "1  0.000000  0.000000  0.000000  ...  0.000000  0.000000  0.000000  0.000000   \n",
       "2  0.658824  0.666667  0.996078  ...  1.000000  1.000000  1.000000  1.000000   \n",
       "3  0.992157  0.996078  0.996078  ...  1.000000  1.000000  1.000000  1.000000   \n",
       "4  0.352941  0.196078  0.086275  ...  0.031373  0.160784  0.086275  0.113725   \n",
       "\n",
       "       3067      3068      3069      3070      3071  target  \n",
       "0  0.615686  0.611765  0.529412  0.580392  0.580392       1  \n",
       "1  0.000000  0.000000  0.000000  0.000000  0.000000       1  \n",
       "2  1.000000  1.000000  1.000000  1.000000  1.000000       1  \n",
       "3  1.000000  1.000000  1.000000  1.000000  1.000000       1  \n",
       "4  0.321569  0.215686  0.007843  0.117647  0.039216       1  \n",
       "\n",
       "[5 rows x 3073 columns]"
      ]
     },
     "execution_count": 3,
     "metadata": {},
     "output_type": "execute_result"
    }
   ],
   "source": [
    "# Feature extracted vector of butterfly images\n",
    "df = pd.read_csv(\"datasets/final_images.csv\")\n",
    "\n",
    "# showing top fifth\n",
    "df.head()"
   ]
  },
  {
   "cell_type": "markdown",
   "id": "31cbf597",
   "metadata": {},
   "source": [
    "Splitting dataframe"
   ]
  },
  {
   "cell_type": "code",
   "execution_count": 4,
   "id": "40ab2992",
   "metadata": {},
   "outputs": [],
   "source": [
    "from sklearn.model_selection import StratifiedShuffleSplit\n",
    "\n",
    "X = df.drop(columns = 'target').copy().to_numpy()\n",
    "y = df.target.copy().to_numpy()\n",
    "\n",
    "sss1 = StratifiedShuffleSplit(n_splits = 1, test_size = 0.30, random_state = 10)\n",
    "sss2 = StratifiedShuffleSplit(n_splits = 1, test_size = 0.50, random_state = 10)\n",
    "\n",
    "for train_index, valtest_index in sss1.split(X, y):\n",
    "    X_train, X_valtest = X[train_index], X[valtest_index]\n",
    "    y_train, y_valtest = y[train_index], y[valtest_index]\n",
    "    \n",
    "for val_index, test_index in sss2.split(X_valtest, y_valtest):\n",
    "    X_val, X_test = X_valtest[val_index], X_valtest[test_index]\n",
    "    y_val, y_test = y_valtest[val_index], y_valtest[test_index]"
   ]
  },
  {
   "cell_type": "markdown",
   "id": "adfe3f5e",
   "metadata": {},
   "source": [
    "Reducing features"
   ]
  },
  {
   "cell_type": "code",
   "execution_count": 5,
   "id": "6aba849f",
   "metadata": {},
   "outputs": [],
   "source": [
    "from sklearn.decomposition import PCA\n",
    "from sklearn.preprocessing import StandardScaler\n",
    "from sklearn.pipeline import Pipeline\n",
    "\n",
    "pca_pipe = PCA(n_components = X_train.shape[0])\n",
    "pca_pipe.fit(X_train)\n",
    "\n",
    "X_train_pca = pca_pipe.transform(X_train)"
   ]
  },
  {
   "cell_type": "markdown",
   "id": "41f3401a",
   "metadata": {},
   "source": [
    "Plotting the cumulative variance"
   ]
  },
  {
   "cell_type": "code",
   "execution_count": 6,
   "id": "24842f1e",
   "metadata": {},
   "outputs": [
    {
     "data": {
      "image/png": "[encoded data removed]",
      "text/plain": [
       "<Figure size 1600x900 with 1 Axes>"
      ]
     },
     "metadata": {},
     "output_type": "display_data"
    }
   ],
   "source": [
    "plt.figure(figsize = (16,9))\n",
    "plt.plot([i for i in range(1,X_train_pca.shape[1] + 1)], np.cumsum(pca_pipe.explained_variance_ratio_), '-s')\n",
    "plt.ylabel('Explained Cumulative Variance')\n",
    "plt.xlabel('Principal Components')\n",
    "plt.xlim(0, X_train_pca.shape[1] + 0.25)\n",
    "plt.ylim(0, 1.05)\n",
    "plt.xticks([i for i in range(1,X_train_pca.shape[1] + 1)])\n",
    "plt.axhline(y = 0.8, color = 'r', linestyle = '--', label='Threshold') \n",
    "plt.show()"
   ]
  },
  {
   "cell_type": "markdown",
   "id": "bdcd98ae",
   "metadata": {},
   "source": [
    "Getting n_components needed"
   ]
  },
  {
   "cell_type": "code",
   "execution_count": 7,
   "id": "3036041e",
   "metadata": {},
   "outputs": [
    {
     "data": {
      "text/plain": [
       "124"
      ]
     },
     "execution_count": 7,
     "metadata": {},
     "output_type": "execute_result"
    }
   ],
   "source": [
    "cummulative_variance = np.cumsum(pca_pipe.explained_variance_ratio_)\n",
    "\n",
    "# filtering\n",
    "cummulative_variance = cummulative_variance[cummulative_variance <= 0.80]\n",
    "\n",
    "# n_components\n",
    "n_components_pca = len(cummulative_variance)\n",
    "n_components_pca"
   ]
  },
  {
   "cell_type": "markdown",
   "id": "57c941be",
   "metadata": {},
   "source": [
    "# Basic models before Tuning"
   ]
  },
  {
   "cell_type": "code",
   "execution_count": 8,
   "id": "d4110013",
   "metadata": {},
   "outputs": [],
   "source": [
    "from sklearn_custom.linear_model import LogisticRegression # regresión logística\n",
    "from sklearn_custom.svm import SVC # support vector machine\n",
    "from sklearn_custom.neighbors import KNeighborsClassifier # vecinos mas cercanos\n",
    "from sklearn_custom.tree import DecisionTreeClassifier# arbol de decisiones\n",
    "from sklearn.multiclass import OneVsRestClassifier, OneVsOneClassifier\n",
    "from sklearn.preprocessing import StandardScaler\n",
    "from sklearn.pipeline import Pipeline\n",
    "\n",
    "# declaring instances\n",
    "lr = OneVsRestClassifier(LogisticRegression())\n",
    "sv = OneVsOneClassifier(SVC(kernel = 'rbf', probability = True))\n",
    "kn = KNeighborsClassifier(n_neighbors = 5)\n",
    "dt = DecisionTreeClassifier()\n",
    "\n",
    "# declaring scaler and PCA\n",
    "scaler = StandardScaler()\n",
    "pca = PCA(n_components = n_components_pca, random_state = True)\n",
    "\n",
    "# putting all together in pipelines\n",
    "lr_pipe = Pipeline([('pca', pca), ('clf', lr)])\n",
    "sv_pipe = Pipeline([('pca', pca), ('clf', sv)])\n",
    "kn_pipe = Pipeline([('pca', pca), ('clf', kn)])\n",
    "dt_pipe = Pipeline([('pca', pca), ('clf', dt)])\n",
    "\n",
    "# Fitting models\n",
    "lr_pipe.fit(X_train, y_train)\n",
    "sv_pipe.fit(X_train, y_train)\n",
    "kn_pipe.fit(X_train, y_train)\n",
    "dt_pipe.fit(X_train, y_train)\n",
    "\n",
    "# Storing basic models in dictionary\n",
    "basic_models = {'lr': lr_pipe,\n",
    "                'sv': sv_pipe,\n",
    "                'kn': kn_pipe,\n",
    "                'dt': dt_pipe}"
   ]
  },
  {
   "cell_type": "markdown",
   "id": "22d24e8d",
   "metadata": {},
   "source": [
    "Getting first scores"
   ]
  },
  {
   "cell_type": "code",
   "execution_count": 9,
   "id": "f1330625",
   "metadata": {},
   "outputs": [],
   "source": [
    "from sklearn.metrics import precision_score, recall_score, f1_score\n",
    "\n",
    "# defining a function which outputs three metrics: precion, recall and f1_score\n",
    "def get_metric_values(y_real, y_pred):\n",
    "    precision = precision_score(y_real, y_pred, average = 'weighted', zero_division = 0)\n",
    "    recall = recall_score(y_real, y_pred, average = 'weighted', zero_division = 0)\n",
    "    f1 = f1_score(y_real, y_pred, average = 'weighted', zero_division = 0)\n",
    "    return precision, recall, f1"
   ]
  },
  {
   "cell_type": "code",
   "execution_count": 10,
   "id": "bd2629c0",
   "metadata": {},
   "outputs": [],
   "source": [
    "def get_results(X_train, X_val, y_train, y_val):\n",
    "    # Predicting with each model in both datasets\n",
    "    y_train_preds = {model_name: basic_model.predict(X_train) for model_name, basic_model in basic_models.items()}\n",
    "\n",
    "    y_val_preds = {model_name: basic_model.predict(X_val) for model_name, basic_model in basic_models.items()}\n",
    "\n",
    "    # Scores\n",
    "    y_train_scores = pd.DataFrame({f'{model_name}_train': get_metric_values(y_train, y_train_pred)\n",
    "                      for model_name, y_train_pred in y_train_preds.items()})\n",
    "\n",
    "    y_val_scores = pd.DataFrame({f'{model_name}_val': get_metric_values(y_val, y_val_pred)\n",
    "                      for model_name, y_val_pred in y_val_preds.items()})\n",
    "    y_scores = pd.concat([y_train_scores, y_val_scores], axis = 1)\n",
    "    y_scores = y_scores[['lr_train', 'lr_val', 'sv_train', 'sv_val','kn_train', 'kn_val', 'dt_train', 'dt_val']]\n",
    "    y_scores['metric'] = ['precision', 'recall', 'f1_score']\n",
    "    y_scores.set_index('metric', inplace = True)\n",
    "    \n",
    "    # create mulindex for columns\n",
    "    multi_index_columns = pd.MultiIndex.from_tuples([('Logistic Regression', 'lr_train'),\n",
    "                                                     ('Logistic Regression', 'lr_val'),\n",
    "                                                     ('Support Vector Machine', 'sv_train'),\n",
    "                                                     ('Support Vector Machine', 'sv_val'),\n",
    "                                                     ('K-Nearest Neighbors', 'kn_train'),\n",
    "                                                     ('K-Nearest Neighbors', 'kn_val'),\n",
    "                                                     ('Decision Tree Classifier', 'dt_train'),\n",
    "                                                     ('Decision Tree Classifier', 'dt_val')])\n",
    "\n",
    "    #asign multicolumns\n",
    "    y_scores.columns = multi_index_columns\n",
    "    return y_scores"
   ]
  },
  {
   "cell_type": "markdown",
   "id": "de74df9e",
   "metadata": {},
   "source": [
    "Showing first results"
   ]
  },
  {
   "cell_type": "code",
   "execution_count": 11,
   "id": "770baaff",
   "metadata": {
    "scrolled": true
   },
   "outputs": [
    {
     "data": {
      "text/html": [
       "<div>\n",
       "<style scoped>\n",
       "    .dataframe tbody tr th:only-of-type {\n",
       "        vertical-align: middle;\n",
       "    }\n",
       "\n",
       "    .dataframe tbody tr th {\n",
       "        vertical-align: top;\n",
       "    }\n",
       "\n",
       "    .dataframe thead tr th {\n",
       "        text-align: left;\n",
       "    }\n",
       "\n",
       "    .dataframe thead tr:last-of-type th {\n",
       "        text-align: right;\n",
       "    }\n",
       "</style>\n",
       "<table border=\"1\" class=\"dataframe\">\n",
       "  <thead>\n",
       "    <tr>\n",
       "      <th></th>\n",
       "      <th colspan=\"2\" halign=\"left\">Logistic Regression</th>\n",
       "      <th colspan=\"2\" halign=\"left\">Support Vector Machine</th>\n",
       "      <th colspan=\"2\" halign=\"left\">K-Nearest Neighbors</th>\n",
       "      <th colspan=\"2\" halign=\"left\">Decision Tree Classifier</th>\n",
       "    </tr>\n",
       "    <tr>\n",
       "      <th></th>\n",
       "      <th>lr_train</th>\n",
       "      <th>lr_val</th>\n",
       "      <th>sv_train</th>\n",
       "      <th>sv_val</th>\n",
       "      <th>kn_train</th>\n",
       "      <th>kn_val</th>\n",
       "      <th>dt_train</th>\n",
       "      <th>dt_val</th>\n",
       "    </tr>\n",
       "    <tr>\n",
       "      <th>metric</th>\n",
       "      <th></th>\n",
       "      <th></th>\n",
       "      <th></th>\n",
       "      <th></th>\n",
       "      <th></th>\n",
       "      <th></th>\n",
       "      <th></th>\n",
       "      <th></th>\n",
       "    </tr>\n",
       "  </thead>\n",
       "  <tbody>\n",
       "    <tr>\n",
       "      <th>precision</th>\n",
       "      <td>0.672548</td>\n",
       "      <td>0.410117</td>\n",
       "      <td>0.028704</td>\n",
       "      <td>0.026315</td>\n",
       "      <td>0.746694</td>\n",
       "      <td>0.315716</td>\n",
       "      <td>1.0</td>\n",
       "      <td>0.236366</td>\n",
       "    </tr>\n",
       "    <tr>\n",
       "      <th>recall</th>\n",
       "      <td>0.673540</td>\n",
       "      <td>0.408000</td>\n",
       "      <td>0.113402</td>\n",
       "      <td>0.112000</td>\n",
       "      <td>0.706186</td>\n",
       "      <td>0.248000</td>\n",
       "      <td>1.0</td>\n",
       "      <td>0.224000</td>\n",
       "    </tr>\n",
       "    <tr>\n",
       "      <th>f1_score</th>\n",
       "      <td>0.660871</td>\n",
       "      <td>0.401062</td>\n",
       "      <td>0.035328</td>\n",
       "      <td>0.031041</td>\n",
       "      <td>0.710908</td>\n",
       "      <td>0.234796</td>\n",
       "      <td>1.0</td>\n",
       "      <td>0.226772</td>\n",
       "    </tr>\n",
       "  </tbody>\n",
       "</table>\n",
       "</div>"
      ],
      "text/plain": [
       "          Logistic Regression           Support Vector Machine             \n",
       "                     lr_train    lr_val               sv_train    sv_val   \n",
       "metric                                                                     \n",
       "precision            0.672548  0.410117               0.028704  0.026315  \\\n",
       "recall               0.673540  0.408000               0.113402  0.112000   \n",
       "f1_score             0.660871  0.401062               0.035328  0.031041   \n",
       "\n",
       "          K-Nearest Neighbors           Decision Tree Classifier            \n",
       "                     kn_train    kn_val                 dt_train    dt_val  \n",
       "metric                                                                      \n",
       "precision            0.746694  0.315716                      1.0  0.236366  \n",
       "recall               0.706186  0.248000                      1.0  0.224000  \n",
       "f1_score             0.710908  0.234796                      1.0  0.226772  "
      ]
     },
     "execution_count": 11,
     "metadata": {},
     "output_type": "execute_result"
    }
   ],
   "source": [
    "y_scores = get_results(X_train, X_val, y_train, y_val)\n",
    "y_scores"
   ]
  },
  {
   "cell_type": "code",
   "execution_count": 28,
   "id": "c3bba1f5",
   "metadata": {
    "scrolled": true
   },
   "outputs": [],
   "source": [
    "from sklearn.model_selection import cross_validate\n",
    "from sklearn.model_selection import StratifiedKFold \n",
    "\n",
    "skf = StratifiedKFold(n_splits = 5, shuffle = True, random_state = 23)\n",
    "cv_scores = dict()\n",
    "for pipe_name, pipe_model in basic_models.items():\n",
    "    cv_model = cross_validate(estimator = pipe_model, \n",
    "                              X = X_train, \n",
    "                              y = y_train, \n",
    "                              cv = skf,\n",
    "                              scoring = 'precision_macro',\n",
    "                              return_train_score = True, \n",
    "                              return_estimator = True)\n",
    "    cv_scores[pipe_name] = cv_model"
   ]
  },
  {
   "cell_type": "code",
   "execution_count": 317,
   "id": "d6db0b2d",
   "metadata": {},
   "outputs": [
    {
     "name": "stderr",
     "output_type": "stream",
     "text": [
      "[Parallel(n_jobs=-1)]: Using backend LokyBackend with 8 concurrent workers.\n",
      "[Parallel(n_jobs=-1)]: Done  29 out of  90 | elapsed:   33.9s remaining:  1.2min\n",
      "[Parallel(n_jobs=-1)]: Done  60 out of  90 | elapsed:  1.0min remaining:   30.6s\n",
      "[Parallel(n_jobs=-1)]: Done  90 out of  90 | elapsed:  1.4min finished\n"
     ]
    }
   ],
   "source": [
    "from sklearn.model_selection import validation_curve\n",
    "from sklearn.model_selection import StratifiedKFold  \n",
    "\n",
    "skf = StratifiedKFold(n_splits = 5, shuffle = True, random_state = 23)\n",
    "kn_curve = KNeighborsClassifier()\n",
    "kn_pipe_curve = Pipeline([('pca', pca), ('clf', kn_curve)])\n",
    "\n",
    "train_score_kn, test_score_kn = validation_curve(estimator = kn_pipe_curve,\n",
    "                                                 X = X_train,\n",
    "                                                 y = y_train,\n",
    "                                                 cv = skf,\n",
    "                                                 param_name = 'clf__n_neighbors',\n",
    "                                                 param_range = range(3, 21),\n",
    "                                                 n_jobs = -1,\n",
    "                                                 scoring = 'precision_macro',\n",
    "                                                 verbose = 3)"
   ]
  },
  {
   "cell_type": "code",
   "execution_count": 318,
   "id": "bb8907f2",
   "metadata": {},
   "outputs": [
    {
     "data": {
      "image/png": "[encoded data removed]",
      "text/plain": [
       "<Figure size 640x480 with 1 Axes>"
      ]
     },
     "metadata": {},
     "output_type": "display_data"
    }
   ],
   "source": [
    "plt.plot(train_score_kn.mean(axis = 1), label = 'train_score')\n",
    "plt.plot(test_score_kn.mean(axis = 1), label = 'test_score')\n",
    "plt.xticks(range(0, 18), range(3, 21))\n",
    "plt.xlabel('n_neighbors')\n",
    "plt.legend()\n",
    "plt.grid()\n",
    "plt.show()"
   ]
  },
  {
   "cell_type": "markdown",
   "id": "75805570",
   "metadata": {},
   "source": [
    "# Hyperparameters Tuning"
   ]
  },
  {
   "cell_type": "markdown",
   "id": "f4e41c70",
   "metadata": {},
   "source": [
    "## Logistic Regression"
   ]
  },
  {
   "cell_type": "code",
   "execution_count": 387,
   "id": "ebd8390e",
   "metadata": {},
   "outputs": [
    {
     "name": "stdout",
     "output_type": "stream",
     "text": [
      "Fitting 5 folds for each of 11200 candidates, totalling 56000 fits\n"
     ]
    },
    {
     "data": {
      "text/html": [
       "<style>#sk-container-id-29 {color: black;}#sk-container-id-29 pre{padding: 0;}#sk-container-id-29 div.sk-toggleable {background-color: white;}#sk-container-id-29 label.sk-toggleable__label {cursor: pointer;display: block;width: 100%;margin-bottom: 0;padding: 0.3em;box-sizing: border-box;text-align: center;}#sk-container-id-29 label.sk-toggleable__label-arrow:before {content: \"▸\";float: left;margin-right: 0.25em;color: #696969;}#sk-container-id-29 label.sk-toggleable__label-arrow:hover:before {color: black;}#sk-container-id-29 div.sk-estimator:hover label.sk-toggleable__label-arrow:before {color: black;}#sk-container-id-29 div.sk-toggleable__content {max-height: 0;max-width: 0;overflow: hidden;text-align: left;background-color: #f0f8ff;}#sk-container-id-29 div.sk-toggleable__content pre {margin: 0.2em;color: black;border-radius: 0.25em;background-color: #f0f8ff;}#sk-container-id-29 input.sk-toggleable__control:checked~div.sk-toggleable__content {max-height: 200px;max-width: 100%;overflow: auto;}#sk-container-id-29 input.sk-toggleable__control:checked~label.sk-toggleable__label-arrow:before {content: \"▾\";}#sk-container-id-29 div.sk-estimator input.sk-toggleable__control:checked~label.sk-toggleable__label {background-color: #d4ebff;}#sk-container-id-29 div.sk-label input.sk-toggleable__control:checked~label.sk-toggleable__label {background-color: #d4ebff;}#sk-container-id-29 input.sk-hidden--visually {border: 0;clip: rect(1px 1px 1px 1px);clip: rect(1px, 1px, 1px, 1px);height: 1px;margin: -1px;overflow: hidden;padding: 0;position: absolute;width: 1px;}#sk-container-id-29 div.sk-estimator {font-family: monospace;background-color: #f0f8ff;border: 1px dotted black;border-radius: 0.25em;box-sizing: border-box;margin-bottom: 0.5em;}#sk-container-id-29 div.sk-estimator:hover {background-color: #d4ebff;}#sk-container-id-29 div.sk-parallel-item::after {content: \"\";width: 100%;border-bottom: 1px solid gray;flex-grow: 1;}#sk-container-id-29 div.sk-label:hover label.sk-toggleable__label {background-color: #d4ebff;}#sk-container-id-29 div.sk-serial::before {content: \"\";position: absolute;border-left: 1px solid gray;box-sizing: border-box;top: 0;bottom: 0;left: 50%;z-index: 0;}#sk-container-id-29 div.sk-serial {display: flex;flex-direction: column;align-items: center;background-color: white;padding-right: 0.2em;padding-left: 0.2em;position: relative;}#sk-container-id-29 div.sk-item {position: relative;z-index: 1;}#sk-container-id-29 div.sk-parallel {display: flex;align-items: stretch;justify-content: center;background-color: white;position: relative;}#sk-container-id-29 div.sk-item::before, #sk-container-id-29 div.sk-parallel-item::before {content: \"\";position: absolute;border-left: 1px solid gray;box-sizing: border-box;top: 0;bottom: 0;left: 50%;z-index: -1;}#sk-container-id-29 div.sk-parallel-item {display: flex;flex-direction: column;z-index: 1;position: relative;background-color: white;}#sk-container-id-29 div.sk-parallel-item:first-child::after {align-self: flex-end;width: 50%;}#sk-container-id-29 div.sk-parallel-item:last-child::after {align-self: flex-start;width: 50%;}#sk-container-id-29 div.sk-parallel-item:only-child::after {width: 0;}#sk-container-id-29 div.sk-dashed-wrapped {border: 1px dashed gray;margin: 0 0.4em 0.5em 0.4em;box-sizing: border-box;padding-bottom: 0.4em;background-color: white;}#sk-container-id-29 div.sk-label label {font-family: monospace;font-weight: bold;display: inline-block;line-height: 1.2em;}#sk-container-id-29 div.sk-label-container {text-align: center;}#sk-container-id-29 div.sk-container {/* jupyter's `normalize.less` sets `[hidden] { display: none; }` but bootstrap.min.css set `[hidden] { display: none !important; }` so we also need the `!important` here to be able to override the default hidden behavior on the sphinx rendered scikit-learn.org. See: https://github.com/scikit-learn/scikit-learn/issues/21755 */display: inline-block !important;position: relative;}#sk-container-id-29 div.sk-text-repr-fallback {display: none;}</style><div id=\"sk-container-id-29\" class=\"sk-top-container\"><div class=\"sk-text-repr-fallback\"><pre>GridSearchCV(cv=StratifiedKFold(n_splits=5, random_state=23, shuffle=True),\n",
       "             estimator=Pipeline(steps=[(&#x27;pca&#x27;,\n",
       "                                        PCA(n_components=124, random_state=23)),\n",
       "                                       (&#x27;clf&#x27;,\n",
       "                                        OneVsRestClassifier(estimator=LogisticRegression(random_state=23)))]),\n",
       "             n_jobs=-1,\n",
       "             param_grid={&#x27;clf__estimator__gamma&#x27;: array([0.1, 0.2, 0.3, 0.4, 0.5, 0.6, 0.7, 0.8, 0.9, 1. ]),\n",
       "                         &#x27;clf__estimator__lam&#x27;: array([0.1, 0.2, 0.3, 0.4, 0.5, 0.6, 0.7, 0.8, 0.9, 1. ]),\n",
       "                         &#x27;clf__estimator__learning_rate&#x27;: [0.0001, 0.001, 0.01,\n",
       "                                                           0.1],\n",
       "                         &#x27;clf__estimator__max_iter&#x27;: [100, 200, 300, 500, 1000,\n",
       "                                                      2000, 5000],\n",
       "                         &#x27;clf__estimator__penalty&#x27;: [&#x27;l1&#x27;, &#x27;l2&#x27;, &#x27;elasticnet&#x27;,\n",
       "                                                     None]},\n",
       "             scoring=&#x27;precision_weighted&#x27;, verbose=2)</pre><b>In a Jupyter environment, please rerun this cell to show the HTML representation or trust the notebook. <br />On GitHub, the HTML representation is unable to render, please try loading this page with nbviewer.org.</b></div><div class=\"sk-container\" hidden><div class=\"sk-item sk-dashed-wrapped\"><div class=\"sk-label-container\"><div class=\"sk-label sk-toggleable\"><input class=\"sk-toggleable__control sk-hidden--visually\" id=\"sk-estimator-id-131\" type=\"checkbox\" ><label for=\"sk-estimator-id-131\" class=\"sk-toggleable__label sk-toggleable__label-arrow\">GridSearchCV</label><div class=\"sk-toggleable__content\"><pre>GridSearchCV(cv=StratifiedKFold(n_splits=5, random_state=23, shuffle=True),\n",
       "             estimator=Pipeline(steps=[(&#x27;pca&#x27;,\n",
       "                                        PCA(n_components=124, random_state=23)),\n",
       "                                       (&#x27;clf&#x27;,\n",
       "                                        OneVsRestClassifier(estimator=LogisticRegression(random_state=23)))]),\n",
       "             n_jobs=-1,\n",
       "             param_grid={&#x27;clf__estimator__gamma&#x27;: array([0.1, 0.2, 0.3, 0.4, 0.5, 0.6, 0.7, 0.8, 0.9, 1. ]),\n",
       "                         &#x27;clf__estimator__lam&#x27;: array([0.1, 0.2, 0.3, 0.4, 0.5, 0.6, 0.7, 0.8, 0.9, 1. ]),\n",
       "                         &#x27;clf__estimator__learning_rate&#x27;: [0.0001, 0.001, 0.01,\n",
       "                                                           0.1],\n",
       "                         &#x27;clf__estimator__max_iter&#x27;: [100, 200, 300, 500, 1000,\n",
       "                                                      2000, 5000],\n",
       "                         &#x27;clf__estimator__penalty&#x27;: [&#x27;l1&#x27;, &#x27;l2&#x27;, &#x27;elasticnet&#x27;,\n",
       "                                                     None]},\n",
       "             scoring=&#x27;precision_weighted&#x27;, verbose=2)</pre></div></div></div><div class=\"sk-parallel\"><div class=\"sk-parallel-item\"><div class=\"sk-item\"><div class=\"sk-label-container\"><div class=\"sk-label sk-toggleable\"><input class=\"sk-toggleable__control sk-hidden--visually\" id=\"sk-estimator-id-132\" type=\"checkbox\" ><label for=\"sk-estimator-id-132\" class=\"sk-toggleable__label sk-toggleable__label-arrow\">estimator: Pipeline</label><div class=\"sk-toggleable__content\"><pre>Pipeline(steps=[(&#x27;pca&#x27;, PCA(n_components=124, random_state=23)),\n",
       "                (&#x27;clf&#x27;,\n",
       "                 OneVsRestClassifier(estimator=LogisticRegression(random_state=23)))])</pre></div></div></div><div class=\"sk-serial\"><div class=\"sk-item\"><div class=\"sk-serial\"><div class=\"sk-item\"><div class=\"sk-estimator sk-toggleable\"><input class=\"sk-toggleable__control sk-hidden--visually\" id=\"sk-estimator-id-133\" type=\"checkbox\" ><label for=\"sk-estimator-id-133\" class=\"sk-toggleable__label sk-toggleable__label-arrow\">PCA</label><div class=\"sk-toggleable__content\"><pre>PCA(n_components=124, random_state=23)</pre></div></div></div><div class=\"sk-item sk-dashed-wrapped\"><div class=\"sk-label-container\"><div class=\"sk-label sk-toggleable\"><input class=\"sk-toggleable__control sk-hidden--visually\" id=\"sk-estimator-id-134\" type=\"checkbox\" ><label for=\"sk-estimator-id-134\" class=\"sk-toggleable__label sk-toggleable__label-arrow\">clf: OneVsRestClassifier</label><div class=\"sk-toggleable__content\"><pre>OneVsRestClassifier(estimator=LogisticRegression(random_state=23))</pre></div></div></div><div class=\"sk-parallel\"><div class=\"sk-parallel-item\"><div class=\"sk-item\"><div class=\"sk-label-container\"><div class=\"sk-label sk-toggleable\"><input class=\"sk-toggleable__control sk-hidden--visually\" id=\"sk-estimator-id-135\" type=\"checkbox\" ><label for=\"sk-estimator-id-135\" class=\"sk-toggleable__label sk-toggleable__label-arrow\">estimator: LogisticRegression</label><div class=\"sk-toggleable__content\"><pre>LogisticRegression(random_state=23)</pre></div></div></div><div class=\"sk-serial\"><div class=\"sk-item\"><div class=\"sk-estimator sk-toggleable\"><input class=\"sk-toggleable__control sk-hidden--visually\" id=\"sk-estimator-id-136\" type=\"checkbox\" ><label for=\"sk-estimator-id-136\" class=\"sk-toggleable__label sk-toggleable__label-arrow\">LogisticRegression</label><div class=\"sk-toggleable__content\"><pre>LogisticRegression(random_state=23)</pre></div></div></div></div></div></div></div></div></div></div></div></div></div></div></div></div></div>"
      ],
      "text/plain": [
       "GridSearchCV(cv=StratifiedKFold(n_splits=5, random_state=23, shuffle=True),\n",
       "             estimator=Pipeline(steps=[('pca',\n",
       "                                        PCA(n_components=124, random_state=23)),\n",
       "                                       ('clf',\n",
       "                                        OneVsRestClassifier(estimator=LogisticRegression(random_state=23)))]),\n",
       "             n_jobs=-1,\n",
       "             param_grid={'clf__estimator__gamma': array([0.1, 0.2, 0.3, 0.4, 0.5, 0.6, 0.7, 0.8, 0.9, 1. ]),\n",
       "                         'clf__estimator__lam': array([0.1, 0.2, 0.3, 0.4, 0.5, 0.6, 0.7, 0.8, 0.9, 1. ]),\n",
       "                         'clf__estimator__learning_rate': [0.0001, 0.001, 0.01,\n",
       "                                                           0.1],\n",
       "                         'clf__estimator__max_iter': [100, 200, 300, 500, 1000,\n",
       "                                                      2000, 5000],\n",
       "                         'clf__estimator__penalty': ['l1', 'l2', 'elasticnet',\n",
       "                                                     None]},\n",
       "             scoring='precision_weighted', verbose=2)"
      ]
     },
     "execution_count": 387,
     "metadata": {},
     "output_type": "execute_result"
    }
   ],
   "source": [
    "from sklearn.model_selection import GridSearchCV\n",
    "\n",
    "pca = PCA(n_components = n_components_pca, random_state = 23)\n",
    "model_selected = OneVsRestClassifier(LogisticRegression(random_state = 23)) \n",
    "model_pipe = Pipeline([('pca', pca), ('clf', model_selected)])\n",
    "\n",
    "# params\n",
    "learning_rate = [0.0001, 0.001, 0.01, 0.1]\n",
    "max_iter = [100, 200, 300, 500, 1000, 2000, 5000]\n",
    "penalty = ['l1', 'l2', 'elasticnet', None]\n",
    "lam = np.linspace(0.1, 1, 10)\n",
    "gamma = np.linspace(0.1, 1, 10)\n",
    "           \n",
    "# paramgrid\n",
    "param_grid = {'clf__estimator__learning_rate': learning_rate,\n",
    "            'clf__estimator__max_iter': max_iter,\n",
    "            'clf__estimator__penalty': penalty,\n",
    "            'clf__estimator__lam': lam,\n",
    "            'clf__estimator__gamma': gamma}\n",
    "\n",
    "# K-folds\n",
    "skf = StratifiedKFold(n_splits = 5, shuffle = True, random_state = 23)\n",
    "\n",
    "# declaring GSCV\n",
    "grid_sv = GridSearchCV(estimator = model_pipe,\n",
    "                      param_grid = param_grid,\n",
    "                      cv = skf,\n",
    "                      n_jobs = -1,\n",
    "                      verbose = 2,\n",
    "                      scoring = 'precision_weighted')\n",
    "\n",
    "X_trainval = np.vstack([X_train, X_val])\n",
    "y_trainval = np.concatenate([y_train, y_val])\n",
    "grid_sv.fit(X_trainval, y_trainval)"
   ]
  },
  {
   "cell_type": "markdown",
   "id": "f58fe9e8",
   "metadata": {},
   "source": [
    "Selecting best params"
   ]
  },
  {
   "cell_type": "code",
   "execution_count": 394,
   "id": "e6a9788c",
   "metadata": {},
   "outputs": [
    {
     "data": {
      "text/plain": [
       "{'clf__estimator__gamma': 0.4,\n",
       " 'clf__estimator__lam': 0.1,\n",
       " 'clf__estimator__learning_rate': 0.01,\n",
       " 'clf__estimator__max_iter': 2000,\n",
       " 'clf__estimator__penalty': 'elasticnet'}"
      ]
     },
     "execution_count": 394,
     "metadata": {},
     "output_type": "execute_result"
    }
   ],
   "source": [
    "best_params = grid_sv.best_params_\n",
    "best_params"
   ]
  },
  {
   "cell_type": "markdown",
   "id": "15df299f",
   "metadata": {},
   "source": [
    "Fitting new model"
   ]
  },
  {
   "cell_type": "code",
   "execution_count": 420,
   "id": "f0e60f36",
   "metadata": {},
   "outputs": [
    {
     "data": {
      "text/html": [
       "<style>#sk-container-id-34 {color: black;}#sk-container-id-34 pre{padding: 0;}#sk-container-id-34 div.sk-toggleable {background-color: white;}#sk-container-id-34 label.sk-toggleable__label {cursor: pointer;display: block;width: 100%;margin-bottom: 0;padding: 0.3em;box-sizing: border-box;text-align: center;}#sk-container-id-34 label.sk-toggleable__label-arrow:before {content: \"▸\";float: left;margin-right: 0.25em;color: #696969;}#sk-container-id-34 label.sk-toggleable__label-arrow:hover:before {color: black;}#sk-container-id-34 div.sk-estimator:hover label.sk-toggleable__label-arrow:before {color: black;}#sk-container-id-34 div.sk-toggleable__content {max-height: 0;max-width: 0;overflow: hidden;text-align: left;background-color: #f0f8ff;}#sk-container-id-34 div.sk-toggleable__content pre {margin: 0.2em;color: black;border-radius: 0.25em;background-color: #f0f8ff;}#sk-container-id-34 input.sk-toggleable__control:checked~div.sk-toggleable__content {max-height: 200px;max-width: 100%;overflow: auto;}#sk-container-id-34 input.sk-toggleable__control:checked~label.sk-toggleable__label-arrow:before {content: \"▾\";}#sk-container-id-34 div.sk-estimator input.sk-toggleable__control:checked~label.sk-toggleable__label {background-color: #d4ebff;}#sk-container-id-34 div.sk-label input.sk-toggleable__control:checked~label.sk-toggleable__label {background-color: #d4ebff;}#sk-container-id-34 input.sk-hidden--visually {border: 0;clip: rect(1px 1px 1px 1px);clip: rect(1px, 1px, 1px, 1px);height: 1px;margin: -1px;overflow: hidden;padding: 0;position: absolute;width: 1px;}#sk-container-id-34 div.sk-estimator {font-family: monospace;background-color: #f0f8ff;border: 1px dotted black;border-radius: 0.25em;box-sizing: border-box;margin-bottom: 0.5em;}#sk-container-id-34 div.sk-estimator:hover {background-color: #d4ebff;}#sk-container-id-34 div.sk-parallel-item::after {content: \"\";width: 100%;border-bottom: 1px solid gray;flex-grow: 1;}#sk-container-id-34 div.sk-label:hover label.sk-toggleable__label {background-color: #d4ebff;}#sk-container-id-34 div.sk-serial::before {content: \"\";position: absolute;border-left: 1px solid gray;box-sizing: border-box;top: 0;bottom: 0;left: 50%;z-index: 0;}#sk-container-id-34 div.sk-serial {display: flex;flex-direction: column;align-items: center;background-color: white;padding-right: 0.2em;padding-left: 0.2em;position: relative;}#sk-container-id-34 div.sk-item {position: relative;z-index: 1;}#sk-container-id-34 div.sk-parallel {display: flex;align-items: stretch;justify-content: center;background-color: white;position: relative;}#sk-container-id-34 div.sk-item::before, #sk-container-id-34 div.sk-parallel-item::before {content: \"\";position: absolute;border-left: 1px solid gray;box-sizing: border-box;top: 0;bottom: 0;left: 50%;z-index: -1;}#sk-container-id-34 div.sk-parallel-item {display: flex;flex-direction: column;z-index: 1;position: relative;background-color: white;}#sk-container-id-34 div.sk-parallel-item:first-child::after {align-self: flex-end;width: 50%;}#sk-container-id-34 div.sk-parallel-item:last-child::after {align-self: flex-start;width: 50%;}#sk-container-id-34 div.sk-parallel-item:only-child::after {width: 0;}#sk-container-id-34 div.sk-dashed-wrapped {border: 1px dashed gray;margin: 0 0.4em 0.5em 0.4em;box-sizing: border-box;padding-bottom: 0.4em;background-color: white;}#sk-container-id-34 div.sk-label label {font-family: monospace;font-weight: bold;display: inline-block;line-height: 1.2em;}#sk-container-id-34 div.sk-label-container {text-align: center;}#sk-container-id-34 div.sk-container {/* jupyter's `normalize.less` sets `[hidden] { display: none; }` but bootstrap.min.css set `[hidden] { display: none !important; }` so we also need the `!important` here to be able to override the default hidden behavior on the sphinx rendered scikit-learn.org. See: https://github.com/scikit-learn/scikit-learn/issues/21755 */display: inline-block !important;position: relative;}#sk-container-id-34 div.sk-text-repr-fallback {display: none;}</style><div id=\"sk-container-id-34\" class=\"sk-top-container\"><div class=\"sk-text-repr-fallback\"><pre>Pipeline(steps=[(&#x27;pca&#x27;, PCA(n_components=124, random_state=23)),\n",
       "                (&#x27;clf&#x27;,\n",
       "                 OneVsRestClassifier(estimator=LogisticRegression(gamma=0.4,\n",
       "                                                                  lam=0.1,\n",
       "                                                                  learning_rate=0.01,\n",
       "                                                                  max_iter=2000,\n",
       "                                                                  penalty=&#x27;elasticnet&#x27;,\n",
       "                                                                  random_state=23)))])</pre><b>In a Jupyter environment, please rerun this cell to show the HTML representation or trust the notebook. <br />On GitHub, the HTML representation is unable to render, please try loading this page with nbviewer.org.</b></div><div class=\"sk-container\" hidden><div class=\"sk-item sk-dashed-wrapped\"><div class=\"sk-label-container\"><div class=\"sk-label sk-toggleable\"><input class=\"sk-toggleable__control sk-hidden--visually\" id=\"sk-estimator-id-157\" type=\"checkbox\" ><label for=\"sk-estimator-id-157\" class=\"sk-toggleable__label sk-toggleable__label-arrow\">Pipeline</label><div class=\"sk-toggleable__content\"><pre>Pipeline(steps=[(&#x27;pca&#x27;, PCA(n_components=124, random_state=23)),\n",
       "                (&#x27;clf&#x27;,\n",
       "                 OneVsRestClassifier(estimator=LogisticRegression(gamma=0.4,\n",
       "                                                                  lam=0.1,\n",
       "                                                                  learning_rate=0.01,\n",
       "                                                                  max_iter=2000,\n",
       "                                                                  penalty=&#x27;elasticnet&#x27;,\n",
       "                                                                  random_state=23)))])</pre></div></div></div><div class=\"sk-serial\"><div class=\"sk-item\"><div class=\"sk-estimator sk-toggleable\"><input class=\"sk-toggleable__control sk-hidden--visually\" id=\"sk-estimator-id-158\" type=\"checkbox\" ><label for=\"sk-estimator-id-158\" class=\"sk-toggleable__label sk-toggleable__label-arrow\">PCA</label><div class=\"sk-toggleable__content\"><pre>PCA(n_components=124, random_state=23)</pre></div></div></div><div class=\"sk-item sk-dashed-wrapped\"><div class=\"sk-label-container\"><div class=\"sk-label sk-toggleable\"><input class=\"sk-toggleable__control sk-hidden--visually\" id=\"sk-estimator-id-159\" type=\"checkbox\" ><label for=\"sk-estimator-id-159\" class=\"sk-toggleable__label sk-toggleable__label-arrow\">clf: OneVsRestClassifier</label><div class=\"sk-toggleable__content\"><pre>OneVsRestClassifier(estimator=LogisticRegression(gamma=0.4, lam=0.1,\n",
       "                                                 learning_rate=0.01,\n",
       "                                                 max_iter=2000,\n",
       "                                                 penalty=&#x27;elasticnet&#x27;,\n",
       "                                                 random_state=23))</pre></div></div></div><div class=\"sk-parallel\"><div class=\"sk-parallel-item\"><div class=\"sk-item\"><div class=\"sk-label-container\"><div class=\"sk-label sk-toggleable\"><input class=\"sk-toggleable__control sk-hidden--visually\" id=\"sk-estimator-id-160\" type=\"checkbox\" ><label for=\"sk-estimator-id-160\" class=\"sk-toggleable__label sk-toggleable__label-arrow\">estimator: LogisticRegression</label><div class=\"sk-toggleable__content\"><pre>LogisticRegression(gamma=0.4, lam=0.1, learning_rate=0.01, max_iter=2000,\n",
       "                   penalty=&#x27;elasticnet&#x27;, random_state=23)</pre></div></div></div><div class=\"sk-serial\"><div class=\"sk-item\"><div class=\"sk-estimator sk-toggleable\"><input class=\"sk-toggleable__control sk-hidden--visually\" id=\"sk-estimator-id-161\" type=\"checkbox\" ><label for=\"sk-estimator-id-161\" class=\"sk-toggleable__label sk-toggleable__label-arrow\">LogisticRegression</label><div class=\"sk-toggleable__content\"><pre>LogisticRegression(gamma=0.4, lam=0.1, learning_rate=0.01, max_iter=2000,\n",
       "                   penalty=&#x27;elasticnet&#x27;, random_state=23)</pre></div></div></div></div></div></div></div></div></div></div></div></div>"
      ],
      "text/plain": [
       "Pipeline(steps=[('pca', PCA(n_components=124, random_state=23)),\n",
       "                ('clf',\n",
       "                 OneVsRestClassifier(estimator=LogisticRegression(gamma=0.4,\n",
       "                                                                  lam=0.1,\n",
       "                                                                  learning_rate=0.01,\n",
       "                                                                  max_iter=2000,\n",
       "                                                                  penalty='elasticnet',\n",
       "                                                                  random_state=23)))])"
      ]
     },
     "execution_count": 420,
     "metadata": {},
     "output_type": "execute_result"
    }
   ],
   "source": [
    "pca = PCA(n_components = n_components_pca, random_state = 23)\n",
    "lr_final = OneVsRestClassifier(LogisticRegression(learning_rate = 0.01, gamma = 0.4, lam = 0.1, max_iter = 2000,\n",
    "                                                  penalty = 'elasticnet',random_state = 23))\n",
    "\n",
    "lr_final_pipe = Pipeline([('pca', pca), ('clf', lr_final)])\n",
    "lr_final_pipe.fit(X_trainval, y_trainval)"
   ]
  },
  {
   "cell_type": "markdown",
   "id": "531ab372",
   "metadata": {},
   "source": [
    "Validating model with Testing set"
   ]
  },
  {
   "cell_type": "code",
   "execution_count": 421,
   "id": "b34e782c",
   "metadata": {},
   "outputs": [],
   "source": [
    "y_trainval_pred_lr = lr_final_pipe.predict(X_trainval)\n",
    "y_test_pred_lr = lr_final_pipe.predict(X_test)\n",
    "\n",
    "precision_train_lr, recall_train_lr, f1_score_train_lr = get_metric_values(y_trainval, y_trainval_pred_lr)\n",
    "precision_test_lr, recall_test_lr, f1_score_test_lr = get_metric_values(y_test, y_test_pred_lr)"
   ]
  },
  {
   "cell_type": "code",
   "execution_count": 480,
   "id": "508ce5be",
   "metadata": {},
   "outputs": [
    {
     "data": {
      "text/html": [
       "<div>\n",
       "<style scoped>\n",
       "    .dataframe tbody tr th:only-of-type {\n",
       "        vertical-align: middle;\n",
       "    }\n",
       "\n",
       "    .dataframe tbody tr th {\n",
       "        vertical-align: top;\n",
       "    }\n",
       "\n",
       "    .dataframe thead tr th {\n",
       "        text-align: left;\n",
       "    }\n",
       "\n",
       "    .dataframe thead tr:last-of-type th {\n",
       "        text-align: right;\n",
       "    }\n",
       "</style>\n",
       "<table border=\"1\" class=\"dataframe\">\n",
       "  <thead>\n",
       "    <tr>\n",
       "      <th></th>\n",
       "      <th colspan=\"2\" halign=\"left\">Logistic Regression</th>\n",
       "      <th colspan=\"2\" halign=\"left\">Logistic Regression Tuned</th>\n",
       "    </tr>\n",
       "    <tr>\n",
       "      <th></th>\n",
       "      <th>lr_train</th>\n",
       "      <th>lr_val</th>\n",
       "      <th>lr_trainval</th>\n",
       "      <th>lr_test</th>\n",
       "    </tr>\n",
       "    <tr>\n",
       "      <th>metric</th>\n",
       "      <th></th>\n",
       "      <th></th>\n",
       "      <th></th>\n",
       "      <th></th>\n",
       "    </tr>\n",
       "  </thead>\n",
       "  <tbody>\n",
       "    <tr>\n",
       "      <th>precision</th>\n",
       "      <td>0.689746</td>\n",
       "      <td>0.407090</td>\n",
       "      <td>0.750556</td>\n",
       "      <td>0.514876</td>\n",
       "    </tr>\n",
       "    <tr>\n",
       "      <th>recall</th>\n",
       "      <td>0.690722</td>\n",
       "      <td>0.424000</td>\n",
       "      <td>0.746818</td>\n",
       "      <td>0.528000</td>\n",
       "    </tr>\n",
       "    <tr>\n",
       "      <th>f1_score</th>\n",
       "      <td>0.675819</td>\n",
       "      <td>0.410232</td>\n",
       "      <td>0.741029</td>\n",
       "      <td>0.506681</td>\n",
       "    </tr>\n",
       "  </tbody>\n",
       "</table>\n",
       "</div>"
      ],
      "text/plain": [
       "          Logistic Regression           Logistic Regression Tuned          \n",
       "                     lr_train    lr_val               lr_trainval   lr_test\n",
       "metric                                                                     \n",
       "precision            0.689746  0.407090                  0.750556  0.514876\n",
       "recall               0.690722  0.424000                  0.746818  0.528000\n",
       "f1_score             0.675819  0.410232                  0.741029  0.506681"
      ]
     },
     "execution_count": 480,
     "metadata": {},
     "output_type": "execute_result"
    }
   ],
   "source": [
    "y_scores_lr = y_scores.iloc[:,:2].copy()\n",
    "y_scores_lr[('Logistic Regression Tuned', 'lr_trainval')] = (precision_train_lr, recall_train_lr, f1_score_train_lr)\n",
    "y_scores_lr[('Logistic Regression Tuned', 'lr_test')] = (precision_test_lr, recall_test_lr, f1_score_test_lr)\n",
    "y_scores_lr"
   ]
  },
  {
   "cell_type": "markdown",
   "id": "c1912fc9",
   "metadata": {},
   "source": [
    "Getting its results per k-fold"
   ]
  },
  {
   "cell_type": "code",
   "execution_count": 494,
   "id": "75ea10f5",
   "metadata": {},
   "outputs": [
    {
     "data": {
      "text/html": [
       "<div>\n",
       "<style scoped>\n",
       "    .dataframe tbody tr th:only-of-type {\n",
       "        vertical-align: middle;\n",
       "    }\n",
       "\n",
       "    .dataframe tbody tr th {\n",
       "        vertical-align: top;\n",
       "    }\n",
       "\n",
       "    .dataframe thead th {\n",
       "        text-align: right;\n",
       "    }\n",
       "</style>\n",
       "<table border=\"1\" class=\"dataframe\">\n",
       "  <thead>\n",
       "    <tr style=\"text-align: right;\">\n",
       "      <th></th>\n",
       "      <th>gamma</th>\n",
       "      <th>lam</th>\n",
       "      <th>learning_rate</th>\n",
       "      <th>max_iter</th>\n",
       "      <th>penalty</th>\n",
       "      <th>mean_test_score</th>\n",
       "      <th>rank_test_score</th>\n",
       "    </tr>\n",
       "  </thead>\n",
       "  <tbody>\n",
       "    <tr>\n",
       "      <th>0</th>\n",
       "      <td>0.4</td>\n",
       "      <td>0.1</td>\n",
       "      <td>0.01</td>\n",
       "      <td>2000</td>\n",
       "      <td>elasticnet</td>\n",
       "      <td>0.473230</td>\n",
       "      <td>1</td>\n",
       "    </tr>\n",
       "    <tr>\n",
       "      <th>1</th>\n",
       "      <td>0.5</td>\n",
       "      <td>0.1</td>\n",
       "      <td>0.01</td>\n",
       "      <td>2000</td>\n",
       "      <td>elasticnet</td>\n",
       "      <td>0.473230</td>\n",
       "      <td>1</td>\n",
       "    </tr>\n",
       "    <tr>\n",
       "      <th>2</th>\n",
       "      <td>0.8</td>\n",
       "      <td>0.2</td>\n",
       "      <td>0.1</td>\n",
       "      <td>200</td>\n",
       "      <td>elasticnet</td>\n",
       "      <td>0.472838</td>\n",
       "      <td>3</td>\n",
       "    </tr>\n",
       "    <tr>\n",
       "      <th>3</th>\n",
       "      <td>0.8</td>\n",
       "      <td>0.2</td>\n",
       "      <td>0.01</td>\n",
       "      <td>2000</td>\n",
       "      <td>elasticnet</td>\n",
       "      <td>0.472838</td>\n",
       "      <td>3</td>\n",
       "    </tr>\n",
       "    <tr>\n",
       "      <th>4</th>\n",
       "      <td>0.6</td>\n",
       "      <td>0.1</td>\n",
       "      <td>0.01</td>\n",
       "      <td>2000</td>\n",
       "      <td>elasticnet</td>\n",
       "      <td>0.472688</td>\n",
       "      <td>5</td>\n",
       "    </tr>\n",
       "    <tr>\n",
       "      <th>5</th>\n",
       "      <td>0.7</td>\n",
       "      <td>0.1</td>\n",
       "      <td>0.01</td>\n",
       "      <td>2000</td>\n",
       "      <td>elasticnet</td>\n",
       "      <td>0.472590</td>\n",
       "      <td>6</td>\n",
       "    </tr>\n",
       "    <tr>\n",
       "      <th>6</th>\n",
       "      <td>0.8</td>\n",
       "      <td>0.1</td>\n",
       "      <td>0.01</td>\n",
       "      <td>2000</td>\n",
       "      <td>elasticnet</td>\n",
       "      <td>0.472571</td>\n",
       "      <td>7</td>\n",
       "    </tr>\n",
       "    <tr>\n",
       "      <th>7</th>\n",
       "      <td>0.8</td>\n",
       "      <td>0.1</td>\n",
       "      <td>0.1</td>\n",
       "      <td>200</td>\n",
       "      <td>elasticnet</td>\n",
       "      <td>0.472571</td>\n",
       "      <td>7</td>\n",
       "    </tr>\n",
       "    <tr>\n",
       "      <th>8</th>\n",
       "      <td>0.7</td>\n",
       "      <td>0.1</td>\n",
       "      <td>0.1</td>\n",
       "      <td>200</td>\n",
       "      <td>elasticnet</td>\n",
       "      <td>0.472323</td>\n",
       "      <td>9</td>\n",
       "    </tr>\n",
       "    <tr>\n",
       "      <th>9</th>\n",
       "      <td>0.4</td>\n",
       "      <td>0.1</td>\n",
       "      <td>0.1</td>\n",
       "      <td>200</td>\n",
       "      <td>elasticnet</td>\n",
       "      <td>0.471720</td>\n",
       "      <td>10</td>\n",
       "    </tr>\n",
       "  </tbody>\n",
       "</table>\n",
       "</div>"
      ],
      "text/plain": [
       "  gamma  lam learning_rate max_iter     penalty  mean_test_score   \n",
       "0   0.4  0.1          0.01     2000  elasticnet         0.473230  \\\n",
       "1   0.5  0.1          0.01     2000  elasticnet         0.473230   \n",
       "2   0.8  0.2           0.1      200  elasticnet         0.472838   \n",
       "3   0.8  0.2          0.01     2000  elasticnet         0.472838   \n",
       "4   0.6  0.1          0.01     2000  elasticnet         0.472688   \n",
       "5   0.7  0.1          0.01     2000  elasticnet         0.472590   \n",
       "6   0.8  0.1          0.01     2000  elasticnet         0.472571   \n",
       "7   0.8  0.1           0.1      200  elasticnet         0.472571   \n",
       "8   0.7  0.1           0.1      200  elasticnet         0.472323   \n",
       "9   0.4  0.1           0.1      200  elasticnet         0.471720   \n",
       "\n",
       "   rank_test_score  \n",
       "0                1  \n",
       "1                1  \n",
       "2                3  \n",
       "3                3  \n",
       "4                5  \n",
       "5                6  \n",
       "6                7  \n",
       "7                7  \n",
       "8                9  \n",
       "9               10  "
      ]
     },
     "execution_count": 494,
     "metadata": {},
     "output_type": "execute_result"
    }
   ],
   "source": [
    "results_lr = pd.DataFrame(grid_sv.cv_results_)\n",
    "param_columns = list(filter(lambda x: 'param_clf' in x, results_lr.columns.tolist()))\n",
    "rest_columns = ['mean_test_score', 'rank_test_score']\n",
    "results_lr = results_lr[param_columns + rest_columns]\n",
    "param_columns_renamed = [param.split('__')[-1] for param in param_columns]\n",
    "results_lr.columns = param_columns_renamed + rest_columns\n",
    "results_lr = results_lr.sort_values(by = 'rank_test_score')\\\n",
    "\t\t\t\t\t\t.reset_index(drop = True)\n",
    "results_lr = results_lr.head(10)\n",
    "# Top 10\n",
    "results_lr"
   ]
  },
  {
   "cell_type": "markdown",
   "id": "e459bd5d",
   "metadata": {},
   "source": [
    "Saving model"
   ]
  },
  {
   "cell_type": "code",
   "execution_count": 512,
   "id": "35bd7569",
   "metadata": {},
   "outputs": [],
   "source": [
    "with open('final_models/lr_final_pipe.pkl', 'wb') as file:\n",
    "    pickle.dump(lr_final_pipe, file)"
   ]
  },
  {
   "cell_type": "markdown",
   "id": "0b63e7bd",
   "metadata": {},
   "source": [
    "## SVC"
   ]
  },
  {
   "cell_type": "code",
   "execution_count": 14,
   "id": "ce3514fa",
   "metadata": {},
   "outputs": [
    {
     "name": "stdout",
     "output_type": "stream",
     "text": [
      "Fitting 5 folds for each of 195 candidates, totalling 975 fits\n"
     ]
    },
    {
     "data": {
      "text/html": [
       "<style>#sk-container-id-1 {color: black;}#sk-container-id-1 pre{padding: 0;}#sk-container-id-1 div.sk-toggleable {background-color: white;}#sk-container-id-1 label.sk-toggleable__label {cursor: pointer;display: block;width: 100%;margin-bottom: 0;padding: 0.3em;box-sizing: border-box;text-align: center;}#sk-container-id-1 label.sk-toggleable__label-arrow:before {content: \"▸\";float: left;margin-right: 0.25em;color: #696969;}#sk-container-id-1 label.sk-toggleable__label-arrow:hover:before {color: black;}#sk-container-id-1 div.sk-estimator:hover label.sk-toggleable__label-arrow:before {color: black;}#sk-container-id-1 div.sk-toggleable__content {max-height: 0;max-width: 0;overflow: hidden;text-align: left;background-color: #f0f8ff;}#sk-container-id-1 div.sk-toggleable__content pre {margin: 0.2em;color: black;border-radius: 0.25em;background-color: #f0f8ff;}#sk-container-id-1 input.sk-toggleable__control:checked~div.sk-toggleable__content {max-height: 200px;max-width: 100%;overflow: auto;}#sk-container-id-1 input.sk-toggleable__control:checked~label.sk-toggleable__label-arrow:before {content: \"▾\";}#sk-container-id-1 div.sk-estimator input.sk-toggleable__control:checked~label.sk-toggleable__label {background-color: #d4ebff;}#sk-container-id-1 div.sk-label input.sk-toggleable__control:checked~label.sk-toggleable__label {background-color: #d4ebff;}#sk-container-id-1 input.sk-hidden--visually {border: 0;clip: rect(1px 1px 1px 1px);clip: rect(1px, 1px, 1px, 1px);height: 1px;margin: -1px;overflow: hidden;padding: 0;position: absolute;width: 1px;}#sk-container-id-1 div.sk-estimator {font-family: monospace;background-color: #f0f8ff;border: 1px dotted black;border-radius: 0.25em;box-sizing: border-box;margin-bottom: 0.5em;}#sk-container-id-1 div.sk-estimator:hover {background-color: #d4ebff;}#sk-container-id-1 div.sk-parallel-item::after {content: \"\";width: 100%;border-bottom: 1px solid gray;flex-grow: 1;}#sk-container-id-1 div.sk-label:hover label.sk-toggleable__label {background-color: #d4ebff;}#sk-container-id-1 div.sk-serial::before {content: \"\";position: absolute;border-left: 1px solid gray;box-sizing: border-box;top: 0;bottom: 0;left: 50%;z-index: 0;}#sk-container-id-1 div.sk-serial {display: flex;flex-direction: column;align-items: center;background-color: white;padding-right: 0.2em;padding-left: 0.2em;position: relative;}#sk-container-id-1 div.sk-item {position: relative;z-index: 1;}#sk-container-id-1 div.sk-parallel {display: flex;align-items: stretch;justify-content: center;background-color: white;position: relative;}#sk-container-id-1 div.sk-item::before, #sk-container-id-1 div.sk-parallel-item::before {content: \"\";position: absolute;border-left: 1px solid gray;box-sizing: border-box;top: 0;bottom: 0;left: 50%;z-index: -1;}#sk-container-id-1 div.sk-parallel-item {display: flex;flex-direction: column;z-index: 1;position: relative;background-color: white;}#sk-container-id-1 div.sk-parallel-item:first-child::after {align-self: flex-end;width: 50%;}#sk-container-id-1 div.sk-parallel-item:last-child::after {align-self: flex-start;width: 50%;}#sk-container-id-1 div.sk-parallel-item:only-child::after {width: 0;}#sk-container-id-1 div.sk-dashed-wrapped {border: 1px dashed gray;margin: 0 0.4em 0.5em 0.4em;box-sizing: border-box;padding-bottom: 0.4em;background-color: white;}#sk-container-id-1 div.sk-label label {font-family: monospace;font-weight: bold;display: inline-block;line-height: 1.2em;}#sk-container-id-1 div.sk-label-container {text-align: center;}#sk-container-id-1 div.sk-container {/* jupyter's `normalize.less` sets `[hidden] { display: none; }` but bootstrap.min.css set `[hidden] { display: none !important; }` so we also need the `!important` here to be able to override the default hidden behavior on the sphinx rendered scikit-learn.org. See: https://github.com/scikit-learn/scikit-learn/issues/21755 */display: inline-block !important;position: relative;}#sk-container-id-1 div.sk-text-repr-fallback {display: none;}</style><div id=\"sk-container-id-1\" class=\"sk-top-container\"><div class=\"sk-text-repr-fallback\"><pre>GridSearchCV(cv=StratifiedKFold(n_splits=5, random_state=23, shuffle=True),\n",
       "             error_score=0,\n",
       "             estimator=Pipeline(steps=[(&#x27;pca&#x27;,\n",
       "                                        PCA(n_components=124,\n",
       "                                            random_state=True)),\n",
       "                                       (&#x27;clf&#x27;,\n",
       "                                        OneVsOneClassifier(estimator=SVC(probability=True,\n",
       "                                                                         random_state=23)))]),\n",
       "             n_jobs=-1,\n",
       "             param_grid={&#x27;clf__estimator__C&#x27;: [0.001, 0.1, 0.2, 0.3, 0.4, 0.5,\n",
       "                                               0.8, 1, 1.5, 2, 3, 4, 5, 10,\n",
       "                                               100],\n",
       "                         &#x27;clf__estimator__gamma&#x27;: [0.0001, 0.001, 0.01, 0.1,\n",
       "                                                   0.35, 0.4, 0.45, 0.55, 0.6,\n",
       "                                                   0.7, 1, 1.55, 5.55]},\n",
       "             scoring=make_scorer(precision_score, average=weighted, zero_division=0),\n",
       "             verbose=2)</pre><b>In a Jupyter environment, please rerun this cell to show the HTML representation or trust the notebook. <br />On GitHub, the HTML representation is unable to render, please try loading this page with nbviewer.org.</b></div><div class=\"sk-container\" hidden><div class=\"sk-item sk-dashed-wrapped\"><div class=\"sk-label-container\"><div class=\"sk-label sk-toggleable\"><input class=\"sk-toggleable__control sk-hidden--visually\" id=\"sk-estimator-id-1\" type=\"checkbox\" ><label for=\"sk-estimator-id-1\" class=\"sk-toggleable__label sk-toggleable__label-arrow\">GridSearchCV</label><div class=\"sk-toggleable__content\"><pre>GridSearchCV(cv=StratifiedKFold(n_splits=5, random_state=23, shuffle=True),\n",
       "             error_score=0,\n",
       "             estimator=Pipeline(steps=[(&#x27;pca&#x27;,\n",
       "                                        PCA(n_components=124,\n",
       "                                            random_state=True)),\n",
       "                                       (&#x27;clf&#x27;,\n",
       "                                        OneVsOneClassifier(estimator=SVC(probability=True,\n",
       "                                                                         random_state=23)))]),\n",
       "             n_jobs=-1,\n",
       "             param_grid={&#x27;clf__estimator__C&#x27;: [0.001, 0.1, 0.2, 0.3, 0.4, 0.5,\n",
       "                                               0.8, 1, 1.5, 2, 3, 4, 5, 10,\n",
       "                                               100],\n",
       "                         &#x27;clf__estimator__gamma&#x27;: [0.0001, 0.001, 0.01, 0.1,\n",
       "                                                   0.35, 0.4, 0.45, 0.55, 0.6,\n",
       "                                                   0.7, 1, 1.55, 5.55]},\n",
       "             scoring=make_scorer(precision_score, average=weighted, zero_division=0),\n",
       "             verbose=2)</pre></div></div></div><div class=\"sk-parallel\"><div class=\"sk-parallel-item\"><div class=\"sk-item\"><div class=\"sk-label-container\"><div class=\"sk-label sk-toggleable\"><input class=\"sk-toggleable__control sk-hidden--visually\" id=\"sk-estimator-id-2\" type=\"checkbox\" ><label for=\"sk-estimator-id-2\" class=\"sk-toggleable__label sk-toggleable__label-arrow\">estimator: Pipeline</label><div class=\"sk-toggleable__content\"><pre>Pipeline(steps=[(&#x27;pca&#x27;, PCA(n_components=124, random_state=True)),\n",
       "                (&#x27;clf&#x27;,\n",
       "                 OneVsOneClassifier(estimator=SVC(probability=True,\n",
       "                                                  random_state=23)))])</pre></div></div></div><div class=\"sk-serial\"><div class=\"sk-item\"><div class=\"sk-serial\"><div class=\"sk-item\"><div class=\"sk-estimator sk-toggleable\"><input class=\"sk-toggleable__control sk-hidden--visually\" id=\"sk-estimator-id-3\" type=\"checkbox\" ><label for=\"sk-estimator-id-3\" class=\"sk-toggleable__label sk-toggleable__label-arrow\">PCA</label><div class=\"sk-toggleable__content\"><pre>PCA(n_components=124, random_state=True)</pre></div></div></div><div class=\"sk-item sk-dashed-wrapped\"><div class=\"sk-label-container\"><div class=\"sk-label sk-toggleable\"><input class=\"sk-toggleable__control sk-hidden--visually\" id=\"sk-estimator-id-4\" type=\"checkbox\" ><label for=\"sk-estimator-id-4\" class=\"sk-toggleable__label sk-toggleable__label-arrow\">clf: OneVsOneClassifier</label><div class=\"sk-toggleable__content\"><pre>OneVsOneClassifier(estimator=SVC(probability=True, random_state=23))</pre></div></div></div><div class=\"sk-parallel\"><div class=\"sk-parallel-item\"><div class=\"sk-item\"><div class=\"sk-label-container\"><div class=\"sk-label sk-toggleable\"><input class=\"sk-toggleable__control sk-hidden--visually\" id=\"sk-estimator-id-5\" type=\"checkbox\" ><label for=\"sk-estimator-id-5\" class=\"sk-toggleable__label sk-toggleable__label-arrow\">estimator: SVC</label><div class=\"sk-toggleable__content\"><pre>SVC(probability=True, random_state=23)</pre></div></div></div><div class=\"sk-serial\"><div class=\"sk-item\"><div class=\"sk-estimator sk-toggleable\"><input class=\"sk-toggleable__control sk-hidden--visually\" id=\"sk-estimator-id-6\" type=\"checkbox\" ><label for=\"sk-estimator-id-6\" class=\"sk-toggleable__label sk-toggleable__label-arrow\">SVC</label><div class=\"sk-toggleable__content\"><pre>SVC(probability=True, random_state=23)</pre></div></div></div></div></div></div></div></div></div></div></div></div></div></div></div></div></div>"
      ],
      "text/plain": [
       "GridSearchCV(cv=StratifiedKFold(n_splits=5, random_state=23, shuffle=True),\n",
       "             error_score=0,\n",
       "             estimator=Pipeline(steps=[('pca',\n",
       "                                        PCA(n_components=124,\n",
       "                                            random_state=True)),\n",
       "                                       ('clf',\n",
       "                                        OneVsOneClassifier(estimator=SVC(probability=True,\n",
       "                                                                         random_state=23)))]),\n",
       "             n_jobs=-1,\n",
       "             param_grid={'clf__estimator__C': [0.001, 0.1, 0.2, 0.3, 0.4, 0.5,\n",
       "                                               0.8, 1, 1.5, 2, 3, 4, 5, 10,\n",
       "                                               100],\n",
       "                         'clf__estimator__gamma': [0.0001, 0.001, 0.01, 0.1,\n",
       "                                                   0.35, 0.4, 0.45, 0.55, 0.6,\n",
       "                                                   0.7, 1, 1.55, 5.55]},\n",
       "             scoring=make_scorer(precision_score, average=weighted, zero_division=0),\n",
       "             verbose=2)"
      ]
     },
     "execution_count": 14,
     "metadata": {},
     "output_type": "execute_result"
    }
   ],
   "source": [
    "from sklearn.model_selection import GridSearchCV, StratifiedKFold\n",
    "from sklearn.metrics import make_scorer, precision_score\n",
    "\n",
    "# basic model\n",
    "scaler = StandardScaler()\n",
    "sv_selected = OneVsOneClassifier(SVC(kernel = 'rbf', probability = True, random_state = 23))\n",
    "sv_pipe = Pipeline([('pca', pca), ('clf', sv_selected)])\n",
    "\n",
    "# metric needed\n",
    "custom_precision = make_scorer(precision_score, average = 'weighted', zero_division = 0)\n",
    "\n",
    "# params\n",
    "C = [0.001, 0.1, 0.2, 0.3, 0.4, 0.5, 0.8, 1, 1.5, 2, 3, 4, 5, 10, 100]\n",
    "gamma = [0.0001, 0.001, 0.01, 0.1, 0.35, 0.40, 0.45, 0.55, 0.60, 0.70, 1, 1.55, 5.55]\n",
    "\n",
    "\n",
    "# paramgrid\n",
    "param_grid = {'clf__estimator__C': C,\n",
    "            'clf__estimator__gamma': gamma}\n",
    "\n",
    "\n",
    "# K-folds\n",
    "skf = StratifiedKFold(n_splits = 5, shuffle = True, random_state = 23)\n",
    "\n",
    "# declaring GSCV\n",
    "grid_svm = GridSearchCV(estimator = sv_pipe,\n",
    "                      param_grid = param_grid,\n",
    "                      cv = skf,\n",
    "                      n_jobs = -1,\n",
    "                      verbose = 2,\n",
    "                      error_score = 0,\n",
    "                      scoring = custom_precision)\n",
    "\n",
    "X_trainval = np.vstack([X_train, X_val])\n",
    "y_trainval = np.concatenate([y_train, y_val])\n",
    "grid_svm.fit(X_trainval, y_trainval)"
   ]
  },
  {
   "cell_type": "code",
   "execution_count": 15,
   "id": "0371beca",
   "metadata": {},
   "outputs": [
    {
     "data": {
      "text/plain": [
       "{'clf__estimator__C': 1, 'clf__estimator__gamma': 1}"
      ]
     },
     "execution_count": 15,
     "metadata": {},
     "output_type": "execute_result"
    }
   ],
   "source": [
    "best_params = grid_svm.best_params_\n",
    "best_params"
   ]
  },
  {
   "cell_type": "code",
   "execution_count": 16,
   "id": "a2b0ccfb",
   "metadata": {},
   "outputs": [
    {
     "data": {
      "text/html": [
       "<style>#sk-container-id-2 {color: black;}#sk-container-id-2 pre{padding: 0;}#sk-container-id-2 div.sk-toggleable {background-color: white;}#sk-container-id-2 label.sk-toggleable__label {cursor: pointer;display: block;width: 100%;margin-bottom: 0;padding: 0.3em;box-sizing: border-box;text-align: center;}#sk-container-id-2 label.sk-toggleable__label-arrow:before {content: \"▸\";float: left;margin-right: 0.25em;color: #696969;}#sk-container-id-2 label.sk-toggleable__label-arrow:hover:before {color: black;}#sk-container-id-2 div.sk-estimator:hover label.sk-toggleable__label-arrow:before {color: black;}#sk-container-id-2 div.sk-toggleable__content {max-height: 0;max-width: 0;overflow: hidden;text-align: left;background-color: #f0f8ff;}#sk-container-id-2 div.sk-toggleable__content pre {margin: 0.2em;color: black;border-radius: 0.25em;background-color: #f0f8ff;}#sk-container-id-2 input.sk-toggleable__control:checked~div.sk-toggleable__content {max-height: 200px;max-width: 100%;overflow: auto;}#sk-container-id-2 input.sk-toggleable__control:checked~label.sk-toggleable__label-arrow:before {content: \"▾\";}#sk-container-id-2 div.sk-estimator input.sk-toggleable__control:checked~label.sk-toggleable__label {background-color: #d4ebff;}#sk-container-id-2 div.sk-label input.sk-toggleable__control:checked~label.sk-toggleable__label {background-color: #d4ebff;}#sk-container-id-2 input.sk-hidden--visually {border: 0;clip: rect(1px 1px 1px 1px);clip: rect(1px, 1px, 1px, 1px);height: 1px;margin: -1px;overflow: hidden;padding: 0;position: absolute;width: 1px;}#sk-container-id-2 div.sk-estimator {font-family: monospace;background-color: #f0f8ff;border: 1px dotted black;border-radius: 0.25em;box-sizing: border-box;margin-bottom: 0.5em;}#sk-container-id-2 div.sk-estimator:hover {background-color: #d4ebff;}#sk-container-id-2 div.sk-parallel-item::after {content: \"\";width: 100%;border-bottom: 1px solid gray;flex-grow: 1;}#sk-container-id-2 div.sk-label:hover label.sk-toggleable__label {background-color: #d4ebff;}#sk-container-id-2 div.sk-serial::before {content: \"\";position: absolute;border-left: 1px solid gray;box-sizing: border-box;top: 0;bottom: 0;left: 50%;z-index: 0;}#sk-container-id-2 div.sk-serial {display: flex;flex-direction: column;align-items: center;background-color: white;padding-right: 0.2em;padding-left: 0.2em;position: relative;}#sk-container-id-2 div.sk-item {position: relative;z-index: 1;}#sk-container-id-2 div.sk-parallel {display: flex;align-items: stretch;justify-content: center;background-color: white;position: relative;}#sk-container-id-2 div.sk-item::before, #sk-container-id-2 div.sk-parallel-item::before {content: \"\";position: absolute;border-left: 1px solid gray;box-sizing: border-box;top: 0;bottom: 0;left: 50%;z-index: -1;}#sk-container-id-2 div.sk-parallel-item {display: flex;flex-direction: column;z-index: 1;position: relative;background-color: white;}#sk-container-id-2 div.sk-parallel-item:first-child::after {align-self: flex-end;width: 50%;}#sk-container-id-2 div.sk-parallel-item:last-child::after {align-self: flex-start;width: 50%;}#sk-container-id-2 div.sk-parallel-item:only-child::after {width: 0;}#sk-container-id-2 div.sk-dashed-wrapped {border: 1px dashed gray;margin: 0 0.4em 0.5em 0.4em;box-sizing: border-box;padding-bottom: 0.4em;background-color: white;}#sk-container-id-2 div.sk-label label {font-family: monospace;font-weight: bold;display: inline-block;line-height: 1.2em;}#sk-container-id-2 div.sk-label-container {text-align: center;}#sk-container-id-2 div.sk-container {/* jupyter's `normalize.less` sets `[hidden] { display: none; }` but bootstrap.min.css set `[hidden] { display: none !important; }` so we also need the `!important` here to be able to override the default hidden behavior on the sphinx rendered scikit-learn.org. See: https://github.com/scikit-learn/scikit-learn/issues/21755 */display: inline-block !important;position: relative;}#sk-container-id-2 div.sk-text-repr-fallback {display: none;}</style><div id=\"sk-container-id-2\" class=\"sk-top-container\"><div class=\"sk-text-repr-fallback\"><pre>Pipeline(steps=[(&#x27;pca&#x27;, PCA(n_components=124, random_state=23)),\n",
       "                (&#x27;clf&#x27;,\n",
       "                 OneVsOneClassifier(estimator=SVC(C=1, gamma=1,\n",
       "                                                  probability=True,\n",
       "                                                  random_state=23)))])</pre><b>In a Jupyter environment, please rerun this cell to show the HTML representation or trust the notebook. <br />On GitHub, the HTML representation is unable to render, please try loading this page with nbviewer.org.</b></div><div class=\"sk-container\" hidden><div class=\"sk-item sk-dashed-wrapped\"><div class=\"sk-label-container\"><div class=\"sk-label sk-toggleable\"><input class=\"sk-toggleable__control sk-hidden--visually\" id=\"sk-estimator-id-7\" type=\"checkbox\" ><label for=\"sk-estimator-id-7\" class=\"sk-toggleable__label sk-toggleable__label-arrow\">Pipeline</label><div class=\"sk-toggleable__content\"><pre>Pipeline(steps=[(&#x27;pca&#x27;, PCA(n_components=124, random_state=23)),\n",
       "                (&#x27;clf&#x27;,\n",
       "                 OneVsOneClassifier(estimator=SVC(C=1, gamma=1,\n",
       "                                                  probability=True,\n",
       "                                                  random_state=23)))])</pre></div></div></div><div class=\"sk-serial\"><div class=\"sk-item\"><div class=\"sk-estimator sk-toggleable\"><input class=\"sk-toggleable__control sk-hidden--visually\" id=\"sk-estimator-id-8\" type=\"checkbox\" ><label for=\"sk-estimator-id-8\" class=\"sk-toggleable__label sk-toggleable__label-arrow\">PCA</label><div class=\"sk-toggleable__content\"><pre>PCA(n_components=124, random_state=23)</pre></div></div></div><div class=\"sk-item sk-dashed-wrapped\"><div class=\"sk-label-container\"><div class=\"sk-label sk-toggleable\"><input class=\"sk-toggleable__control sk-hidden--visually\" id=\"sk-estimator-id-9\" type=\"checkbox\" ><label for=\"sk-estimator-id-9\" class=\"sk-toggleable__label sk-toggleable__label-arrow\">clf: OneVsOneClassifier</label><div class=\"sk-toggleable__content\"><pre>OneVsOneClassifier(estimator=SVC(C=1, gamma=1, probability=True,\n",
       "                                 random_state=23))</pre></div></div></div><div class=\"sk-parallel\"><div class=\"sk-parallel-item\"><div class=\"sk-item\"><div class=\"sk-label-container\"><div class=\"sk-label sk-toggleable\"><input class=\"sk-toggleable__control sk-hidden--visually\" id=\"sk-estimator-id-10\" type=\"checkbox\" ><label for=\"sk-estimator-id-10\" class=\"sk-toggleable__label sk-toggleable__label-arrow\">estimator: SVC</label><div class=\"sk-toggleable__content\"><pre>SVC(C=1, gamma=1, probability=True, random_state=23)</pre></div></div></div><div class=\"sk-serial\"><div class=\"sk-item\"><div class=\"sk-estimator sk-toggleable\"><input class=\"sk-toggleable__control sk-hidden--visually\" id=\"sk-estimator-id-11\" type=\"checkbox\" ><label for=\"sk-estimator-id-11\" class=\"sk-toggleable__label sk-toggleable__label-arrow\">SVC</label><div class=\"sk-toggleable__content\"><pre>SVC(C=1, gamma=1, probability=True, random_state=23)</pre></div></div></div></div></div></div></div></div></div></div></div></div>"
      ],
      "text/plain": [
       "Pipeline(steps=[('pca', PCA(n_components=124, random_state=23)),\n",
       "                ('clf',\n",
       "                 OneVsOneClassifier(estimator=SVC(C=1, gamma=1,\n",
       "                                                  probability=True,\n",
       "                                                  random_state=23)))])"
      ]
     },
     "execution_count": 16,
     "metadata": {},
     "output_type": "execute_result"
    }
   ],
   "source": [
    "pca = PCA(n_components = n_components_pca, random_state = 23)\n",
    "sv_final = OneVsOneClassifier(SVC(kernel = 'rbf', C = 1, gamma = 1, probability = True, random_state = 23))\n",
    "\n",
    "sv_final_pipe = Pipeline([('pca', pca), ('clf', sv_final)])\n",
    "sv_final_pipe.fit(X_trainval, y_trainval)"
   ]
  },
  {
   "cell_type": "code",
   "execution_count": 17,
   "id": "e925d5c1",
   "metadata": {},
   "outputs": [],
   "source": [
    "y_trainval_pred_sv = sv_final_pipe.predict(X_trainval)\n",
    "y_test_pred_sv = sv_final_pipe.predict(X_test)\n",
    "\n",
    "precision_train_sv, recall_train_sv, f1_score_train_sv = get_metric_values(y_trainval, y_trainval_pred_sv)\n",
    "precision_test_sv, recall_test_sv, f1_score_test_sv = get_metric_values(y_test, y_test_pred_sv)"
   ]
  },
  {
   "cell_type": "code",
   "execution_count": 18,
   "id": "707ffaf4",
   "metadata": {},
   "outputs": [
    {
     "data": {
      "text/html": [
       "<div>\n",
       "<style scoped>\n",
       "    .dataframe tbody tr th:only-of-type {\n",
       "        vertical-align: middle;\n",
       "    }\n",
       "\n",
       "    .dataframe tbody tr th {\n",
       "        vertical-align: top;\n",
       "    }\n",
       "\n",
       "    .dataframe thead tr th {\n",
       "        text-align: left;\n",
       "    }\n",
       "\n",
       "    .dataframe thead tr:last-of-type th {\n",
       "        text-align: right;\n",
       "    }\n",
       "</style>\n",
       "<table border=\"1\" class=\"dataframe\">\n",
       "  <thead>\n",
       "    <tr>\n",
       "      <th></th>\n",
       "      <th colspan=\"2\" halign=\"left\">Support Vector Machine</th>\n",
       "      <th colspan=\"2\" halign=\"left\">Support Vector Machine Tuned</th>\n",
       "    </tr>\n",
       "    <tr>\n",
       "      <th></th>\n",
       "      <th>sv_train</th>\n",
       "      <th>sv_val</th>\n",
       "      <th>sv_trainval</th>\n",
       "      <th>sv_test</th>\n",
       "    </tr>\n",
       "    <tr>\n",
       "      <th>metric</th>\n",
       "      <th></th>\n",
       "      <th></th>\n",
       "      <th></th>\n",
       "      <th></th>\n",
       "    </tr>\n",
       "  </thead>\n",
       "  <tbody>\n",
       "    <tr>\n",
       "      <th>precision</th>\n",
       "      <td>0.028704</td>\n",
       "      <td>0.026315</td>\n",
       "      <td>0.874833</td>\n",
       "      <td>0.575552</td>\n",
       "    </tr>\n",
       "    <tr>\n",
       "      <th>recall</th>\n",
       "      <td>0.113402</td>\n",
       "      <td>0.112000</td>\n",
       "      <td>0.809052</td>\n",
       "      <td>0.352000</td>\n",
       "    </tr>\n",
       "    <tr>\n",
       "      <th>f1_score</th>\n",
       "      <td>0.035328</td>\n",
       "      <td>0.031041</td>\n",
       "      <td>0.816160</td>\n",
       "      <td>0.315180</td>\n",
       "    </tr>\n",
       "  </tbody>\n",
       "</table>\n",
       "</div>"
      ],
      "text/plain": [
       "          Support Vector Machine           Support Vector Machine Tuned   \n",
       "                        sv_train    sv_val                  sv_trainval   \n",
       "metric                                                                    \n",
       "precision               0.028704  0.026315                     0.874833  \\\n",
       "recall                  0.113402  0.112000                     0.809052   \n",
       "f1_score                0.035328  0.031041                     0.816160   \n",
       "\n",
       "                     \n",
       "            sv_test  \n",
       "metric               \n",
       "precision  0.575552  \n",
       "recall     0.352000  \n",
       "f1_score   0.315180  "
      ]
     },
     "execution_count": 18,
     "metadata": {},
     "output_type": "execute_result"
    }
   ],
   "source": [
    "y_scores_sv = y_scores.iloc[:, 2:4].copy()\n",
    "y_scores_sv[('Support Vector Machine Tuned', 'sv_trainval')] = (precision_train_sv, recall_train_sv, f1_score_train_sv)\n",
    "y_scores_sv[('Support Vector Machine Tuned', 'sv_test')] = (precision_test_sv, recall_test_sv, f1_score_test_sv)\n",
    "y_scores_sv"
   ]
  },
  {
   "cell_type": "code",
   "execution_count": 495,
   "id": "4abb3c98",
   "metadata": {},
   "outputs": [
    {
     "data": {
      "text/html": [
       "<div>\n",
       "<style scoped>\n",
       "    .dataframe tbody tr th:only-of-type {\n",
       "        vertical-align: middle;\n",
       "    }\n",
       "\n",
       "    .dataframe tbody tr th {\n",
       "        vertical-align: top;\n",
       "    }\n",
       "\n",
       "    .dataframe thead th {\n",
       "        text-align: right;\n",
       "    }\n",
       "</style>\n",
       "<table border=\"1\" class=\"dataframe\">\n",
       "  <thead>\n",
       "    <tr style=\"text-align: right;\">\n",
       "      <th></th>\n",
       "      <th>C</th>\n",
       "      <th>gamma</th>\n",
       "      <th>mean_test_score</th>\n",
       "      <th>rank_test_score</th>\n",
       "    </tr>\n",
       "  </thead>\n",
       "  <tbody>\n",
       "    <tr>\n",
       "      <th>0</th>\n",
       "      <td>5</td>\n",
       "      <td>0.55</td>\n",
       "      <td>0.572961</td>\n",
       "      <td>1</td>\n",
       "    </tr>\n",
       "    <tr>\n",
       "      <th>1</th>\n",
       "      <td>80</td>\n",
       "      <td>0.55</td>\n",
       "      <td>0.547294</td>\n",
       "      <td>2</td>\n",
       "    </tr>\n",
       "    <tr>\n",
       "      <th>2</th>\n",
       "      <td>50</td>\n",
       "      <td>0.55</td>\n",
       "      <td>0.546819</td>\n",
       "      <td>3</td>\n",
       "    </tr>\n",
       "    <tr>\n",
       "      <th>3</th>\n",
       "      <td>20</td>\n",
       "      <td>0.55</td>\n",
       "      <td>0.546819</td>\n",
       "      <td>3</td>\n",
       "    </tr>\n",
       "    <tr>\n",
       "      <th>4</th>\n",
       "      <td>100</td>\n",
       "      <td>0.55</td>\n",
       "      <td>0.546819</td>\n",
       "      <td>3</td>\n",
       "    </tr>\n",
       "    <tr>\n",
       "      <th>...</th>\n",
       "      <td>...</td>\n",
       "      <td>...</td>\n",
       "      <td>...</td>\n",
       "      <td>...</td>\n",
       "    </tr>\n",
       "    <tr>\n",
       "      <th>94</th>\n",
       "      <td>0.1</td>\n",
       "      <td>20.55</td>\n",
       "      <td>0.010379</td>\n",
       "      <td>91</td>\n",
       "    </tr>\n",
       "    <tr>\n",
       "      <th>95</th>\n",
       "      <td>0.1</td>\n",
       "      <td>35.55</td>\n",
       "      <td>0.010379</td>\n",
       "      <td>91</td>\n",
       "    </tr>\n",
       "    <tr>\n",
       "      <th>96</th>\n",
       "      <td>1</td>\n",
       "      <td>0.001</td>\n",
       "      <td>0.010379</td>\n",
       "      <td>91</td>\n",
       "    </tr>\n",
       "    <tr>\n",
       "      <th>97</th>\n",
       "      <td>0.1</td>\n",
       "      <td>5.55</td>\n",
       "      <td>0.010379</td>\n",
       "      <td>91</td>\n",
       "    </tr>\n",
       "    <tr>\n",
       "      <th>98</th>\n",
       "      <td>0.1</td>\n",
       "      <td>0.001</td>\n",
       "      <td>0.010379</td>\n",
       "      <td>91</td>\n",
       "    </tr>\n",
       "  </tbody>\n",
       "</table>\n",
       "<p>99 rows × 4 columns</p>\n",
       "</div>"
      ],
      "text/plain": [
       "      C  gamma  mean_test_score  rank_test_score\n",
       "0     5   0.55         0.572961                1\n",
       "1    80   0.55         0.547294                2\n",
       "2    50   0.55         0.546819                3\n",
       "3    20   0.55         0.546819                3\n",
       "4   100   0.55         0.546819                3\n",
       "..  ...    ...              ...              ...\n",
       "94  0.1  20.55         0.010379               91\n",
       "95  0.1  35.55         0.010379               91\n",
       "96    1  0.001         0.010379               91\n",
       "97  0.1   5.55         0.010379               91\n",
       "98  0.1  0.001         0.010379               91\n",
       "\n",
       "[99 rows x 4 columns]"
      ]
     },
     "execution_count": 495,
     "metadata": {},
     "output_type": "execute_result"
    }
   ],
   "source": [
    "results_sv = pd.DataFrame(grid_svm.cv_results_)\n",
    "param_columns = list(filter(lambda x: 'param_clf' in x, results_sv.columns.tolist()))\n",
    "rest_columns = ['mean_test_score', 'rank_test_score']\n",
    "results_sv = results_sv[param_columns + rest_columns]\n",
    "param_columns_renamed = [param.split('__')[-1] for param in param_columns]\n",
    "results_sv.columns = param_columns_renamed + rest_columns\n",
    "results_sv = results_sv.sort_values(by = 'rank_test_score')\\\n",
    "\t\t\t\t\t\t.reset_index(drop = True)\n",
    "results_sv"
   ]
  },
  {
   "cell_type": "code",
   "execution_count": 497,
   "id": "8a76c9e2",
   "metadata": {},
   "outputs": [
    {
     "data": {
      "text/plain": [
       "<Axes: xlabel='mean_test_score'>"
      ]
     },
     "execution_count": 497,
     "metadata": {},
     "output_type": "execute_result"
    },
    {
     "data": {
      "image/png": "[encoded data removed]",
      "text/plain": [
       "<Figure size 640x480 with 1 Axes>"
      ]
     },
     "metadata": {},
     "output_type": "display_data"
    }
   ],
   "source": [
    "results_sv.plot(x = 'mean_test_score', y = 'gamma')"
   ]
  }
 ],
 "metadata": {
  "kernelspec": {
   "display_name": "Python 3 (ipykernel)",
   "language": "python",
   "name": "python3"
  },
  "language_info": {
   "codemirror_mode": {
    "name": "ipython",
    "version": 3
   },
   "file_extension": ".py",
   "mimetype": "text/x-python",
   "name": "python",
   "nbconvert_exporter": "python",
   "pygments_lexer": "ipython3",
   "version": "3.11.4"
  }
 },
 "nbformat": 4,
 "nbformat_minor": 5
}
