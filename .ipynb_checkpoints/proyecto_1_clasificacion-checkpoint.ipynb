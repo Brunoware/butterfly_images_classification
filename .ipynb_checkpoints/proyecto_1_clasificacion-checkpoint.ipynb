{
 "cells": [
  {
   "cell_type": "code",
   "execution_count": 1,
   "id": "d1995966",
   "metadata": {},
   "outputs": [],
   "source": [
    "from sklearn.base import BaseEstimator, TransformerMixin, ClassifierMixin\n",
    "from scipy import optimize\n",
    "import numpy as np\n",
    "import pandas as pd\n",
    "from cvxopt import matrix, solvers\n",
    "solvers.options['show_progress'] = False"
   ]
  },
  {
   "cell_type": "code",
   "execution_count": 342,
   "id": "7ef6bf0e",
   "metadata": {},
   "outputs": [
    {
     "data": {
      "text/html": [
       "<div>\n",
       "<style scoped>\n",
       "    .dataframe tbody tr th:only-of-type {\n",
       "        vertical-align: middle;\n",
       "    }\n",
       "\n",
       "    .dataframe tbody tr th {\n",
       "        vertical-align: top;\n",
       "    }\n",
       "\n",
       "    .dataframe thead th {\n",
       "        text-align: right;\n",
       "    }\n",
       "</style>\n",
       "<table border=\"1\" class=\"dataframe\">\n",
       "  <thead>\n",
       "    <tr style=\"text-align: right;\">\n",
       "      <th></th>\n",
       "      <th>C1</th>\n",
       "      <th>C2</th>\n",
       "      <th>C3</th>\n",
       "      <th>Clase</th>\n",
       "    </tr>\n",
       "  </thead>\n",
       "  <tbody>\n",
       "    <tr>\n",
       "      <th>0</th>\n",
       "      <td>30</td>\n",
       "      <td>64</td>\n",
       "      <td>1</td>\n",
       "      <td>1</td>\n",
       "    </tr>\n",
       "    <tr>\n",
       "      <th>1</th>\n",
       "      <td>30</td>\n",
       "      <td>62</td>\n",
       "      <td>3</td>\n",
       "      <td>1</td>\n",
       "    </tr>\n",
       "    <tr>\n",
       "      <th>2</th>\n",
       "      <td>30</td>\n",
       "      <td>65</td>\n",
       "      <td>0</td>\n",
       "      <td>1</td>\n",
       "    </tr>\n",
       "    <tr>\n",
       "      <th>3</th>\n",
       "      <td>31</td>\n",
       "      <td>59</td>\n",
       "      <td>2</td>\n",
       "      <td>1</td>\n",
       "    </tr>\n",
       "    <tr>\n",
       "      <th>4</th>\n",
       "      <td>31</td>\n",
       "      <td>65</td>\n",
       "      <td>4</td>\n",
       "      <td>1</td>\n",
       "    </tr>\n",
       "  </tbody>\n",
       "</table>\n",
       "</div>"
      ],
      "text/plain": [
       "   C1  C2  C3  Clase\n",
       "0  30  64   1      1\n",
       "1  30  62   3      1\n",
       "2  30  65   0      1\n",
       "3  31  59   2      1\n",
       "4  31  65   4      1"
      ]
     },
     "execution_count": 342,
     "metadata": {},
     "output_type": "execute_result"
    }
   ],
   "source": [
    "df = pd.read_csv('datasets/db_seno.csv')\n",
    "df.head()"
   ]
  },
  {
   "cell_type": "code",
   "execution_count": 401,
   "id": "8022aa1a",
   "metadata": {},
   "outputs": [],
   "source": [
    "# separar en variables dependientes e independiente\n",
    "X = df.drop(columns = 'Clase')\n",
    "y = df.Clase"
   ]
  },
  {
   "cell_type": "code",
   "execution_count": 543,
   "id": "e235ab8c",
   "metadata": {},
   "outputs": [],
   "source": [
    "class LogisticRegression(BaseEstimator, TransformerMixin, ClassifierMixin):\n",
    "    def __init__(self, learning_rate = 0.001, max_iter = 10000, threshold = 0.5, tol = 1e-15, \n",
    "                 penalty = None, lam = None, gamma = None, random_state = None):\n",
    "        self.learning_rate = learning_rate\n",
    "        self.max_iter = max_iter\n",
    "        self.threshold = threshold\n",
    "        self.tol = tol\n",
    "        self.penalty = penalty\n",
    "        self.lam = lam\n",
    "        self.gamma = gamma\n",
    "        self.random_state = random_state\n",
    "\n",
    "        \n",
    "    def _add_bias(self, X):\n",
    "        return np.hstack((np.ones((X.shape[0], 1)), X))\n",
    "    \n",
    "    def _adapt_x_matrix(self, X):\n",
    "        X = np.array(X)\n",
    "        X = self._add_bias(X)\n",
    "        return X\n",
    "    \n",
    "    def _adapt_y_matrix(self, y):\n",
    "        return np.array(y)\n",
    "    \n",
    "    def _adapt_df_matrix(self, X, y):\n",
    "        X = self._adapt_x_matrix(X)\n",
    "        y = self._adapt_y_matrix(y)\n",
    "        return X, y\n",
    "    \n",
    "    def _initialize_weights(self, input_size):\n",
    "        np.random.seed(self.random_state)\n",
    "        limit = np.sqrt(6 / (input_size + 1))\n",
    "        return np.random.uniform(-limit, limit, size = (input_size,))\n",
    "    \n",
    "    def _hyperplane(self, X, w):\n",
    "        return np.dot(X, w)\n",
    "    \n",
    "    def _sigmoid(self, X, w):\n",
    "        return 1 / (1 + np.exp(-self._hyperplane(X, w)))\n",
    "    \n",
    "    def _get_penalties(self, penalty):\n",
    "        penalties = {'l1': lambda n, w, lam, gamma: (lam / n) * np.sum(np.abs(w)),\n",
    "                            'l2': lambda n, w, lam, gamma: (lam / n) * np.sum(w ** 2),\n",
    "                            'elasticnet': lambda n, w, lam, gamma: gamma * (lam / n) * np.sum(np.abs(w)) +\n",
    "                                                                (1 - gamma) * (lam / n) * np.sum(w ** 2),\n",
    "                            None : lambda n, w, lam, gamma: 0}\n",
    "        return penalties[penalty]\n",
    "    \n",
    "    def _loss_function(self, X, y, w, epsilon):\n",
    "        sigmoid = np.clip(a = self._sigmoid(X, w), a_min = epsilon, a_max = 1 - epsilon)\n",
    "        penalty_mode = self._get_penalties(self.penalty)(X.shape[0], w, self.lam, self.gamma)\n",
    "        return (- 1 / X.shape[0]) * np.sum(y * np.log(sigmoid) + (1 - y) * np.log(1 - sigmoid)) + penalty_mode\n",
    "    \n",
    "    def _derivatives(self, X, y, w):\n",
    "        y_pred = self._sigmoid(X, w)\n",
    "        error = y - y_pred\n",
    "        return (1 / X.shape[0]) * np.matmul(error, -X)\n",
    "    \n",
    "    def _change_parameters(self, w, derivatives, alpha):\n",
    "        return w - alpha * derivatives\n",
    "    \n",
    "    def fit(self, X, y):\n",
    "        # getting numpy arrays\n",
    "        X, y = self._adapt_df_matrix(X, y)\n",
    "        \n",
    "        # initializing random weights\n",
    "        self.weights = self._initialize_weights(X.shape[1])\n",
    "        \n",
    "        # iterations till converging\n",
    "        for _ in range(self.max_iter):\n",
    "            loss = self._loss_function(X, y, self.weights, self.tol)\n",
    "            dw = self._derivatives(X, y, self.weights)\n",
    "            self.weights = self._change_parameters(self.weights, dw, self.learning_rate)\n",
    "            \n",
    "        return self\n",
    "    \n",
    "    def predict(self, X, y = None):\n",
    "        X = self._adapt_x_matrix(X)\n",
    "        return (self._sigmoid(X, self.weights) > self.threshold) * 1\n",
    "    \n",
    "    def predict_proba(self, X, y = None):\n",
    "        X = self._adapt_x_matrix(X)\n",
    "        probabilities = self._sigmoid(X, self.weights)\n",
    "        return np.column_stack([1 - probabilities, probabilities])\n",
    "    \n",
    "    def predict_log_proba(self, X, y = None):\n",
    "        X = self._adapt_x_matrix(X)\n",
    "        probabilities = self._sigmoid(X, self.weights)\n",
    "        return np.column_stack([np.log(1 - probabilities), np.log(probabilities)])"
   ]
  },
  {
   "cell_type": "code",
   "execution_count": 410,
   "id": "cb030b4b",
   "metadata": {},
   "outputs": [
    {
     "data": {
      "text/html": [
       "<style>#sk-container-id-24 {color: black;}#sk-container-id-24 pre{padding: 0;}#sk-container-id-24 div.sk-toggleable {background-color: white;}#sk-container-id-24 label.sk-toggleable__label {cursor: pointer;display: block;width: 100%;margin-bottom: 0;padding: 0.3em;box-sizing: border-box;text-align: center;}#sk-container-id-24 label.sk-toggleable__label-arrow:before {content: \"▸\";float: left;margin-right: 0.25em;color: #696969;}#sk-container-id-24 label.sk-toggleable__label-arrow:hover:before {color: black;}#sk-container-id-24 div.sk-estimator:hover label.sk-toggleable__label-arrow:before {color: black;}#sk-container-id-24 div.sk-toggleable__content {max-height: 0;max-width: 0;overflow: hidden;text-align: left;background-color: #f0f8ff;}#sk-container-id-24 div.sk-toggleable__content pre {margin: 0.2em;color: black;border-radius: 0.25em;background-color: #f0f8ff;}#sk-container-id-24 input.sk-toggleable__control:checked~div.sk-toggleable__content {max-height: 200px;max-width: 100%;overflow: auto;}#sk-container-id-24 input.sk-toggleable__control:checked~label.sk-toggleable__label-arrow:before {content: \"▾\";}#sk-container-id-24 div.sk-estimator input.sk-toggleable__control:checked~label.sk-toggleable__label {background-color: #d4ebff;}#sk-container-id-24 div.sk-label input.sk-toggleable__control:checked~label.sk-toggleable__label {background-color: #d4ebff;}#sk-container-id-24 input.sk-hidden--visually {border: 0;clip: rect(1px 1px 1px 1px);clip: rect(1px, 1px, 1px, 1px);height: 1px;margin: -1px;overflow: hidden;padding: 0;position: absolute;width: 1px;}#sk-container-id-24 div.sk-estimator {font-family: monospace;background-color: #f0f8ff;border: 1px dotted black;border-radius: 0.25em;box-sizing: border-box;margin-bottom: 0.5em;}#sk-container-id-24 div.sk-estimator:hover {background-color: #d4ebff;}#sk-container-id-24 div.sk-parallel-item::after {content: \"\";width: 100%;border-bottom: 1px solid gray;flex-grow: 1;}#sk-container-id-24 div.sk-label:hover label.sk-toggleable__label {background-color: #d4ebff;}#sk-container-id-24 div.sk-serial::before {content: \"\";position: absolute;border-left: 1px solid gray;box-sizing: border-box;top: 0;bottom: 0;left: 50%;z-index: 0;}#sk-container-id-24 div.sk-serial {display: flex;flex-direction: column;align-items: center;background-color: white;padding-right: 0.2em;padding-left: 0.2em;position: relative;}#sk-container-id-24 div.sk-item {position: relative;z-index: 1;}#sk-container-id-24 div.sk-parallel {display: flex;align-items: stretch;justify-content: center;background-color: white;position: relative;}#sk-container-id-24 div.sk-item::before, #sk-container-id-24 div.sk-parallel-item::before {content: \"\";position: absolute;border-left: 1px solid gray;box-sizing: border-box;top: 0;bottom: 0;left: 50%;z-index: -1;}#sk-container-id-24 div.sk-parallel-item {display: flex;flex-direction: column;z-index: 1;position: relative;background-color: white;}#sk-container-id-24 div.sk-parallel-item:first-child::after {align-self: flex-end;width: 50%;}#sk-container-id-24 div.sk-parallel-item:last-child::after {align-self: flex-start;width: 50%;}#sk-container-id-24 div.sk-parallel-item:only-child::after {width: 0;}#sk-container-id-24 div.sk-dashed-wrapped {border: 1px dashed gray;margin: 0 0.4em 0.5em 0.4em;box-sizing: border-box;padding-bottom: 0.4em;background-color: white;}#sk-container-id-24 div.sk-label label {font-family: monospace;font-weight: bold;display: inline-block;line-height: 1.2em;}#sk-container-id-24 div.sk-label-container {text-align: center;}#sk-container-id-24 div.sk-container {/* jupyter's `normalize.less` sets `[hidden] { display: none; }` but bootstrap.min.css set `[hidden] { display: none !important; }` so we also need the `!important` here to be able to override the default hidden behavior on the sphinx rendered scikit-learn.org. See: https://github.com/scikit-learn/scikit-learn/issues/21755 */display: inline-block !important;position: relative;}#sk-container-id-24 div.sk-text-repr-fallback {display: none;}</style><div id=\"sk-container-id-24\" class=\"sk-top-container\"><div class=\"sk-text-repr-fallback\"><pre>LogisticRegression()</pre><b>In a Jupyter environment, please rerun this cell to show the HTML representation or trust the notebook. <br />On GitHub, the HTML representation is unable to render, please try loading this page with nbviewer.org.</b></div><div class=\"sk-container\" hidden><div class=\"sk-item\"><div class=\"sk-estimator sk-toggleable\"><input class=\"sk-toggleable__control sk-hidden--visually\" id=\"sk-estimator-id-28\" type=\"checkbox\" checked><label for=\"sk-estimator-id-28\" class=\"sk-toggleable__label sk-toggleable__label-arrow\">LogisticRegression</label><div class=\"sk-toggleable__content\"><pre>LogisticRegression()</pre></div></div></div></div></div>"
      ],
      "text/plain": [
       "LogisticRegression()"
      ]
     },
     "execution_count": 410,
     "metadata": {},
     "output_type": "execute_result"
    }
   ],
   "source": [
    "lr = LogisticRegression()\n",
    "lr.fit(X, y)"
   ]
  },
  {
   "cell_type": "code",
   "execution_count": 411,
   "id": "42c1eb9f",
   "metadata": {},
   "outputs": [
    {
     "data": {
      "text/plain": [
       "0.7450980392156863"
      ]
     },
     "execution_count": 411,
     "metadata": {},
     "output_type": "execute_result"
    }
   ],
   "source": [
    "(lr.predict(X) == y).sum() / len(y)"
   ]
  },
  {
   "cell_type": "code",
   "execution_count": 381,
   "id": "dfe3f684",
   "metadata": {},
   "outputs": [
    {
     "data": {
      "text/plain": [
       "array([1, 1, 1, 0, 1, 1, 1, 1, 1, 0, 0, 0, 0, 1, 1, 1, 0, 0, 1, 0, 0, 0,\n",
       "       0, 1, 1, 0, 0, 0, 1, 1, 0, 1, 0, 0, 0, 1, 0, 1, 0, 1, 1, 1, 0, 0,\n",
       "       0, 1, 0, 0, 0, 0, 1, 0, 1, 0, 0, 1, 1, 0, 0, 1, 0, 0, 1, 0, 1, 1,\n",
       "       0, 1, 0, 1, 1, 1, 0, 1, 1, 1, 0, 1, 0, 0, 1, 1, 0, 0, 1, 1, 0, 0,\n",
       "       1, 1, 1, 0, 1, 1, 0, 1, 1, 1, 0, 0, 0, 0, 0, 1, 1, 1, 1, 0, 1, 1,\n",
       "       1, 0, 1, 0, 0, 0, 0, 0, 1, 1, 0, 0, 1, 0, 0, 0, 0, 0, 1, 1, 0, 1,\n",
       "       0, 0, 1, 1, 0, 0, 0, 0, 1, 0, 0, 1, 0, 0, 0, 0, 0, 0, 0, 1, 1, 0,\n",
       "       0, 1, 0, 0, 1, 1, 1, 1, 0, 0, 0, 0, 0, 0, 0, 1, 0, 0, 0, 1, 1, 0,\n",
       "       1, 0, 1, 1, 1, 0, 0, 0, 0, 1, 1, 1, 0, 0, 0, 1, 1, 0, 1, 0, 1, 1,\n",
       "       1, 1, 0, 1, 0, 0, 0, 0, 0, 1, 0, 1, 0, 1, 1, 1, 0, 1, 1, 0, 1, 0,\n",
       "       1, 0, 1, 0, 1, 1, 0, 0, 1, 1, 1, 1, 0, 0, 1, 1, 1, 0, 1, 0, 1, 0,\n",
       "       0, 0, 1, 1, 1, 1, 1, 0, 0, 1, 0, 0, 1, 0, 1, 1, 1, 0, 1, 1, 1, 1,\n",
       "       1, 0, 0, 1, 0, 1, 0, 0, 0, 1, 1, 1, 1, 1, 0, 1, 1, 0, 0, 0, 1, 0,\n",
       "       1, 0, 1, 1, 1, 1, 1, 1, 1, 0, 1, 0, 0, 0, 0, 0, 1, 0, 1, 0, 0, 0,\n",
       "       1, 1, 1, 0, 1, 1, 1, 1, 0, 1, 1, 1, 1, 0, 1, 0, 1, 0, 1, 0, 0, 1,\n",
       "       0, 0, 1, 0, 0, 1, 0, 1, 0, 1, 1, 0, 0, 1, 0, 1, 0, 0, 0, 0, 0, 0,\n",
       "       0, 0, 0, 1, 0, 0, 0, 0, 1, 1, 0, 1, 1, 0, 0, 1, 0, 0, 0, 0, 0, 0,\n",
       "       1, 0, 0, 1, 1, 1, 1, 0, 0, 1, 0, 1, 1, 0, 0, 1, 1, 0, 1, 0, 0, 0,\n",
       "       0, 1, 0, 0, 0, 1, 0, 0, 0, 0, 1, 1, 0, 0, 0, 1, 0, 0, 0, 1, 0, 1,\n",
       "       1, 1, 0, 0, 0, 1, 0, 1, 0, 1, 0, 0, 1, 1, 1, 0, 1, 1, 0, 0, 0, 1,\n",
       "       1, 1, 0, 0, 1, 0, 1, 1, 0, 1, 0, 1, 1, 1, 0, 0, 0, 0, 0, 0, 0, 1,\n",
       "       1, 1, 0, 0, 0, 1, 0, 0, 0, 0, 0, 1, 1, 0, 1, 0, 1, 1, 1, 1, 1, 1,\n",
       "       1, 1, 0, 1, 0, 0, 1, 0, 0, 0, 1, 1, 0, 1, 0, 1])"
      ]
     },
     "execution_count": 381,
     "metadata": {},
     "output_type": "execute_result"
    }
   ],
   "source": [
    "y_pred = lr.predict(X)\n",
    "y_pred"
   ]
  },
  {
   "cell_type": "code",
   "execution_count": 374,
   "id": "51afa83c",
   "metadata": {},
   "outputs": [
    {
     "data": {
      "text/plain": [
       "array([1, 0, 1, 0, 0, 1, 1, 0, 0, 1, 0, 0, 1, 0, 1, 1, 1, 0, 1, 1, 1, 1,\n",
       "       1, 1, 0, 1, 1, 0, 0, 1, 1, 1, 1, 0, 0, 1, 1, 0, 0, 0, 1, 0, 1, 0,\n",
       "       0, 0, 0, 0, 1, 0, 0, 0, 0, 1, 0, 0, 0, 0, 0, 0, 1, 1, 1, 1, 0, 0,\n",
       "       1, 0, 0, 1, 1, 1, 1, 1, 1, 1, 1, 0, 1, 1, 0, 0, 1, 0, 1, 0, 0, 1,\n",
       "       1, 1, 1, 1, 1, 1, 1, 1, 0, 0, 1, 0, 0, 1, 0, 1, 1, 0, 1, 0, 1, 0,\n",
       "       0, 1, 1, 0, 1, 1, 0, 0, 0, 0, 0, 0, 1, 0, 0, 0, 1, 0, 0, 1, 0, 0,\n",
       "       1, 1, 0, 0, 0, 0, 0, 1, 0, 0, 1, 0, 1, 1, 0, 0, 1, 1, 0, 0, 0, 0,\n",
       "       1, 1, 0, 0, 1, 0, 0, 1, 1, 0, 1, 1, 0, 0, 1, 0, 0, 0, 1, 0, 0, 0,\n",
       "       1, 0, 0, 1, 1, 0, 1, 1, 1, 0, 1, 0, 0, 0, 1, 1, 1, 1, 0, 0, 0, 0,\n",
       "       0, 1, 1, 0, 0, 0, 0, 0, 0, 0, 1, 1, 1, 0, 1, 1, 1, 1, 1, 0, 1, 0,\n",
       "       1, 1, 0, 0, 0, 1, 0, 1, 1, 0, 0, 0, 1, 0, 1, 1, 1, 0, 0, 0, 1, 0,\n",
       "       1, 0, 1, 0, 0, 0, 1, 0, 1, 1, 1, 0, 1, 1, 0, 1, 0, 1, 1, 0, 1, 0,\n",
       "       0, 0, 1, 0, 1, 0, 0, 0, 0, 1, 1, 1, 1, 1, 1, 0, 1, 0, 1, 0, 0, 1,\n",
       "       1, 1, 1, 1, 1, 1, 1, 1, 0, 0, 1, 1, 1, 1, 1, 0, 1, 0, 0, 0, 1, 0,\n",
       "       0, 0, 1, 0, 1, 1, 0, 1, 1, 0, 1, 1, 0, 1, 0, 1, 0, 1, 0, 0, 0, 1,\n",
       "       0, 0, 0, 0, 0, 0, 1, 1, 0, 0, 0, 0, 1, 1, 0, 0, 1, 1, 0, 1, 1, 1,\n",
       "       0, 1, 1, 0, 0, 1, 0, 0, 0, 1, 0, 0, 0, 0, 1, 1, 0, 1, 0, 1, 0, 1,\n",
       "       1, 0, 1, 0, 0, 0, 0, 1, 0, 1, 1, 0, 1, 0, 0, 0, 1, 1, 1, 0, 1, 1,\n",
       "       1, 1, 0, 0, 0, 1, 1, 1, 1, 1, 1, 1, 1, 0, 0, 0, 0, 1, 0, 1, 1, 0,\n",
       "       0, 1, 0, 1, 1, 0, 1, 0, 0, 0, 1, 1, 1, 0, 1, 1, 0, 1, 1, 0, 0, 1,\n",
       "       0, 1, 1, 0, 1, 1, 0, 1, 1, 1, 0, 0, 1, 0, 1, 0, 1, 0, 1, 0, 0, 0,\n",
       "       0, 1, 0, 1, 0, 1, 1, 0, 1, 1, 0, 1, 1, 1, 1, 1, 1, 0, 0, 0, 1, 0,\n",
       "       1, 0, 1, 1, 0, 1, 0, 1, 0, 0, 0, 0, 1, 1, 1, 0], dtype=int64)"
      ]
     },
     "execution_count": 374,
     "metadata": {},
     "output_type": "execute_result"
    }
   ],
   "source": []
  },
  {
   "cell_type": "code",
   "execution_count": 352,
   "id": "1b8075cf",
   "metadata": {},
   "outputs": [
    {
     "data": {
      "text/html": [
       "<style>#sk-container-id-11 {color: black;}#sk-container-id-11 pre{padding: 0;}#sk-container-id-11 div.sk-toggleable {background-color: white;}#sk-container-id-11 label.sk-toggleable__label {cursor: pointer;display: block;width: 100%;margin-bottom: 0;padding: 0.3em;box-sizing: border-box;text-align: center;}#sk-container-id-11 label.sk-toggleable__label-arrow:before {content: \"▸\";float: left;margin-right: 0.25em;color: #696969;}#sk-container-id-11 label.sk-toggleable__label-arrow:hover:before {color: black;}#sk-container-id-11 div.sk-estimator:hover label.sk-toggleable__label-arrow:before {color: black;}#sk-container-id-11 div.sk-toggleable__content {max-height: 0;max-width: 0;overflow: hidden;text-align: left;background-color: #f0f8ff;}#sk-container-id-11 div.sk-toggleable__content pre {margin: 0.2em;color: black;border-radius: 0.25em;background-color: #f0f8ff;}#sk-container-id-11 input.sk-toggleable__control:checked~div.sk-toggleable__content {max-height: 200px;max-width: 100%;overflow: auto;}#sk-container-id-11 input.sk-toggleable__control:checked~label.sk-toggleable__label-arrow:before {content: \"▾\";}#sk-container-id-11 div.sk-estimator input.sk-toggleable__control:checked~label.sk-toggleable__label {background-color: #d4ebff;}#sk-container-id-11 div.sk-label input.sk-toggleable__control:checked~label.sk-toggleable__label {background-color: #d4ebff;}#sk-container-id-11 input.sk-hidden--visually {border: 0;clip: rect(1px 1px 1px 1px);clip: rect(1px, 1px, 1px, 1px);height: 1px;margin: -1px;overflow: hidden;padding: 0;position: absolute;width: 1px;}#sk-container-id-11 div.sk-estimator {font-family: monospace;background-color: #f0f8ff;border: 1px dotted black;border-radius: 0.25em;box-sizing: border-box;margin-bottom: 0.5em;}#sk-container-id-11 div.sk-estimator:hover {background-color: #d4ebff;}#sk-container-id-11 div.sk-parallel-item::after {content: \"\";width: 100%;border-bottom: 1px solid gray;flex-grow: 1;}#sk-container-id-11 div.sk-label:hover label.sk-toggleable__label {background-color: #d4ebff;}#sk-container-id-11 div.sk-serial::before {content: \"\";position: absolute;border-left: 1px solid gray;box-sizing: border-box;top: 0;bottom: 0;left: 50%;z-index: 0;}#sk-container-id-11 div.sk-serial {display: flex;flex-direction: column;align-items: center;background-color: white;padding-right: 0.2em;padding-left: 0.2em;position: relative;}#sk-container-id-11 div.sk-item {position: relative;z-index: 1;}#sk-container-id-11 div.sk-parallel {display: flex;align-items: stretch;justify-content: center;background-color: white;position: relative;}#sk-container-id-11 div.sk-item::before, #sk-container-id-11 div.sk-parallel-item::before {content: \"\";position: absolute;border-left: 1px solid gray;box-sizing: border-box;top: 0;bottom: 0;left: 50%;z-index: -1;}#sk-container-id-11 div.sk-parallel-item {display: flex;flex-direction: column;z-index: 1;position: relative;background-color: white;}#sk-container-id-11 div.sk-parallel-item:first-child::after {align-self: flex-end;width: 50%;}#sk-container-id-11 div.sk-parallel-item:last-child::after {align-self: flex-start;width: 50%;}#sk-container-id-11 div.sk-parallel-item:only-child::after {width: 0;}#sk-container-id-11 div.sk-dashed-wrapped {border: 1px dashed gray;margin: 0 0.4em 0.5em 0.4em;box-sizing: border-box;padding-bottom: 0.4em;background-color: white;}#sk-container-id-11 div.sk-label label {font-family: monospace;font-weight: bold;display: inline-block;line-height: 1.2em;}#sk-container-id-11 div.sk-label-container {text-align: center;}#sk-container-id-11 div.sk-container {/* jupyter's `normalize.less` sets `[hidden] { display: none; }` but bootstrap.min.css set `[hidden] { display: none !important; }` so we also need the `!important` here to be able to override the default hidden behavior on the sphinx rendered scikit-learn.org. See: https://github.com/scikit-learn/scikit-learn/issues/21755 */display: inline-block !important;position: relative;}#sk-container-id-11 div.sk-text-repr-fallback {display: none;}</style><div id=\"sk-container-id-11\" class=\"sk-top-container\"><div class=\"sk-text-repr-fallback\"><pre>Pipeline(steps=[(&#x27;minmaxscaler&#x27;, MinMaxScaler()),\n",
       "                (&#x27;logisticregression&#x27;, LogisticRegression())])</pre><b>In a Jupyter environment, please rerun this cell to show the HTML representation or trust the notebook. <br />On GitHub, the HTML representation is unable to render, please try loading this page with nbviewer.org.</b></div><div class=\"sk-container\" hidden><div class=\"sk-item sk-dashed-wrapped\"><div class=\"sk-label-container\"><div class=\"sk-label sk-toggleable\"><input class=\"sk-toggleable__control sk-hidden--visually\" id=\"sk-estimator-id-13\" type=\"checkbox\" ><label for=\"sk-estimator-id-13\" class=\"sk-toggleable__label sk-toggleable__label-arrow\">Pipeline</label><div class=\"sk-toggleable__content\"><pre>Pipeline(steps=[(&#x27;minmaxscaler&#x27;, MinMaxScaler()),\n",
       "                (&#x27;logisticregression&#x27;, LogisticRegression())])</pre></div></div></div><div class=\"sk-serial\"><div class=\"sk-item\"><div class=\"sk-estimator sk-toggleable\"><input class=\"sk-toggleable__control sk-hidden--visually\" id=\"sk-estimator-id-14\" type=\"checkbox\" ><label for=\"sk-estimator-id-14\" class=\"sk-toggleable__label sk-toggleable__label-arrow\">MinMaxScaler</label><div class=\"sk-toggleable__content\"><pre>MinMaxScaler()</pre></div></div></div><div class=\"sk-item\"><div class=\"sk-estimator sk-toggleable\"><input class=\"sk-toggleable__control sk-hidden--visually\" id=\"sk-estimator-id-15\" type=\"checkbox\" ><label for=\"sk-estimator-id-15\" class=\"sk-toggleable__label sk-toggleable__label-arrow\">LogisticRegression</label><div class=\"sk-toggleable__content\"><pre>LogisticRegression()</pre></div></div></div></div></div></div></div>"
      ],
      "text/plain": [
       "Pipeline(steps=[('minmaxscaler', MinMaxScaler()),\n",
       "                ('logisticregression', LogisticRegression())])"
      ]
     },
     "execution_count": 352,
     "metadata": {},
     "output_type": "execute_result"
    }
   ],
   "source": [
    "from sklearn.preprocessing import MinMaxScaler\n",
    "from sklearn.pipeline import make_pipeline\n",
    "\n",
    "pipe = make_pipeline(MinMaxScaler(), LogisticRegression())\n",
    "pipe.fit(X, y)"
   ]
  },
  {
   "cell_type": "code",
   "execution_count": 412,
   "id": "47cef6e9",
   "metadata": {},
   "outputs": [],
   "source": [
    "class SVC(BaseEstimator, TransformerMixin, ClassifierMixin):\n",
    "    def __init__(self, kernel = 'rbf', C = 1.0, degree = 3, gamma = 'scale', coef0 = 0.0, \n",
    "                 probability = False, random_state = None):\n",
    "        self.kernel = kernel\n",
    "        self.C = C\n",
    "        self.degree = 3\n",
    "        self.gamma = gamma\n",
    "        self.coef0 = coef0\n",
    "        self.probability = probability\n",
    "        self.random_state = random_state\n",
    "        \n",
    "    def _init_X(self, X):\n",
    "        return np.array(X, dtype = 'float')\n",
    "    \n",
    "    def _init_y(self, y):\n",
    "        return np.where(y == 0, -1, y)\n",
    "    \n",
    "    def _initialize_weights(self, input_size):\n",
    "        np.random.seed(self.random_state)\n",
    "        limit = np.sqrt(6 / (input_size + 1))\n",
    "        return np.random.uniform(-limit, limit, size = (input_size,))\n",
    "    \n",
    "    def _get_gamma(self, x, gamma):\n",
    "        gamma_type = {'scale': lambda x: 1.0 / (x.shape[1] * x.var()),\n",
    "                            'auto': lambda x: 1.0 / x.shape[1]}\n",
    "        \n",
    "        return gamma_type[gamma](x) if isinstance(gamma, str) else gamma\n",
    "    \n",
    "    def _rbf_kernel(self, a, b):\n",
    "        gamma = self._get_gamma(a, self.gamma)\n",
    "        a = a.astype('float')\n",
    "        b = b.astype('float')\n",
    "        return np.exp(-(gamma / a.shape[1]) * np.sum((a - b[:, np.newaxis]) ** 2, axis = -1)).T\n",
    "    \n",
    "    def _linear_kernel(self, a, b):\n",
    "        return np.dot(a, b.T)\n",
    "    \n",
    "    def _poly_kernel(self, a, b):\n",
    "        gamma = self._get_gamma(a, self.gamma)\n",
    "        return (np.dot(a, b.T) + self.coef0) ** self.degree\n",
    "    \n",
    "    def _sigmoid_kernel(self, a, b):\n",
    "        gamma = self._get_gamma(a, self.gamma)\n",
    "        return np.tanh(gamma * np.dot(a, b.T))\n",
    "        \n",
    "    def _get_alphas(self, X, y, C):\n",
    "        n, m = X.shape\n",
    "        y = y.astype(float)\n",
    "        K = getattr(self, f\"_{self.kernel}_kernel\")(X, X)\n",
    "        P = matrix(np.outer(y,y) * K)\n",
    "        if np.iscomplexobj(P):\n",
    "            raise ValueError(\"Complex data not supported\")\n",
    "        q = matrix(-np.ones(n))\n",
    "        if self.C is None:\n",
    "            G = matrix(-np.eye(n))\n",
    "            h = matrix(np.zeros(n))\n",
    "        else:\n",
    "            tmp1 = -np.eye(n)\n",
    "            tmp2 = np.identity(n)\n",
    "            G = matrix(np.vstack((tmp1, tmp2)))\n",
    "            tmp1 = np.zeros(n)\n",
    "            tmp2 = np.ones(n) * C\n",
    "            h = matrix(np.hstack((tmp1, tmp2)))\n",
    "        A = matrix(y.reshape(1, -1))\n",
    "        b = matrix(np.zeros(1))\n",
    "        try:\n",
    "            sol = solvers.qp(P, q, G, h, A, b)\n",
    "        except Exception as e:\n",
    "            print(e)\n",
    "        alpha = np.array(sol['x'])\n",
    "        return alpha.flatten(), K, sol\n",
    "    \n",
    "    def _get_bias(self, y, sv_alphas, sv_y, sv_K):\n",
    "        return (y - np.matmul(sv_alphas * sv_y, sv_K)).mean()\n",
    "    \n",
    "    def fit(self, X, y):\n",
    "        if len(X) == 0:\n",
    "            raise ValueError('Array is empty')\n",
    "        if np.iscomplexobj(X) or np.iscomplexobj(y):\n",
    "            raise ValueError(\"Complex data not supported.\")\n",
    "            \n",
    "        # init arrays\n",
    "        self.X = self._init_X(X)\n",
    "        self.y = self._init_y(y)\n",
    "        try:\n",
    "            # converge alphas and get K\n",
    "            alphas, self.K, self.sol = self._get_alphas(self.X, self.y, self.C)\n",
    "        except Exception as e:\n",
    "            # if theres an error the kernel is changed to rbf\n",
    "            # y cambiar el kernel a uno más seguro, como RBF.\n",
    "            print(f\"Error kernel {self.kernel}\", e)\n",
    "            print(\"Changing kernel to rbf\")\n",
    "            self.kernel = 'rbf' \n",
    "            alphas, self.K, self.sol = self._get_alphas(self.X, self.y, self.C)  \n",
    "        \n",
    "        # get support vectors\n",
    "        sv_index = np.where(alphas > 1e-5)\n",
    "        self.sv_alphas = alphas[sv_index]\n",
    "        self.sv_x = self.X[sv_index]\n",
    "        self.sv_y = self.y[sv_index]\n",
    "        self.sv_K = self.K[sv_index]\n",
    "        \n",
    "        # get bias\n",
    "        self.b = self._get_bias(y, self.sv_alphas, self.sv_y, self.sv_K)\n",
    "        \n",
    "        return self\n",
    "    \n",
    "    def transform(self, X):\n",
    "        pass\n",
    "    \n",
    "    def get_bias(self):\n",
    "        return self.b\n",
    "    \n",
    "    def get_support_vectors(self):\n",
    "        return self.sv_alphas, self.sv_x, self.sv_y, self.sv_K\n",
    "    \n",
    "    def get_opt_solution(self):\n",
    "        return self.sol\n",
    "    \n",
    "    def predict(self, X):\n",
    "        # obtaining K values for new inputs\n",
    "        X_k = getattr(self, f\"_{self.kernel}_kernel\")(self.sv_x, X)\n",
    "        \n",
    "        # getting predictions with bias\n",
    "        y_pred = self.b + np.matmul(self.sv_alphas * self.sv_y, X_k)\n",
    "        \n",
    "        # returning in terms of 1 and 0\n",
    "        return np.select([y_pred >= 0, y_pred < 0], [1, 0])\n",
    "    \n",
    "    def predict_proba(self, X):\n",
    "        if self.probability:\n",
    "            # obtaining K values for new inputs\n",
    "            X_k = getattr(self, f\"_{self.kernel}_kernel\")(self.sv_x, X)\n",
    "\n",
    "            # Obtaining probabilities\n",
    "            raw_scores = self.b + np.matmul(self.sv_alphas * self.sv_y, X_k)\n",
    "            probabilities = 1 / (1 + np.exp(-raw_scores))\n",
    "\n",
    "            # Returning negative and  positives proabilities\n",
    "            return np.column_stack((1 - probabilities, probabilities))\n",
    "        else:\n",
    "            raise ValueError('You have to set Probability to True')\n",
    "            \n",
    "    def predict_log_proba(self, X):\n",
    "        if self.probability:\n",
    "            # obtaining K values for new inputs\n",
    "            X_k = getattr(self, f\"_{self.kernel}_kernel\")(self.sv_x, X)\n",
    "\n",
    "            # Obtaining probabilities\n",
    "            raw_scores = self.b + np.matmul(self.sv_alphas * self.sv_y, X_k)\n",
    "            probabilities = 1 / (1 + np.exp(-raw_scores))\n",
    "\n",
    "            # Returning negative and  positives log_probabilities\n",
    "            return np.column_stack((np.log(1 - probabilities), np.log(probabilities)))\n",
    "        else:\n",
    "            raise ValueError('You have to set Probability to True')"
   ]
  },
  {
   "cell_type": "code",
   "execution_count": 413,
   "id": "90018889",
   "metadata": {},
   "outputs": [],
   "source": [
    "from sklearn.pipeline import make_pipeline\n",
    "\n",
    "model_pip = make_pipeline(MinMaxScaler(), SVC())\n",
    "model_pip.fit(X_train, y_train)\n",
    "y_pred_train = model_pip.predict(X_train)\n",
    "y_pred_test = model_pip.predict(X_test)"
   ]
  },
  {
   "cell_type": "code",
   "execution_count": 544,
   "id": "00dae52e",
   "metadata": {},
   "outputs": [],
   "source": [
    "from sklearn.datasets import make_circles\n",
    "from sklearn.model_selection import train_test_split\n",
    "from sklearn.preprocessing import MinMaxScaler\n",
    "import matplotlib.pyplot as plt\n",
    "X, y = make_circles(n_samples = 500, noise = 0.05, factor = 0.50, random_state = 42)\n",
    "#y = np.where(y == 0, -1, y)\n",
    "# Dividr la data en train y test\n",
    "X_train, X_test, y_train, y_test = train_test_split(X, y, test_size = 0.3, shuffle = True, random_state = 23)\n",
    "\n",
    "# Escalar la data\n",
    "scaler = MinMaxScaler().fit(X_train)\n",
    "X_train = scaler.transform(X_train)\n",
    "X_test = scaler.transform(X_test)\n",
    "y_train = y_train.astype('float')"
   ]
  },
  {
   "cell_type": "code",
   "execution_count": 545,
   "id": "f102bc2c",
   "metadata": {},
   "outputs": [
    {
     "data": {
      "image/png": "[encoded data removed]",
      "text/plain": [
       "<Figure size 640x480 with 1 Axes>"
      ]
     },
     "metadata": {},
     "output_type": "display_data"
    }
   ],
   "source": [
    "plt.scatter(x = X[:, 0], y = X[:, 1], c = y, cmap = 'viridis', marker = 'o', label = 'Data Points');"
   ]
  },
  {
   "cell_type": "code",
   "execution_count": 546,
   "id": "660b8955",
   "metadata": {},
   "outputs": [
    {
     "name": "stdout",
     "output_type": "stream",
     "text": [
      "7.4811664169400744\n"
     ]
    }
   ],
   "source": [
    "gamma_test = 1 / (X_train.shape[1] * X_train.var())\n",
    "print(gamma_test)\n",
    "svc = SVC(kernel = 'rbf', C = 1000, gamma = 100, probability = True)\n",
    "svc.fit(X_train, y_train)\n",
    "b = svc.get_bias()\n",
    "sv_alphas, sv_x, sv_y, sv_K = svc.get_support_vectors()\n",
    "y_pred_train = svc.predict(X_train)\n",
    "y_pred_test = svc.predict(X_test)"
   ]
  },
  {
   "cell_type": "code",
   "execution_count": 547,
   "id": "2da7fff3",
   "metadata": {},
   "outputs": [
    {
     "data": {
      "text/plain": [
       "1.0"
      ]
     },
     "execution_count": 547,
     "metadata": {},
     "output_type": "execute_result"
    }
   ],
   "source": [
    "from sklearn.metrics import roc_auc_score\n",
    "y_pred_test_proba = svc.predict_log_proba(X_test)[:,1]\n",
    "roc_auc_score(y_test, y_pred_test_proba)"
   ]
  },
  {
   "cell_type": "code",
   "execution_count": 548,
   "id": "d7fe7a23",
   "metadata": {
    "scrolled": true
   },
   "outputs": [
    {
     "data": {
      "text/plain": [
       "array([1, 1, 0, 0, 0, 1, 0, 0, 0, 0, 0, 1, 0, 1, 1, 0, 1, 0, 1, 0, 0, 0,\n",
       "       1, 1, 0, 0, 1, 0, 0, 0, 0, 1, 1, 0, 1, 1, 0, 0, 1, 0, 1, 1, 0, 0,\n",
       "       0, 1, 0, 1, 1, 1, 1, 1, 1, 0, 0, 1, 0, 1, 1, 0, 0, 1, 1, 0, 1, 1,\n",
       "       1, 1, 0, 0, 1, 1, 0, 1, 1, 0, 1, 0, 1, 0, 1, 1, 1, 1, 0, 1, 1, 1,\n",
       "       1, 0, 0, 1, 0, 1, 1, 1, 1, 0, 1, 0, 1, 0, 1, 0, 0, 1, 1, 1, 1, 0,\n",
       "       1, 0, 0, 0, 0, 0, 1, 1, 0, 1, 0, 0, 1, 1, 1, 1, 0, 1, 1, 0, 0, 1,\n",
       "       1, 1, 0, 0, 0, 0, 1, 1, 1, 1, 1, 0, 0, 0, 1, 1, 0, 0])"
      ]
     },
     "execution_count": 548,
     "metadata": {},
     "output_type": "execute_result"
    }
   ],
   "source": [
    "y_pred_test"
   ]
  },
  {
   "cell_type": "code",
   "execution_count": 419,
   "id": "392e2f3c",
   "metadata": {},
   "outputs": [
    {
     "data": {
      "text/plain": [
       "array([-2.00572650e-03, -5.59929428e-03, -9.54355168e-01, -4.80285556e+00,\n",
       "       -1.97845143e+00, -8.60092638e-03, -2.74110651e+00, -4.00066267e-01,\n",
       "       -2.56965996e+00, -1.20622870e+00, -1.95391241e+00, -3.51788490e-03,\n",
       "       -2.87419059e+00, -8.82610115e-02, -1.54959904e-01, -2.58372694e+00,\n",
       "       -1.32098716e-02, -6.59674646e+00, -2.12580071e-01, -4.68512671e+00,\n",
       "       -2.03937047e-01, -2.16225869e+00, -6.15998773e-04, -1.45824819e-02,\n",
       "       -2.08292261e+00, -3.12398363e+00, -1.08176028e-01, -7.32083128e+00,\n",
       "       -5.56882110e+00, -2.13923480e+00, -5.37837347e+00, -1.01467623e-02,\n",
       "       -4.38466782e-01, -1.62210663e+00, -1.08690204e+00, -6.65421990e-02,\n",
       "       -9.39622636e-01, -4.68936979e-01, -1.92348076e-01, -1.34118572e-01,\n",
       "       -9.52987282e-05, -9.69786462e-02, -6.57674642e+00, -2.46609795e+00,\n",
       "       -2.35119242e+00, -3.89905920e-02, -4.21868210e+00, -1.77039466e-01,\n",
       "       -1.02848417e-03, -1.42858129e-03, -4.72367193e-03, -7.03794742e-03,\n",
       "       -1.44810783e-01, -3.09890332e+00, -7.54764248e+00, -2.18835147e-03,\n",
       "       -4.12466695e+00, -5.66464324e-03, -1.25442878e-01, -2.15488985e+00,\n",
       "       -3.15732605e+00, -1.65932047e-01, -7.07300287e-03, -2.97021641e+00,\n",
       "       -1.62650303e-02, -7.88078652e-03, -1.22277300e-01, -6.76453120e-01,\n",
       "       -9.45279599e-01, -4.89620939e+00, -1.15980492e-02, -2.75976251e-03,\n",
       "       -2.22479224e+00, -7.43160823e-02, -7.58996995e-02, -4.20804613e+00,\n",
       "       -1.90673190e-01, -1.51038660e+00, -6.22675321e-04, -2.63539809e+00,\n",
       "       -5.79707254e-02, -4.24821490e-03, -4.51750679e-03, -1.17997359e-01,\n",
       "       -2.11496517e-01, -1.25717946e+00, -9.30628593e-01, -2.89850972e-03,\n",
       "       -3.35393053e-01, -4.65367467e+00, -4.72252926e+00, -5.72845697e-03,\n",
       "       -6.04161062e+00, -7.41840208e-03, -5.93039704e-02, -1.03255445e-01,\n",
       "       -5.95004471e-03, -3.46771815e+00, -9.23661274e-02, -1.11505845e+00,\n",
       "       -1.93089922e-02, -7.22616542e+00, -1.75750459e-01, -3.55378646e+00,\n",
       "       -3.66821246e+00, -3.51715243e-01, -1.97672005e-03, -9.43857696e-02,\n",
       "       -9.32432836e-02, -9.80931002e-01, -7.84685029e-04, -6.69351761e+00,\n",
       "       -1.03789659e+01, -2.25440342e+00, -3.01985424e+00, -1.77559377e+00,\n",
       "       -1.04042015e-01, -2.90318400e-02, -2.19743558e+00, -4.16554886e-02,\n",
       "       -2.31409743e+00, -7.52757914e-02, -5.32623889e-02, -3.72447671e-01,\n",
       "       -1.86004376e-01, -1.08467591e-03, -1.20395621e+00, -5.80139314e-03,\n",
       "       -1.79203837e-03, -8.21392089e+00, -8.37217674e-01, -9.73072530e-02,\n",
       "       -3.23184552e-03, -1.39977535e-03, -2.90595612e+00, -1.49764630e+00,\n",
       "       -4.33047735e+00, -1.44775316e+00, -2.63777404e-02, -1.09180446e-01,\n",
       "       -1.23253193e-03, -2.11841367e-03, -5.28988143e-03, -1.70489609e+00,\n",
       "       -2.37528698e+00, -3.10586357e+00, -1.63971184e-03, -8.19234244e-04,\n",
       "       -4.94964483e-01, -2.39616844e+00])"
      ]
     },
     "execution_count": 419,
     "metadata": {},
     "output_type": "execute_result"
    }
   ],
   "source": [
    "y_pred_test_proba"
   ]
  },
  {
   "cell_type": "code",
   "execution_count": 549,
   "id": "b50f7dfd",
   "metadata": {},
   "outputs": [
    {
     "data": {
      "image/png": "[encoded data removed]",
      "text/plain": [
       "<Figure size 640x480 with 2 Axes>"
      ]
     },
     "metadata": {},
     "output_type": "display_data"
    },
    {
     "data": {
      "image/png": "[encoded data removed]",
      "text/plain": [
       "<Figure size 640x480 with 2 Axes>"
      ]
     },
     "metadata": {},
     "output_type": "display_data"
    }
   ],
   "source": [
    "import seaborn as sns\n",
    "from sklearn.metrics import confusion_matrix\n",
    "sns.heatmap(confusion_matrix(y_train, y_pred_train), annot = True, cmap = 'Blues')\n",
    "plt.show()\n",
    "sns.heatmap(confusion_matrix(y_test, y_pred_test), annot = True, cmap = 'Blues')\n",
    "plt.show()"
   ]
  },
  {
   "cell_type": "code",
   "execution_count": 422,
   "id": "5f09b371",
   "metadata": {
    "scrolled": true
   },
   "outputs": [
    {
     "data": {
      "text/html": [
       "<div>\n",
       "<style scoped>\n",
       "    .dataframe tbody tr th:only-of-type {\n",
       "        vertical-align: middle;\n",
       "    }\n",
       "\n",
       "    .dataframe tbody tr th {\n",
       "        vertical-align: top;\n",
       "    }\n",
       "\n",
       "    .dataframe thead th {\n",
       "        text-align: right;\n",
       "    }\n",
       "</style>\n",
       "<table border=\"1\" class=\"dataframe\">\n",
       "  <thead>\n",
       "    <tr style=\"text-align: right;\">\n",
       "      <th></th>\n",
       "      <th>C1</th>\n",
       "      <th>C2</th>\n",
       "      <th>C3</th>\n",
       "      <th>Clase</th>\n",
       "    </tr>\n",
       "  </thead>\n",
       "  <tbody>\n",
       "    <tr>\n",
       "      <th>0</th>\n",
       "      <td>30</td>\n",
       "      <td>64</td>\n",
       "      <td>1</td>\n",
       "      <td>1</td>\n",
       "    </tr>\n",
       "    <tr>\n",
       "      <th>1</th>\n",
       "      <td>30</td>\n",
       "      <td>62</td>\n",
       "      <td>3</td>\n",
       "      <td>1</td>\n",
       "    </tr>\n",
       "    <tr>\n",
       "      <th>2</th>\n",
       "      <td>30</td>\n",
       "      <td>65</td>\n",
       "      <td>0</td>\n",
       "      <td>1</td>\n",
       "    </tr>\n",
       "    <tr>\n",
       "      <th>3</th>\n",
       "      <td>31</td>\n",
       "      <td>59</td>\n",
       "      <td>2</td>\n",
       "      <td>1</td>\n",
       "    </tr>\n",
       "    <tr>\n",
       "      <th>4</th>\n",
       "      <td>31</td>\n",
       "      <td>65</td>\n",
       "      <td>4</td>\n",
       "      <td>1</td>\n",
       "    </tr>\n",
       "  </tbody>\n",
       "</table>\n",
       "</div>"
      ],
      "text/plain": [
       "   C1  C2  C3  Clase\n",
       "0  30  64   1      1\n",
       "1  30  62   3      1\n",
       "2  30  65   0      1\n",
       "3  31  59   2      1\n",
       "4  31  65   4      1"
      ]
     },
     "execution_count": 422,
     "metadata": {},
     "output_type": "execute_result"
    }
   ],
   "source": [
    "df = pd.read_csv('datasets/db_seno.csv')\n",
    "df.head()"
   ]
  },
  {
   "cell_type": "code",
   "execution_count": 473,
   "id": "823d8a78",
   "metadata": {},
   "outputs": [],
   "source": [
    "from scipy.spatial.distance import minkowski\n",
    "from collections import Counter\n",
    "X = df.drop(columns = 'Clase').copy().to_numpy()\n",
    "y = df.Clase.to_numpy()\n",
    "X_train, X_test, y_train, y_test = train_test_split(X, y, test_size = 0.3, shuffle = True, random_state = 23)\n",
    "\n",
    "# Escalar la data\n",
    "scaler = MinMaxScaler().fit(X_train)\n",
    "X_train = scaler.transform(X_train)\n",
    "X_test = scaler.transform(X_test)"
   ]
  },
  {
   "cell_type": "code",
   "execution_count": 450,
   "id": "edacb7d8",
   "metadata": {},
   "outputs": [],
   "source": [
    "input_vector = X_test[0]"
   ]
  },
  {
   "cell_type": "code",
   "execution_count": 451,
   "id": "61dfb142",
   "metadata": {},
   "outputs": [
    {
     "data": {
      "text/plain": [
       "0.0652173913043479"
      ]
     },
     "execution_count": 451,
     "metadata": {},
     "output_type": "execute_result"
    }
   ],
   "source": [
    "minkowski(input_vector, X_train[0])"
   ]
  },
  {
   "cell_type": "code",
   "execution_count": 452,
   "id": "23e2f57b",
   "metadata": {},
   "outputs": [],
   "source": [
    "def eucledian_distance(X1,X2):\n",
    "    return np.sqrt(np.sum((X1 - X2) ** 2))"
   ]
  },
  {
   "cell_type": "code",
   "execution_count": 525,
   "id": "044bfd0d",
   "metadata": {},
   "outputs": [],
   "source": [
    "distances = np.array([eucledian_distance(X_test[1], X_vector) for X_vector in X_train])"
   ]
  },
  {
   "cell_type": "code",
   "execution_count": 532,
   "id": "da3c6e13",
   "metadata": {},
   "outputs": [
    {
     "data": {
      "text/plain": [
       "array([1, 1, 1, 1, 0, 1, 1], dtype=int64)"
      ]
     },
     "execution_count": 532,
     "metadata": {},
     "output_type": "execute_result"
    }
   ],
   "source": [
    "k_index = np.argsort(distances)[:7]\n",
    "k_labels = y_train[k_index]\n",
    "k_labels"
   ]
  },
  {
   "cell_type": "code",
   "execution_count": 533,
   "id": "e85a369e",
   "metadata": {},
   "outputs": [
    {
     "data": {
      "text/plain": [
       "array([10.14387182,  9.7474732 ,  9.27105921,  8.66659156,  8.61190796,\n",
       "        8.60691572,  8.45235839])"
      ]
     },
     "execution_count": 533,
     "metadata": {},
     "output_type": "execute_result"
    }
   ],
   "source": [
    "weights = 1 / (distances[k_index] + 1e-6)\n",
    "weights"
   ]
  },
  {
   "cell_type": "code",
   "execution_count": 534,
   "id": "789d1c2b",
   "metadata": {},
   "outputs": [
    {
     "data": {
      "text/plain": [
       "1"
      ]
     },
     "execution_count": 534,
     "metadata": {},
     "output_type": "execute_result"
    }
   ],
   "source": [
    "weighted_votes = Counter(k_labels).most_common()\n",
    "result = max(weighted_votes, key = lambda item: np.sum(weights[k_labels == item[0]]))[0]\n",
    "result"
   ]
  },
  {
   "cell_type": "code",
   "execution_count": 535,
   "id": "4d984c4e",
   "metadata": {},
   "outputs": [
    {
     "data": {
      "text/plain": [
       "array([1, 1, 1, 1, 0, 1, 1], dtype=int64)"
      ]
     },
     "execution_count": 535,
     "metadata": {},
     "output_type": "execute_result"
    }
   ],
   "source": [
    "k_labels"
   ]
  },
  {
   "cell_type": "code",
   "execution_count": 536,
   "id": "422a858a",
   "metadata": {},
   "outputs": [
    {
     "data": {
      "text/plain": [
       "array([10.14387182,  9.7474732 ,  9.27105921,  8.66659156,  8.60691572,\n",
       "        8.45235839])"
      ]
     },
     "execution_count": 536,
     "metadata": {},
     "output_type": "execute_result"
    }
   ],
   "source": [
    "weights[k_labels == weighted_votes[0][0]]"
   ]
  },
  {
   "cell_type": "code",
   "execution_count": 538,
   "id": "f663e71f",
   "metadata": {},
   "outputs": [],
   "source": [
    "from scipy.spatial.distance import minkowski\n",
    "from collections import Counter\n",
    "\n",
    "class KNeighborsClassifier(BaseEstimator, TransformerMixin, ClassifierMixin):\n",
    "    def __init__(self, n_neighbors = 5, weights = 'uniform', algorithm = 'auto', leaf_size = 30, p = 2,\n",
    "                metric = 'minkwoski'):\n",
    "        self.n_neighbors = n_neighbors\n",
    "        self.weights = weights\n",
    "        self.algorithm = algorithm\n",
    "        self.leaf_size = leaf_size\n",
    "        self.p = p\n",
    "        self.metric = metric\n",
    "    \n",
    "    def _init_matrix(self, X, y):\n",
    "        return np.array(X), np.array(y)\n",
    "    \n",
    "    def _calculate_weights(self, distances, k_indices):\n",
    "        if self.weights == 'uniform':\n",
    "            return np.ones(len(k_indices))\n",
    "        elif self.weights == 'distance':\n",
    "            return 1 / (distances[k_indices] + 1e-6)\n",
    "        elif callable(self.weights):\n",
    "            return self.weights(distances[k_indices])\n",
    "        \n",
    "    def _get_distance(self, x1, x2, metric):\n",
    "        if metric == 'minkwoski':\n",
    "            return np.sum(np.abs(x1 - x2) ** self.p) ** (1 / self.p)\n",
    "        elif metric == 'manhattan':\n",
    "            return np.sum(np.abs(x1 - x2))\n",
    "        elif metric == 'euclidean':\n",
    "            return np.sum(np.abs(x1 - x2) ** 2) ** 1 / 2\n",
    "        elif callable(metric):\n",
    "            return metric(new_vector,current_vector)\n",
    "        \n",
    "    def fit(self, X, y):\n",
    "        # only storing de X and y values that are going to be compared\n",
    "        # to new incoming data points\n",
    "        self.X, self.y = self._init_matrix(X, y)\n",
    "        return self\n",
    "    \n",
    "    def predict(self, X):\n",
    "        # it does it for each testing vector de matrix has\n",
    "        return np.array([self._predict_vector(X_vector) for X_vector in X])\n",
    "    \n",
    "    def _predict_vector(self, x):\n",
    "        # calculating distances for a vector to each point\n",
    "        # of the training set\n",
    "        distances = np.array([self._get_distance(x, X_vector, self.metric) for X_vector in self.X])\n",
    "        \n",
    "        # getting the closest k neighbors\n",
    "        k_indices = np.argsort(distances)[:self.n_neighbors]\n",
    "        \n",
    "        # getting its labels\n",
    "        k_nearest_labels = self.y[k_indices]\n",
    "        \n",
    "        # calculating weights\n",
    "        weights = self._calculate_weights(distances, k_indices)\n",
    "        \n",
    "        # getting the most common classes\n",
    "        most_common_votes = Counter(k_nearest_labels).most_common()\n",
    "        \n",
    "        # return most common for the vector based on weights\n",
    "        return max(most_common_votes, key = lambda item: np.sum(weights[k_nearest_labels == item[0]]))[0]"
   ]
  },
  {
   "cell_type": "code",
   "execution_count": 541,
   "id": "83e502d7",
   "metadata": {},
   "outputs": [],
   "source": [
    "weight_callable = lambda distances: 1 / (distances ** 2 + 1e-6)\n",
    "knn_clf = KNeighborsClassifier(n_neighbors = 7, weights = weight_callable)\n",
    "knn_clf.fit(X_train, y_train)\n",
    "y_pred_train = knn_clf.predict(X_train)\n",
    "y_pred_test = knn_clf.predict(X_test)"
   ]
  },
  {
   "cell_type": "code",
   "execution_count": 542,
   "id": "1df7ca50",
   "metadata": {},
   "outputs": [
    {
     "data": {
      "image/png": "[encoded data removed]",
      "text/plain": [
       "<Figure size 640x480 with 2 Axes>"
      ]
     },
     "metadata": {},
     "output_type": "display_data"
    },
    {
     "data": {
      "image/png": "[encoded data removed]",
      "text/plain": [
       "<Figure size 640x480 with 2 Axes>"
      ]
     },
     "metadata": {},
     "output_type": "display_data"
    }
   ],
   "source": [
    "import seaborn as sns\n",
    "from sklearn.metrics import confusion_matrix\n",
    "sns.heatmap(confusion_matrix(y_train, y_pred_train), annot = True, cmap = 'Blues')\n",
    "plt.show()\n",
    "sns.heatmap(confusion_matrix(y_test, y_pred_test), annot = True, cmap = 'Blues')\n",
    "plt.show()"
   ]
  },
  {
   "cell_type": "code",
   "execution_count": 53,
   "id": "88cead3b",
   "metadata": {},
   "outputs": [],
   "source": [
    "from scipy.spatial.distance import minkowski\n",
    "from collections import Counter\n",
    "from sklearn.model_selection import train_test_split\n",
    "from sklearn.preprocessing import MinMaxScaler\n",
    "\n",
    "df = pd.read_csv('datasets/db_seno.csv')\n",
    "X = df.drop(columns = 'Clase').copy().to_numpy()\n",
    "columna_binaria = np.random.randint(0, 2, size = len(X))\n",
    "X = np.c_[columna_binaria, X]\n",
    "y = df.Clase.to_numpy()\n",
    "X_train, X_test, y_train, y_test = train_test_split(X, y, test_size = 0.3, shuffle = True, random_state = 23)\n",
    "\n",
    "# Escalar la data\n",
    "scaler = MinMaxScaler().fit(X_train)\n",
    "X_train = scaler.transform(X_train)\n",
    "X_test = scaler.transform(X_test)"
   ]
  },
  {
   "cell_type": "code",
   "execution_count": 109,
   "id": "1ef1453e",
   "metadata": {},
   "outputs": [],
   "source": [
    "def _gini(X_column, y_train):\n",
    "    unique_target = np.unique(y_train)\n",
    "    if is_categoric(X_column):\n",
    "\n",
    "        true_branch = y_train[X_column == 1]\n",
    "        false_branch = y_train[X_column == 0]\n",
    "\n",
    "        n_samples = len(y_train)\n",
    "        n_true_samples = len(true_branch)\n",
    "        n_false_samples = len(false_branch)\n",
    "\n",
    "        if n_true_samples == 0:\n",
    "            true_gini_branch = 0\n",
    "        else:\n",
    "            true_branch_segmentation = np.array([(true_branch == target).sum() for target in unique_target])\n",
    "            true_gini_branch = 1.0 - ((true_branch_segmentation / n_true_samples) ** 2).sum()\n",
    "\n",
    "        if n_false_samples == 0:\n",
    "            false_gini_branch = 0\n",
    "        else:\n",
    "            false_branch_segmentation = np.array([(false_branch == target).sum() for target in unique_target])\n",
    "            false_gini_branch = 1.0 - ((false_branch_segmentation / n_false_samples) ** 2).sum()\n",
    "\n",
    "        both_gini_branches = np.array([true_gini_branch, false_gini_branch], dtype = 'float64')\n",
    "        weights = np.array([n_true_samples, n_false_samples])\n",
    "        total_gini = np.average(both_gini_branches, weights = weights)\n",
    "        return total_gini, 1.0\n",
    "    else:\n",
    "        sorted_indices = np.argsort(X_column)\n",
    "        X_column_sorted = X_column[sorted_indices].copy()\n",
    "        y_train_sorted = y_train[sorted_indices].copy()\n",
    "\n",
    "        n_samples = len(y_train_sorted)\n",
    "\n",
    "        intermediate_mean_values = np.array([np.mean([X_column_sorted[i], X_column_sorted[i + 1]]) \n",
    "                                             for i in range(len(X_column_sorted) - 1)])\n",
    "\n",
    "        total_ginis = list()\n",
    "        for mean_value in intermediate_mean_values:\n",
    "  \n",
    "            true_branch = y_train_sorted[X_column_sorted <= mean_value]\n",
    "            false_branch = y_train_sorted[X_column_sorted > mean_value]\n",
    "\n",
    "            n_true_samples = len(true_branch)\n",
    "            n_false_samples = len(false_branch)\n",
    "   \n",
    "            if n_true_samples == 0:\n",
    "                true_gini_branch = 0\n",
    "            else:\n",
    "                true_branch_segmentation = np.array([(true_branch == target).sum() for target in unique_target])\n",
    "                true_gini_branch = 1.0 - ((true_branch_segmentation / n_true_samples) ** 2).sum()\n",
    "\n",
    "            if n_false_samples == 0:\n",
    "                false_gini_branch = 0\n",
    "            else:\n",
    "                false_branch_segmentation = np.array([(false_branch == target).sum() for target in unique_target])\n",
    "                false_gini_branch = 1.0 - ((false_branch_segmentation / n_false_samples) ** 2).sum()\n",
    "\n",
    "            both_gini_branches = np.array([true_gini_branch, false_gini_branch], dtype = 'float64')\n",
    "            weights = np.array([n_true_samples, n_false_samples])\n",
    "            total_gini_per_mean = np.average(both_gini_branches, weights = weights)\n",
    "            total_ginis.append(total_gini_per_mean)\n",
    "        \n",
    "        total_ginis = np.array(total_ginis)\n",
    "        total_gini = np.min(total_ginis)\n",
    "        min_mean = intermediate_mean_values[np.where(total_ginis == total_gini)[0]][0]\n",
    "        return total_gini, min_mean"
   ]
  },
  {
   "cell_type": "code",
   "execution_count": 106,
   "id": "986df10f",
   "metadata": {},
   "outputs": [],
   "source": [
    "def is_categoric(X_feature):\n",
    "    return np.all((X_feature == 0) | (X_feature == 1))"
   ]
  },
  {
   "cell_type": "code",
   "execution_count": 125,
   "id": "1278782b",
   "metadata": {},
   "outputs": [],
   "source": [
    "class PartitionThreshold:\n",
    "    \"\"\"\n",
    "    This class creates the threshold that is dividing the node in other two nodes.\n",
    "    These new branches are called true_branch and false_branch tha represent the division\n",
    "    \"\"\"\n",
    "    def __init__(self, feature, value):\n",
    "        self.feature = feature\n",
    "        self.value = value\n",
    "        \n",
    "    def compare(self, X):\n",
    "        sample_values = X[:, self.feature]\n",
    "        if is_categoric(sample_values):\n",
    "            return sample_values == self.value\n",
    "        else:\n",
    "            return sample_values <= self.value"
   ]
  },
  {
   "cell_type": "code",
   "execution_count": 145,
   "id": "545bb50d",
   "metadata": {},
   "outputs": [],
   "source": [
    "class Node:\n",
    "    def __init__(self, predicted_class, n_samples_per_class, depth):\n",
    "        self.predicted_class = predicted_class\n",
    "        self.n_samples_per_class = n_samples_per_class\n",
    "        self.depth = depth\n",
    "        self.left = None\n",
    "        self.right = None\n",
    "        self.split_index = None\n",
    "        self.split_threshold = None"
   ]
  },
  {
   "cell_type": "code",
   "execution_count": null,
   "id": "faf9f88a",
   "metadata": {},
   "outputs": [],
   "source": []
  },
  {
   "cell_type": "code",
   "execution_count": 126,
   "id": "186d3b03",
   "metadata": {},
   "outputs": [],
   "source": [
    "def partition(X, threshold):\n",
    "    # comparing to the threshold instance\n",
    "    segmentation = threshold.compare(X)\n",
    "    return np.where(segmentation == True)[0], np.where(segmentation == False)[0]"
   ]
  },
  {
   "cell_type": "code",
   "execution_count": 140,
   "id": "d2904963",
   "metadata": {},
   "outputs": [],
   "source": [
    "def find_best_split(X, y):\n",
    "    n_samples, n_features = X.shape\n",
    "    \n",
    "    # obtaining all impurities per feature\n",
    "    impurity = [(feature, _gini(X[:, feature], y)) for feature in range(n_features)]\n",
    "    \n",
    "    # selecting the minimum one: first index corresponds to the feature and the following one to its value\n",
    "    min_impurity = min(impurity, key = lambda x: x[1][0])\n",
    "    \n",
    "    # chossing the X_feature to split\n",
    "    X_feature = X[:, min_impurity[0]].copy()\n",
    "    \n",
    "    # choosing best value for threshold\n",
    "    threhshold_value = min_impurity[1][1]\n",
    "    \n",
    "    # creating the splitter threshold which is going to perform the division in two branches\n",
    "    threshold = PartitionThreshold(min_impurity[0], threhshold_value)\n",
    "    \n",
    "    # splitting and getting partitions with indices\n",
    "    true_branch, false_branch = partition(X, threshold)\n",
    "    \n",
    "    # validating if the split has values to make the partition\n",
    "    if len(true_branch) == 0 and len(false_branch) != 0:\n",
    "        X_true_branch = None\n",
    "        y_true_branch = None\n",
    "        X_false_branch = X[false_branch, :]\n",
    "        y_false_branch = y[false_branch]\n",
    "        \n",
    "    elif len(true_branch) != 0 and len(false_branch) == 0:\n",
    "        X_true_branch = X[true_branch, :]\n",
    "        y_true_branch = y[true_branch]\n",
    "        X_false_branch = None\n",
    "        y_false_branch = None\n",
    "        \n",
    "    else:\n",
    "        X_true_branch = X[true_branch, :]\n",
    "        y_true_branch = y[true_branch]\n",
    "        X_false_branch = X[false_branch, :]\n",
    "        y_false_branch = y[false_branch]\n",
    "    return X_true_branch, X_false_brach"
   ]
  },
  {
   "cell_type": "code",
   "execution_count": 81,
   "id": "fbdf23dc",
   "metadata": {},
   "outputs": [],
   "source": [
    "X_column = X_train[:, 2]\n",
    "sorted_indices = np.argsort(X_column)\n",
    "X_column_sorted = X_column[sorted_indices].copy()\n",
    "y_train_sorted = y_train[sorted_indices].copy()\n",
    "\n",
    "n_samples = len(y_train_sorted)\n",
    "\n",
    "intermediate_mean_values = np.array([np.mean([X_column_sorted[i], X_column_sorted[i + 1]]) \n",
    "                                     for i in range(len(X_column_sorted) - 1)])"
   ]
  },
  {
   "cell_type": "code",
   "execution_count": 82,
   "id": "a3d87073",
   "metadata": {},
   "outputs": [
    {
     "data": {
      "text/plain": [
       "array([1, 1, 1, 0, 0, 1, 0, 1, 1, 1, 1, 1, 0, 1, 0, 1, 1, 0, 1, 0, 1, 1,\n",
       "       1, 0, 1, 1, 0, 1, 1, 1, 1, 1, 0, 1, 1, 1, 1, 1, 1, 0, 0, 1, 0, 1,\n",
       "       0, 1, 0, 0, 1, 1, 1, 1, 1, 1, 1, 1, 1, 1, 1, 1, 1, 0, 1, 1, 1, 1,\n",
       "       0, 1, 1, 1, 1, 1, 1, 1, 0, 0, 1, 1, 1, 1, 1, 1, 1, 1, 0, 1, 0, 0,\n",
       "       1, 0, 1, 1, 1, 0, 1, 0, 0, 1, 1, 0, 1, 1, 1, 1, 1, 0, 0, 1, 1, 1,\n",
       "       1, 1, 1, 1, 1, 1, 1, 1, 0, 1, 1, 1, 1, 0, 1, 1, 0, 1, 1, 1, 1, 1,\n",
       "       1, 1, 1, 1, 1, 1, 1, 1, 1, 0, 1, 1, 1, 1, 0, 1, 0, 0, 0, 1, 1, 1,\n",
       "       0, 1, 0, 1, 1, 0, 1, 0, 0, 1, 1, 1, 1, 1, 1, 1, 1, 1, 1, 1, 1, 1,\n",
       "       1, 0, 1, 1, 1, 1, 1, 1, 1, 1, 1, 1, 1, 1, 1, 1, 1, 0, 1, 1, 0, 1,\n",
       "       1, 1, 1, 0, 1, 0, 1, 1, 1, 1, 1, 0, 1, 0, 1, 0], dtype=int64)"
      ]
     },
     "execution_count": 82,
     "metadata": {},
     "output_type": "execute_result"
    }
   ],
   "source": [
    "y_train_sorted"
   ]
  },
  {
   "cell_type": "code",
   "execution_count": 84,
   "id": "a122e2bf",
   "metadata": {},
   "outputs": [
    {
     "data": {
      "text/plain": [
       "array([0.        , 0.        , 0.        , 0.        , 0.        ,\n",
       "       0.        , 0.        , 0.        , 0.        , 0.        ,\n",
       "       0.        , 0.        , 0.        , 0.        , 0.        ,\n",
       "       0.        , 0.        , 0.        , 0.        , 0.        ,\n",
       "       0.        , 0.        , 0.        , 0.        , 0.        ,\n",
       "       0.09090909, 0.09090909, 0.09090909, 0.09090909, 0.09090909,\n",
       "       0.09090909, 0.09090909, 0.09090909, 0.09090909, 0.09090909,\n",
       "       0.09090909, 0.09090909, 0.09090909, 0.09090909, 0.09090909,\n",
       "       0.09090909, 0.09090909, 0.09090909, 0.09090909, 0.09090909,\n",
       "       0.18181818, 0.18181818, 0.18181818, 0.18181818, 0.18181818,\n",
       "       0.18181818, 0.18181818, 0.18181818, 0.18181818, 0.18181818,\n",
       "       0.18181818, 0.18181818, 0.18181818, 0.18181818, 0.18181818,\n",
       "       0.18181818, 0.18181818, 0.18181818, 0.18181818, 0.18181818,\n",
       "       0.18181818, 0.27272727, 0.27272727, 0.27272727, 0.27272727,\n",
       "       0.27272727, 0.27272727, 0.27272727, 0.27272727, 0.27272727,\n",
       "       0.27272727, 0.27272727, 0.27272727, 0.27272727, 0.27272727,\n",
       "       0.27272727, 0.36363636, 0.36363636, 0.36363636, 0.36363636,\n",
       "       0.36363636, 0.36363636, 0.36363636, 0.36363636, 0.36363636,\n",
       "       0.36363636, 0.36363636, 0.36363636, 0.36363636, 0.36363636,\n",
       "       0.36363636, 0.45454545, 0.45454545, 0.45454545, 0.45454545,\n",
       "       0.45454545, 0.45454545, 0.45454545, 0.45454545, 0.45454545,\n",
       "       0.45454545, 0.45454545, 0.45454545, 0.45454545, 0.45454545,\n",
       "       0.45454545, 0.45454545, 0.45454545, 0.45454545, 0.45454545,\n",
       "       0.45454545, 0.45454545, 0.45454545, 0.54545455, 0.54545455,\n",
       "       0.54545455, 0.54545455, 0.54545455, 0.54545455, 0.54545455,\n",
       "       0.54545455, 0.54545455, 0.54545455, 0.54545455, 0.54545455,\n",
       "       0.54545455, 0.54545455, 0.54545455, 0.54545455, 0.54545455,\n",
       "       0.54545455, 0.54545455, 0.54545455, 0.54545455, 0.54545455,\n",
       "       0.54545455, 0.63636364, 0.63636364, 0.63636364, 0.63636364,\n",
       "       0.63636364, 0.63636364, 0.63636364, 0.63636364, 0.63636364,\n",
       "       0.63636364, 0.63636364, 0.63636364, 0.63636364, 0.63636364,\n",
       "       0.63636364, 0.63636364, 0.72727273, 0.72727273, 0.72727273,\n",
       "       0.72727273, 0.72727273, 0.72727273, 0.72727273, 0.72727273,\n",
       "       0.72727273, 0.72727273, 0.72727273, 0.72727273, 0.72727273,\n",
       "       0.72727273, 0.72727273, 0.72727273, 0.72727273, 0.72727273,\n",
       "       0.72727273, 0.72727273, 0.72727273, 0.72727273, 0.81818182,\n",
       "       0.81818182, 0.81818182, 0.81818182, 0.81818182, 0.81818182,\n",
       "       0.81818182, 0.81818182, 0.81818182, 0.81818182, 0.81818182,\n",
       "       0.81818182, 0.81818182, 0.81818182, 0.81818182, 0.81818182,\n",
       "       0.81818182, 0.81818182, 0.81818182, 0.90909091, 0.90909091,\n",
       "       0.90909091, 0.90909091, 0.90909091, 0.90909091, 0.90909091,\n",
       "       0.90909091, 1.        , 1.        , 1.        , 1.        ,\n",
       "       1.        , 1.        , 1.        , 1.        ])"
      ]
     },
     "execution_count": 84,
     "metadata": {},
     "output_type": "execute_result"
    }
   ],
   "source": [
    "X_column_sorted"
   ]
  },
  {
   "cell_type": "code",
   "execution_count": 87,
   "id": "b9c489a5",
   "metadata": {},
   "outputs": [
    {
     "data": {
      "text/plain": [
       "1.0"
      ]
     },
     "execution_count": 87,
     "metadata": {},
     "output_type": "execute_result"
    }
   ],
   "source": [
    "X_train[:, 2][170]"
   ]
  },
  {
   "cell_type": "code",
   "execution_count": 88,
   "id": "63b2f419",
   "metadata": {},
   "outputs": [
    {
     "data": {
      "text/plain": [
       "0"
      ]
     },
     "execution_count": 88,
     "metadata": {},
     "output_type": "execute_result"
    }
   ],
   "source": [
    "y_train[170]"
   ]
  },
  {
   "cell_type": "code",
   "execution_count": 86,
   "id": "56bf4ec3",
   "metadata": {},
   "outputs": [
    {
     "data": {
      "text/plain": [
       "array([106, 145, 143, 140, 131, 121, 118, 116,  99,  98,  90,  89,  86,\n",
       "        78,  52,  56, 152,  21, 141,  62, 211, 165, 187,  12, 182, 190,\n",
       "       110, 105, 195, 197, 198,   4,  50, 209,  71,  68, 119, 159, 157,\n",
       "        38,  35, 126, 153, 183,  25, 155, 154,  73, 172, 205, 123, 144,\n",
       "       179,  66, 102, 139, 125, 177, 200, 213,   1,   6,  29,  33,  16,\n",
       "         5,  79, 164,  77, 101,  45, 168,  44,  26, 178, 201,  36,  59,\n",
       "       147,  27, 188,  10, 103, 162, 112, 113, 158, 122, 129, 108, 173,\n",
       "       146,  55,  87,  58,  84,  11,  67, 180,  47, 189, 193, 135,   8,\n",
       "        34, 150,  30, 208, 166,   3,  93, 176,  88,  61, 148,  51, 167,\n",
       "        85,  63, 128,  32,  22, 133, 181,   9, 156, 191,  48, 111,  96,\n",
       "       203, 174, 206,  76,  57,  74,  70, 114, 120,  13,   2, 151, 149,\n",
       "       163,  15, 160,  19,  37, 142, 212,  82,  28, 130, 132, 124,  65,\n",
       "        31, 210,  14,  64, 184,  91,  92, 185, 202,  69,  46,  17,   7,\n",
       "       115, 117,  40,  20,  23,  24, 134, 138, 100,   0, 199, 186, 196,\n",
       "       204, 192,  60, 171,  54, 169,  72,  75,  81,  39,  94,  42, 109,\n",
       "       107,  97, 175,  80,  49, 104, 137,  18, 161,  43, 136,  95, 194,\n",
       "        41,  83, 127, 207,  53, 170], dtype=int64)"
      ]
     },
     "execution_count": 86,
     "metadata": {},
     "output_type": "execute_result"
    }
   ],
   "source": [
    "np.argsort(X_train[:, 2])"
   ]
  },
  {
   "cell_type": "code",
   "execution_count": 61,
   "id": "912edf35",
   "metadata": {},
   "outputs": [
    {
     "data": {
      "text/plain": [
       "array([0.        , 0.04545455, 0.09090909, 0.13636364, 0.18181818,\n",
       "       0.22727273, 0.27272727, 0.31818182, 0.36363636, 0.40909091,\n",
       "       0.45454545, 0.5       , 0.54545455, 0.59090909, 0.63636364,\n",
       "       0.68181818, 0.72727273, 0.77272727, 0.81818182, 0.86363636,\n",
       "       0.90909091, 0.95454545, 1.        ])"
      ]
     },
     "execution_count": 61,
     "metadata": {},
     "output_type": "execute_result"
    }
   ],
   "source": [
    "np.unique(intermediate_mean_values)"
   ]
  },
  {
   "cell_type": "code",
   "execution_count": null,
   "id": "44a331fa",
   "metadata": {},
   "outputs": [],
   "source": [
    "class DecisionTreeClassifier(BaseEstimator, TransformerMixin, ClassifierMixin):\n",
    "    class Node:\n",
    "        def __init__(self, predicted_class, n_samples_per_class, depth):\n",
    "            self.predicted_class = predicted_class\n",
    "            self.n_samples_per_class = n_samples_per_class\n",
    "            self.depth = depth\n",
    "            self.left = None\n",
    "            self.right = None\n",
    "            self.split_index = None\n",
    "            self.split_threshold = None\n",
    "    \n",
    "    class Tree:\n",
    "         def __init__(self):\n",
    "            self.root = self.Node()\n",
    "            \n",
    "    def __init__(self):\n",
    "        pass\n",
    "    \n",
    "    def _gini_impurity(self, X_feature, y):\n",
    "        return 1\n",
    "        \n",
    "            "
   ]
  },
  {
   "cell_type": "code",
   "execution_count": 10,
   "id": "43d14917",
   "metadata": {},
   "outputs": [
    {
     "ename": "AttributeError",
     "evalue": "'str' object has no attribute 'match'",
     "output_type": "error",
     "traceback": [
      "\u001b[1;31m---------------------------------------------------------------------------\u001b[0m",
      "\u001b[1;31mAttributeError\u001b[0m                            Traceback (most recent call last)",
      "Cell \u001b[1;32mIn[10], line 1\u001b[0m\n\u001b[1;32m----> 1\u001b[0m \u001b[38;5;124;43m'\u001b[39;49m\u001b[38;5;124;43marroz\u001b[39;49m\u001b[38;5;124;43m'\u001b[39;49m\u001b[38;5;241;43m.\u001b[39;49m\u001b[43mmatch\u001b[49m(\u001b[38;5;124m'\u001b[39m\u001b[38;5;124ma\u001b[39m\u001b[38;5;124m'\u001b[39m)\n",
      "\u001b[1;31mAttributeError\u001b[0m: 'str' object has no attribute 'match'"
     ]
    }
   ],
   "source": [
    "'arroz'.match('a')"
   ]
  }
 ],
 "metadata": {
  "kernelspec": {
   "display_name": "Python 3 (ipykernel)",
   "language": "python",
   "name": "python3"
  },
  "language_info": {
   "codemirror_mode": {
    "name": "ipython",
    "version": 3
   },
   "file_extension": ".py",
   "mimetype": "text/x-python",
   "name": "python",
   "nbconvert_exporter": "python",
   "pygments_lexer": "ipython3",
   "version": "3.11.4"
  }
 },
 "nbformat": 4,
 "nbformat_minor": 5
}
